{
 "cells": [
  {
   "cell_type": "code",
   "execution_count": 1,
   "id": "7431c824-0f89-471a-9a66-8fe8a4d37e49",
   "metadata": {},
   "outputs": [],
   "source": [
    "import os\n",
    "import pandas as pd"
   ]
  },
  {
   "cell_type": "code",
   "execution_count": 2,
   "id": "4e790543-df20-439c-a51f-d116dfa8a1fd",
   "metadata": {},
   "outputs": [],
   "source": [
    "df_MB_full = pd.read_csv('./IntermediateProducts/Result_ALL.csv')\n",
    "df_MB_select_org = pd.read_csv('./IntermediateProducts/Result_Selected_Organisms.csv')"
   ]
  },
  {
   "cell_type": "code",
   "execution_count": 3,
   "id": "4162b1bf-873b-44da-91e4-11c52c0811cf",
   "metadata": {},
   "outputs": [],
   "source": [
    "df_NLSdb = pd.read_csv('./SourceData/NLSdb/signals.csv')"
   ]
  },
  {
   "cell_type": "code",
   "execution_count": 30,
   "id": "28d1dd63-7431-42d9-a1ec-02b253d46cae",
   "metadata": {},
   "outputs": [
    {
     "data": {
      "text/html": [
       "<div>\n",
       "<style scoped>\n",
       "    .dataframe tbody tr th:only-of-type {\n",
       "        vertical-align: middle;\n",
       "    }\n",
       "\n",
       "    .dataframe tbody tr th {\n",
       "        vertical-align: top;\n",
       "    }\n",
       "\n",
       "    .dataframe thead th {\n",
       "        text-align: right;\n",
       "    }\n",
       "</style>\n",
       "<table border=\"1\" class=\"dataframe\">\n",
       "  <thead>\n",
       "    <tr style=\"text-align: right;\">\n",
       "      <th></th>\n",
       "      <th>ID</th>\n",
       "      <th>Sequence</th>\n",
       "      <th>SignalType</th>\n",
       "      <th>AnnotationType</th>\n",
       "      <th>ConfidenceNuc</th>\n",
       "      <th>ConfidenceFam</th>\n",
       "      <th>Origin</th>\n",
       "      <th>Added</th>\n",
       "      <th>Modified</th>\n",
       "    </tr>\n",
       "  </thead>\n",
       "  <tbody>\n",
       "    <tr>\n",
       "      <th>0</th>\n",
       "      <td>1</td>\n",
       "      <td>AAKKPR</td>\n",
       "      <td>NLS</td>\n",
       "      <td>Potential</td>\n",
       "      <td>2</td>\n",
       "      <td>2</td>\n",
       "      <td>In Silico Mutagenesis</td>\n",
       "      <td>2017-10-11 15:10:55</td>\n",
       "      <td>2017-10-11 15:10:55</td>\n",
       "    </tr>\n",
       "    <tr>\n",
       "      <th>1</th>\n",
       "      <td>2</td>\n",
       "      <td>AAKKQK</td>\n",
       "      <td>NLS</td>\n",
       "      <td>Potential</td>\n",
       "      <td>3</td>\n",
       "      <td>3</td>\n",
       "      <td>In Silico Mutagenesis</td>\n",
       "      <td>2017-10-11 15:10:55</td>\n",
       "      <td>2017-10-11 15:10:55</td>\n",
       "    </tr>\n",
       "    <tr>\n",
       "      <th>2</th>\n",
       "      <td>3</td>\n",
       "      <td>AAKKTK</td>\n",
       "      <td>NLS</td>\n",
       "      <td>Potential</td>\n",
       "      <td>2</td>\n",
       "      <td>2</td>\n",
       "      <td>In Silico Mutagenesis</td>\n",
       "      <td>2017-10-11 15:10:55</td>\n",
       "      <td>2017-10-11 15:10:55</td>\n",
       "    </tr>\n",
       "    <tr>\n",
       "      <th>3</th>\n",
       "      <td>4</td>\n",
       "      <td>AAKRRL</td>\n",
       "      <td>NLS</td>\n",
       "      <td>Potential</td>\n",
       "      <td>3</td>\n",
       "      <td>3</td>\n",
       "      <td>In Silico Mutagenesis</td>\n",
       "      <td>2017-10-11 15:10:55</td>\n",
       "      <td>2017-10-11 15:10:55</td>\n",
       "    </tr>\n",
       "    <tr>\n",
       "      <th>4</th>\n",
       "      <td>5</td>\n",
       "      <td>AEKKAK</td>\n",
       "      <td>NLS</td>\n",
       "      <td>Potential</td>\n",
       "      <td>5</td>\n",
       "      <td>3</td>\n",
       "      <td>In Silico Mutagenesis</td>\n",
       "      <td>2017-10-11 15:10:55</td>\n",
       "      <td>2017-10-11 15:10:55</td>\n",
       "    </tr>\n",
       "  </tbody>\n",
       "</table>\n",
       "</div>"
      ],
      "text/plain": [
       "   ID Sequence SignalType AnnotationType  ConfidenceNuc  ConfidenceFam  \\\n",
       "0   1   AAKKPR        NLS      Potential              2              2   \n",
       "1   2   AAKKQK        NLS      Potential              3              3   \n",
       "2   3   AAKKTK        NLS      Potential              2              2   \n",
       "3   4   AAKRRL        NLS      Potential              3              3   \n",
       "4   5   AEKKAK        NLS      Potential              5              3   \n",
       "\n",
       "                  Origin                Added             Modified  \n",
       "0  In Silico Mutagenesis  2017-10-11 15:10:55  2017-10-11 15:10:55  \n",
       "1  In Silico Mutagenesis  2017-10-11 15:10:55  2017-10-11 15:10:55  \n",
       "2  In Silico Mutagenesis  2017-10-11 15:10:55  2017-10-11 15:10:55  \n",
       "3  In Silico Mutagenesis  2017-10-11 15:10:55  2017-10-11 15:10:55  \n",
       "4  In Silico Mutagenesis  2017-10-11 15:10:55  2017-10-11 15:10:55  "
      ]
     },
     "execution_count": 30,
     "metadata": {},
     "output_type": "execute_result"
    }
   ],
   "source": [
    "# df_MB_full.head()\n",
    "# df_MB_select_org.head()\n",
    "df_NLSdb.head()"
   ]
  },
  {
   "cell_type": "code",
   "execution_count": 31,
   "id": "d5457b92-232a-42b3-8dd2-58cda7520327",
   "metadata": {},
   "outputs": [
    {
     "data": {
      "text/plain": [
       "(2651, 9)"
      ]
     },
     "execution_count": 31,
     "metadata": {},
     "output_type": "execute_result"
    }
   ],
   "source": [
    "df_NLSdb.shape"
   ]
  },
  {
   "cell_type": "markdown",
   "id": "03576633-abe0-4ed3-8b03-6e15467afb8d",
   "metadata": {},
   "source": [
    "#### Make a list of NLSs"
   ]
  },
  {
   "cell_type": "code",
   "execution_count": 7,
   "id": "b4ca7f5f-072e-4c7d-a55f-1c97dae0c94e",
   "metadata": {},
   "outputs": [
    {
     "name": "stdout",
     "output_type": "stream",
     "text": [
      "2651\n"
     ]
    }
   ],
   "source": [
    "list_NLS = df_NLSdb['Sequence'].unique()\n",
    "print(len(list_NLS))"
   ]
  },
  {
   "cell_type": "markdown",
   "id": "54d1f9cd-712d-46f3-8a81-e268b528f81e",
   "metadata": {},
   "source": [
    "## 2. Search for proteins with putative NLSs"
   ]
  },
  {
   "cell_type": "markdown",
   "id": "349ef756-9abf-41d0-89bb-3e67e0ed93c3",
   "metadata": {},
   "source": [
    "### A funciton to find NLS(s) in a given protein sequence"
   ]
  },
  {
   "cell_type": "code",
   "execution_count": 8,
   "id": "938125a0-79d5-40d1-bf6d-08f85de4d17b",
   "metadata": {},
   "outputs": [],
   "source": [
    "def searchNLS(protein_seq):\n",
    "    NLS_positions = dict()\n",
    "    for i, NLS in enumerate(list_NLS):\n",
    "        position = protein_seq.find(NLS)\n",
    "        if position != -1:\n",
    "            NLS_positions[NLS] = position\n",
    "        \n",
    "    return NLS_positions"
   ]
  },
  {
   "cell_type": "code",
   "execution_count": 8,
   "id": "7a914326-a393-4805-b6e4-f95b8b4a44d7",
   "metadata": {},
   "outputs": [],
   "source": [
    "def searchNLS_2(protein_seq):\n",
    "    NLS_positions = dict()\n",
    "    for i, NLS in enumerate(list_NLS):\n",
    "        position = protein_seq.find(NLS)\n",
    "        if position != -1:\n",
    "            NLS_positions[NLS] = position\n",
    "        \n",
    "    return NLS_positions"
   ]
  },
  {
   "cell_type": "markdown",
   "id": "2582476f-e7d0-4083-af1c-a34590c06e12",
   "metadata": {},
   "source": [
    "### Application of searchNLS to sequence"
   ]
  },
  {
   "cell_type": "code",
   "execution_count": 10,
   "id": "b6c4811c-5cab-41c5-92b5-408c43a36e34",
   "metadata": {},
   "outputs": [],
   "source": [
    "df_MB_select_org['NLS locations'] = df_MB_select_org['AA_sequence'].apply(searchNLS)"
   ]
  },
  {
   "cell_type": "code",
   "execution_count": 11,
   "id": "5101b156-9fda-425a-80ea-8d81c8b6dcea",
   "metadata": {},
   "outputs": [
    {
     "name": "stdout",
     "output_type": "stream",
     "text": [
      "<class 'pandas.core.frame.DataFrame'>\n",
      "RangeIndex: 3240 entries, 0 to 3239\n",
      "Data columns (total 7 columns):\n",
      " #   Column         Non-Null Count  Dtype \n",
      "---  ------         --------------  ----- \n",
      " 0   Uniprot_ID     3240 non-null   object\n",
      " 1   Organism       3240 non-null   object\n",
      " 2   Protein_name   3240 non-null   object\n",
      " 3   AH_or_Not      3240 non-null   object\n",
      " 4   AA_sequence    3240 non-null   object\n",
      " 5   Prediction     3240 non-null   object\n",
      " 6   NLS locations  3240 non-null   object\n",
      "dtypes: object(7)\n",
      "memory usage: 177.3+ KB\n"
     ]
    }
   ],
   "source": [
    "df_MB_select_org.info()"
   ]
  },
  {
   "cell_type": "code",
   "execution_count": 12,
   "id": "b5012062-8df7-4ff8-81d4-0321c241f629",
   "metadata": {},
   "outputs": [],
   "source": [
    "df_MB_select_org_NLS_positive = df_MB_select_org[df_MB_select_org['NLS locations'] != {}]"
   ]
  },
  {
   "cell_type": "code",
   "execution_count": 13,
   "id": "09b4bf94-b42e-4042-b409-1a30667d62bc",
   "metadata": {},
   "outputs": [
    {
     "name": "stdout",
     "output_type": "stream",
     "text": [
      "<class 'pandas.core.frame.DataFrame'>\n",
      "Int64Index: 219 entries, 11 to 3209\n",
      "Data columns (total 7 columns):\n",
      " #   Column         Non-Null Count  Dtype \n",
      "---  ------         --------------  ----- \n",
      " 0   Uniprot_ID     219 non-null    object\n",
      " 1   Organism       219 non-null    object\n",
      " 2   Protein_name   219 non-null    object\n",
      " 3   AH_or_Not      219 non-null    object\n",
      " 4   AA_sequence    219 non-null    object\n",
      " 5   Prediction     219 non-null    object\n",
      " 6   NLS locations  219 non-null    object\n",
      "dtypes: object(7)\n",
      "memory usage: 13.7+ KB\n"
     ]
    }
   ],
   "source": [
    "df_MB_select_org_NLS_positive.info()"
   ]
  },
  {
   "cell_type": "code",
   "execution_count": 19,
   "id": "43a2c400-e9fe-4ff3-84bb-6d7909ae0c1e",
   "metadata": {},
   "outputs": [],
   "source": [
    "size_NLS = df_MB_select_org_NLS_positive.groupby('Organism').size()\n",
    "size_whole = df_MB_select_org.groupby('Organism').size()"
   ]
  },
  {
   "cell_type": "code",
   "execution_count": 25,
   "id": "464b25d6-e4a2-401e-9b45-8794f72bbd77",
   "metadata": {},
   "outputs": [],
   "source": [
    "mydf = pd.DataFrame({'NLS': pd.Series(size_NLS), 'Whole': pd.Series(size_whole)})"
   ]
  },
  {
   "cell_type": "code",
   "execution_count": 27,
   "id": "528b6640-18e5-48ff-a391-aef6e4a62ad5",
   "metadata": {},
   "outputs": [],
   "source": [
    "mydf['Ratio'] = mydf['NLS'] / mydf['Whole']"
   ]
  },
  {
   "cell_type": "code",
   "execution_count": 29,
   "id": "8b6534bb-0f17-41f6-ab7a-e1364084d1be",
   "metadata": {},
   "outputs": [
    {
     "data": {
      "text/html": [
       "<div>\n",
       "<style scoped>\n",
       "    .dataframe tbody tr th:only-of-type {\n",
       "        vertical-align: middle;\n",
       "    }\n",
       "\n",
       "    .dataframe tbody tr th {\n",
       "        vertical-align: top;\n",
       "    }\n",
       "\n",
       "    .dataframe thead th {\n",
       "        text-align: right;\n",
       "    }\n",
       "</style>\n",
       "<table border=\"1\" class=\"dataframe\">\n",
       "  <thead>\n",
       "    <tr style=\"text-align: right;\">\n",
       "      <th></th>\n",
       "      <th>NLS</th>\n",
       "      <th>Whole</th>\n",
       "      <th>Ratio</th>\n",
       "    </tr>\n",
       "    <tr>\n",
       "      <th>Organism</th>\n",
       "      <th></th>\n",
       "      <th></th>\n",
       "      <th></th>\n",
       "    </tr>\n",
       "  </thead>\n",
       "  <tbody>\n",
       "    <tr>\n",
       "      <th>Arabidopsis thaliana (Mouse-ear cress)</th>\n",
       "      <td>59.0</td>\n",
       "      <td>717</td>\n",
       "      <td>0.082287</td>\n",
       "    </tr>\n",
       "    <tr>\n",
       "      <th>Bos taurus (Bovine)</th>\n",
       "      <td>17.0</td>\n",
       "      <td>195</td>\n",
       "      <td>0.087179</td>\n",
       "    </tr>\n",
       "    <tr>\n",
       "      <th>Caenorhabditis elegans</th>\n",
       "      <td>16.0</td>\n",
       "      <td>346</td>\n",
       "      <td>0.046243</td>\n",
       "    </tr>\n",
       "    <tr>\n",
       "      <th>Canis lupus familiaris (Dog) (Canis familiaris)</th>\n",
       "      <td>2.0</td>\n",
       "      <td>22</td>\n",
       "      <td>0.090909</td>\n",
       "    </tr>\n",
       "    <tr>\n",
       "      <th>Danio rerio (Zebrafish) (Brachydanio rerio)</th>\n",
       "      <td>10.0</td>\n",
       "      <td>102</td>\n",
       "      <td>0.098039</td>\n",
       "    </tr>\n",
       "    <tr>\n",
       "      <th>Drosophila melanogaster (Fruit fly)</th>\n",
       "      <td>9.0</td>\n",
       "      <td>159</td>\n",
       "      <td>0.056604</td>\n",
       "    </tr>\n",
       "    <tr>\n",
       "      <th>Gallus gallus (Chicken)</th>\n",
       "      <td>3.0</td>\n",
       "      <td>46</td>\n",
       "      <td>0.065217</td>\n",
       "    </tr>\n",
       "    <tr>\n",
       "      <th>Homo sapiens (Human)</th>\n",
       "      <td>57.0</td>\n",
       "      <td>815</td>\n",
       "      <td>0.069939</td>\n",
       "    </tr>\n",
       "    <tr>\n",
       "      <th>Macaca fascicularis (Crab-eating macaque) (Cynomolgus monkey)</th>\n",
       "      <td>1.0</td>\n",
       "      <td>23</td>\n",
       "      <td>0.043478</td>\n",
       "    </tr>\n",
       "    <tr>\n",
       "      <th>Mus musculus (Mouse)</th>\n",
       "      <td>30.0</td>\n",
       "      <td>452</td>\n",
       "      <td>0.066372</td>\n",
       "    </tr>\n",
       "    <tr>\n",
       "      <th>Rattus norvegicus (Rat)</th>\n",
       "      <td>4.0</td>\n",
       "      <td>160</td>\n",
       "      <td>0.025000</td>\n",
       "    </tr>\n",
       "    <tr>\n",
       "      <th>Sus scrofa (Pig)</th>\n",
       "      <td>2.0</td>\n",
       "      <td>22</td>\n",
       "      <td>0.090909</td>\n",
       "    </tr>\n",
       "    <tr>\n",
       "      <th>Xenopus laevis (African clawed frog)</th>\n",
       "      <td>1.0</td>\n",
       "      <td>47</td>\n",
       "      <td>0.021277</td>\n",
       "    </tr>\n",
       "    <tr>\n",
       "      <th>Xenopus tropicalis (Western clawed frog) (Silurana tropicalis)</th>\n",
       "      <td>1.0</td>\n",
       "      <td>42</td>\n",
       "      <td>0.023810</td>\n",
       "    </tr>\n",
       "  </tbody>\n",
       "</table>\n",
       "</div>"
      ],
      "text/plain": [
       "                                                     NLS  Whole     Ratio\n",
       "Organism                                                                 \n",
       "Arabidopsis thaliana (Mouse-ear cress)              59.0    717  0.082287\n",
       "Bos taurus (Bovine)                                 17.0    195  0.087179\n",
       "Caenorhabditis elegans                              16.0    346  0.046243\n",
       "Canis lupus familiaris (Dog) (Canis familiaris)      2.0     22  0.090909\n",
       "Danio rerio (Zebrafish) (Brachydanio rerio)         10.0    102  0.098039\n",
       "Drosophila melanogaster (Fruit fly)                  9.0    159  0.056604\n",
       "Gallus gallus (Chicken)                              3.0     46  0.065217\n",
       "Homo sapiens (Human)                                57.0    815  0.069939\n",
       "Macaca fascicularis (Crab-eating macaque) (Cyno...   1.0     23  0.043478\n",
       "Mus musculus (Mouse)                                30.0    452  0.066372\n",
       "Rattus norvegicus (Rat)                              4.0    160  0.025000\n",
       "Sus scrofa (Pig)                                     2.0     22  0.090909\n",
       "Xenopus laevis (African clawed frog)                 1.0     47  0.021277\n",
       "Xenopus tropicalis (Western clawed frog) (Silur...   1.0     42  0.023810"
      ]
     },
     "execution_count": 29,
     "metadata": {},
     "output_type": "execute_result"
    }
   ],
   "source": [
    "mydf_major = mydf[mydf['Whole'] > 10]\n",
    "mydf_major"
   ]
  },
  {
   "cell_type": "code",
   "execution_count": null,
   "id": "65f02ec1-22a4-4883-baaf-7a9b95e1f994",
   "metadata": {},
   "outputs": [],
   "source": []
  }
 ],
 "metadata": {
  "kernelspec": {
   "display_name": "Python 3",
   "language": "python",
   "name": "python3"
  },
  "language_info": {
   "codemirror_mode": {
    "name": "ipython",
    "version": 3
   },
   "file_extension": ".py",
   "mimetype": "text/x-python",
   "name": "python",
   "nbconvert_exporter": "python",
   "pygments_lexer": "ipython3",
   "version": "3.8.8"
  }
 },
 "nbformat": 4,
 "nbformat_minor": 5
}
