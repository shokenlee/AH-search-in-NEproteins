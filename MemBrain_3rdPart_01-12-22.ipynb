{
 "cells": [
  {
   "cell_type": "markdown",
   "id": "09131278-c450-4728-9c88-3c89c29aa3fc",
   "metadata": {},
   "source": [
    "### **1. Setup**"
   ]
  },
  {
   "cell_type": "code",
   "execution_count": 1,
   "id": "601a8cdc-c87b-4064-89a9-9a682b8d755b",
   "metadata": {},
   "outputs": [],
   "source": [
    "import os\n",
    "import numpy as np\n",
    "import pandas as pd\n",
    "\n",
    "from time import sleep\n",
    "\n",
    "import requests, sys, json"
   ]
  },
  {
   "cell_type": "code",
   "execution_count": 2,
   "id": "fb57a460-db63-42f1-a8af-b4b2564d59de",
   "metadata": {},
   "outputs": [],
   "source": [
    "# directory\n",
    "directory = '/Users/ShokenLEE/Desktop/DATA/Bioinformatics/\\\n",
    "MemBrain AH prediction/'"
   ]
  },
  {
   "cell_type": "markdown",
   "id": "11804d77-53db-4a8f-a415-a6c2b4f5a4fd",
   "metadata": {},
   "source": [
    "### Functions to get AH residue numbers and symbols"
   ]
  },
  {
   "cell_type": "code",
   "execution_count": 27,
   "id": "8715c974-21a5-4623-bca9-4b588c849a84",
   "metadata": {},
   "outputs": [],
   "source": [
    "def find_AH_residue_number(pred):\n",
    "    positions = list()\n",
    "    for i in range(len(pred)):\n",
    "        if pred[i] == '1':\n",
    "            positions.append(i)\n",
    "    return positions"
   ]
  },
  {
   "cell_type": "code",
   "execution_count": 39,
   "id": "0b2adfbe-9ef0-4734-ac1d-7b1a4b791ce7",
   "metadata": {},
   "outputs": [],
   "source": [
    "def residues_at_positions(aa_seq, positions):\n",
    "    aa = list()\n",
    "    for i in positions:\n",
    "        aa.append(aa_seq[int(i)])\n",
    "    return aa"
   ]
  },
  {
   "cell_type": "markdown",
   "id": "fbe514af-c3d3-4ee1-afbf-b1375d479d4c",
   "metadata": {},
   "source": [
    "### File import"
   ]
  },
  {
   "cell_type": "code",
   "execution_count": 3,
   "id": "f50f0b19-7b36-4041-8559-badaef898881",
   "metadata": {},
   "outputs": [],
   "source": [
    "os.chdir(directory)"
   ]
  },
  {
   "cell_type": "code",
   "execution_count": 4,
   "id": "d0794f9e-22c0-4591-825c-126dcea956f6",
   "metadata": {},
   "outputs": [
    {
     "data": {
      "text/plain": [
       "'/Users/ShokenLEE/Desktop/DATA/Bioinformatics/MemBrain AH prediction'"
      ]
     },
     "execution_count": 4,
     "metadata": {},
     "output_type": "execute_result"
    }
   ],
   "source": [
    "os.getcwd()"
   ]
  },
  {
   "cell_type": "code",
   "execution_count": 6,
   "id": "bcfb3cfe-bfe6-4621-93f4-625fa2693d3f",
   "metadata": {},
   "outputs": [],
   "source": [
    "filename = 'Result_Selected_Organisms_SubCellLoc.csv'\n",
    "\n",
    "df = pd.read_csv(directory + filename)"
   ]
  },
  {
   "cell_type": "markdown",
   "id": "984b54ca-5ca7-46f7-98ea-43a32d112586",
   "metadata": {},
   "source": [
    "### Add 'AH positions' and 'AH residues'"
   ]
  },
  {
   "cell_type": "code",
   "execution_count": 41,
   "id": "d8df07a3-81cd-4bd6-8511-79dec7f5acde",
   "metadata": {},
   "outputs": [],
   "source": [
    "df['AH_positions'] = df['Prediction'].apply(find_AH_residue_number)"
   ]
  },
  {
   "cell_type": "code",
   "execution_count": 45,
   "id": "81db0762-15b7-45c1-9a74-c6a4b1918125",
   "metadata": {},
   "outputs": [],
   "source": [
    "df['AH_residues'] = df.apply(lambda x: residues_at_positions(x['AA_sequence'], x['AH_positions']), axis=1)"
   ]
  },
  {
   "cell_type": "code",
   "execution_count": 46,
   "id": "0eb7a4cd-5c13-4c7e-ba9f-84cdea3d868f",
   "metadata": {},
   "outputs": [
    {
     "data": {
      "text/html": [
       "<div>\n",
       "<style scoped>\n",
       "    .dataframe tbody tr th:only-of-type {\n",
       "        vertical-align: middle;\n",
       "    }\n",
       "\n",
       "    .dataframe tbody tr th {\n",
       "        vertical-align: top;\n",
       "    }\n",
       "\n",
       "    .dataframe thead th {\n",
       "        text-align: right;\n",
       "    }\n",
       "</style>\n",
       "<table border=\"1\" class=\"dataframe\">\n",
       "  <thead>\n",
       "    <tr style=\"text-align: right;\">\n",
       "      <th></th>\n",
       "      <th>Uniprot_ID</th>\n",
       "      <th>Organism</th>\n",
       "      <th>Protein_name</th>\n",
       "      <th>AH_or_Not</th>\n",
       "      <th>AA_sequence</th>\n",
       "      <th>Prediction</th>\n",
       "      <th>Subcellular_location</th>\n",
       "      <th>AH_positions</th>\n",
       "      <th>AH_residues</th>\n",
       "    </tr>\n",
       "  </thead>\n",
       "  <tbody>\n",
       "    <tr>\n",
       "      <th>0</th>\n",
       "      <td>Q8N4K4</td>\n",
       "      <td>Homo sapiens (Human)</td>\n",
       "      <td>Reprimo-like protein</td>\n",
       "      <td>Non-AH</td>\n",
       "      <td>MNATFLNHSGLEEVDGVGGGAGAALGNRTHGLGTWLGCCPGGAPLA...</td>\n",
       "      <td>0000000000000000000000000000000000000000000000...</td>\n",
       "      <td>Membrane</td>\n",
       "      <td>[]</td>\n",
       "      <td>[]</td>\n",
       "    </tr>\n",
       "    <tr>\n",
       "      <th>1</th>\n",
       "      <td>Q8N4S7</td>\n",
       "      <td>Homo sapiens (Human)</td>\n",
       "      <td>Progestin and adipoQ receptor family member 4</td>\n",
       "      <td>Non-AH</td>\n",
       "      <td>MAFLAGPRLLDWASSPPHLQFNKFVLTGYRPASSGSGCLRSLFYLH...</td>\n",
       "      <td>0000000000000000000000000000000000000000000000...</td>\n",
       "      <td>Membrane</td>\n",
       "      <td>[]</td>\n",
       "      <td>[]</td>\n",
       "    </tr>\n",
       "    <tr>\n",
       "      <th>2</th>\n",
       "      <td>Q8N5G0</td>\n",
       "      <td>Homo sapiens (Human)</td>\n",
       "      <td>Small integral membrane protein 20</td>\n",
       "      <td>Non-AH</td>\n",
       "      <td>MSRNLRTALIFGGFISLIGAAFYPIYFRPLMRLEEYKKEQAINRAG...</td>\n",
       "      <td>0000000000000000000000000000000000000000000000...</td>\n",
       "      <td>Mitochondrion inner membrane</td>\n",
       "      <td>[]</td>\n",
       "      <td>[]</td>\n",
       "    </tr>\n",
       "    <tr>\n",
       "      <th>3</th>\n",
       "      <td>Q8N614</td>\n",
       "      <td>Homo sapiens (Human)</td>\n",
       "      <td>Transmembrane protein 156</td>\n",
       "      <td>AH</td>\n",
       "      <td>MTKTALLKLFVAIVITFILILPEYFKTPKERTLELSCLEVCLQSNF...</td>\n",
       "      <td>0011111100000000000000000000000000000000000000...</td>\n",
       "      <td>Membrane</td>\n",
       "      <td>[2, 3, 4, 5, 6, 7]</td>\n",
       "      <td>[K, T, A, L, L, K]</td>\n",
       "    </tr>\n",
       "    <tr>\n",
       "      <th>4</th>\n",
       "      <td>Q8N7C4</td>\n",
       "      <td>Homo sapiens (Human)</td>\n",
       "      <td>Transmembrane protein 217</td>\n",
       "      <td>Non-AH</td>\n",
       "      <td>MKQQQWCGMTAKMGTVLSGVFTIMAVDMYLIFEQKHLGNGSCTEIT...</td>\n",
       "      <td>0000000000000000000000000000000000000000000000...</td>\n",
       "      <td>Membrane</td>\n",
       "      <td>[]</td>\n",
       "      <td>[]</td>\n",
       "    </tr>\n",
       "  </tbody>\n",
       "</table>\n",
       "</div>"
      ],
      "text/plain": [
       "  Uniprot_ID              Organism  \\\n",
       "0     Q8N4K4  Homo sapiens (Human)   \n",
       "1     Q8N4S7  Homo sapiens (Human)   \n",
       "2     Q8N5G0  Homo sapiens (Human)   \n",
       "3     Q8N614  Homo sapiens (Human)   \n",
       "4     Q8N7C4  Homo sapiens (Human)   \n",
       "\n",
       "                                    Protein_name AH_or_Not  \\\n",
       "0                           Reprimo-like protein    Non-AH   \n",
       "1  Progestin and adipoQ receptor family member 4    Non-AH   \n",
       "2             Small integral membrane protein 20    Non-AH   \n",
       "3                      Transmembrane protein 156        AH   \n",
       "4                      Transmembrane protein 217    Non-AH   \n",
       "\n",
       "                                         AA_sequence  \\\n",
       "0  MNATFLNHSGLEEVDGVGGGAGAALGNRTHGLGTWLGCCPGGAPLA...   \n",
       "1  MAFLAGPRLLDWASSPPHLQFNKFVLTGYRPASSGSGCLRSLFYLH...   \n",
       "2  MSRNLRTALIFGGFISLIGAAFYPIYFRPLMRLEEYKKEQAINRAG...   \n",
       "3  MTKTALLKLFVAIVITFILILPEYFKTPKERTLELSCLEVCLQSNF...   \n",
       "4  MKQQQWCGMTAKMGTVLSGVFTIMAVDMYLIFEQKHLGNGSCTEIT...   \n",
       "\n",
       "                                          Prediction  \\\n",
       "0  0000000000000000000000000000000000000000000000...   \n",
       "1  0000000000000000000000000000000000000000000000...   \n",
       "2  0000000000000000000000000000000000000000000000...   \n",
       "3  0011111100000000000000000000000000000000000000...   \n",
       "4  0000000000000000000000000000000000000000000000...   \n",
       "\n",
       "           Subcellular_location        AH_positions         AH_residues  \n",
       "0                      Membrane                  []                  []  \n",
       "1                      Membrane                  []                  []  \n",
       "2  Mitochondrion inner membrane                  []                  []  \n",
       "3                      Membrane  [2, 3, 4, 5, 6, 7]  [K, T, A, L, L, K]  \n",
       "4                      Membrane                  []                  []  "
      ]
     },
     "execution_count": 46,
     "metadata": {},
     "output_type": "execute_result"
    }
   ],
   "source": [
    "df.head()"
   ]
  },
  {
   "cell_type": "code",
   "execution_count": 7,
   "id": "372e7870-157e-4904-8862-a3fc5a5962c9",
   "metadata": {
    "tags": []
   },
   "outputs": [
    {
     "data": {
      "text/plain": [
       "array(['Arabidopsis thaliana (Mouse-ear cress)', 'Bos taurus (Bovine)',\n",
       "       'Caenorhabditis elegans',\n",
       "       'Danio rerio (Zebrafish) (Brachydanio rerio)',\n",
       "       'Drosophila melanogaster (Fruit fly)', 'Gallus gallus (Chicken)',\n",
       "       'Homo sapiens (Human)', 'Mus musculus (Mouse)',\n",
       "       'Rattus norvegicus (Rat)'], dtype=object)"
      ]
     },
     "execution_count": 7,
     "metadata": {},
     "output_type": "execute_result"
    }
   ],
   "source": [
    "organisms = df['Organism'].unique()\n",
    "organisms.sort()\n",
    "organisms"
   ]
  },
  {
   "cell_type": "markdown",
   "id": "014984bd-b763-4987-b5ea-7afd0028d93d",
   "metadata": {},
   "source": [
    "#### ER or nuclear proteins"
   ]
  },
  {
   "cell_type": "code",
   "execution_count": 47,
   "id": "5ef0a732-cc39-4c86-8108-703cfe5e2055",
   "metadata": {},
   "outputs": [
    {
     "name": "stdout",
     "output_type": "stream",
     "text": [
      "ER or Nuclear proteins are: 469\n"
     ]
    }
   ],
   "source": [
    "df_ER_or_N = df[df['Subcellular_location'].str.contains('Nucleus') |\n",
    "                df['Subcellular_location'].str.contains('Endoplasmic reticulum')]\n",
    "print('ER or Nuclear proteins are: ' + str(len(df_ER_or_N)))"
   ]
  },
  {
   "cell_type": "markdown",
   "id": "0fcb6808-c44d-4246-b046-8de7789d6222",
   "metadata": {},
   "source": [
    "#### Not ER nor not nucleus proteins"
   ]
  },
  {
   "cell_type": "code",
   "execution_count": 48,
   "id": "26a1e24d-1036-459c-8494-23cde36126b9",
   "metadata": {},
   "outputs": [
    {
     "name": "stdout",
     "output_type": "stream",
     "text": [
      "Non-ER nor non-Nuclear proteins are: 2523\n"
     ]
    }
   ],
   "source": [
    "df_ER_nor_N = df[~df['Subcellular_location'].str.contains('Nucleus') &\n",
    "                ~df['Subcellular_location'].str.contains('Endoplasmic reticulum')]\n",
    "print('Non-ER nor non-Nuclear proteins are: ' + str(len(df_ER_nor_N)))"
   ]
  },
  {
   "cell_type": "markdown",
   "id": "306f3f2b-4245-4a0e-914f-6f690a82174b",
   "metadata": {},
   "source": [
    "#### AH proteins in non-ER, non-nuclear proteins"
   ]
  },
  {
   "cell_type": "code",
   "execution_count": 49,
   "id": "0abe9db2-c4e7-4626-b9c1-d763a70b222d",
   "metadata": {},
   "outputs": [
    {
     "name": "stdout",
     "output_type": "stream",
     "text": [
      "AH proteins in non-ER nor non-Nuclear proteins are: 1282\n",
      "50.812524772096715 % of proteins are AH in non-ER, non-nuclear proteins\n"
     ]
    }
   ],
   "source": [
    "df_ER_nor_N_and_AH = df_ER_nor_N[df_ER_nor_N['AH_or_Not'] == 'AH']\n",
    "print('AH proteins in non-ER nor non-Nuclear proteins are: ' + str(len(df_ER_nor_N_and_AH)))\n",
    "print(f'{len(df_ER_nor_N_and_AH)/len(df_ER_nor_N)*100} % of proteins are AH in non-ER, non-nuclear proteins')"
   ]
  },
  {
   "cell_type": "markdown",
   "id": "0f3a8a5a-2764-426b-9f5c-f220af7880fd",
   "metadata": {},
   "source": [
    "#### AH proteins in ER, or nuclear proteins"
   ]
  },
  {
   "cell_type": "code",
   "execution_count": 50,
   "id": "47612334-0815-45c5-a961-cfbb69c582f0",
   "metadata": {},
   "outputs": [
    {
     "name": "stdout",
     "output_type": "stream",
     "text": [
      "AH proteins in ER or Nuclear proteins are: 311\n",
      "66.31130063965884 % of proteins are AH in ER or nuclear proteins\n"
     ]
    }
   ],
   "source": [
    "df_ER_or_N_and_AH = df_ER_or_N[df_ER_or_N['AH_or_Not'] == 'AH']\n",
    "print('AH proteins in ER or Nuclear proteins are: ' + str(len(df_ER_or_N_and_AH)))\n",
    "print(f'{len(df_ER_or_N_and_AH)/len(df_ER_or_N)*100} % of proteins are AH in ER or nuclear proteins')"
   ]
  },
  {
   "cell_type": "markdown",
   "id": "30f38924-d94d-46c2-9ee4-330fae214956",
   "metadata": {},
   "source": [
    "#### AH proteins in ER proteins"
   ]
  },
  {
   "cell_type": "code",
   "execution_count": 51,
   "id": "c6f3b232-f5e3-4513-989f-16b67b6921a4",
   "metadata": {},
   "outputs": [
    {
     "name": "stdout",
     "output_type": "stream",
     "text": [
      "AH proteins in ER proteins are: 267\n"
     ]
    }
   ],
   "source": [
    "df_ER_AH = df_ER_or_N[df_ER_or_N['Subcellular_location'].str.contains('Endoplasmic reticulum') &\n",
    "                     (df_ER_or_N['AH_or_Not'] == 'AH')]\n",
    "print('AH proteins in ER proteins are: ' + str(len(df_ER_AH)))"
   ]
  },
  {
   "cell_type": "markdown",
   "id": "c06a935c-4444-4db0-9953-84c9586f279b",
   "metadata": {},
   "source": [
    "#### AH proteins in nuclear proteins"
   ]
  },
  {
   "cell_type": "code",
   "execution_count": 52,
   "id": "7f862866-e413-4313-ad8f-66672afe49ad",
   "metadata": {},
   "outputs": [
    {
     "name": "stdout",
     "output_type": "stream",
     "text": [
      "AH proteins in ER proteins are: 63\n"
     ]
    }
   ],
   "source": [
    "df_N_AH = df_ER_or_N[df_ER_or_N['Subcellular_location'].str.contains('Nucleus') &\n",
    "                     (df_ER_or_N['AH_or_Not'] == 'AH')]\n",
    "print('AH proteins in ER proteins are: ' + str(len(df_N_AH)))"
   ]
  },
  {
   "cell_type": "code",
   "execution_count": 53,
   "id": "c7d8efeb-5a58-4c4f-9a84-00a7a7216bca",
   "metadata": {},
   "outputs": [
    {
     "data": {
      "text/html": [
       "<div>\n",
       "<style scoped>\n",
       "    .dataframe tbody tr th:only-of-type {\n",
       "        vertical-align: middle;\n",
       "    }\n",
       "\n",
       "    .dataframe tbody tr th {\n",
       "        vertical-align: top;\n",
       "    }\n",
       "\n",
       "    .dataframe thead th {\n",
       "        text-align: right;\n",
       "    }\n",
       "</style>\n",
       "<table border=\"1\" class=\"dataframe\">\n",
       "  <thead>\n",
       "    <tr style=\"text-align: right;\">\n",
       "      <th></th>\n",
       "      <th>Uniprot_ID</th>\n",
       "      <th>Organism</th>\n",
       "      <th>Protein_name</th>\n",
       "      <th>AH_or_Not</th>\n",
       "      <th>AA_sequence</th>\n",
       "      <th>Prediction</th>\n",
       "      <th>Subcellular_location</th>\n",
       "      <th>AH_positions</th>\n",
       "      <th>AH_residues</th>\n",
       "    </tr>\n",
       "  </thead>\n",
       "  <tbody>\n",
       "    <tr>\n",
       "      <th>14</th>\n",
       "      <td>Q8N9R8</td>\n",
       "      <td>Homo sapiens (Human)</td>\n",
       "      <td>Protein SCAI</td>\n",
       "      <td>AH</td>\n",
       "      <td>MVRGARQPQQPRSRLAPRLTGTVEKPPRKRRSRTEFALKEIMSSGG...</td>\n",
       "      <td>0000000000000000000000000000000000000000000000...</td>\n",
       "      <td>Membrane, Nucleus, Cytoplasm</td>\n",
       "      <td>[506, 507, 508, 509, 510, 511]</td>\n",
       "      <td>[L, R, K, I, N, R]</td>\n",
       "    </tr>\n",
       "    <tr>\n",
       "      <th>50</th>\n",
       "      <td>Q8R411</td>\n",
       "      <td>Mus musculus (Mouse)</td>\n",
       "      <td>Myc target protein 1</td>\n",
       "      <td>AH</td>\n",
       "      <td>MANNTTSLGSPWPENFWEDLIMSFTVSVAIGLAIGGFLWALFVFLS...</td>\n",
       "      <td>0000000000000111111000000000000000000000000000...</td>\n",
       "      <td>Nucleus membrane</td>\n",
       "      <td>[13, 14, 15, 16, 17, 18]</td>\n",
       "      <td>[E, N, F, W, E, D]</td>\n",
       "    </tr>\n",
       "    <tr>\n",
       "      <th>102</th>\n",
       "      <td>Q8VEG4</td>\n",
       "      <td>Mus musculus (Mouse)</td>\n",
       "      <td>Exonuclease 3'-5' domain-containing protein 2</td>\n",
       "      <td>AH</td>\n",
       "      <td>MSRQNLVALTVTTLLGVAMGGFVLWKGIQRRWSKTSRVMQQQPQQP...</td>\n",
       "      <td>0000000000000000000000111111111111111000000000...</td>\n",
       "      <td>Mitochondrion outer membrane, Mitochondrion ma...</td>\n",
       "      <td>[22, 23, 24, 25, 26, 27, 28, 29, 30, 31, 32, 3...</td>\n",
       "      <td>[V, L, W, K, G, I, Q, R, R, W, S, K, T, S, R]</td>\n",
       "    </tr>\n",
       "    <tr>\n",
       "      <th>255</th>\n",
       "      <td>Q96DY5</td>\n",
       "      <td>Mus musculus (Mouse)</td>\n",
       "      <td>RING finger protein 112</td>\n",
       "      <td>AH</td>\n",
       "      <td>MPRPVLSVTAFCHRLGKRESKRSFMGNSSNSWVLPREEAQGWMGQA...</td>\n",
       "      <td>0000000000000000000000000000000000000000000000...</td>\n",
       "      <td>Membrane, Membrane, Cytoplasm, Nucleus, Nucleu...</td>\n",
       "      <td>[450, 451, 452, 453, 454, 455, 456]</td>\n",
       "      <td>[A, Q, E, I, K, N, L]</td>\n",
       "    </tr>\n",
       "    <tr>\n",
       "      <th>278</th>\n",
       "      <td>Q96KC8</td>\n",
       "      <td>Homo sapiens (Human)</td>\n",
       "      <td>DnaJ homolog subfamily C member 1</td>\n",
       "      <td>AH</td>\n",
       "      <td>MTAPCSQPAQLPGRRQLGLVPFPPPPPRTPLLWLLLLLLAAVAPAR...</td>\n",
       "      <td>0000000000000000000000000000000000000000000000...</td>\n",
       "      <td>Endoplasmic reticulum membrane, Nucleus membra...</td>\n",
       "      <td>[230, 231, 232, 233, 234, 235, 236, 237, 238, ...</td>\n",
       "      <td>[F, C, L, T, L, K, A, L, P, H, D, C, I, A, R, ...</td>\n",
       "    </tr>\n",
       "  </tbody>\n",
       "</table>\n",
       "</div>"
      ],
      "text/plain": [
       "    Uniprot_ID              Organism  \\\n",
       "14      Q8N9R8  Homo sapiens (Human)   \n",
       "50      Q8R411  Mus musculus (Mouse)   \n",
       "102     Q8VEG4  Mus musculus (Mouse)   \n",
       "255     Q96DY5  Mus musculus (Mouse)   \n",
       "278     Q96KC8  Homo sapiens (Human)   \n",
       "\n",
       "                                      Protein_name AH_or_Not  \\\n",
       "14                                    Protein SCAI        AH   \n",
       "50                            Myc target protein 1        AH   \n",
       "102  Exonuclease 3'-5' domain-containing protein 2        AH   \n",
       "255                        RING finger protein 112        AH   \n",
       "278              DnaJ homolog subfamily C member 1        AH   \n",
       "\n",
       "                                           AA_sequence  \\\n",
       "14   MVRGARQPQQPRSRLAPRLTGTVEKPPRKRRSRTEFALKEIMSSGG...   \n",
       "50   MANNTTSLGSPWPENFWEDLIMSFTVSVAIGLAIGGFLWALFVFLS...   \n",
       "102  MSRQNLVALTVTTLLGVAMGGFVLWKGIQRRWSKTSRVMQQQPQQP...   \n",
       "255  MPRPVLSVTAFCHRLGKRESKRSFMGNSSNSWVLPREEAQGWMGQA...   \n",
       "278  MTAPCSQPAQLPGRRQLGLVPFPPPPPRTPLLWLLLLLLAAVAPAR...   \n",
       "\n",
       "                                            Prediction  \\\n",
       "14   0000000000000000000000000000000000000000000000...   \n",
       "50   0000000000000111111000000000000000000000000000...   \n",
       "102  0000000000000000000000111111111111111000000000...   \n",
       "255  0000000000000000000000000000000000000000000000...   \n",
       "278  0000000000000000000000000000000000000000000000...   \n",
       "\n",
       "                                  Subcellular_location  \\\n",
       "14                        Membrane, Nucleus, Cytoplasm   \n",
       "50                                    Nucleus membrane   \n",
       "102  Mitochondrion outer membrane, Mitochondrion ma...   \n",
       "255  Membrane, Membrane, Cytoplasm, Nucleus, Nucleu...   \n",
       "278  Endoplasmic reticulum membrane, Nucleus membra...   \n",
       "\n",
       "                                          AH_positions  \\\n",
       "14                      [506, 507, 508, 509, 510, 511]   \n",
       "50                            [13, 14, 15, 16, 17, 18]   \n",
       "102  [22, 23, 24, 25, 26, 27, 28, 29, 30, 31, 32, 3...   \n",
       "255                [450, 451, 452, 453, 454, 455, 456]   \n",
       "278  [230, 231, 232, 233, 234, 235, 236, 237, 238, ...   \n",
       "\n",
       "                                           AH_residues  \n",
       "14                                  [L, R, K, I, N, R]  \n",
       "50                                  [E, N, F, W, E, D]  \n",
       "102      [V, L, W, K, G, I, Q, R, R, W, S, K, T, S, R]  \n",
       "255                              [A, Q, E, I, K, N, L]  \n",
       "278  [F, C, L, T, L, K, A, L, P, H, D, C, I, A, R, ...  "
      ]
     },
     "execution_count": 53,
     "metadata": {},
     "output_type": "execute_result"
    }
   ],
   "source": [
    "df_N_AH.head()"
   ]
  },
  {
   "cell_type": "markdown",
   "id": "60280c74-b6b2-40e4-bcbd-41a3cf446b46",
   "metadata": {},
   "source": [
    "### Export to CSV: AH or Non-AH, ER or nucleus"
   ]
  },
  {
   "cell_type": "code",
   "execution_count": 54,
   "id": "a42d7462-12c2-4b25-afad-b16311976b97",
   "metadata": {},
   "outputs": [],
   "source": [
    "for AH_or_not in ['AH', 'Non-AH']:\n",
    "    df_sub = df[df['AH_or_Not'] == AH_or_not]\n",
    "    for organelle in ['Nucleus', 'Endoplasmic reticulum']:\n",
    "        df_sub_sub = df_sub[df_sub['Subcellular_location'].str.contains(organelle)]\n",
    "        df_sub_sub = df_sub_sub.sort_values(by=['Organism', 'Protein_name'])\n",
    "        df_sub_sub.to_csv(f'./{organelle}_{AH_or_not}.csv')"
   ]
  },
  {
   "cell_type": "code",
   "execution_count": 11,
   "id": "03b1c6da-0bfd-4b7e-bea9-45ae5b99b7ab",
   "metadata": {
    "collapsed": true,
    "jupyter": {
     "outputs_hidden": true
    },
    "tags": []
   },
   "outputs": [
    {
     "name": "stdout",
     "output_type": "stream",
     "text": [
      "Homo sapiens (Human) ['Bcl-2-like protein 10', 'Bcl-2-like protein 13', 'CAAX prenyl protease 1 homolog', 'Chloride channel CLIC-like protein 1', 'DnaJ homolog subfamily C member 1', 'Etoposide-induced protein 2.4 homolog', 'Interferon alpha-inducible protein 27, mitochondrial', 'Membrane-associated progesterone receptor component 2', 'Protein LYRIC', 'Protein SCAI', 'Thioredoxin-related transmembrane protein 4', 'Transmembrane protein 201', 'Transmembrane protein 250']\n",
      "Mus musculus (Mouse) ['1-acyl-sn-glycerol-3-phosphate acyltransferase epsilon', '3-beta-hydroxysteroid-Delta(8),Delta(7)-isomerase', 'E3 ubiquitin-protein ligase RNF43', \"Exonuclease 3'-5' domain-containing protein 2\", 'Inner nuclear membrane protein Man1', 'LEM domain-containing protein 2', 'Major facilitator superfamily domain-containing protein 10', 'Membrane-anchored junction protein', 'Myc target protein 1', 'Prostaglandin E synthase 2', 'RING finger protein 112', 'SUN domain-containing protein 1', 'SUN domain-containing protein 2', 'SUN domain-containing protein 5', 'Sigma non-opioid intracellular receptor 1']\n",
      "Arabidopsis thaliana (Mouse-ear cress) ['NAC domain-containing protein 16', 'NAC domain-containing protein 62', 'Nuclear envelope-associated protein 3', 'Protein LAZY 1', 'Protein SHORT HYPOCOTYL IN WHITE LIGHT 1', 'Protein SINE1', 'Protein SINE3', 'SUN domain-containing protein 1', 'SUN domain-containing protein 3', 'Senescence-associated carboxylesterase 101', 'Transcription factor MAMYB', 'WPP domain-interacting protein 2', 'WPP domain-interacting tail-anchored protein 1', 'bZIP transcription factor 17']\n",
      "Rattus norvegicus (Rat) ['Arachidonate 5-lipoxygenase-activating protein', 'RING finger protein 112', 'Sperm-associated antigen 4 protein', 'Torsin-1A-interacting protein 2']\n",
      "Caenorhabditis elegans ['Emerin homolog 1', 'Macoilin', 'Transmembrane protein 201 homolog', 'Uncharacterized protein F54F2.9']\n",
      "Bos taurus (Bovine) ['ADP-ribosylation factor-like protein 6-interacting protein 6', 'Inositol 1,4,5-trisphosphate receptor-interacting protein', 'Major facilitator superfamily domain-containing protein 10', 'Matrix remodeling-associated protein 8', 'Nuclear envelope integral membrane protein 1', 'Regulator of microtubule dynamics protein 3', 'Torsin-1A-interacting protein 1']\n",
      "Gallus gallus (Chicken) ['Leucine-rich repeat-containing protein 59', 'Nuclear envelope integral membrane protein 2']\n",
      "Danio rerio (Zebrafish) (Brachydanio rerio) ['Protein brambleberry', 'Transmembrane protein 18']\n",
      "Drosophila melanogaster (Fruit fly) ['Inner nuclear membrane protein Man1', 'Lamin-B receptor']\n"
     ]
    }
   ],
   "source": [
    "for organism in df_AH_Nuc['Organism'].unique():\n",
    "    _df = df_AH_Nuc[df_AH_Nuc['Organism'] == organism]\n",
    "    proteins = list(_df['Protein_name'])\n",
    "    proteins.sort()\n",
    "    print(organism, proteins)"
   ]
  },
  {
   "cell_type": "code",
   "execution_count": 57,
   "id": "36cc8952-58e8-470b-875b-a6348ede2f01",
   "metadata": {},
   "outputs": [
    {
     "data": {
      "text/plain": [
       "0.5081252477209671"
      ]
     },
     "execution_count": 57,
     "metadata": {},
     "output_type": "execute_result"
    }
   ],
   "source": [
    "1282 / 2523"
   ]
  },
  {
   "cell_type": "code",
   "execution_count": 5,
   "id": "ed290efb-e6df-4d8d-aa5f-ff872b80d5d6",
   "metadata": {},
   "outputs": [
    {
     "name": "stdout",
     "output_type": "stream",
     "text": [
      "\u001b[34mAll results_original\u001b[m\u001b[m\n",
      "\u001b[34mCodes\u001b[m\u001b[m\n",
      "Endoplasmic reticulum_AH.csv\n",
      "Endoplasmic reticulum_Non-AH.csv\n",
      "Nucleus_AH.csv\n",
      "Nucleus_Non-AH.csv\n",
      "Organisms.csv\n",
      "Result_Selected_Organisms.csv\n",
      "Result_Selected_Organisms_SubCellLoc.csv\n",
      "\u001b[34mResults from the paper\u001b[m\u001b[m\n"
     ]
    }
   ],
   "source": [
    "!ls"
   ]
  }
 ],
 "metadata": {
  "kernelspec": {
   "display_name": "Python 3",
   "language": "python",
   "name": "python3"
  },
  "language_info": {
   "codemirror_mode": {
    "name": "ipython",
    "version": 3
   },
   "file_extension": ".py",
   "mimetype": "text/x-python",
   "name": "python",
   "nbconvert_exporter": "python",
   "pygments_lexer": "ipython3",
   "version": "3.8.8"
  }
 },
 "nbformat": 4,
 "nbformat_minor": 5
}
