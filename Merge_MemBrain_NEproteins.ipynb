{
 "cells": [
  {
   "cell_type": "code",
   "execution_count": 1,
   "id": "f2c8ed81-50e2-473d-9b43-e2e8b971727a",
   "metadata": {
    "tags": []
   },
   "outputs": [],
   "source": [
    "import pandas as pd"
   ]
  },
  {
   "cell_type": "markdown",
   "id": "012fec4c-1013-47af-8e10-be8e23bbc830",
   "metadata": {},
   "source": [
    "### 1. Clean up MemBrain proteins"
   ]
  },
  {
   "cell_type": "code",
   "execution_count": 2,
   "id": "00380c81-12b0-4db7-b247-f3aaaa178145",
   "metadata": {
    "tags": []
   },
   "outputs": [],
   "source": [
    "df_MB = pd.read_csv('./IntermediateProducts/Results_step_3.csv')"
   ]
  },
  {
   "cell_type": "code",
   "execution_count": 4,
   "id": "e4fcfe59-a45e-412d-91a9-acd3b63188af",
   "metadata": {
    "tags": []
   },
   "outputs": [],
   "source": [
    "# Remove Not_found or Not_found(similar)\n",
    "df_MB = df_MB[(df_MB.Entry_Hs != \"Not_found\") & (df_MB.Entry_Hs != \"Not_found(similar)\")]"
   ]
  },
  {
   "cell_type": "code",
   "execution_count": 6,
   "id": "3eaf5c76-ad94-41c9-b075-767b221e805a",
   "metadata": {
    "tags": []
   },
   "outputs": [],
   "source": [
    "df_MB = df_MB.drop(columns=['SubCell_Uniprot'])"
   ]
  },
  {
   "cell_type": "code",
   "execution_count": 16,
   "id": "197c52c8-63e0-4797-ad5a-067613c1f13d",
   "metadata": {
    "tags": []
   },
   "outputs": [],
   "source": [
    "# Remove duplicates\n",
    "# Make sure Human entries come first by placing 1 to them and 2 to the others and sorting\n",
    "# This way a row with Hs ID in Entry_original will be retained\n",
    "# a row is removed if it had a non-human ID originally that was converted to the same Hs entry\n",
    "df_MB['Human?'] = df_MB['Organism'].apply(lambda x: 1 if x == 'Homo sapiens' else 2)\n",
    "df_MB_sorted = df_MB.sort_values(by='Human?')\n",
    "df_MB_cleaned = df_MB_sorted.drop_duplicates(subset='Entry_Hs')\n",
    "df_MB_cleaned.info()"
   ]
  },
  {
   "cell_type": "code",
   "execution_count": 30,
   "id": "8b671b1e-e5a9-4352-b359-6aac7ffe436b",
   "metadata": {
    "tags": []
   },
   "outputs": [
    {
     "name": "stdout",
     "output_type": "stream",
     "text": [
      "Total number of human proteins in MemBrain:  1865\n"
     ]
    }
   ],
   "source": [
    "print(\"Total number of human proteins in MemBrain: \", len(df_MB.Entry_Hs.unique()))"
   ]
  },
  {
   "cell_type": "markdown",
   "id": "3efe0b14-76b6-4707-8195-a6ea81f1c308",
   "metadata": {},
   "source": [
    "### 2. Merge MemBrain and NE proteins"
   ]
  },
  {
   "cell_type": "code",
   "execution_count": 48,
   "id": "f253488b-d7ec-46be-a62f-8c336081fd21",
   "metadata": {
    "tags": []
   },
   "outputs": [],
   "source": [
    "df_NE = pd.read_csv('./SourceData/Final_NE_proteins.csv')"
   ]
  },
  {
   "cell_type": "code",
   "execution_count": 49,
   "id": "5b9ddcd8-84a2-44db-b91a-83a3a80c44ec",
   "metadata": {
    "tags": []
   },
   "outputs": [
    {
     "name": "stdout",
     "output_type": "stream",
     "text": [
      "<class 'pandas.core.frame.DataFrame'>\n",
      "RangeIndex: 281 entries, 0 to 280\n",
      "Data columns (total 18 columns):\n",
      " #   Column                    Non-Null Count  Dtype  \n",
      "---  ------                    --------------  -----  \n",
      " 0   UniprotID                 281 non-null    object \n",
      " 1   GeneName                  281 non-null    object \n",
      " 2   Schirmer_2003             281 non-null    float64\n",
      " 3   Korfali_2010              281 non-null    float64\n",
      " 4   Wilkie_2010               281 non-null    float64\n",
      " 5   Korfali_2012              281 non-null    float64\n",
      " 6   Korfali_2012_NE:MM-ratio  281 non-null    float64\n",
      " 7   Cheng_2019                281 non-null    float64\n",
      " 8   Cheng_2019_Score:Undiff   281 non-null    float64\n",
      " 9   Cheng_2019_Score:Adipo    281 non-null    float64\n",
      " 10  Cheng_2019_Score:Myo      281 non-null    float64\n",
      " 11  #ProteomePapers           281 non-null    float64\n",
      " 12  HPA                       281 non-null    int64  \n",
      " 13  HPA_reliability           281 non-null    object \n",
      " 14  HPA_loc                   281 non-null    object \n",
      " 15  Results                   281 non-null    object \n",
      " 16  Uniprot_NEorER            281 non-null    float64\n",
      " 17  Uniprot_subcell           277 non-null    object \n",
      "dtypes: float64(11), int64(1), object(6)\n",
      "memory usage: 39.6+ KB\n"
     ]
    }
   ],
   "source": [
    "df_NE.info()"
   ]
  },
  {
   "cell_type": "code",
   "execution_count": 60,
   "id": "e30b50b0-b376-494b-926e-5f5eb2f507d9",
   "metadata": {
    "tags": []
   },
   "outputs": [],
   "source": [
    "df_merged = df_MB_cleaned.merge(df_NE, left_on='Entry_Hs', right_on='UniprotID', how='inner')"
   ]
  },
  {
   "cell_type": "code",
   "execution_count": 61,
   "id": "4c0288cb-84dc-4234-96a1-ab59cb507013",
   "metadata": {
    "tags": []
   },
   "outputs": [],
   "source": [
    "df_merged = df_merged[['Entry_original', 'Organism', 'Entry_Hs', 'Gene_name', 'Protein_name', 'AH_or_Not',\n",
    "       'AA_sequence', 'Prediction',\n",
    "       'Schirmer_2003', 'Korfali_2010', 'Wilkie_2010',\n",
    "       'Korfali_2012', 'Korfali_2012_NE:MM-ratio', 'Cheng_2019',\n",
    "       'Cheng_2019_Score:Undiff', 'Cheng_2019_Score:Adipo',\n",
    "       'Cheng_2019_Score:Myo', '#ProteomePapers', 'HPA', 'HPA_reliability',\n",
    "       'HPA_loc', 'Uniprot_NEorER', 'Uniprot_subcell', 'Results']]"
   ]
  },
  {
   "cell_type": "code",
   "execution_count": 58,
   "id": "89b0659e-c29f-48d4-9608-a7681a9dfa37",
   "metadata": {
    "tags": []
   },
   "outputs": [
    {
     "name": "stdout",
     "output_type": "stream",
     "text": [
      "NE proteins with MemBrain result:  120\n"
     ]
    }
   ],
   "source": [
    "print(\"NE proteins with MemBrain result: \", len(df_merged))"
   ]
  },
  {
   "cell_type": "code",
   "execution_count": 63,
   "id": "46241ac1-79aa-4a1d-b045-2862809b417d",
   "metadata": {
    "tags": []
   },
   "outputs": [
    {
     "name": "stdout",
     "output_type": "stream",
     "text": [
      "NE proteins with predicted AH:  87\n",
      "Breakdown: \n",
      "  48 proteins are supoorted by 1 proteome papers\n",
      "  10 proteins are supoorted by 2 proteome papers\n",
      "  12 proteins are supoorted by 3 proteome papers\n",
      "  15 proteins are supoorted by 4 proteome papers\n",
      "  2 proteins are supoorted by 5 proteome papers\n"
     ]
    }
   ],
   "source": [
    "df_NE_AH = df_merged[df_merged.AH_or_Not == 'AH']\n",
    "\n",
    "print(\"NE proteins with predicted AH: \", len(df_NE_AH))\n",
    "print(\"Breakdown: \")\n",
    "\n",
    "for i in [1,2,3,4,5]:\n",
    "    print(f\"  {len(df_NE_AH[df_NE_AH['#ProteomePapers'] == i])} proteins are supoorted by {i} proteome papers\")"
   ]
  },
  {
   "cell_type": "code",
   "execution_count": 64,
   "id": "9a7888bb-f1bd-41a5-8d9f-930b3a16bd31",
   "metadata": {
    "tags": []
   },
   "outputs": [
    {
     "name": "stdout",
     "output_type": "stream",
     "text": [
      "NE proteins without predicted AH:  33\n",
      "Breakdown: \n",
      "  21 proteins are supoorted by 1 proteome papers\n",
      "  6 proteins are supoorted by 2 proteome papers\n",
      "  3 proteins are supoorted by 3 proteome papers\n",
      "  2 proteins are supoorted by 4 proteome papers\n",
      "  1 proteins are supoorted by 5 proteome papers\n"
     ]
    }
   ],
   "source": [
    "df_NE_NonAH = df_merged[df_merged.AH_or_Not == 'Non-AH']\n",
    "\n",
    "print(\"NE proteins without predicted AH: \", len(df_NE_NonAH))\n",
    "print(\"Breakdown: \")\n",
    "\n",
    "for i in [1,2,3,4,5]:\n",
    "    print(f\"  {len(df_NE_NonAH[df_NE_NonAH['#ProteomePapers'] == i])} proteins are supoorted by {i} proteome papers\")"
   ]
  }
 ],
 "metadata": {
  "kernelspec": {
   "display_name": "Python 3 (ipykernel)",
   "language": "python",
   "name": "python3"
  },
  "language_info": {
   "codemirror_mode": {
    "name": "ipython",
    "version": 3
   },
   "file_extension": ".py",
   "mimetype": "text/x-python",
   "name": "python",
   "nbconvert_exporter": "python",
   "pygments_lexer": "ipython3",
   "version": "3.11.3"
  }
 },
 "nbformat": 4,
 "nbformat_minor": 5
}
