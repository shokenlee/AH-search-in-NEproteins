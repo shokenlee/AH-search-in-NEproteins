{
 "cells": [
  {
   "cell_type": "code",
   "execution_count": 1,
   "id": "f2c8ed81-50e2-473d-9b43-e2e8b971727a",
   "metadata": {
    "tags": []
   },
   "outputs": [],
   "source": [
    "import pandas as pd\n",
    "from my_utils import find_AH"
   ]
  },
  {
   "cell_type": "markdown",
   "id": "012fec4c-1013-47af-8e10-be8e23bbc830",
   "metadata": {},
   "source": [
    "### 1. Clean up MemBrain proteins"
   ]
  },
  {
   "cell_type": "code",
   "execution_count": 2,
   "id": "80eee39f-cf77-406c-8069-5b4a62c15e23",
   "metadata": {
    "tags": []
   },
   "outputs": [
    {
     "name": "stdout",
     "output_type": "stream",
     "text": [
      "Total number of human proteins in MemBrain:  1865\n"
     ]
    }
   ],
   "source": [
    "df_MB = pd.read_csv('./IntermediateProducts/Results_step_3.csv')\n",
    "\n",
    "# Remove Not_found or Not_found(similar)\n",
    "df_MB = df_MB[(df_MB.Entry_Hs != \"Not_found\") & (df_MB.Entry_Hs != \"Not_found(similar)\")]\n",
    "\n",
    "df_MB = df_MB.drop(columns=['SubCell_Uniprot'])\n",
    "\n",
    "# Remove duplicates\n",
    "# Make sure Human entries come first by placing 1 to them and 2 to the others and sorting\n",
    "# This way a row with Hs ID in Entry_original will be retained\n",
    "# a row is removed if it had a non-human ID originally that was converted to the same Hs entry\n",
    "df_MB['Human?'] = df_MB['Organism'].apply(lambda x: 1 if x == 'Homo sapiens' else 2)\n",
    "df_MB_sorted = df_MB.sort_values(by='Human?')\n",
    "df_MB_cleaned = df_MB_sorted.drop_duplicates(subset='Entry_Hs')\n",
    "\n",
    "print(\"Total number of human proteins in MemBrain: \", len(df_MB.Entry_Hs.unique()))"
   ]
  },
  {
   "cell_type": "code",
   "execution_count": 3,
   "id": "7294e9b5-95f6-41cd-8dc4-d1cc511839d9",
   "metadata": {},
   "outputs": [],
   "source": [
    "df_MB_cleaned.to_csv('./FinalOutput/MemBrain_Hs_cleaned.csv', index=False)"
   ]
  },
  {
   "cell_type": "markdown",
   "id": "3efe0b14-76b6-4707-8195-a6ea81f1c308",
   "metadata": {},
   "source": [
    "### 2. Merge MemBrain and NE proteins"
   ]
  },
  {
   "cell_type": "code",
   "execution_count": 24,
   "id": "ce54ce20-2f10-49e0-a274-c06da609329d",
   "metadata": {
    "tags": []
   },
   "outputs": [
    {
     "name": "stdout",
     "output_type": "stream",
     "text": [
      "NE proteins with MemBrain result:  120\n"
     ]
    }
   ],
   "source": [
    "# NE protein list copied from Nuclear Proteome respository\n",
    "df_NE = pd.read_csv('./SourceData/Final_NE_proteins.csv')\n",
    "\n",
    "# Merge\n",
    "df_merged = df_MB_cleaned.merge(df_NE, left_on='Entry_Hs', right_on='UniprotID', how='inner')\n",
    "\n",
    "# Select columns\n",
    "df_merged = df_merged[['Entry_original', 'Organism', 'Entry_Hs', 'Gene_name', 'Protein_name', 'AH_or_Not',\n",
    "       'AA_sequence', 'Prediction',\n",
    "       'Schirmer_2003', 'Korfali_2010', 'Wilkie_2010',\n",
    "       'Korfali_2012', 'Korfali_2012_NE:MM-ratio', 'Cheng_2019',\n",
    "       'Cheng_2019_Score:Undiff', 'Cheng_2019_Score:Adipo',\n",
    "       'Cheng_2019_Score:Myo', '#ProteomePapers', 'HPA', 'HPA_reliability',\n",
    "       'HPA_loc', 'Uniprot_NEorER', 'Uniprot_subcell', 'Results']]\n",
    "\n",
    "print(\"NE proteins with MemBrain result: \", len(df_merged))"
   ]
  },
  {
   "cell_type": "code",
   "execution_count": 29,
   "id": "46241ac1-79aa-4a1d-b045-2862809b417d",
   "metadata": {
    "tags": []
   },
   "outputs": [
    {
     "name": "stdout",
     "output_type": "stream",
     "text": [
      "NE proteins with predicted AH:  87\n",
      "Breakdown: \n",
      "  48 proteins are supoorted by 1 proteome papers\n",
      "  10 proteins are supoorted by 2 proteome papers\n",
      "  12 proteins are supoorted by 3 proteome papers\n",
      "  15 proteins are supoorted by 4 proteome papers\n",
      "  2 proteins are supoorted by 5 proteome papers\n"
     ]
    }
   ],
   "source": [
    "df_NE_AH = df_merged[df_merged.AH_or_Not == 'AH'].copy()\n",
    "\n",
    "print(\"NE proteins with predicted AH: \", len(df_NE_AH))\n",
    "print(\"Breakdown: \")\n",
    "\n",
    "for i in [1,2,3,4,5]:\n",
    "    print(f\"  {len(df_NE_AH[df_NE_AH['#ProteomePapers'] == i])} proteins are supoorted by {i} proteome papers\")"
   ]
  },
  {
   "cell_type": "code",
   "execution_count": 26,
   "id": "9a7888bb-f1bd-41a5-8d9f-930b3a16bd31",
   "metadata": {
    "tags": []
   },
   "outputs": [
    {
     "name": "stdout",
     "output_type": "stream",
     "text": [
      "NE proteins without predicted AH:  33\n",
      "Breakdown: \n",
      "  21 proteins are supoorted by 1 proteome papers\n",
      "  6 proteins are supoorted by 2 proteome papers\n",
      "  3 proteins are supoorted by 3 proteome papers\n",
      "  2 proteins are supoorted by 4 proteome papers\n",
      "  1 proteins are supoorted by 5 proteome papers\n"
     ]
    }
   ],
   "source": [
    "df_NE_NonAH = df_merged[df_merged.AH_or_Not == 'Non-AH']\n",
    "\n",
    "print(\"NE proteins without predicted AH: \", len(df_NE_NonAH))\n",
    "print(\"Breakdown: \")\n",
    "\n",
    "for i in [1,2,3,4,5]:\n",
    "    print(f\"  {len(df_NE_NonAH[df_NE_NonAH['#ProteomePapers'] == i])} proteins are supoorted by {i} proteome papers\")"
   ]
  },
  {
   "cell_type": "code",
   "execution_count": 41,
   "id": "7dfb7681-58e6-40f5-8ba8-619c6e360940",
   "metadata": {
    "tags": []
   },
   "outputs": [],
   "source": [
    "df_NE_NonAH.to_csv('./FinalOutput/Non-AH_NEproteins.csv', index=False)"
   ]
  },
  {
   "cell_type": "markdown",
   "id": "23908e22-24e4-40dd-8083-b43577b621ae",
   "metadata": {},
   "source": [
    "### 3. AH analysis and export"
   ]
  },
  {
   "cell_type": "code",
   "execution_count": 62,
   "id": "78a82c22-60cb-4896-b5cb-3517ec2956d3",
   "metadata": {
    "tags": []
   },
   "outputs": [
    {
     "name": "stdout",
     "output_type": "stream",
     "text": [
      "63 proteins are predicted to have 1 AH\n",
      "24 proteins are predicted to have 2 AH\n",
      "0 proteins are predicted to have 3 AH\n"
     ]
    }
   ],
   "source": [
    "# Make a dict with AH residues and its location like {'RMIAQKISVR': '289-298'}\n",
    "df_NE_AH.loc[:, 'Predicted_AHs'] = df_NE_AH.apply(lambda x: find_AH(x['AA_sequence'], x['Prediction']), axis=1)\n",
    "# Count the number of AHs per protein\n",
    "df_NE_AH.loc[:, '#ofAHs'] = df_NE_AH.Predicted_AHs.apply(len)\n",
    "\n",
    "# How many proteins have how many predicted AHs?\n",
    "for i in [1, 2, 3]:\n",
    "    print(f\"{len(df_NE_AH[df_NE_AH['#ofAHs'] == i])} proteins are predicted to have {i} AH\")"
   ]
  },
  {
   "cell_type": "code",
   "execution_count": 64,
   "id": "76d8868f-6428-4d05-a71c-1853af772cec",
   "metadata": {
    "tags": []
   },
   "outputs": [],
   "source": [
    "df_NE_AH = df_NE_AH[['Entry_original', 'Organism', 'Entry_Hs', 'Gene_name', 'Protein_name',\n",
    "       'AA_sequence', 'Prediction', 'Predicted_AHs', '#ofAHs', \n",
    "       'Schirmer_2003', 'Korfali_2010', 'Wilkie_2010', 'Korfali_2012',\n",
    "       'Korfali_2012_NE:MM-ratio', 'Cheng_2019', 'Cheng_2019_Score:Undiff',\n",
    "       'Cheng_2019_Score:Adipo', 'Cheng_2019_Score:Myo', '#ProteomePapers',\n",
    "       'HPA', 'HPA_reliability', 'HPA_loc', 'Uniprot_NEorER',\n",
    "       'Uniprot_subcell', 'Results']]\n",
    "\n",
    "df_NE_AH = df_NE_AH.rename(columns={'Organism': 'Organism_original', 'Results': 'Uniprot_raw_response'})"
   ]
  },
  {
   "cell_type": "code",
   "execution_count": 65,
   "id": "2b3a09c0-c242-4748-8f63-a5d2c99550e2",
   "metadata": {
    "tags": []
   },
   "outputs": [],
   "source": [
    "df_NE_AH.to_csv('./FinalOutput/AH_NEproteins.csv', index=False)"
   ]
  },
  {
   "cell_type": "code",
   "execution_count": null,
   "id": "212cc40d-ff7b-4d91-a791-88e5586f3d1f",
   "metadata": {},
   "outputs": [],
   "source": []
  }
 ],
 "metadata": {
  "kernelspec": {
   "display_name": "Python 3 (ipykernel)",
   "language": "python",
   "name": "python3"
  },
  "language_info": {
   "codemirror_mode": {
    "name": "ipython",
    "version": 3
   },
   "file_extension": ".py",
   "mimetype": "text/x-python",
   "name": "python",
   "nbconvert_exporter": "python",
   "pygments_lexer": "ipython3",
   "version": "3.10.9"
  }
 },
 "nbformat": 4,
 "nbformat_minor": 5
}
