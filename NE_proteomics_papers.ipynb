{
 "cells": [
  {
   "cell_type": "code",
   "execution_count": 38,
   "id": "f2b43cc9-f745-4e14-931f-ecc8bf24658b",
   "metadata": {},
   "outputs": [],
   "source": [
    "import os, re, requests, json, openpyxl, warnings, importlib\n",
    "import numpy as np\n",
    "import pandas as pd\n",
    "from urllib.request import urlopen\n",
    "from time import sleep\n",
    "\n",
    "from my_utils import *\n",
    "\n",
    "warnings.filterwarnings('ignore')"
   ]
  },
  {
   "cell_type": "markdown",
   "id": "dbbed579-6f68-4461-9bfb-7992aa846393",
   "metadata": {},
   "source": [
    "# Wilkie et al 2010: Rat skeletal muscle"
   ]
  },
  {
   "cell_type": "code",
   "execution_count": 43,
   "id": "6382f45f-e6eb-4193-9ceb-f5053b1facdd",
   "metadata": {
    "tags": []
   },
   "outputs": [
    {
     "name": "stdout",
     "output_type": "stream",
     "text": [
      "['Table 1', 'Extracted']\n"
     ]
    },
    {
     "data": {
      "text/html": [
       "<div>\n",
       "<style scoped>\n",
       "    .dataframe tbody tr th:only-of-type {\n",
       "        vertical-align: middle;\n",
       "    }\n",
       "\n",
       "    .dataframe tbody tr th {\n",
       "        vertical-align: top;\n",
       "    }\n",
       "\n",
       "    .dataframe thead th {\n",
       "        text-align: right;\n",
       "    }\n",
       "</style>\n",
       "<table border=\"1\" class=\"dataframe\">\n",
       "  <thead>\n",
       "    <tr style=\"text-align: right;\">\n",
       "      <th></th>\n",
       "      <th>Gene_name</th>\n",
       "    </tr>\n",
       "  </thead>\n",
       "  <tbody>\n",
       "    <tr>\n",
       "      <th>0</th>\n",
       "      <td>UNC84B</td>\n",
       "    </tr>\n",
       "    <tr>\n",
       "      <th>1</th>\n",
       "      <td>TOR1AIP1</td>\n",
       "    </tr>\n",
       "    <tr>\n",
       "      <th>2</th>\n",
       "      <td>LBR</td>\n",
       "    </tr>\n",
       "    <tr>\n",
       "      <th>3</th>\n",
       "      <td>UNC84A</td>\n",
       "    </tr>\n",
       "    <tr>\n",
       "      <th>4</th>\n",
       "      <td>NUP210</td>\n",
       "    </tr>\n",
       "  </tbody>\n",
       "</table>\n",
       "</div>"
      ],
      "text/plain": [
       "  Gene_name\n",
       "0    UNC84B\n",
       "1  TOR1AIP1\n",
       "2       LBR\n",
       "3    UNC84A\n",
       "4    NUP210"
      ]
     },
     "execution_count": 43,
     "metadata": {},
     "output_type": "execute_result"
    }
   ],
   "source": [
    "# Excel import\n",
    "wb = openpyxl.load_workbook('./SourceData/Wilkie_2010/mcp.M110.003129-6.xlsx')\n",
    "print(wb.get_sheet_names())\n",
    "\n",
    "# sheet selected\n",
    "sheet = wb.get_sheet_by_name('Extracted')\n",
    "_df_wilkie = pd.DataFrame(sheet.values)\n",
    "\n",
    "# convert to df\n",
    "df_wilkie = pd.DataFrame(_df_wilkie.iloc[3:, 1])\n",
    "df_wilkie.columns = ['Gene_name']\n",
    "df_wilkie = df_wilkie.reset_index(drop=True)\n",
    "df_wilkie.head()"
   ]
  },
  {
   "cell_type": "code",
   "execution_count": 44,
   "id": "afd89bed-fdd5-4fd0-a561-0d27292c457b",
   "metadata": {},
   "outputs": [],
   "source": [
    "# find UniProt Entry and UniProt-registered gene names\n",
    "for i in range(len(df_wilkie)):\n",
    "    \n",
    "    gene = df_wilkie.iloc[i, 0]\n",
    "    entry_converted, gene_obtained = get_UniProtEntry(gene)\n",
    "    \n",
    "    df_wilkie.loc[i, 'Entry_Wilkie'] = entry_converted\n",
    "    df_wilkie.loc[i, 'Gene_name_obtained'] = gene_obtained\n",
    "    \n",
    "    sleep(1)"
   ]
  },
  {
   "cell_type": "code",
   "execution_count": 48,
   "id": "d5b080a3-2050-4e1c-90b1-15860d10b955",
   "metadata": {},
   "outputs": [],
   "source": [
    "# Clean and export\n",
    "df_wilkie = df_wilkie.drop(['Gene_name'], axis=1)\n",
    "df_wilkie.to_csv('./IntermediateProducts/Wilkie_2010.csv', index=False)"
   ]
  },
  {
   "cell_type": "markdown",
   "id": "daf4ba8d-d09d-4cad-9272-7afaec4b9433",
   "metadata": {},
   "source": [
    "# Schirmer et al 2003: mouse liver"
   ]
  },
  {
   "cell_type": "markdown",
   "id": "06232254-01dc-42b1-bb43-87183aeb1d2f",
   "metadata": {},
   "source": [
    "### See Schirmer2003.ipynb\n",
    "### Output is Schirmer2003/Output.csv"
   ]
  },
  {
   "cell_type": "markdown",
   "id": "2972547a-92b5-4e20-b935-f1247d64ed83",
   "metadata": {},
   "source": [
    "# Korfali et al 2010: Mouse leukocytes"
   ]
  },
  {
   "cell_type": "code",
   "execution_count": 46,
   "id": "1851fe79-b9de-468f-82f8-122b0141780d",
   "metadata": {},
   "outputs": [],
   "source": [
    "# Excel import\n",
    "df_Korfali_2010 = pd.read_excel('./SourceData/Korfali_2010/rk1-139_fromTableS5.xlsx')\n",
    "\n",
    "# Convert to df\n",
    "df_Korfali_2010= pd.DataFrame(df_Korfali_2010.iloc[1:, 1])\n",
    "df_Korfali_2010.columns = ['Gene_name']\n",
    "df_Korfali_2010 = df_Korfali_2010.reset_index(drop=True)"
   ]
  },
  {
   "cell_type": "code",
   "execution_count": 47,
   "id": "6e3d161c-dd4f-41ee-b7c0-34653d5dc865",
   "metadata": {},
   "outputs": [],
   "source": [
    "# Manual inspection and correction of gene names\n",
    "df_Korfali_2010.iloc[15, 0] = 'DHRS7'\n",
    "df_Korfali_2010.iloc[39, 0] = 'NOC2L'\n",
    "df_Korfali_2010.iloc[58, 0] = 'METTL7A'\n",
    "df_Korfali_2010.iloc[104, 0] = 'TMEM189'"
   ]
  },
  {
   "cell_type": "code",
   "execution_count": 48,
   "id": "7b36a2bc-10ed-41e4-b35b-ddfeb258e714",
   "metadata": {},
   "outputs": [
    {
     "name": "stdout",
     "output_type": "stream",
     "text": [
      "0 Q9UH99 SUN2\n",
      "40 Q3LXA3 TKFC\n",
      "80 Q6NXT6 TAPT1\n",
      "120 Q9Y2W6 TDRKH\n"
     ]
    }
   ],
   "source": [
    "# find UniProt Entry and UniProt-registerd gene names\n",
    "for i in range(len(df_Korfali_2010)):\n",
    "    \n",
    "    gene = df_Korfali_2010.iloc[i, 0]\n",
    "    entry_converted, gene_obtained = get_UniProtEntry(gene)\n",
    "    \n",
    "    df_Korfali_2010.loc[i, 'Entry_Korfali_2010'] = entry_converted\n",
    "    df_Korfali_2010.loc[i, 'Gene_name_obtained'] = gene_obtained\n",
    "    \n",
    "    if i % 40 == 0: print(i, entry_converted, gene_obtained)\n",
    "    \n",
    "    sleep(1)"
   ]
  },
  {
   "cell_type": "code",
   "execution_count": 16,
   "id": "1f0209ef-f327-42a8-a7e6-ebd563e2a0fe",
   "metadata": {},
   "outputs": [],
   "source": [
    "# Clean and export\n",
    "df_Korfali_2010 = df_Korfali_2010.drop(['Gene_name'], axis=1)\n",
    "df_Korfali_2010.to_csv('./IntermediateProducts/ProteomePapers/Korfali_2010.csv', index=False)"
   ]
  },
  {
   "cell_type": "markdown",
   "id": "a4745427-84a6-4331-b472-0a6264ae7a73",
   "metadata": {},
   "source": [
    "# Korfali et al 2012: "
   ]
  },
  {
   "cell_type": "code",
   "execution_count": 57,
   "id": "80decb81-feac-41f8-8849-2ea542c5118b",
   "metadata": {},
   "outputs": [],
   "source": [
    "# S4 was extracted beforehand to a single file because the whole xlsx is extremely heavy\n",
    "df_Korfali_2012 = pd.read_excel('./SourceData/Korfali_2012/2012NUCLEUS0047R-SupTables_S4.xlsx')"
   ]
  },
  {
   "cell_type": "code",
   "execution_count": 58,
   "id": "05bbf613-1c44-4675-bbc7-5a54b9ce4290",
   "metadata": {},
   "outputs": [
    {
     "data": {
      "text/plain": [
       "Table S4. Summary of NETs directly analyzed                  tissue\n",
       "Unnamed: 1                                                gene name\n",
       "Unnamed: 2                                          alternate names\n",
       "Unnamed: 3                                        accession numbers\n",
       "Unnamed: 17                                    NE:MM ratio by dNSAF\n",
       "Unnamed: 18                                               reference\n",
       "Name: 1, dtype: object"
      ]
     },
     "execution_count": 58,
     "metadata": {},
     "output_type": "execute_result"
    }
   ],
   "source": [
    "# prepare column names\n",
    "columns = df_Korfali_2012.iloc[1,[0,1,2,3,17,18]]\n",
    "columns"
   ]
  },
  {
   "cell_type": "code",
   "execution_count": 53,
   "id": "6b36fa74-0fa7-4e50-aba0-d79b1a7593d1",
   "metadata": {
    "tags": []
   },
   "outputs": [],
   "source": [
    "# Extract necessary cells\n",
    "df_Korfali_2012 = df_Korfali_2012.iloc[2:136,[0,1,2,3,17,18]]\n",
    "\n",
    "# rename the columns\n",
    "df_Korfali_2012.columns = columns\n",
    "\n",
    "# Fill in tissue data\n",
    "df_Korfali_2012['tissue'] = df_Korfali_2012['tissue'].fillna(method='ffill')\n",
    "df_Korfali_2012 = df_Korfali_2012.dropna(axis=0)\n",
    "\n",
    "# Reindex\n",
    "df_Korfali_2012 = df_Korfali_2012.reset_index(drop=True)"
   ]
  },
  {
   "cell_type": "code",
   "execution_count": 55,
   "id": "afeaee78-3304-4852-b39b-44bd68821861",
   "metadata": {},
   "outputs": [
    {
     "name": "stdout",
     "output_type": "stream",
     "text": [
      "The number of genes:  119\n"
     ]
    }
   ],
   "source": [
    "print(\"The number of genes: \", len(list(df_Korfali_2012['gene name'].unique())))"
   ]
  },
  {
   "cell_type": "code",
   "execution_count": 27,
   "id": "15a797a3-828b-47e1-8261-4fd438f9c531",
   "metadata": {},
   "outputs": [],
   "source": [
    "# Manual inspection and correction of gene names\n",
    "# #15 should be SLC22A24\n",
    "# #18 contains two names and only the latter VMA21 is needed\n",
    "# #47 should be MARCH5\n",
    "df_Korfali_2012.iloc[14, 1] = 'SLC22A24'\n",
    "df_Korfali_2012.iloc[18, 1] = 'VMA21'\n",
    "df_Korfali_2012.iloc[47, 1] = 'MARCH5'\n",
    "df_Korfali_2012.iloc[97, 1] = 'ATL3'"
   ]
  },
  {
   "cell_type": "code",
   "execution_count": 28,
   "id": "b65d2441-67b5-4ff4-b755-f6aebefedf12",
   "metadata": {},
   "outputs": [],
   "source": [
    "# select columns\n",
    "df_Korfali_2012 = df_Korfali_2012[['tissue', 'gene name', 'NE:MM ratio by dNSAF']]"
   ]
  },
  {
   "cell_type": "code",
   "execution_count": 29,
   "id": "d07d87dc-28df-493a-bd8a-c78e0672873d",
   "metadata": {},
   "outputs": [],
   "source": [
    "# find Uniprot Entry and UniProt-registered gene names\n",
    "for i in range(len(df_Korfali_2012)):\n",
    "    \n",
    "    gene = df_Korfali_2012.iloc[i, 1]\n",
    "    entry_converted, gene_obtained = get_UniProtEntry(gene)\n",
    "    \n",
    "    df_Korfali_2012.loc[i, 'Entry_Korfali_2012'] = entry_converted\n",
    "    df_Korfali_2012.loc[i, 'Gene_name_obtained'] = gene_obtained\n",
    "    \n",
    "    sleep(1)"
   ]
  },
  {
   "cell_type": "code",
   "execution_count": 32,
   "id": "b9414fec-7a35-41a8-ba9f-a7899310f685",
   "metadata": {},
   "outputs": [],
   "source": [
    "# Clean and export\n",
    "df = df.drop(columns=['Gene_name_obtained'], axis=1)\n",
    "df.to_csv('./IntermediateProducts/ProteomePapers/Korfali_2012.csv', index=False)"
   ]
  }
 ],
 "metadata": {
  "kernelspec": {
   "display_name": "Python 3 (ipykernel)",
   "language": "python",
   "name": "python3"
  },
  "language_info": {
   "codemirror_mode": {
    "name": "ipython",
    "version": 3
   },
   "file_extension": ".py",
   "mimetype": "text/x-python",
   "name": "python",
   "nbconvert_exporter": "python",
   "pygments_lexer": "ipython3",
   "version": "3.11.3"
  }
 },
 "nbformat": 4,
 "nbformat_minor": 5
}
