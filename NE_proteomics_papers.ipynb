{
 "cells": [
  {
   "cell_type": "code",
   "execution_count": 1,
   "id": "f2b43cc9-f745-4e14-931f-ecc8bf24658b",
   "metadata": {},
   "outputs": [],
   "source": [
    "import os, re, requests, json, openpyxl, warnings\n",
    "import numpy as np\n",
    "import pandas as pd\n",
    "from urllib.request import urlopen\n",
    "from time import sleep\n",
    "\n",
    "warnings.filterwarnings('ignore')"
   ]
  },
  {
   "cell_type": "code",
   "execution_count": 2,
   "id": "e0902934-01f7-405a-bd9e-b3e8ffc837b5",
   "metadata": {},
   "outputs": [],
   "source": [
    "def get_url(url, **kwargs):\n",
    "    '''\n",
    "    Obatin a response from a given url\n",
    "    '''\n",
    "    response = requests.get(url, **kwargs);\n",
    "\n",
    "    if not response.ok:\n",
    "        print(response.text)\n",
    "        response.raise_for_status()\n",
    "        sys.exit()\n",
    "\n",
    "    return response"
   ]
  },
  {
   "cell_type": "markdown",
   "id": "dbbed579-6f68-4461-9bfb-7992aa846393",
   "metadata": {},
   "source": [
    "# Wilkie et al 2010: Rat skeletal muscle"
   ]
  },
  {
   "cell_type": "code",
   "execution_count": 20,
   "id": "6382f45f-e6eb-4193-9ceb-f5053b1facdd",
   "metadata": {},
   "outputs": [
    {
     "name": "stdout",
     "output_type": "stream",
     "text": [
      "['Table 1', 'Extracted']\n"
     ]
    },
    {
     "name": "stderr",
     "output_type": "stream",
     "text": [
      "<ipython-input-20-ad279f51e5a2>:2: DeprecationWarning: Call to deprecated function get_sheet_names (Use wb.sheetnames).\n",
      "  print(wb.get_sheet_names())\n",
      "<ipython-input-20-ad279f51e5a2>:4: DeprecationWarning: Call to deprecated function get_sheet_by_name (Use wb[sheetname]).\n",
      "  sheet = wb.get_sheet_by_name('Extracted')\n"
     ]
    }
   ],
   "source": [
    "# Excel import\n",
    "wb = openpyxl.load_workbook('./SourceData/Wilkie_2010/mcp.M110.003129-6.xlsx')\n",
    "print(wb.get_sheet_names())\n",
    "\n",
    "# sheet selected\n",
    "sheet = wb.get_sheet_by_name('Extracted')\n",
    "_df_wilkie = pd.DataFrame(sheet.values)\n",
    "\n",
    "# convert to df\n",
    "df_wilkie = pd.DataFrame(_df_wilkie.iloc[3:, 1])\n",
    "df_wilkie.columns = ['Gene_name']\n",
    "df_wilkie = df_wilkie.reset_index(drop=True)\n",
    "df_wilkie"
   ]
  },
  {
   "cell_type": "code",
   "execution_count": 42,
   "id": "afd89bed-fdd5-4fd0-a561-0d27292c457b",
   "metadata": {},
   "outputs": [],
   "source": [
    "# uniprot API URL\n",
    "WEBSITE_API = \"https://rest.uniprot.org/uniprotkb/\"\n",
    "\n",
    "# organism id\n",
    "organism_id_list = {'Homo sapiens': '9606', 'Mus musculus': '10090'}\n",
    "organism_id = organism_id_list['Homo sapiens']\n",
    "\n",
    "# find Uniprot Entry and gene names for each gene\n",
    "for i in range(len(df_wilkie)):\n",
    "    \n",
    "    # gene name\n",
    "    gene = df_wilkie.iloc[i, 0]\n",
    "\n",
    "    try:\n",
    "        # get response with gene name the query\n",
    "        r = get_url(f'{WEBSITE_API}/search?query=gene:{gene}+AND+organism_id:{organism_id}&fields=accession,gene_names')\n",
    "        result = r.json()['results'][0]\n",
    "        \n",
    "        ## get human or mouse entry\n",
    "        entry_converted = result['primaryAccession']\n",
    "        ## get gene name and check the names match between human's or mouse's and the given organism's\n",
    "        gene_obtained = result['genes'][0]['geneName']['value']\n",
    "    \n",
    "    except:\n",
    "        entry_converted = 'Not_found'\n",
    "    \n",
    "    # Put the obtained Entry and gene name\n",
    "    df_wilkie.loc[i, 'Entry_Wilkie'] = entry_converted\n",
    "    df_wilkie.loc[i, 'Gene_name_obtained'] = gene_obtained\n",
    "    \n",
    "    # take a break and go next\n",
    "    sleep(1)"
   ]
  },
  {
   "cell_type": "code",
   "execution_count": 46,
   "id": "6a8eacc9-94ef-40f2-a70a-640841e9cc83",
   "metadata": {},
   "outputs": [],
   "source": [
    "# Manually check the result\n",
    "# df_wilkie.head(n=50)\n",
    "# df_wilkie.tail(n=50)"
   ]
  },
  {
   "cell_type": "code",
   "execution_count": 47,
   "id": "9f9e54a0-9fde-4852-b0a8-ebd13bd9f663",
   "metadata": {},
   "outputs": [],
   "source": [
    "df_wilkie = df_wilkie.drop(['Gene_name'], axis=1)"
   ]
  },
  {
   "cell_type": "code",
   "execution_count": 48,
   "id": "cd35690e-6f1e-41e4-bc39-7b14bd5bd2c0",
   "metadata": {},
   "outputs": [],
   "source": [
    "df_wilkie.to_csv('./IntermediateProducts/Wilkie_2010.csv', index=False)"
   ]
  },
  {
   "cell_type": "markdown",
   "id": "daf4ba8d-d09d-4cad-9272-7afaec4b9433",
   "metadata": {},
   "source": [
    "# Schirmer et al 2003: mouse liver"
   ]
  },
  {
   "cell_type": "markdown",
   "id": "06232254-01dc-42b1-bb43-87183aeb1d2f",
   "metadata": {},
   "source": [
    "### See Schirmer2003.ipynb\n",
    "### Output is Schirmer2003/Output.csv"
   ]
  },
  {
   "cell_type": "markdown",
   "id": "2972547a-92b5-4e20-b935-f1247d64ed83",
   "metadata": {},
   "source": [
    "# Korfali et al 2010: Mouse leukocytes"
   ]
  },
  {
   "cell_type": "code",
   "execution_count": 21,
   "id": "1851fe79-b9de-468f-82f8-122b0141780d",
   "metadata": {},
   "outputs": [],
   "source": [
    "# Excel import\n",
    "df_Korfali_2010 = pd.read_excel('./SourceData/Korfali_2010/rk1-139_fromTableS5.xlsx')\n",
    "\n",
    "# convert to df\n",
    "df_Korfali_2010= pd.DataFrame(df_Korfali_2010.iloc[1:, 1])\n",
    "df_Korfali_2010.columns = ['Gene_name']\n",
    "df_Korfali_2010 = df_Korfali_2010.reset_index(drop=True)"
   ]
  },
  {
   "cell_type": "code",
   "execution_count": 22,
   "id": "6e3d161c-dd4f-41ee-b7c0-34653d5dc865",
   "metadata": {},
   "outputs": [],
   "source": [
    "# Manual inspection and correction\n",
    "df_Korfali_2010.iloc[15, 0] = 'DHRS7'\n",
    "df_Korfali_2010.iloc[39, 0] = 'NOC2L'"
   ]
  },
  {
   "cell_type": "code",
   "execution_count": 23,
   "id": "7b36a2bc-10ed-41e4-b35b-ddfeb258e714",
   "metadata": {},
   "outputs": [
    {
     "name": "stdout",
     "output_type": "stream",
     "text": [
      "0 Q9UH99 SUN2\n",
      "40 Q3LXA3 TKFC\n",
      "80 Q6NXT6 TAPT1\n",
      "120 Q9Y2W6 TDRKH\n"
     ]
    }
   ],
   "source": [
    "# uniprot API URL\n",
    "WEBSITE_API = \"https://rest.uniprot.org/uniprotkb/\"\n",
    "\n",
    "# organism id\n",
    "organism_id_list = {'Homo sapiens': '9606', 'Mus musculus': '10090'}\n",
    "organism_id = organism_id_list['Homo sapiens']\n",
    "\n",
    "# find Uniprot Entry and gene names for each gene\n",
    "for i in range(len(df_Korfali_2010)):\n",
    "    \n",
    "    # gene name\n",
    "    gene = df_Korfali_2010.iloc[i, 0]\n",
    "\n",
    "    try:\n",
    "        # get response with gene name the query\n",
    "        r = get_url(f'{WEBSITE_API}/search?query=gene:{gene}+AND+organism_id:{organism_id}&fields=accession,gene_names')\n",
    "        result = r.json()['results'][0]\n",
    "        \n",
    "        ## get human or mouse entry\n",
    "        entry_converted = result['primaryAccession']\n",
    "        ## get gene name and check the names match between human's or mouse's and the given organism's\n",
    "        gene_obtained = result['genes'][0]['geneName']['value']\n",
    "    \n",
    "    except:\n",
    "        entry_converted = 'Not_found'\n",
    "    \n",
    "    # Put the obtained Entry and gene name\n",
    "    df_Korfali_2010.loc[i, 'Entry_Korfali_2010'] = entry_converted\n",
    "    df_Korfali_2010.loc[i, 'Gene_name_obtained'] = gene_obtained\n",
    "    \n",
    "    if i % 40 == 0: print(i, entry_converted, gene_obtained)\n",
    "    \n",
    "    # take a break and go next\n",
    "    sleep(1)"
   ]
  },
  {
   "cell_type": "code",
   "execution_count": 28,
   "id": "5d884c88-13c0-4282-9210-172bb2a5c922",
   "metadata": {},
   "outputs": [],
   "source": [
    "# # Manually check the result\n",
    "# df_Korfali_2010.head(n=50)\n",
    "# # df_Korfali_2010.tail(n=50)"
   ]
  },
  {
   "cell_type": "code",
   "execution_count": 26,
   "id": "c32c75b9-4e7c-4b3e-8632-199f15a67cea",
   "metadata": {},
   "outputs": [],
   "source": [
    "df_Korfali_2010 = df_Korfali_2010.drop(['Gene_name'], axis=1)"
   ]
  },
  {
   "cell_type": "code",
   "execution_count": 27,
   "id": "518c8bc5-6724-4ecc-b491-3d5c4d511ac2",
   "metadata": {},
   "outputs": [],
   "source": [
    "df_Korfali_2010.to_csv('./IntermediateProducts/Korfali_2010.csv', index=False)"
   ]
  },
  {
   "cell_type": "markdown",
   "id": "a4745427-84a6-4331-b472-0a6264ae7a73",
   "metadata": {},
   "source": [
    "# Korfali et al 2012: "
   ]
  },
  {
   "cell_type": "code",
   "execution_count": 22,
   "id": "80decb81-feac-41f8-8849-2ea542c5118b",
   "metadata": {},
   "outputs": [],
   "source": [
    "# S4 was extracted beforehand to a single file because the whole xlsx is extremely heavy\n",
    "df = pd.read_excel('./SourceData/Korfali_2012/2012NUCLEUS0047R-SupTables_S4.xlsx')"
   ]
  },
  {
   "cell_type": "code",
   "execution_count": 23,
   "id": "05bbf613-1c44-4675-bbc7-5a54b9ce4290",
   "metadata": {},
   "outputs": [
    {
     "data": {
      "text/plain": [
       "Table S4. Summary of NETs directly analyzed                  tissue\n",
       "Unnamed: 1                                                gene name\n",
       "Unnamed: 2                                          alternate names\n",
       "Unnamed: 3                                        accession numbers\n",
       "Unnamed: 17                                    NE:MM ratio by dNSAF\n",
       "Unnamed: 18                                               reference\n",
       "Name: 1, dtype: object"
      ]
     },
     "execution_count": 23,
     "metadata": {},
     "output_type": "execute_result"
    }
   ],
   "source": [
    "# prepare column names\n",
    "columns = df.iloc[1,[0,1,2,3,17,18]]\n",
    "columns"
   ]
  },
  {
   "cell_type": "code",
   "execution_count": 24,
   "id": "03b05796-c5db-4abc-8774-9a721860601b",
   "metadata": {
    "tags": []
   },
   "outputs": [],
   "source": [
    "# Extract necessary cells\n",
    "df = df.iloc[2:136,[0,1,2,3,17,18]]"
   ]
  },
  {
   "cell_type": "code",
   "execution_count": 25,
   "id": "bbc277ed-97c9-4882-b289-27728df32238",
   "metadata": {
    "tags": []
   },
   "outputs": [],
   "source": [
    "# rename the columns\n",
    "df.columns = columns\n",
    "\n",
    "# Fill in tissue data\n",
    "df['tissue'] = df['tissue'].fillna(method='ffill')\n",
    "df = df.dropna(axis=0)\n",
    "\n",
    "# Reindex\n",
    "df = df.reset_index(drop=True)"
   ]
  },
  {
   "cell_type": "markdown",
   "id": "2fc19f11-a079-4740-aebe-8dc59de1ea81",
   "metadata": {},
   "source": [
    "#### How many genes?"
   ]
  },
  {
   "cell_type": "code",
   "execution_count": 26,
   "id": "afeaee78-3304-4852-b39b-44bd68821861",
   "metadata": {},
   "outputs": [
    {
     "data": {
      "text/plain": [
       "119"
      ]
     },
     "execution_count": 26,
     "metadata": {},
     "output_type": "execute_result"
    }
   ],
   "source": [
    "len(list(df['gene name'].unique()))"
   ]
  },
  {
   "cell_type": "code",
   "execution_count": 27,
   "id": "15a797a3-828b-47e1-8261-4fd438f9c531",
   "metadata": {},
   "outputs": [],
   "source": [
    "# #15 should be SLC22A24\n",
    "# #18 contains two names and only the latter VMA21 is needed\n",
    "# #47 should be MARCH5\n",
    "df.iloc[14, 1] = 'SLC22A24'\n",
    "df.iloc[18, 1] = 'VMA21'\n",
    "df.iloc[47, 1] = 'MARCH5'\n",
    "df.iloc[97, 1] = 'ATL3'"
   ]
  },
  {
   "cell_type": "code",
   "execution_count": 28,
   "id": "b65d2441-67b5-4ff4-b755-f6aebefedf12",
   "metadata": {},
   "outputs": [],
   "source": [
    "# print(df.columns)\n",
    "\n",
    "# select columns\n",
    "df = df[['tissue', 'gene name', 'NE:MM ratio by dNSAF']]"
   ]
  },
  {
   "cell_type": "code",
   "execution_count": 29,
   "id": "d07d87dc-28df-493a-bd8a-c78e0672873d",
   "metadata": {},
   "outputs": [],
   "source": [
    "# uniprot API URL\n",
    "WEBSITE_API = \"https://rest.uniprot.org/uniprotkb/\"\n",
    "\n",
    "# organism id\n",
    "organism_id_list = {'Homo sapiens': '9606', 'Mus musculus': '10090'}\n",
    "organism_id = organism_id_list['Homo sapiens']\n",
    "\n",
    "# find Uniprot Entry and gene names for each gene\n",
    "for i in range(len(df)):\n",
    "    \n",
    "    # gene name\n",
    "    gene = df.iloc[i, 1]\n",
    "\n",
    "    try:\n",
    "        # get response with gene name the query\n",
    "        r = get_url(f'{WEBSITE_API}/search?query=gene:{gene}+AND+organism_id:{organism_id}&fields=accession,gene_names')\n",
    "        result = r.json()['results'][0]\n",
    "        \n",
    "        ## get human or mouse entry\n",
    "        entry_converted = result['primaryAccession']\n",
    "        ## get gene name and check the names match between human's or mouse's and the given organism's\n",
    "        gene_obtained = result['genes'][0]['geneName']['value']\n",
    "    \n",
    "    except:\n",
    "        entry_converted = 'Not_found'\n",
    "    \n",
    "    # Put the obtained Entry and gene name\n",
    "    df.loc[i, 'Entry_Korfali_2012'] = entry_converted\n",
    "    df.loc[i, 'Gene_name_obtained'] = gene_obtained\n",
    "    \n",
    "    # take a break and go next\n",
    "    sleep(1)"
   ]
  },
  {
   "cell_type": "code",
   "execution_count": 31,
   "id": "f753fc2e-23da-41f8-96d6-7c99306a6a77",
   "metadata": {},
   "outputs": [],
   "source": [
    "# drop gene name obtained\n",
    "df = df.drop(columns=['Gene_name_obtained'], axis=1)"
   ]
  },
  {
   "cell_type": "code",
   "execution_count": 32,
   "id": "daad6fb7-7103-4e94-b48f-ca275181462b",
   "metadata": {},
   "outputs": [],
   "source": [
    "# Export\n",
    "df.to_csv('./IntermediateProducts/ProteomePapers/Korfali_2012.csv', index=False)"
   ]
  },
  {
   "cell_type": "code",
   "execution_count": null,
   "id": "c179a60d-9751-4621-bfa5-6c6941b114cd",
   "metadata": {},
   "outputs": [],
   "source": []
  }
 ],
 "metadata": {
  "kernelspec": {
   "display_name": "Python 3",
   "language": "python",
   "name": "python3"
  },
  "language_info": {
   "codemirror_mode": {
    "name": "ipython",
    "version": 3
   },
   "file_extension": ".py",
   "mimetype": "text/x-python",
   "name": "python",
   "nbconvert_exporter": "python",
   "pygments_lexer": "ipython3",
   "version": "3.8.8"
  }
 },
 "nbformat": 4,
 "nbformat_minor": 5
}
