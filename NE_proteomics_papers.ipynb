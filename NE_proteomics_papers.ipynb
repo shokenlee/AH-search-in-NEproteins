{
 "cells": [
  {
   "cell_type": "markdown",
   "id": "5b2f52ea-ab33-48b7-8f3b-bebbad13f816",
   "metadata": {},
   "source": [
    "### This notebook contains the script that was used for allocating Uniprot ID to the NE proteins reported in the 4 proteome papers:\n",
    "### Schirmer et al. 2003; Korfali et al. 2010, 2012; Wilkie et al. 2012\n",
    "### Some processes such as information extraction from the original source table and NCBI ID conversion were performed outside this script"
   ]
  },
  {
   "cell_type": "code",
   "execution_count": 38,
   "id": "f2b43cc9-f745-4e14-931f-ecc8bf24658b",
   "metadata": {},
   "outputs": [],
   "source": [
    "import os, re, requests, json, openpyxl, warnings, importlib\n",
    "import PyPDF2\n",
    "import numpy as np\n",
    "import pandas as pd\n",
    "from urllib.request import urlopen\n",
    "from time import sleep\n",
    "\n",
    "from my_utils import *\n",
    "\n",
    "warnings.filterwarnings('ignore')"
   ]
  },
  {
   "cell_type": "markdown",
   "id": "2fb8c333-25b6-42d7-9ad1-3132432bea14",
   "metadata": {},
   "source": [
    "# Schirmer et al 2003: mouse liver"
   ]
  },
  {
   "cell_type": "markdown",
   "id": "6bbe4af0-1458-4056-8ba4-0fbe4cc59bc9",
   "metadata": {},
   "source": [
    "## 1. Import the orginal data file PDF"
   ]
  },
  {
   "cell_type": "code",
   "execution_count": 2,
   "id": "f1342cdb-95b0-4e13-ab84-71215cd5143c",
   "metadata": {},
   "outputs": [],
   "source": [
    "directory = './SourceData/Schirmer2003/'\n",
    "filename = 'schirmer.som.table_S8.pdf'\n",
    "pdf = open(directory + filename, 'rb')"
   ]
  },
  {
   "cell_type": "markdown",
   "id": "d58e2e8c-1cbd-4416-abf5-3c9e306b3643",
   "metadata": {},
   "source": [
    "## 2. Read the pdf and extract the whole text"
   ]
  },
  {
   "cell_type": "code",
   "execution_count": 3,
   "id": "9b534208-65fe-4604-ba54-fb07a47fb374",
   "metadata": {},
   "outputs": [
    {
     "data": {
      "text/plain": [
       "15"
      ]
     },
     "execution_count": 3,
     "metadata": {},
     "output_type": "execute_result"
    }
   ],
   "source": [
    "pdf_reader = PyPDF2.PdfFileReader(pdf)\n",
    "pdf_reader.numPages"
   ]
  },
  {
   "cell_type": "code",
   "execution_count": 4,
   "id": "a52a7362-6bb5-431a-8e42-4bf20770207e",
   "metadata": {},
   "outputs": [],
   "source": [
    "whole_txt = ''\n",
    "for page_num in range(pdf_reader.numPages):\n",
    "    pdf_page = pdf_reader.getPage(page_num)\n",
    "    pdf_page_txt = pdf_page.extractText()\n",
    "    whole_txt += pdf_page_txt"
   ]
  },
  {
   "cell_type": "markdown",
   "id": "565f6eba-8eb4-4668-9348-283330b96eed",
   "metadata": {},
   "source": [
    "## 3. Extract NCBI IDs by regex"
   ]
  },
  {
   "cell_type": "code",
   "execution_count": 13,
   "id": "affc3952-cddd-4eb7-a0ab-1efba1a55bf1",
   "metadata": {},
   "outputs": [],
   "source": [
    "# put ref| as a marker of where id is\n",
    "# Either NP or XP is used\n",
    "# version number e.g. \".1\" can be absent by putting ?\n",
    "\n",
    "# this is the intitial regex that inculdes the version number\n",
    "# but realized that inclusion of the version number could hamper ID conversion to Uniprot ID\n",
    "# regex = re.compile(r'(ref\\|)(NP_\\d+\\.?\\d?|XP_\\d+\\.?\\d?)')\n",
    "\n",
    "# therefore instead extracted only the main body without the version number\n",
    "regex = re.compile(r'(ref\\|)(NP_\\d+|XP_\\d+)')"
   ]
  },
  {
   "cell_type": "code",
   "execution_count": 14,
   "id": "7c51b922-e9e2-47b6-a811-73322b204442",
   "metadata": {},
   "outputs": [],
   "source": [
    "# Using regex, extract the IDs from the text and put them to a list\n",
    "ncbi_id_list = []\n",
    "for groups in regex.findall(whole_txt):\n",
    "    ncbi_id = groups[1]\n",
    "    ncbi_id_list.append(ncbi_id)"
   ]
  },
  {
   "cell_type": "code",
   "execution_count": 15,
   "id": "85d39a16-626e-4e01-97fe-1a9a37d686a5",
   "metadata": {},
   "outputs": [
    {
     "data": {
      "text/plain": [
       "109"
      ]
     },
     "execution_count": 15,
     "metadata": {},
     "output_type": "execute_result"
    }
   ],
   "source": [
    "len(ncbi_id_list)"
   ]
  },
  {
   "cell_type": "code",
   "execution_count": 8,
   "id": "629e15c5-085e-434c-9cbb-398a6d7211cd",
   "metadata": {},
   "outputs": [
    {
     "data": {
      "text/plain": [
       "110"
      ]
     },
     "execution_count": 8,
     "metadata": {},
     "output_type": "execute_result"
    }
   ],
   "source": [
    "# below to make sure the number of ids is correct\n",
    "# split the text to each gene desription using \">gi\" as a sign\n",
    "whole_list = whole_txt.replace('\\n', '').split('>gi')\n",
    "len(whole_list)"
   ]
  },
  {
   "cell_type": "markdown",
   "id": "4afb9549-aa8d-495c-9e0c-33639c1abe6d",
   "metadata": {},
   "source": [
    "#### As seen below the first in the \"whole_list\" is not a protein record. Thus 109 is correct"
   ]
  },
  {
   "cell_type": "code",
   "execution_count": 9,
   "id": "3084d1e6-1a81-4c6b-9137-dc36cb98a320",
   "metadata": {},
   "outputs": [
    {
     "data": {
      "text/plain": [
       "['Table S8. Amino acid sequences of the putative nuclear transmembrane proteins in fasta format',\n",
       " '|7661996|ref|NP_055688.1| KIAA0205 gene product [Homo sapiens]MAITLEEAPWLGWLLVKALMRFAFMVVNNLVAIPSYICYVIILQPLRVLDSKRFWYIEGIMYKWLLGMVASWGWYAGYTVMEWGEDIKAVSKDEAVMLVNHQATGDVCTLMMCLQDKGLVVAQMMWLMDHIFKYTNFGIVSLVHGDFFIRQGRSYRDQQLLLLKKHLENNYRSRDRKWIVLFPEGGFLRKRRETSQAFAKKNNLPFLTNVTLPRSGATKIILNALVAQQKNGSPAGGDAKELDSKSKGLQWIIDTTIAYPKAEPIDIQTWILGYRKPTVTHVHYRIFPIKDVPLETDDLTTWLYQRFVEKEDLLSHFYETGAFPPSKGHKEAVSREMTLSNLWIFLIQSFAFLSGYMWYNIIQYFYHCLF']"
      ]
     },
     "execution_count": 9,
     "metadata": {},
     "output_type": "execute_result"
    }
   ],
   "source": [
    "whole_list[:2]"
   ]
  },
  {
   "cell_type": "markdown",
   "id": "64cce667-0865-4552-afee-522d45fbde7a",
   "metadata": {},
   "source": [
    "## 4. Translate the NCBI list to Uniprot ID"
   ]
  },
  {
   "cell_type": "code",
   "execution_count": 17,
   "id": "9b8bc94c-185b-4823-a0d0-34537efc17e9",
   "metadata": {},
   "outputs": [
    {
     "data": {
      "text/plain": [
       "'NP_055688 NP_056473 NP_057086 NP_060531 NP_060557 NP_659471 NP_060221 XP_087089 NP_061900 XP_298567 NP_057688 NP_061891 XP_166338 NP_116231 XP_291222 NP_116117 NP_775961 NP_056348 NP_775857 NP_060634 NP_009107 XP_027330 NP_056158 NP_060640 XP_292696 NP_067038 XP_129726 XP_129627 XP_129651 NP_766431 XP_130243 XP_130605 NP_694766 XP_131120 XP_131247 XP_283952 XP_149561 NP_064382 NP_082631 NP_081113 NP_083003 NP_067278 XP_110572 NP_705798 NP_084313 XP_194313 XP_285910 NP_620096 XP_163618 NP_080922 XP_150109 NP_705820 NP_080950 XP_125636 XP_137321 XP_125972 NP_080293 NP_081625 NP_067421 NP_766088 XP_127498 NP_079663 NP_083179 NP_666167 XP_127968 XP_128377 NP_084221 NP_666084 XP_128762 NP_080446 NP_666187 XP_128954 NP_659110 XP_129087 NP_663471 NP_766428 XP_219484 XP_226713 XP_226886 XP_227591 XP_230334 XP_230798 XP_231194 XP_231568 XP_232987 XP_233684 XP_233702 XP_233726 XP_234304 XP_216756 XP_234559 XP_234768 XP_234929 XP_235233 XP_235527 XP_243957 XP_213272 XP_213339 XP_221193 XP_221266 XP_221669 XP_213738 XP_222761 XP_223077 XP_224299 XP_224332 XP_214598 XP_226578 XP_228902'"
      ]
     },
     "execution_count": 17,
     "metadata": {},
     "output_type": "execute_result"
    }
   ],
   "source": [
    "' '.join(ncbi_id_list)"
   ]
  },
  {
   "cell_type": "markdown",
   "id": "96fdc4a6-01c0-4d5e-963d-672ab891292f",
   "metadata": {},
   "source": [
    "#### Copied above and coverted them to Uniprot ID on Retrieve/ID mapping (3/20/22)\n",
    "#### Obtained mapped and unmapped IDs, each of which saved as a XLSX or CSV"
   ]
  },
  {
   "cell_type": "code",
   "execution_count": 5,
   "id": "e20cab7a-bb36-479c-8177-4c23259bac28",
   "metadata": {},
   "outputs": [],
   "source": [
    "df_mapped = pd.read_excel('./SourceData/Schirmer2003/Mapped.xlsx')\n",
    "df_unmapped = pd.read_csv('./SourceData/Schirmer2003/Unmapped.csv')"
   ]
  },
  {
   "cell_type": "code",
   "execution_count": 6,
   "id": "1d527a16-3d5b-43d7-a6a1-d374a019cf54",
   "metadata": {
    "tags": []
   },
   "outputs": [
    {
     "name": "stdout",
     "output_type": "stream",
     "text": [
      "<class 'pandas.core.frame.DataFrame'>\n",
      "RangeIndex: 62 entries, 0 to 61\n",
      "Data columns (total 7 columns):\n",
      " #   Column                                                     Non-Null Count  Dtype \n",
      "---  ------                                                     --------------  ----- \n",
      " 0   yourlist:M202203204ABAA9BC7178C81CEBC9459510EDDEA346CE44X  62 non-null     object\n",
      " 1   isomap:M202203204ABAA9BC7178C81CEBC9459510EDDEA346CE44X    19 non-null     object\n",
      " 2   Entry                                                      62 non-null     object\n",
      " 3   Entry name                                                 62 non-null     object\n",
      " 4   Protein names                                              62 non-null     object\n",
      " 5   Gene names                                                 58 non-null     object\n",
      " 6   Organism                                                   62 non-null     object\n",
      "dtypes: object(7)\n",
      "memory usage: 3.5+ KB\n"
     ]
    }
   ],
   "source": [
    "df_mapped.info()"
   ]
  },
  {
   "cell_type": "code",
   "execution_count": 7,
   "id": "587b6fc4-5c84-4600-acaf-3bb10a36c5d8",
   "metadata": {
    "tags": []
   },
   "outputs": [
    {
     "name": "stdout",
     "output_type": "stream",
     "text": [
      "<class 'pandas.core.frame.DataFrame'>\n",
      "RangeIndex: 61 entries, 0 to 60\n",
      "Data columns (total 1 columns):\n",
      " #   Column      Non-Null Count  Dtype \n",
      "---  ------      --------------  ----- \n",
      " 0   not mapped  61 non-null     object\n",
      "dtypes: object(1)\n",
      "memory usage: 620.0+ bytes\n"
     ]
    }
   ],
   "source": [
    "df_unmapped.info()"
   ]
  },
  {
   "cell_type": "markdown",
   "id": "26773524-356d-43e9-8310-3697262b89a7",
   "metadata": {},
   "source": [
    "#### Quick check of what the unmapped ids look like"
   ]
  },
  {
   "cell_type": "code",
   "execution_count": 28,
   "id": "1004e884-0a91-4c9c-a602-a45b020c34a1",
   "metadata": {},
   "outputs": [
    {
     "data": {
      "text/plain": [
       "['XP_166338',\n",
       " 'XP_291222',\n",
       " 'XP_027330',\n",
       " 'XP_292696',\n",
       " 'XP_129726',\n",
       " 'XP_129627',\n",
       " 'XP_129651',\n",
       " 'XP_130243']"
      ]
     },
     "execution_count": 28,
     "metadata": {},
     "output_type": "execute_result"
    }
   ],
   "source": [
    "unmapped_ncbi_ids = list(df_unmapped['not mapped'])\n",
    "unmapped_ncbi_ids[2:10]"
   ]
  },
  {
   "cell_type": "markdown",
   "id": "2487c204-eeca-4392-a135-9c5acd2ebc5f",
   "metadata": {},
   "source": [
    "#### It seems like unmapped IDs are 'obsolete' on NCBI (3/20/22)\n",
    "#### Thus for now it seems unproductive to further look into this list\n",
    "#### This could mean the number of the NE proteins found here ends up with far less than 67 as proposed by the paper\n",
    "#### After all it has been 19 years since then...."
   ]
  },
  {
   "cell_type": "markdown",
   "id": "5a3a3a0d-fca1-4351-bc8d-0a8b55af27ac",
   "metadata": {},
   "source": [
    "#### Let us shift gears and focus on mapped IDs"
   ]
  },
  {
   "cell_type": "code",
   "execution_count": 8,
   "id": "bfca60cf-fdca-42cc-a262-7b222d3b1dd5",
   "metadata": {},
   "outputs": [],
   "source": [
    "# drop the unnecessary column\n",
    "df_mapped = df_mapped.drop(['isomap:M202203204ABAA9BC7178C81CEBC9459510EDDEA346CE44X'], axis=1)\n",
    "\n",
    "# rename to NCBI ID\n",
    "df_mapped = df_mapped.rename(columns={'yourlist:M202203204ABAA9BC7178C81CEBC9459510EDDEA346CE44X': 'NCBI ID'})\n",
    "\n",
    "# remove duplicate\n",
    "# Entry or Uniprot ID turns out to have no duplicate\n",
    "# df_mapped_unique = df_mapped.drop_duplicates(subset=['Entry'])\n",
    "df_mapped_unique = df_mapped.drop_duplicates(subset=['Protein names'])"
   ]
  },
  {
   "cell_type": "code",
   "execution_count": 9,
   "id": "6f08fbba-ea3d-4796-be38-f4ac5b726fe5",
   "metadata": {},
   "outputs": [
    {
     "name": "stdout",
     "output_type": "stream",
     "text": [
      "<class 'pandas.core.frame.DataFrame'>\n",
      "Int64Index: 56 entries, 0 to 61\n",
      "Data columns (total 6 columns):\n",
      " #   Column         Non-Null Count  Dtype \n",
      "---  ------         --------------  ----- \n",
      " 0   NCBI ID        56 non-null     object\n",
      " 1   Entry          56 non-null     object\n",
      " 2   Entry name     56 non-null     object\n",
      " 3   Protein names  56 non-null     object\n",
      " 4   Gene names     53 non-null     object\n",
      " 5   Organism       56 non-null     object\n",
      "dtypes: object(6)\n",
      "memory usage: 3.1+ KB\n"
     ]
    }
   ],
   "source": [
    "df_mapped_unique.info()"
   ]
  },
  {
   "cell_type": "code",
   "execution_count": 10,
   "id": "fc8ea891-0ebf-4f71-b59a-0616a61e9d61",
   "metadata": {},
   "outputs": [
    {
     "data": {
      "text/html": [
       "<div>\n",
       "<style scoped>\n",
       "    .dataframe tbody tr th:only-of-type {\n",
       "        vertical-align: middle;\n",
       "    }\n",
       "\n",
       "    .dataframe tbody tr th {\n",
       "        vertical-align: top;\n",
       "    }\n",
       "\n",
       "    .dataframe thead th {\n",
       "        text-align: right;\n",
       "    }\n",
       "</style>\n",
       "<table border=\"1\" class=\"dataframe\">\n",
       "  <thead>\n",
       "    <tr style=\"text-align: right;\">\n",
       "      <th></th>\n",
       "      <th>NCBI ID</th>\n",
       "      <th>Entry</th>\n",
       "      <th>Entry name</th>\n",
       "      <th>Protein names</th>\n",
       "      <th>Gene names</th>\n",
       "      <th>Organism</th>\n",
       "    </tr>\n",
       "  </thead>\n",
       "  <tbody>\n",
       "    <tr>\n",
       "      <th>0</th>\n",
       "      <td>NP_055688</td>\n",
       "      <td>Q92604</td>\n",
       "      <td>LGAT1_HUMAN</td>\n",
       "      <td>Acyl-CoA:lysophosphatidylglycerol acyltransfer...</td>\n",
       "      <td>LPGAT1 FAM34A KIAA0205</td>\n",
       "      <td>Homo sapiens (Human)</td>\n",
       "    </tr>\n",
       "    <tr>\n",
       "      <th>1</th>\n",
       "      <td>NP_056473</td>\n",
       "      <td>Q9Y3T9</td>\n",
       "      <td>NOC2L_HUMAN</td>\n",
       "      <td>Nucleolar complex protein 2 homolog (Protein N...</td>\n",
       "      <td>NOC2L NIR</td>\n",
       "      <td>Homo sapiens (Human)</td>\n",
       "    </tr>\n",
       "    <tr>\n",
       "      <th>2</th>\n",
       "      <td>NP_057086</td>\n",
       "      <td>Q8NBX0</td>\n",
       "      <td>SCPDL_HUMAN</td>\n",
       "      <td>Saccharopine dehydrogenase-like oxidoreductase...</td>\n",
       "      <td>SCCPDH CGI-49</td>\n",
       "      <td>Homo sapiens (Human)</td>\n",
       "    </tr>\n",
       "    <tr>\n",
       "      <th>3</th>\n",
       "      <td>NP_057086</td>\n",
       "      <td>A0A384NPM7</td>\n",
       "      <td>A0A384NPM7_HUMAN</td>\n",
       "      <td>Epididymis secretory sperm binding protein (Sa...</td>\n",
       "      <td>SCCPDH hCG_1782151</td>\n",
       "      <td>Homo sapiens (Human)</td>\n",
       "    </tr>\n",
       "    <tr>\n",
       "      <th>4</th>\n",
       "      <td>NP_060531</td>\n",
       "      <td>Q5VTL8</td>\n",
       "      <td>PR38B_HUMAN</td>\n",
       "      <td>Pre-mRNA-splicing factor 38B (Sarcoma antigen ...</td>\n",
       "      <td>PRPF38B</td>\n",
       "      <td>Homo sapiens (Human)</td>\n",
       "    </tr>\n",
       "  </tbody>\n",
       "</table>\n",
       "</div>"
      ],
      "text/plain": [
       "     NCBI ID       Entry        Entry name  \\\n",
       "0  NP_055688      Q92604       LGAT1_HUMAN   \n",
       "1  NP_056473      Q9Y3T9       NOC2L_HUMAN   \n",
       "2  NP_057086      Q8NBX0       SCPDL_HUMAN   \n",
       "3  NP_057086  A0A384NPM7  A0A384NPM7_HUMAN   \n",
       "4  NP_060531      Q5VTL8       PR38B_HUMAN   \n",
       "\n",
       "                                       Protein names              Gene names  \\\n",
       "0  Acyl-CoA:lysophosphatidylglycerol acyltransfer...  LPGAT1 FAM34A KIAA0205   \n",
       "1  Nucleolar complex protein 2 homolog (Protein N...               NOC2L NIR   \n",
       "2  Saccharopine dehydrogenase-like oxidoreductase...           SCCPDH CGI-49   \n",
       "3  Epididymis secretory sperm binding protein (Sa...      SCCPDH hCG_1782151   \n",
       "4  Pre-mRNA-splicing factor 38B (Sarcoma antigen ...                 PRPF38B   \n",
       "\n",
       "               Organism  \n",
       "0  Homo sapiens (Human)  \n",
       "1  Homo sapiens (Human)  \n",
       "2  Homo sapiens (Human)  \n",
       "3  Homo sapiens (Human)  \n",
       "4  Homo sapiens (Human)  "
      ]
     },
     "execution_count": 10,
     "metadata": {},
     "output_type": "execute_result"
    }
   ],
   "source": [
    "df_mapped_unique.head()"
   ]
  },
  {
   "cell_type": "code",
   "execution_count": 11,
   "id": "b51ecdb3-39e2-4749-999c-9609a2ab219b",
   "metadata": {},
   "outputs": [
    {
     "data": {
      "text/html": [
       "<div>\n",
       "<style scoped>\n",
       "    .dataframe tbody tr th:only-of-type {\n",
       "        vertical-align: middle;\n",
       "    }\n",
       "\n",
       "    .dataframe tbody tr th {\n",
       "        vertical-align: top;\n",
       "    }\n",
       "\n",
       "    .dataframe thead th {\n",
       "        text-align: right;\n",
       "    }\n",
       "</style>\n",
       "<table border=\"1\" class=\"dataframe\">\n",
       "  <thead>\n",
       "    <tr style=\"text-align: right;\">\n",
       "      <th></th>\n",
       "      <th>NCBI ID</th>\n",
       "      <th>Entry</th>\n",
       "      <th>Entry name</th>\n",
       "      <th>Protein names</th>\n",
       "      <th>Gene names</th>\n",
       "      <th>Organism</th>\n",
       "    </tr>\n",
       "  </thead>\n",
       "  <tbody>\n",
       "    <tr>\n",
       "      <th>55</th>\n",
       "      <td>NP_080446</td>\n",
       "      <td>Q4FK22</td>\n",
       "      <td>Q4FK22_MOUSE</td>\n",
       "      <td>1200007D18Rik protein (MAA-136 protein)</td>\n",
       "      <td>Ergic1 maa-136</td>\n",
       "      <td>Mus musculus (Mouse)</td>\n",
       "    </tr>\n",
       "    <tr>\n",
       "      <th>56</th>\n",
       "      <td>NP_666187</td>\n",
       "      <td>Q6DVA0</td>\n",
       "      <td>LEMD2_MOUSE</td>\n",
       "      <td>LEM domain-containing protein 2 (Nuclear envel...</td>\n",
       "      <td>Lemd2 Lem2</td>\n",
       "      <td>Mus musculus (Mouse)</td>\n",
       "    </tr>\n",
       "    <tr>\n",
       "      <th>59</th>\n",
       "      <td>NP_766428</td>\n",
       "      <td>Q70UZ7</td>\n",
       "      <td>VWA2_MOUSE</td>\n",
       "      <td>von Willebrand factor A domain-containing prot...</td>\n",
       "      <td>Vwa2 Amaco</td>\n",
       "      <td>Mus musculus (Mouse)</td>\n",
       "    </tr>\n",
       "    <tr>\n",
       "      <th>60</th>\n",
       "      <td>NP_766428</td>\n",
       "      <td>Q8CE01</td>\n",
       "      <td>Q8CE01_MOUSE</td>\n",
       "      <td>Uncharacterized protein</td>\n",
       "      <td>Vwa2 Amaco</td>\n",
       "      <td>Mus musculus (Mouse)</td>\n",
       "    </tr>\n",
       "    <tr>\n",
       "      <th>61</th>\n",
       "      <td>XP_233702</td>\n",
       "      <td>G3V7B0</td>\n",
       "      <td>G3V7B0_RAT</td>\n",
       "      <td>Nucleolar protein 9</td>\n",
       "      <td>Nol9 rCG_31415</td>\n",
       "      <td>Rattus norvegicus (Rat)</td>\n",
       "    </tr>\n",
       "  </tbody>\n",
       "</table>\n",
       "</div>"
      ],
      "text/plain": [
       "      NCBI ID   Entry    Entry name  \\\n",
       "55  NP_080446  Q4FK22  Q4FK22_MOUSE   \n",
       "56  NP_666187  Q6DVA0   LEMD2_MOUSE   \n",
       "59  NP_766428  Q70UZ7    VWA2_MOUSE   \n",
       "60  NP_766428  Q8CE01  Q8CE01_MOUSE   \n",
       "61  XP_233702  G3V7B0    G3V7B0_RAT   \n",
       "\n",
       "                                        Protein names      Gene names  \\\n",
       "55            1200007D18Rik protein (MAA-136 protein)  Ergic1 maa-136   \n",
       "56  LEM domain-containing protein 2 (Nuclear envel...      Lemd2 Lem2   \n",
       "59  von Willebrand factor A domain-containing prot...      Vwa2 Amaco   \n",
       "60                            Uncharacterized protein      Vwa2 Amaco   \n",
       "61                                Nucleolar protein 9  Nol9 rCG_31415   \n",
       "\n",
       "                   Organism  \n",
       "55     Mus musculus (Mouse)  \n",
       "56     Mus musculus (Mouse)  \n",
       "59     Mus musculus (Mouse)  \n",
       "60     Mus musculus (Mouse)  \n",
       "61  Rattus norvegicus (Rat)  "
      ]
     },
     "execution_count": 11,
     "metadata": {},
     "output_type": "execute_result"
    }
   ],
   "source": [
    "df_mapped_unique.tail()"
   ]
  },
  {
   "cell_type": "code",
   "execution_count": 12,
   "id": "36cdef95-517d-4917-810e-e309f16557ab",
   "metadata": {
    "tags": []
   },
   "outputs": [
    {
     "data": {
      "text/plain": [
       "array(['Homo sapiens (Human)', 'Mus musculus (Mouse)',\n",
       "       'Rattus norvegicus (Rat)'], dtype=object)"
      ]
     },
     "execution_count": 12,
     "metadata": {},
     "output_type": "execute_result"
    }
   ],
   "source": [
    "df_mapped_unique.Organism.unique()"
   ]
  },
  {
   "cell_type": "markdown",
   "id": "50066669-7c08-4fc1-bd1c-fba45502abe0",
   "metadata": {},
   "source": [
    "## 5. Convert mouse and rat Entry to humans"
   ]
  },
  {
   "cell_type": "code",
   "execution_count": 4,
   "id": "d09776cb-0a20-4d71-a9a0-5764580942ea",
   "metadata": {},
   "outputs": [],
   "source": [
    "df_mapped_unique_MR = df_mapped_unique[df_mapped_unique.Organism != 'Homo sapiens (Human)']"
   ]
  },
  {
   "cell_type": "code",
   "execution_count": 49,
   "id": "09a8a02a-d99d-40c9-946b-8dc477faecb5",
   "metadata": {},
   "outputs": [],
   "source": [
    "# uniprot API URL\n",
    "WEBSITE_API = \"https://rest.uniprot.org/uniprotkb\"\n",
    "\n",
    "# organism id\n",
    "organism_id_list = {'Homo sapiens': '9606'}\n",
    "organism_id = organism_id_list['Homo sapiens']\n",
    "\n",
    "my_dict = {'entry_mr': [], 'gene_name': [], 'entry_h': []}\n",
    "\n",
    "for entry in df_mapped_unique_MR.Entry:\n",
    "    try:\n",
    "        # get response with the query, then the gene name in it\n",
    "        r = get_url(f'{WEBSITE_API}/search?query=accession:{entry}&fields=gene_names')\n",
    "        gene_name = r.json()['results'][0]['genes'][0]['geneName']['value']\n",
    "        sleep(1)\n",
    "\n",
    "        # find the entry of the human version of the gene\n",
    "        r2 = get_url(f'{WEBSITE_API}/search?query=gene:{gene_name}+AND+organism_id:{organism_id}&fields=accession,gene_names')\n",
    "        entry_hs = r2.json()['results'][0]['primaryAccession']\n",
    "        sleep(1)\n",
    "\n",
    "    except:\n",
    "        gene_name = 'Not_found'\n",
    "        entry_hs = 'Not_found'\n",
    "    \n",
    "    my_dict['entry_mr'].append(entry)\n",
    "    my_dict['gene_name'].append(gene_name)\n",
    "    my_dict['entry_h'].append(entry_hs)\n",
    "    "
   ]
  },
  {
   "cell_type": "code",
   "execution_count": 59,
   "id": "6b962836-ea67-4b9c-9c71-a505e17ae370",
   "metadata": {},
   "outputs": [
    {
     "data": {
      "text/html": [
       "<div>\n",
       "<style scoped>\n",
       "    .dataframe tbody tr th:only-of-type {\n",
       "        vertical-align: middle;\n",
       "    }\n",
       "\n",
       "    .dataframe tbody tr th {\n",
       "        vertical-align: top;\n",
       "    }\n",
       "\n",
       "    .dataframe thead th {\n",
       "        text-align: right;\n",
       "    }\n",
       "</style>\n",
       "<table border=\"1\" class=\"dataframe\">\n",
       "  <thead>\n",
       "    <tr style=\"text-align: right;\">\n",
       "      <th></th>\n",
       "      <th>Gene names</th>\n",
       "      <th>Entry</th>\n",
       "    </tr>\n",
       "  </thead>\n",
       "  <tbody>\n",
       "    <tr>\n",
       "      <th>0</th>\n",
       "      <td>Tor1aip2</td>\n",
       "      <td>Q8NFQ8</td>\n",
       "    </tr>\n",
       "    <tr>\n",
       "      <th>1</th>\n",
       "      <td>Nat10</td>\n",
       "      <td>Q9H0A0</td>\n",
       "    </tr>\n",
       "    <tr>\n",
       "      <th>2</th>\n",
       "      <td>Alg2</td>\n",
       "      <td>O75340</td>\n",
       "    </tr>\n",
       "    <tr>\n",
       "      <th>3</th>\n",
       "      <td>Ndc1</td>\n",
       "      <td>Q9BTX1</td>\n",
       "    </tr>\n",
       "    <tr>\n",
       "      <th>4</th>\n",
       "      <td>Tmem53</td>\n",
       "      <td>Q6P2H8</td>\n",
       "    </tr>\n",
       "  </tbody>\n",
       "</table>\n",
       "</div>"
      ],
      "text/plain": [
       "  Gene names   Entry\n",
       "0   Tor1aip2  Q8NFQ8\n",
       "1      Nat10  Q9H0A0\n",
       "2       Alg2  O75340\n",
       "3       Ndc1  Q9BTX1\n",
       "4     Tmem53  Q6P2H8"
      ]
     },
     "execution_count": 59,
     "metadata": {},
     "output_type": "execute_result"
    }
   ],
   "source": [
    "_df = pd.DataFrame(my_dict)\n",
    "_df = _df.drop_duplicates(subset='entry_h')\n",
    "_df = _df[_df.entry_h != 'Not_found']\n",
    "_df = _df.drop(columns=['entry_mr'])\n",
    "_df = _df.rename(columns={'gene_name':'Gene names', 'entry_h':'Entry'})\n",
    "_df.head()"
   ]
  },
  {
   "cell_type": "markdown",
   "id": "348fef22-11d2-42ae-b559-86d7367ea280",
   "metadata": {},
   "source": [
    "#### Merge with the human entries from df_mapped"
   ]
  },
  {
   "cell_type": "code",
   "execution_count": 61,
   "id": "92f08c2e-d6c9-461e-89ac-1645795be2a5",
   "metadata": {},
   "outputs": [],
   "source": [
    "df_mapped_unique_Hs = df_mapped_unique[df_mapped_unique.Organism == 'Homo sapiens (Human)']\n",
    "df_mapped_unique_Hs = df_mapped_unique_Hs[['Entry', 'Gene names']]\n",
    "df = pd.concat([df_mapped_unique_Hs, _df])"
   ]
  },
  {
   "cell_type": "code",
   "execution_count": 66,
   "id": "dc611710-8922-4db0-bcce-3da5c2681ba8",
   "metadata": {},
   "outputs": [],
   "source": [
    "df = df.dropna(axis=0)"
   ]
  },
  {
   "cell_type": "code",
   "execution_count": 67,
   "id": "a512ca77-45f6-4949-8895-c34bdd8b3860",
   "metadata": {},
   "outputs": [
    {
     "name": "stdout",
     "output_type": "stream",
     "text": [
      "<class 'pandas.core.frame.DataFrame'>\n",
      "Int64Index: 44 entries, 0 to 27\n",
      "Data columns (total 2 columns):\n",
      " #   Column      Non-Null Count  Dtype \n",
      "---  ------      --------------  ----- \n",
      " 0   Entry       44 non-null     object\n",
      " 1   Gene names  44 non-null     object\n",
      "dtypes: object(2)\n",
      "memory usage: 1.0+ KB\n"
     ]
    }
   ],
   "source": [
    "df.info()"
   ]
  },
  {
   "cell_type": "markdown",
   "id": "242ec267-1ea8-4fe3-a7ed-4cf8aa00cfb8",
   "metadata": {},
   "source": [
    "#### Export"
   ]
  },
  {
   "cell_type": "code",
   "execution_count": 68,
   "id": "677740fb-f978-49a2-a584-9556f9859940",
   "metadata": {},
   "outputs": [],
   "source": [
    "df.to_csv('./Output/Schirmer2003/Output.csv', index=False)"
   ]
  },
  {
   "cell_type": "markdown",
   "id": "2972547a-92b5-4e20-b935-f1247d64ed83",
   "metadata": {},
   "source": [
    "# Korfali et al 2010: Mouse leukocytes"
   ]
  },
  {
   "cell_type": "code",
   "execution_count": 46,
   "id": "1851fe79-b9de-468f-82f8-122b0141780d",
   "metadata": {},
   "outputs": [],
   "source": [
    "# Excel import\n",
    "df_Korfali_2010 = pd.read_excel('./SourceData/Korfali_2010/rk1-139_fromTableS5.xlsx') # gene names were manually extracted in this file beforehand\n",
    "\n",
    "# Convert to df\n",
    "df_Korfali_2010= pd.DataFrame(df_Korfali_2010.iloc[1:, 1])\n",
    "df_Korfali_2010.columns = ['Gene_name']\n",
    "df_Korfali_2010 = df_Korfali_2010.reset_index(drop=True)"
   ]
  },
  {
   "cell_type": "code",
   "execution_count": 47,
   "id": "6e3d161c-dd4f-41ee-b7c0-34653d5dc865",
   "metadata": {},
   "outputs": [],
   "source": [
    "# Manual inspection and correction of gene names\n",
    "df_Korfali_2010.iloc[15, 0] = 'DHRS7'\n",
    "df_Korfali_2010.iloc[39, 0] = 'NOC2L'\n",
    "df_Korfali_2010.iloc[58, 0] = 'METTL7A'\n",
    "df_Korfali_2010.iloc[104, 0] = 'TMEM189'"
   ]
  },
  {
   "cell_type": "code",
   "execution_count": 48,
   "id": "7b36a2bc-10ed-41e4-b35b-ddfeb258e714",
   "metadata": {},
   "outputs": [
    {
     "name": "stdout",
     "output_type": "stream",
     "text": [
      "0 Q9UH99 SUN2\n",
      "40 Q3LXA3 TKFC\n",
      "80 Q6NXT6 TAPT1\n",
      "120 Q9Y2W6 TDRKH\n"
     ]
    }
   ],
   "source": [
    "# find UniProt Entry and UniProt-registerd gene names\n",
    "for i in range(len(df_Korfali_2010)):\n",
    "    \n",
    "    gene = df_Korfali_2010.iloc[i, 0]\n",
    "    entry_converted, gene_obtained = get_UniProtEntry(gene)\n",
    "    \n",
    "    df_Korfali_2010.loc[i, 'Entry_Korfali_2010'] = entry_converted\n",
    "    df_Korfali_2010.loc[i, 'Gene_name_obtained'] = gene_obtained\n",
    "    \n",
    "    if i % 40 == 0: print(i, entry_converted, gene_obtained)\n",
    "    \n",
    "    sleep(1)"
   ]
  },
  {
   "cell_type": "code",
   "execution_count": 16,
   "id": "1f0209ef-f327-42a8-a7e6-ebd563e2a0fe",
   "metadata": {},
   "outputs": [],
   "source": [
    "# Clean and export\n",
    "df_Korfali_2010 = df_Korfali_2010.drop(['Gene_name'], axis=1)\n",
    "df_Korfali_2010.to_csv('./IntermediateProducts/ProteomePapers/Korfali_2010.csv', index=False)"
   ]
  },
  {
   "cell_type": "markdown",
   "id": "a4745427-84a6-4331-b472-0a6264ae7a73",
   "metadata": {},
   "source": [
    "# Korfali et al 2012: "
   ]
  },
  {
   "cell_type": "code",
   "execution_count": 57,
   "id": "80decb81-feac-41f8-8849-2ea542c5118b",
   "metadata": {},
   "outputs": [],
   "source": [
    "# S4 was extracted beforehand to a single file because the whole xlsx is extremely heavy\n",
    "df_Korfali_2012 = pd.read_excel('./SourceData/Korfali_2012/2012NUCLEUS0047R-SupTables_S4.xlsx')"
   ]
  },
  {
   "cell_type": "code",
   "execution_count": 58,
   "id": "05bbf613-1c44-4675-bbc7-5a54b9ce4290",
   "metadata": {},
   "outputs": [
    {
     "data": {
      "text/plain": [
       "Table S4. Summary of NETs directly analyzed                  tissue\n",
       "Unnamed: 1                                                gene name\n",
       "Unnamed: 2                                          alternate names\n",
       "Unnamed: 3                                        accession numbers\n",
       "Unnamed: 17                                    NE:MM ratio by dNSAF\n",
       "Unnamed: 18                                               reference\n",
       "Name: 1, dtype: object"
      ]
     },
     "execution_count": 58,
     "metadata": {},
     "output_type": "execute_result"
    }
   ],
   "source": [
    "# prepare column names\n",
    "columns = df_Korfali_2012.iloc[1,[0,1,2,3,17,18]]\n",
    "columns"
   ]
  },
  {
   "cell_type": "code",
   "execution_count": 53,
   "id": "6b36fa74-0fa7-4e50-aba0-d79b1a7593d1",
   "metadata": {
    "tags": []
   },
   "outputs": [],
   "source": [
    "# Extract necessary cells\n",
    "df_Korfali_2012 = df_Korfali_2012.iloc[2:136,[0,1,2,3,17,18]]\n",
    "\n",
    "# rename the columns\n",
    "df_Korfali_2012.columns = columns\n",
    "\n",
    "# Fill in tissue data\n",
    "df_Korfali_2012['tissue'] = df_Korfali_2012['tissue'].fillna(method='ffill')\n",
    "df_Korfali_2012 = df_Korfali_2012.dropna(axis=0)\n",
    "\n",
    "# Reindex\n",
    "df_Korfali_2012 = df_Korfali_2012.reset_index(drop=True)"
   ]
  },
  {
   "cell_type": "code",
   "execution_count": 55,
   "id": "afeaee78-3304-4852-b39b-44bd68821861",
   "metadata": {},
   "outputs": [
    {
     "name": "stdout",
     "output_type": "stream",
     "text": [
      "The number of genes:  119\n"
     ]
    }
   ],
   "source": [
    "print(\"The number of genes: \", len(list(df_Korfali_2012['gene name'].unique())))"
   ]
  },
  {
   "cell_type": "code",
   "execution_count": 27,
   "id": "15a797a3-828b-47e1-8261-4fd438f9c531",
   "metadata": {},
   "outputs": [],
   "source": [
    "# Manual inspection and correction of gene names\n",
    "# #15 should be SLC22A24\n",
    "# #18 contains two names and only the latter VMA21 is needed\n",
    "# #47 should be MARCH5\n",
    "df_Korfali_2012.iloc[14, 1] = 'SLC22A24'\n",
    "df_Korfali_2012.iloc[18, 1] = 'VMA21'\n",
    "df_Korfali_2012.iloc[47, 1] = 'MARCH5'\n",
    "df_Korfali_2012.iloc[97, 1] = 'ATL3'"
   ]
  },
  {
   "cell_type": "code",
   "execution_count": 28,
   "id": "b65d2441-67b5-4ff4-b755-f6aebefedf12",
   "metadata": {},
   "outputs": [],
   "source": [
    "# select columns\n",
    "df_Korfali_2012 = df_Korfali_2012[['tissue', 'gene name', 'NE:MM ratio by dNSAF']]"
   ]
  },
  {
   "cell_type": "code",
   "execution_count": 29,
   "id": "d07d87dc-28df-493a-bd8a-c78e0672873d",
   "metadata": {},
   "outputs": [],
   "source": [
    "# find Uniprot Entry and UniProt-registered gene names\n",
    "for i in range(len(df_Korfali_2012)):\n",
    "    \n",
    "    gene = df_Korfali_2012.iloc[i, 1]\n",
    "    entry_converted, gene_obtained = get_UniProtEntry(gene)\n",
    "    \n",
    "    df_Korfali_2012.loc[i, 'Entry_Korfali_2012'] = entry_converted\n",
    "    df_Korfali_2012.loc[i, 'Gene_name_obtained'] = gene_obtained\n",
    "    \n",
    "    sleep(1)"
   ]
  },
  {
   "cell_type": "code",
   "execution_count": 32,
   "id": "b9414fec-7a35-41a8-ba9f-a7899310f685",
   "metadata": {},
   "outputs": [],
   "source": [
    "# Clean and export\n",
    "df = df.drop(columns=['Gene_name_obtained'], axis=1)\n",
    "df.to_csv('./IntermediateProducts/ProteomePapers/Korfali_2012.csv', index=False)"
   ]
  },
  {
   "cell_type": "markdown",
   "id": "853b718b-3cc6-499d-b14e-b863fecbe20d",
   "metadata": {},
   "source": [
    "# Wilkie et al 2010: Rat skeletal muscle"
   ]
  },
  {
   "cell_type": "code",
   "execution_count": 43,
   "id": "6382f45f-e6eb-4193-9ceb-f5053b1facdd",
   "metadata": {
    "tags": []
   },
   "outputs": [
    {
     "name": "stdout",
     "output_type": "stream",
     "text": [
      "['Table 1', 'Extracted']\n"
     ]
    },
    {
     "data": {
      "text/html": [
       "<div>\n",
       "<style scoped>\n",
       "    .dataframe tbody tr th:only-of-type {\n",
       "        vertical-align: middle;\n",
       "    }\n",
       "\n",
       "    .dataframe tbody tr th {\n",
       "        vertical-align: top;\n",
       "    }\n",
       "\n",
       "    .dataframe thead th {\n",
       "        text-align: right;\n",
       "    }\n",
       "</style>\n",
       "<table border=\"1\" class=\"dataframe\">\n",
       "  <thead>\n",
       "    <tr style=\"text-align: right;\">\n",
       "      <th></th>\n",
       "      <th>Gene_name</th>\n",
       "    </tr>\n",
       "  </thead>\n",
       "  <tbody>\n",
       "    <tr>\n",
       "      <th>0</th>\n",
       "      <td>UNC84B</td>\n",
       "    </tr>\n",
       "    <tr>\n",
       "      <th>1</th>\n",
       "      <td>TOR1AIP1</td>\n",
       "    </tr>\n",
       "    <tr>\n",
       "      <th>2</th>\n",
       "      <td>LBR</td>\n",
       "    </tr>\n",
       "    <tr>\n",
       "      <th>3</th>\n",
       "      <td>UNC84A</td>\n",
       "    </tr>\n",
       "    <tr>\n",
       "      <th>4</th>\n",
       "      <td>NUP210</td>\n",
       "    </tr>\n",
       "  </tbody>\n",
       "</table>\n",
       "</div>"
      ],
      "text/plain": [
       "  Gene_name\n",
       "0    UNC84B\n",
       "1  TOR1AIP1\n",
       "2       LBR\n",
       "3    UNC84A\n",
       "4    NUP210"
      ]
     },
     "execution_count": 43,
     "metadata": {},
     "output_type": "execute_result"
    }
   ],
   "source": [
    "# Excel import\n",
    "wb = openpyxl.load_workbook('./SourceData/Wilkie_2010/mcp.M110.003129-6.xlsx')\n",
    "print(wb.get_sheet_names())\n",
    "\n",
    "# sheet selected\n",
    "sheet = wb.get_sheet_by_name('Extracted') # gene names were manually extracted in this sheet beforehand\n",
    "_df_wilkie = pd.DataFrame(sheet.values)\n",
    "\n",
    "# convert to df\n",
    "df_wilkie = pd.DataFrame(_df_wilkie.iloc[3:, 1])\n",
    "df_wilkie.columns = ['Gene_name']\n",
    "df_wilkie = df_wilkie.reset_index(drop=True)\n",
    "df_wilkie.head()"
   ]
  },
  {
   "cell_type": "code",
   "execution_count": 44,
   "id": "afd89bed-fdd5-4fd0-a561-0d27292c457b",
   "metadata": {},
   "outputs": [],
   "source": [
    "# find UniProt Entry and UniProt-registered gene names\n",
    "for i in range(len(df_wilkie)):\n",
    "    \n",
    "    gene = df_wilkie.iloc[i, 0]\n",
    "    entry_converted, gene_obtained = get_UniProtEntry(gene)\n",
    "    \n",
    "    df_wilkie.loc[i, 'Entry_Wilkie'] = entry_converted\n",
    "    df_wilkie.loc[i, 'Gene_name_obtained'] = gene_obtained\n",
    "    \n",
    "    sleep(1)"
   ]
  },
  {
   "cell_type": "code",
   "execution_count": 48,
   "id": "d5b080a3-2050-4e1c-90b1-15860d10b955",
   "metadata": {},
   "outputs": [],
   "source": [
    "# Clean and export\n",
    "df_wilkie = df_wilkie.drop(['Gene_name'], axis=1)\n",
    "df_wilkie.to_csv('./IntermediateProducts/Wilkie_2010.csv', index=False)"
   ]
  }
 ],
 "metadata": {
  "kernelspec": {
   "display_name": "Python 3 (ipykernel)",
   "language": "python",
   "name": "python3"
  },
  "language_info": {
   "codemirror_mode": {
    "name": "ipython",
    "version": 3
   },
   "file_extension": ".py",
   "mimetype": "text/x-python",
   "name": "python",
   "nbconvert_exporter": "python",
   "pygments_lexer": "ipython3",
   "version": "3.11.3"
  }
 },
 "nbformat": 4,
 "nbformat_minor": 5
}
