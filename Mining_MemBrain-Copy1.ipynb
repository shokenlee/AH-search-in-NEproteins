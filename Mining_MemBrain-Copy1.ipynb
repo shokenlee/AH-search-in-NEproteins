{
 "cells": [
  {
   "cell_type": "code",
   "execution_count": 3,
   "id": "9a35a667-d2bb-438b-bcb8-1be1a1523f7e",
   "metadata": {
    "tags": []
   },
   "outputs": [],
   "source": [
    "import requests\n",
    "import sys\n",
    "\n",
    "from pathlib import Path\n",
    "import pandas as pd\n",
    "import requests\n",
    "from time import sleep\n",
    "\n",
    "from my_utils import get_url"
   ]
  },
  {
   "cell_type": "markdown",
   "id": "bfc780fb-b667-4095-94c0-53d749df53d7",
   "metadata": {},
   "source": [
    "# Step 1: Scan raw data, judge AH or not, obtain organism and gene names, etc"
   ]
  },
  {
   "cell_type": "code",
   "execution_count": 5,
   "id": "63b90fa3-d089-4b62-a7ae-d072c3f16aec",
   "metadata": {
    "tags": []
   },
   "outputs": [
    {
     "name": "stdout",
     "output_type": "stream",
     "text": [
      "11759\n",
      "0 Q9CAN8 Arabidopsis thaliana Lysophospholipid acyltransferase 2\n",
      "1 Q55DA7 Dictyostelium discoideum ABC transporter B family member 7\n"
     ]
    }
   ],
   "source": [
    "WEBSITE_API = \"https://rest.uniprot.org/uniprotkb/\"\n",
    "source_data_dir = Path('./SourceData/MemBrain/')\n",
    "files = list(source_data_dir.glob('*.result'))\n",
    "print(len(files))\n",
    "\n",
    "# Initialize a list to store row data before creating DataFrame\n",
    "data = []\n",
    "\n",
    "for i, file_path in enumerate(files):\n",
    "    entry = file_path.stem\n",
    "    with file_path.open() as f:\n",
    "        lines = f.readlines()\n",
    "\n",
    "    aa_sequence = lines[1]\n",
    "    prediction = lines[3]\n",
    "    AH_or_not = 'AH' if '1' in prediction else 'Non-AH'\n",
    "\n",
    "    try:\n",
    "        url = f\"{WEBSITE_API}/search?query=(accession:{entry})&fields=organism_name,gene_primary,protein_name,cc_subcellular_location\"\n",
    "        r = get_url(url)\n",
    "        result = r.json()['results'][0]\n",
    "    except requests.exceptions.RequestException as e:\n",
    "        print(f\"Error fetching data for {entry}: {e}\")\n",
    "        continue  # Skip to the next file\n",
    "\n",
    "    # Initialize with default values\n",
    "    organism_name = gene_name = protein_name = subcell_loc = 'Unknown'\n",
    "    \n",
    "    # Attempt to extract data, with fallbacks in case of missing fields\n",
    "    organism_name = result.get('organism', {}).get('scientificName', organism_name)\n",
    "    if result.get('genes'):\n",
    "        gene_name = result['genes'][0].get('geneName', {}).get('value', gene_name)\n",
    "    if result.get('proteinDescription', {}).get('recommendedName'):\n",
    "        protein_name = result['proteinDescription']['recommendedName'].get('fullName', {}).get('value', protein_name)\n",
    "    subcell_locs = [loc['location']['value'] for loc in result.get('comments', [{}])[0].get('subcellularLocations', [])]\n",
    "    subcell_loc = ', '.join(subcell_locs) if subcell_locs else subcell_loc\n",
    "\n",
    "    data.append({\n",
    "        'Entry_original': entry,\n",
    "        'Organism': organism_name,\n",
    "        'Gene_name': gene_name,\n",
    "        'Protein_name': protein_name,\n",
    "        'AH_or_Not': AH_or_not,\n",
    "        'AA_sequence': aa_sequence.strip(),\n",
    "        'Prediction': prediction.strip(),\n",
    "        'SubCell_Uniprot': subcell_loc\n",
    "    })\n",
    "\n",
    "    if i % 100 == 0:\n",
    "        print(i, entry, organism_name, protein_name)\n",
    "\n",
    "    sleep(1)\n",
    "\n",
    "df = pd.DataFrame(data)"
   ]
  },
  {
   "cell_type": "code",
   "execution_count": 48,
   "id": "33955ea3-6e79-46f1-859c-54ab4e17ed94",
   "metadata": {},
   "outputs": [
    {
     "name": "stdout",
     "output_type": "stream",
     "text": [
      "<class 'pandas.core.frame.DataFrame'>\n",
      "Int64Index: 11759 entries, 0 to 11760\n",
      "Data columns (total 8 columns):\n",
      " #   Column           Non-Null Count  Dtype \n",
      "---  ------           --------------  ----- \n",
      " 0   Entry_original   11759 non-null  object\n",
      " 1   Organism         11759 non-null  object\n",
      " 2   Gene_name        11759 non-null  object\n",
      " 3   Protein_name     11759 non-null  object\n",
      " 4   AH_or_Not        11759 non-null  object\n",
      " 5   AA_sequence      11759 non-null  object\n",
      " 6   Prediction       11759 non-null  object\n",
      " 7   SubCell_Uniprot  11759 non-null  object\n",
      "dtypes: object(8)\n",
      "memory usage: 1.1+ MB\n"
     ]
    }
   ],
   "source": [
    "df.info()"
   ]
  },
  {
   "cell_type": "code",
   "execution_count": 49,
   "id": "e71b82b1-f3f3-4fd8-9d11-1f1f3965a8b1",
   "metadata": {},
   "outputs": [],
   "source": [
    "# export\n",
    "df.to_csv('./IntermediateProducts/Results_step_1.csv', index=False)"
   ]
  },
  {
   "cell_type": "markdown",
   "id": "c2cf66b9-aeef-4c64-a81c-5526ac8e9d49",
   "metadata": {},
   "source": [
    "# Step 2: Sort genes of metazoans"
   ]
  },
  {
   "cell_type": "code",
   "execution_count": 8,
   "id": "8ca25549-f5ee-4ad1-9e21-3b384312294d",
   "metadata": {},
   "outputs": [],
   "source": [
    "WEBSITE_API = 'https://rest.uniprot.org/taxonomy/'"
   ]
  },
  {
   "cell_type": "code",
   "execution_count": 3,
   "id": "4d92eb5d-ade6-4046-8f49-52e72fb2ca4c",
   "metadata": {},
   "outputs": [],
   "source": [
    "# Import the df from step 1\n",
    "df = pd.read_csv('./IntermediateProducts/Results_step_1.csv')"
   ]
  },
  {
   "cell_type": "code",
   "execution_count": 150,
   "id": "839c6659-60c3-4876-8a0d-0bab3b938900",
   "metadata": {},
   "outputs": [
    {
     "name": "stdout",
     "output_type": "stream",
     "text": [
      "Number of organism species in the data is  1521\n"
     ]
    }
   ],
   "source": [
    "# create organism list\n",
    "organism_list = df['Organism'].unique().tolist()\n",
    "print('Number of organism species in the data is ', len(organism_list))"
   ]
  },
  {
   "cell_type": "code",
   "execution_count": 134,
   "id": "dc584f3d-a72d-40ff-9ce1-fc7d72451d66",
   "metadata": {
    "tags": []
   },
   "outputs": [
    {
     "name": "stdout",
     "output_type": "stream",
     "text": [
      "0 Arabidopsis thaliana ['Eukaryota', 'cellular organisms']\n",
      "100 Salmonella phage P22 ['Duplodnaviria', 'Viruses']\n",
      "200 Acropora millepora ['Eukaryota', 'cellular organisms']\n",
      "300 Streptococcus pneumoniae  ['Bacteria', 'cellular organisms']\n",
      "400 Acidianus bottle-shaped virus  []\n",
      "500 Petunia integrifolia ['Eukaryota', 'cellular organisms']\n",
      "600 Haloquadratum walsbyi  ['Archaea', 'cellular organisms']\n",
      "700 Xanthomonas campestris pv. campestris  ['Bacteria', 'cellular organisms']\n",
      "800 Friend murine leukemia virus  ['Riboviria', 'Viruses']\n",
      "900 Oceanobacillus iheyensis  ['Bacteria', 'cellular organisms']\n",
      "1000 Artemia salina ['Eukaryota', 'cellular organisms']\n",
      "1100 Citrifermentans bemidjiense  ['Bacteria', 'cellular organisms']\n",
      "1200 Quaranfil virus  ['Riboviria', 'Viruses']\n",
      "1300 Planococcus maritimus ['Bacteria', 'cellular organisms']\n",
      "1400 Macaca radiata ['Eukaryota', 'cellular organisms']\n",
      "1500 Dechloromonas aromatica  ['Bacteria', 'cellular organisms']\n"
     ]
    }
   ],
   "source": [
    "# a list for storage\n",
    "lineage_list = list()\n",
    "\n",
    "# regex for extracing organism name WITHOUT items in parenthesis\n",
    "regex = re.compile(r'([^()]+)(\\(.+\\))?')\n",
    "\n",
    "# scan organism list and get lineage from Uniprot Taxonomy\n",
    "for i, organism in enumerate(organism_list):\n",
    "    # extract organism name WITHOUT items in parenthesis such as strain name\n",
    "    mo = regex.search(organism)\n",
    "    if mo:\n",
    "        organism = mo.group(1).strip()\n",
    "    else:\n",
    "        lineage_list.append('Unknown')\n",
    "        continue\n",
    "        \n",
    "    # get response that contains lineage\n",
    "    try:\n",
    "        r = get_url(f'{WEBSITE_API}/search?query=(scientific:\"{organism}\")&fields=lineage')\n",
    "        result = r.json()\n",
    "    except requests.exceptions.RequestException as e:\n",
    "        print(f\"Error fetching data for {entry}: {e}\")\n",
    "        continue  # Skip to the next file\n",
    "    \n",
    "    # extract lineage from the result\n",
    "    # Attempt to extract lineage information from the response\n",
    "    try:\n",
    "        lineage = [l['scientificName'] for l in result['results'][0]['lineage']]\n",
    "        lineage_full = ', '.join(lineage) if lineage else 'NotFound'\n",
    "    except (KeyError, IndexError):\n",
    "        lineage_full = 'NotFound'  # In case the result structure is unexpected or empty\n",
    "        \n",
    "    # add to the found lineage to the list\n",
    "    lineage_list.append(lineage_full)\n",
    "    \n",
    "    # log every 100\n",
    "    if i % 100 == 0: print(i, organism, lineage[-2:])\n",
    "    \n",
    "    # take a break, go next\n",
    "    sleep(1)"
   ]
  },
  {
   "cell_type": "code",
   "execution_count": 141,
   "id": "53082a3a-e6cb-46bb-8455-7f25d8a8b719",
   "metadata": {},
   "outputs": [
    {
     "name": "stdout",
     "output_type": "stream",
     "text": [
      "<class 'pandas.core.frame.DataFrame'>\n",
      "Int64Index: 122 entries, 4 to 1518\n",
      "Data columns (total 2 columns):\n",
      " #   Column    Non-Null Count  Dtype \n",
      "---  ------    --------------  ----- \n",
      " 0   Organism  122 non-null    object\n",
      " 1   Lineage   122 non-null    object\n",
      "dtypes: object(2)\n",
      "memory usage: 2.9+ KB\n",
      "None\n"
     ]
    }
   ],
   "source": [
    "# Add to the df_org\n",
    "df_org = pd.DataFrame(organism_list, columns=['Organism'])\n",
    "df_org['Lineage'] = lineage_list\n",
    "\n",
    "# export\n",
    "df_org.to_csv('./IntermediateProducts/Organisms_and_Lineage.csv', index=False)"
   ]
  },
  {
   "cell_type": "code",
   "execution_count": 152,
   "id": "36384b7d-82f9-4aa6-abd5-f9b238990792",
   "metadata": {},
   "outputs": [
    {
     "name": "stdout",
     "output_type": "stream",
     "text": [
      "Number of metazoan species is  122\n"
     ]
    }
   ],
   "source": [
    "# Select metazoans\n",
    "df_org_metazoa = df_org[df_org['Lineage'].str.contains('Metazoa')]\n",
    "print('Number of metazoan species is ', len(df_org_metazoa))"
   ]
  },
  {
   "cell_type": "code",
   "execution_count": 165,
   "id": "58e3da4a-908e-4f2a-8097-a51124e15659",
   "metadata": {},
   "outputs": [
    {
     "name": "stdout",
     "output_type": "stream",
     "text": [
      "Number of eukaryotic species is  431\n",
      "Number of bacteria species is  732\n",
      "Number of archea species is  61\n",
      "Number of virus species is  281\n",
      "Number of species not found in database is  16\n"
     ]
    }
   ],
   "source": [
    "# How many are eukaryotes, bacteria, archea, and virus\n",
    "n_eukaryote = len(df_org[df_org['Lineage'].str.contains('Eukaryot')])\n",
    "n_bacteria = len(df_org[df_org['Lineage'].str.contains('Bacteria')])\n",
    "n_archaea = len(df_org[df_org['Lineage'].str.contains('Archaea')])\n",
    "n_virus = len(df_org[df_org['Lineage'].str.contains('Virus')])\n",
    "n_notFound = len(df_org) - np.sum([n_eukaryote, n_bacteria, n_archaea, n_virus])\n",
    "print('Number of eukaryotic species is ', n_eukaryote)\n",
    "print('Number of bacteria species is ', n_bacteria)\n",
    "print('Number of archea species is ', n_archaea)\n",
    "print('Number of virus species is ', n_virus)\n",
    "print('Number of species not found in database is ', n_notFound)"
   ]
  },
  {
   "cell_type": "code",
   "execution_count": 153,
   "id": "a966d8f6-2201-4adb-93c6-eff449830e0e",
   "metadata": {},
   "outputs": [
    {
     "name": "stdout",
     "output_type": "stream",
     "text": [
      "<class 'pandas.core.frame.DataFrame'>\n",
      "Int64Index: 2733 entries, 0 to 2732\n",
      "Data columns (total 9 columns):\n",
      " #   Column           Non-Null Count  Dtype \n",
      "---  ------           --------------  ----- \n",
      " 0   Entry_original   2733 non-null   object\n",
      " 1   Organism         2733 non-null   object\n",
      " 2   Gene_name        2733 non-null   object\n",
      " 3   Protein_name     2733 non-null   object\n",
      " 4   AH_or_Not        2733 non-null   object\n",
      " 5   AA_sequence      2733 non-null   object\n",
      " 6   Prediction       2733 non-null   object\n",
      " 7   SubCell_Uniprot  2733 non-null   object\n",
      " 8   Lineage          2733 non-null   object\n",
      "dtypes: object(9)\n",
      "memory usage: 213.5+ KB\n",
      "None\n"
     ]
    }
   ],
   "source": [
    "# Merge df_org_metazoa with the main df\n",
    "# by doing so, genes from metazoans are sorted\n",
    "df_metazoanGenes = df.merge(df_org_metazoa, how='inner', on='Organism')\n",
    "print(df_metazoanGenes.info())"
   ]
  },
  {
   "cell_type": "code",
   "execution_count": 166,
   "id": "0217de85-b539-4c77-9918-74fffda13cbb",
   "metadata": {},
   "outputs": [],
   "source": [
    "# remove Lineage column\n",
    "df_metazoanGenes = df_metazoanGenes.drop(['Lineage'], axis=1)\n",
    "\n",
    "# export\n",
    "df_metazoanGenes.to_csv('./IntermediateProducts/Results_step_2.csv', index=False)"
   ]
  },
  {
   "cell_type": "markdown",
   "id": "dac27aab-5c8d-47c9-968e-cbbe0d579bff",
   "metadata": {},
   "source": [
    "# Step 3: Get human and mouse entry"
   ]
  },
  {
   "cell_type": "code",
   "execution_count": 3,
   "id": "f17ea124-e113-44ac-812b-3cd35e2c7565",
   "metadata": {},
   "outputs": [],
   "source": [
    "# import df from step 3\n",
    "df_metazoanGenes = pd.read_csv('./IntermediateProducts/Results_step_2.csv')"
   ]
  },
  {
   "cell_type": "code",
   "execution_count": 4,
   "id": "4cbd1a20-78af-4bee-a101-cd12ace7b9f4",
   "metadata": {},
   "outputs": [
    {
     "data": {
      "text/html": [
       "<div>\n",
       "<style scoped>\n",
       "    .dataframe tbody tr th:only-of-type {\n",
       "        vertical-align: middle;\n",
       "    }\n",
       "\n",
       "    .dataframe tbody tr th {\n",
       "        vertical-align: top;\n",
       "    }\n",
       "\n",
       "    .dataframe thead th {\n",
       "        text-align: right;\n",
       "    }\n",
       "</style>\n",
       "<table border=\"1\" class=\"dataframe\">\n",
       "  <thead>\n",
       "    <tr style=\"text-align: right;\">\n",
       "      <th></th>\n",
       "      <th>Entry_original</th>\n",
       "      <th>Organism</th>\n",
       "      <th>Gene_name</th>\n",
       "      <th>Protein_name</th>\n",
       "      <th>AH_or_Not</th>\n",
       "      <th>AA_sequence</th>\n",
       "      <th>Prediction</th>\n",
       "      <th>SubCell_Uniprot</th>\n",
       "    </tr>\n",
       "  </thead>\n",
       "  <tbody>\n",
       "    <tr>\n",
       "      <th>0</th>\n",
       "      <td>Q16928</td>\n",
       "      <td>Anopheles albimanus</td>\n",
       "      <td>W</td>\n",
       "      <td>Protein white</td>\n",
       "      <td>Non-AH</td>\n",
       "      <td>MTINTDDQYADGESKTTISSNRRYSTSSFQDQSMEDDGINATLTND...</td>\n",
       "      <td>0000000000000000000000000000000000000000000000...</td>\n",
       "      <td>Membrane</td>\n",
       "    </tr>\n",
       "    <tr>\n",
       "      <th>1</th>\n",
       "      <td>Q01151</td>\n",
       "      <td>Homo sapiens</td>\n",
       "      <td>CD83</td>\n",
       "      <td>CD83 antigen</td>\n",
       "      <td>Non-AH</td>\n",
       "      <td>MSRGLQLLLLSCAYSLAPATPEVKVACSEDVDLPCTAPWDPQVPYT...</td>\n",
       "      <td>0000000000000000000000000000000000000000000000...</td>\n",
       "      <td>Membrane</td>\n",
       "    </tr>\n",
       "    <tr>\n",
       "      <th>2</th>\n",
       "      <td>Q0P6D2</td>\n",
       "      <td>Homo sapiens</td>\n",
       "      <td>DIPK1C</td>\n",
       "      <td>Divergent protein kinase domain 1C</td>\n",
       "      <td>AH</td>\n",
       "      <td>MARAAGARGPAGWCRRRGRCGRGTLLAFAAWTAGWVLAAALLLRAH...</td>\n",
       "      <td>0000000000000000000000000000000000000000000000...</td>\n",
       "      <td>Endoplasmic reticulum membrane</td>\n",
       "    </tr>\n",
       "    <tr>\n",
       "      <th>3</th>\n",
       "      <td>Q06136</td>\n",
       "      <td>Homo sapiens</td>\n",
       "      <td>KDSR</td>\n",
       "      <td>3-ketodihydrosphingosine reductase</td>\n",
       "      <td>AH</td>\n",
       "      <td>MLLLAAAFLVAFVLLLYMVSPLISPKPLALPGAHVVVTGGSSGIGK...</td>\n",
       "      <td>0000000000000000000000000000000000000000000000...</td>\n",
       "      <td>Endoplasmic reticulum membrane</td>\n",
       "    </tr>\n",
       "    <tr>\n",
       "      <th>4</th>\n",
       "      <td>Q3C1V0</td>\n",
       "      <td>Homo sapiens</td>\n",
       "      <td>MS4A18</td>\n",
       "      <td>Membrane-spanning 4-domains subfamily A member 18</td>\n",
       "      <td>AH</td>\n",
       "      <td>MTEQVIGANSVPGIIAPDNVHVIQPSNPVASGNHLQPSEVTTYPIS...</td>\n",
       "      <td>0000000000000000000000000000000000000000000000...</td>\n",
       "      <td>Membrane</td>\n",
       "    </tr>\n",
       "  </tbody>\n",
       "</table>\n",
       "</div>"
      ],
      "text/plain": [
       "  Entry_original             Organism Gene_name  \\\n",
       "0         Q16928  Anopheles albimanus         W   \n",
       "1         Q01151         Homo sapiens      CD83   \n",
       "2         Q0P6D2         Homo sapiens    DIPK1C   \n",
       "3         Q06136         Homo sapiens      KDSR   \n",
       "4         Q3C1V0         Homo sapiens    MS4A18   \n",
       "\n",
       "                                        Protein_name AH_or_Not  \\\n",
       "0                                      Protein white    Non-AH   \n",
       "1                                       CD83 antigen    Non-AH   \n",
       "2                 Divergent protein kinase domain 1C        AH   \n",
       "3                 3-ketodihydrosphingosine reductase        AH   \n",
       "4  Membrane-spanning 4-domains subfamily A member 18        AH   \n",
       "\n",
       "                                         AA_sequence  \\\n",
       "0  MTINTDDQYADGESKTTISSNRRYSTSSFQDQSMEDDGINATLTND...   \n",
       "1  MSRGLQLLLLSCAYSLAPATPEVKVACSEDVDLPCTAPWDPQVPYT...   \n",
       "2  MARAAGARGPAGWCRRRGRCGRGTLLAFAAWTAGWVLAAALLLRAH...   \n",
       "3  MLLLAAAFLVAFVLLLYMVSPLISPKPLALPGAHVVVTGGSSGIGK...   \n",
       "4  MTEQVIGANSVPGIIAPDNVHVIQPSNPVASGNHLQPSEVTTYPIS...   \n",
       "\n",
       "                                          Prediction  \\\n",
       "0  0000000000000000000000000000000000000000000000...   \n",
       "1  0000000000000000000000000000000000000000000000...   \n",
       "2  0000000000000000000000000000000000000000000000...   \n",
       "3  0000000000000000000000000000000000000000000000...   \n",
       "4  0000000000000000000000000000000000000000000000...   \n",
       "\n",
       "                  SubCell_Uniprot  \n",
       "0                        Membrane  \n",
       "1                        Membrane  \n",
       "2  Endoplasmic reticulum membrane  \n",
       "3  Endoplasmic reticulum membrane  \n",
       "4                        Membrane  "
      ]
     },
     "execution_count": 4,
     "metadata": {},
     "output_type": "execute_result"
    }
   ],
   "source": [
    "df_metazoanGenes.head()"
   ]
  },
  {
   "cell_type": "code",
   "execution_count": 5,
   "id": "4f514e6a-eb61-46be-ab22-0db3b0029f11",
   "metadata": {},
   "outputs": [],
   "source": [
    "WEBSITE_API = \"https://rest.uniprot.org/uniprotkb/\"\n",
    "\n",
    "organism_id_list = {'Homo sapiens': '9606', 'Mus musculus': '10090'}"
   ]
  },
  {
   "cell_type": "code",
   "execution_count": 10,
   "id": "1226df7b-1284-4e38-901b-275a55d253dc",
   "metadata": {
    "tags": []
   },
   "outputs": [
    {
     "ename": "ImportError",
     "evalue": "cannot import name 'entry_convert' from 'my_utils' (/Users/ShokenLEE/Desktop/Codes/git/Find-AH-NE_MemBrain/my_utils.py)",
     "output_type": "error",
     "traceback": [
      "\u001b[0;31m---------------------------------------------------------------------------\u001b[0m",
      "\u001b[0;31mImportError\u001b[0m                               Traceback (most recent call last)",
      "Cell \u001b[0;32mIn[10], line 1\u001b[0m\n\u001b[0;32m----> 1\u001b[0m \u001b[38;5;28;01mfrom\u001b[39;00m \u001b[38;5;21;01mmy_utils\u001b[39;00m \u001b[38;5;28;01mimport\u001b[39;00m entry_convert\n",
      "\u001b[0;31mImportError\u001b[0m: cannot import name 'entry_convert' from 'my_utils' (/Users/ShokenLEE/Desktop/Codes/git/Find-AH-NE_MemBrain/my_utils.py)"
     ]
    }
   ],
   "source": [
    "from my_utils import entry_convert"
   ]
  },
  {
   "cell_type": "code",
   "execution_count": 9,
   "id": "4b3fc2d1-22ed-41fc-9158-53c356c21e2b",
   "metadata": {
    "jupyter": {
     "source_hidden": true
    },
    "tags": []
   },
   "outputs": [],
   "source": [
    "def entry_convert(df, organism):\n",
    "    \"\"\"\n",
    "    For each entry in a given df, \n",
    "    if the entry is from the specified organism (human or mouse),\n",
    "    just reuse the entry\n",
    "    if not,\n",
    "    convert the entry into that of the specified organism (human or mouse)\n",
    "    \"\"\"\n",
    "    # For final output\n",
    "    converted_id_list = list()\n",
    "    \n",
    "    # Organism of interest either human or mouse\n",
    "    organism_id = organism_id_list[organism]\n",
    "    \n",
    "    # for counting how many genes were not found\n",
    "    reused = 0\n",
    "    similar_but_differ = 0\n",
    "    not_found = 0\n",
    "    \n",
    "    # scan entrys in the df\n",
    "    for i in range(len(df)):\n",
    "        gene = df.iloc[i, 2]\n",
    "        \n",
    "#         # in case the gene name is unknown, it matches a gene Q9Y6S7, whose gene name is 'Unknown'\n",
    "#         # thus below precludes this gene\n",
    "#         if gene == 'Unknown': #\n",
    "#             entry_converted = 'Not_found'\n",
    "#             not_found += 1\n",
    "#             # add to the final output list\n",
    "#             converted_id_list.append(entry_converted)\n",
    "#             continue\n",
    "        \n",
    "        # judge if the entry comes from human or mouse\n",
    "        if df.iloc[i, 1] == organism:\n",
    "            entry_converted = df.iloc[i, 0] # reuse the original gene name\n",
    "            reused += 1\n",
    "        else:\n",
    "            # obtain the human or mouse entry from uniprot\n",
    "            try:\n",
    "                r = get_url(f'{WEBSITE_API}/search?query=gene:{gene}+AND+organism_id:{organism_id}+AND+reviewed:true&fields=accession,gene_names')\n",
    "                result = r.json()['results'][0]\n",
    "                \n",
    "                ## get human or mouse entry\n",
    "                entry_converted = result['primaryAccession']\n",
    "                ## get gene name and check the names matche between human's or mouse's and the given organism's\n",
    "                gene_obtained = result['genes'][0]['geneName']['value']\n",
    "                if gene.lower() != gene_obtained.lower():\n",
    "                    entry_converted = 'Not_found'\n",
    "                    similar_but_differ += 1\n",
    "            except:\n",
    "                entry_converted = 'Not_found'\n",
    "                not_found += 1\n",
    "            \n",
    "            # take a break\n",
    "            sleep(1)\n",
    "        \n",
    "        # add to the final output list\n",
    "        converted_id_list.append(entry_converted)\n",
    "        \n",
    "        # log every 100\n",
    "        if i % 100 == 0: print(i, gene, entry_converted)\n",
    "\n",
    "    \n",
    "    return converted_id_list, reused, similar_but_differ, not_found"
   ]
  },
  {
   "cell_type": "code",
   "execution_count": 10,
   "id": "fafcc54b-caee-4639-be6d-5791aefe8a20",
   "metadata": {
    "tags": []
   },
   "outputs": [
    {
     "name": "stdout",
     "output_type": "stream",
     "text": [
      "0 W Not_found\n",
      "100 SEMA6B Q9H3T3\n",
      "200 LRP12 Q9Y561\n",
      "300 DCBLD2 Q96PD2\n",
      "400 SMIM41 A0A2R8YCJ5\n",
      "500 PREB Q9HCU5\n",
      "600 TMEM61 Q8N0U2\n",
      "700 BRICD5 Q6PL45\n",
      "800 HHLA2 Q9UM44\n",
      "900 Nrros Q86YC3\n",
      "1000 Zdhhc19 Q8WVZ1\n",
      "1100 Tomm70 O94826\n",
      "1200 Ms4a13 Q5J8X5\n",
      "1300 PLPPR2 Q96GM1\n",
      "1400 TMEM54 Q969K7\n",
      "1500 clc-5 Not_found\n",
      "1600 nra-2 Not_found\n",
      "1700 Unknown Not_found\n",
      "1800 Unknown Not_found\n",
      "1900 Klri2 Not_found\n",
      "2000 TMEM196 Q5HYL7\n",
      "2100 ATP1B4 Q9UN42\n",
      "2200 frc Not_found\n",
      "2300 DppIII Not_found\n",
      "2400 slc39a10 Q9ULF5\n",
      "2500 PAPI Not_found\n",
      "{\"url\":\"http://rest.uniprot.org/uniprotkb/search\",\"messages\":[\"query parameter has an invalid syntax\"]}\n",
      "{\"url\":\"http://rest.uniprot.org/uniprotkb/search\",\"messages\":[\"query parameter has an invalid syntax\"]}\n",
      "2600 chrnd Q07001\n",
      "{\"url\":\"http://rest.uniprot.org/uniprotkb/search\",\"messages\":[\"query parameter has an invalid syntax\"]}\n",
      "2700 Unknown Not_found\n",
      "{\"url\":\"http://rest.uniprot.org/uniprotkb/search\",\"messages\":[\"query parameter has an invalid syntax\"]}\n",
      "Total number of genes that got converted to Hs:  1162\n",
      "Number of genes for which similar gene name was found in Hs:  74\n",
      "Number of genes for which Hs homolog was not found:  673\n"
     ]
    }
   ],
   "source": [
    "# get human entry\n",
    "converted_entry_Hs, reused, non_match, not_found = entry_convert(df_metazoanGenes, 'Homo sapiens')\n",
    "\n",
    "print('Total number of genes that got converted to Hs: ', len(df_metazoanGenes) - reused - similar_but_differ - not_found)\n",
    "print('Number of genes for which similar gene name was found in Hs: ', similar_but_differ)\n",
    "print('Number of genes for which Hs homolog was not found: ', not_found)"
   ]
  },
  {
   "cell_type": "code",
   "execution_count": 11,
   "id": "d0cba823-a4d5-4748-b59d-d37617623598",
   "metadata": {},
   "outputs": [],
   "source": [
    "# Add the result to Entry_Hs column\n",
    "df_metazoanGenes['Entry_Hs'] = converted_entry_Hs"
   ]
  },
  {
   "cell_type": "code",
   "execution_count": 12,
   "id": "d2596e2d-6978-4b14-bf80-b00a8a0d6f35",
   "metadata": {
    "tags": []
   },
   "outputs": [
    {
     "name": "stdout",
     "output_type": "stream",
     "text": [
      "0 W Not_found\n",
      "100 SEMA6B O54951\n",
      "200 LRP12 Q8BUJ9\n",
      "300 DCBLD2 Q91ZV3\n",
      "400 SMIM41 Not_found\n",
      "500 PREB Q9WUQ2\n",
      "600 TMEM61 Not_found\n",
      "700 BRICD5 Not_found\n",
      "800 HHLA2 Not_found\n",
      "900 Nrros Q8BMT4\n",
      "1000 Zdhhc19 Q810M5\n",
      "1100 Tomm70 Q9CZW5\n",
      "1200 Ms4a13 Q5FWC3\n",
      "1300 PLPPR2 Q8VCY8\n",
      "1400 TMEM54 Q9D7S1\n",
      "1500 clc-5 Not_found\n",
      "1600 nra-2 Not_found\n",
      "1700 Unknown Not_found\n",
      "1800 Unknown Not_found\n",
      "1900 Klri2 Q5DT36\n",
      "2000 TMEM196 Not_found\n",
      "2100 ATP1B4 Q99ME6\n",
      "2200 frc Not_found\n",
      "2300 DppIII Not_found\n",
      "2400 slc39a10 Q6P5F6\n",
      "2500 PAPI Not_found\n",
      "{\"url\":\"http://rest.uniprot.org/uniprotkb/search\",\"messages\":[\"query parameter has an invalid syntax\"]}\n",
      "{\"url\":\"http://rest.uniprot.org/uniprotkb/search\",\"messages\":[\"query parameter has an invalid syntax\"]}\n",
      "2600 chrnd P02716\n",
      "{\"url\":\"http://rest.uniprot.org/uniprotkb/search\",\"messages\":[\"query parameter has an invalid syntax\"]}\n",
      "2700 Unknown Not_found\n",
      "{\"url\":\"http://rest.uniprot.org/uniprotkb/search\",\"messages\":[\"query parameter has an invalid syntax\"]}\n",
      "Total number of genes that got converted to Mm:  1316\n",
      "Number of genes for which similar gene name was found in Mm:  111\n",
      "Number of genes for which Mm homolog was not found:  854\n"
     ]
    }
   ],
   "source": [
    "# get mouse entry\n",
    "converted_entry_Mm, reused, non_match, not_found = entry_convert(df_metazoanGenes, 'Mus musculus')\n",
    "\n",
    "print('Total number of genes that got converted to Mm: ', len(df_metazoanGenes) - reused - similar_but_differ - not_found)\n",
    "print('Number of genes for which similar gene name was found in Mm: ', similar_but_differ)\n",
    "print('Number of genes for which Mm homolog was not found: ', not_found)"
   ]
  },
  {
   "cell_type": "code",
   "execution_count": 13,
   "id": "5b7cf302-a2cd-4bd6-867f-cb88f39ec926",
   "metadata": {},
   "outputs": [],
   "source": [
    "# Add the result to Entry_Mm column\n",
    "df_metazoanGenes['Entry_Mm'] = converted_entry_Mm"
   ]
  },
  {
   "cell_type": "code",
   "execution_count": 17,
   "id": "b38b2f2d-97f0-4cab-a66e-7cdad369571a",
   "metadata": {},
   "outputs": [
    {
     "data": {
      "text/html": [
       "<div>\n",
       "<style scoped>\n",
       "    .dataframe tbody tr th:only-of-type {\n",
       "        vertical-align: middle;\n",
       "    }\n",
       "\n",
       "    .dataframe tbody tr th {\n",
       "        vertical-align: top;\n",
       "    }\n",
       "\n",
       "    .dataframe thead th {\n",
       "        text-align: right;\n",
       "    }\n",
       "</style>\n",
       "<table border=\"1\" class=\"dataframe\">\n",
       "  <thead>\n",
       "    <tr style=\"text-align: right;\">\n",
       "      <th></th>\n",
       "      <th>Entry_original</th>\n",
       "      <th>Organism</th>\n",
       "      <th>Gene_name</th>\n",
       "      <th>Protein_name</th>\n",
       "      <th>AH_or_Not</th>\n",
       "      <th>AA_sequence</th>\n",
       "      <th>Prediction</th>\n",
       "      <th>SubCell_Uniprot</th>\n",
       "      <th>Entry_Hs</th>\n",
       "      <th>Entry_Mm</th>\n",
       "    </tr>\n",
       "  </thead>\n",
       "  <tbody>\n",
       "    <tr>\n",
       "      <th>0</th>\n",
       "      <td>Q16928</td>\n",
       "      <td>Anopheles albimanus</td>\n",
       "      <td>W</td>\n",
       "      <td>Protein white</td>\n",
       "      <td>Non-AH</td>\n",
       "      <td>MTINTDDQYADGESKTTISSNRRYSTSSFQDQSMEDDGINATLTND...</td>\n",
       "      <td>0000000000000000000000000000000000000000000000...</td>\n",
       "      <td>Membrane</td>\n",
       "      <td>Not_found</td>\n",
       "      <td>Not_found</td>\n",
       "    </tr>\n",
       "    <tr>\n",
       "      <th>1</th>\n",
       "      <td>Q01151</td>\n",
       "      <td>Homo sapiens</td>\n",
       "      <td>CD83</td>\n",
       "      <td>CD83 antigen</td>\n",
       "      <td>Non-AH</td>\n",
       "      <td>MSRGLQLLLLSCAYSLAPATPEVKVACSEDVDLPCTAPWDPQVPYT...</td>\n",
       "      <td>0000000000000000000000000000000000000000000000...</td>\n",
       "      <td>Membrane</td>\n",
       "      <td>Q01151</td>\n",
       "      <td>O88324</td>\n",
       "    </tr>\n",
       "    <tr>\n",
       "      <th>2</th>\n",
       "      <td>Q0P6D2</td>\n",
       "      <td>Homo sapiens</td>\n",
       "      <td>DIPK1C</td>\n",
       "      <td>Divergent protein kinase domain 1C</td>\n",
       "      <td>AH</td>\n",
       "      <td>MARAAGARGPAGWCRRRGRCGRGTLLAFAAWTAGWVLAAALLLRAH...</td>\n",
       "      <td>0000000000000000000000000000000000000000000000...</td>\n",
       "      <td>Endoplasmic reticulum membrane</td>\n",
       "      <td>Q0P6D2</td>\n",
       "      <td>Q8BQT2</td>\n",
       "    </tr>\n",
       "    <tr>\n",
       "      <th>3</th>\n",
       "      <td>Q06136</td>\n",
       "      <td>Homo sapiens</td>\n",
       "      <td>KDSR</td>\n",
       "      <td>3-ketodihydrosphingosine reductase</td>\n",
       "      <td>AH</td>\n",
       "      <td>MLLLAAAFLVAFVLLLYMVSPLISPKPLALPGAHVVVTGGSSGIGK...</td>\n",
       "      <td>0000000000000000000000000000000000000000000000...</td>\n",
       "      <td>Endoplasmic reticulum membrane</td>\n",
       "      <td>Q06136</td>\n",
       "      <td>Q6GV12</td>\n",
       "    </tr>\n",
       "    <tr>\n",
       "      <th>4</th>\n",
       "      <td>Q3C1V0</td>\n",
       "      <td>Homo sapiens</td>\n",
       "      <td>MS4A18</td>\n",
       "      <td>Membrane-spanning 4-domains subfamily A member 18</td>\n",
       "      <td>AH</td>\n",
       "      <td>MTEQVIGANSVPGIIAPDNVHVIQPSNPVASGNHLQPSEVTTYPIS...</td>\n",
       "      <td>0000000000000000000000000000000000000000000000...</td>\n",
       "      <td>Membrane</td>\n",
       "      <td>Q3C1V0</td>\n",
       "      <td>Not_found</td>\n",
       "    </tr>\n",
       "  </tbody>\n",
       "</table>\n",
       "</div>"
      ],
      "text/plain": [
       "  Entry_original             Organism Gene_name  \\\n",
       "0         Q16928  Anopheles albimanus         W   \n",
       "1         Q01151         Homo sapiens      CD83   \n",
       "2         Q0P6D2         Homo sapiens    DIPK1C   \n",
       "3         Q06136         Homo sapiens      KDSR   \n",
       "4         Q3C1V0         Homo sapiens    MS4A18   \n",
       "\n",
       "                                        Protein_name AH_or_Not  \\\n",
       "0                                      Protein white    Non-AH   \n",
       "1                                       CD83 antigen    Non-AH   \n",
       "2                 Divergent protein kinase domain 1C        AH   \n",
       "3                 3-ketodihydrosphingosine reductase        AH   \n",
       "4  Membrane-spanning 4-domains subfamily A member 18        AH   \n",
       "\n",
       "                                         AA_sequence  \\\n",
       "0  MTINTDDQYADGESKTTISSNRRYSTSSFQDQSMEDDGINATLTND...   \n",
       "1  MSRGLQLLLLSCAYSLAPATPEVKVACSEDVDLPCTAPWDPQVPYT...   \n",
       "2  MARAAGARGPAGWCRRRGRCGRGTLLAFAAWTAGWVLAAALLLRAH...   \n",
       "3  MLLLAAAFLVAFVLLLYMVSPLISPKPLALPGAHVVVTGGSSGIGK...   \n",
       "4  MTEQVIGANSVPGIIAPDNVHVIQPSNPVASGNHLQPSEVTTYPIS...   \n",
       "\n",
       "                                          Prediction  \\\n",
       "0  0000000000000000000000000000000000000000000000...   \n",
       "1  0000000000000000000000000000000000000000000000...   \n",
       "2  0000000000000000000000000000000000000000000000...   \n",
       "3  0000000000000000000000000000000000000000000000...   \n",
       "4  0000000000000000000000000000000000000000000000...   \n",
       "\n",
       "                  SubCell_Uniprot   Entry_Hs   Entry_Mm  \n",
       "0                        Membrane  Not_found  Not_found  \n",
       "1                        Membrane     Q01151     O88324  \n",
       "2  Endoplasmic reticulum membrane     Q0P6D2     Q8BQT2  \n",
       "3  Endoplasmic reticulum membrane     Q06136     Q6GV12  \n",
       "4                        Membrane     Q3C1V0  Not_found  "
      ]
     },
     "execution_count": 17,
     "metadata": {},
     "output_type": "execute_result"
    }
   ],
   "source": [
    "df_metazoanGenes.head(n=5)"
   ]
  },
  {
   "cell_type": "code",
   "execution_count": 16,
   "id": "d8650760-274d-45f0-8dac-cb431a510d91",
   "metadata": {},
   "outputs": [],
   "source": [
    "# Export\n",
    "df_metazoanGenes.to_csv('./IntermediateProducts/Results_step_3.csv', index=False)"
   ]
  },
  {
   "cell_type": "markdown",
   "id": "e650777c-edd2-495b-98e1-9c714741657b",
   "metadata": {},
   "source": [
    "# Step 4. Merge with proteome data"
   ]
  },
  {
   "cell_type": "markdown",
   "id": "52afa69e-ce51-4d47-8ec1-c28e6b86eea0",
   "metadata": {},
   "source": [
    "## 4-1. Human Protein Atlas (HPA)"
   ]
  },
  {
   "cell_type": "code",
   "execution_count": 2,
   "id": "c595c6ce-8191-4dac-9088-b76cdd4220a4",
   "metadata": {},
   "outputs": [],
   "source": [
    "# MemBrain\n",
    "df_MB = pd.read_csv('./IntermediateProducts/Results_step_3.csv')\n",
    "\n",
    "# Human protein atlas\n",
    "df_HPA = pd.read_csv('./IntermediateProducts/HumanProteinAtlas/HPA_val_supp_nucleus.csv')"
   ]
  },
  {
   "cell_type": "code",
   "execution_count": 3,
   "id": "61bfdc50-1429-4e47-8876-c7c350ff3e69",
   "metadata": {},
   "outputs": [
    {
     "name": "stdout",
     "output_type": "stream",
     "text": [
      "2050\n"
     ]
    }
   ],
   "source": [
    "# how many genes have either human or mouse Entry\n",
    "print(len(df_MB[(df_MB.Entry_Hs != 'Not_found')|(df_MB.Entry_Mm != 'Not_found')]))"
   ]
  },
  {
   "cell_type": "code",
   "execution_count": 53,
   "id": "229b30a9-31fb-44a8-9141-685002ff8aff",
   "metadata": {},
   "outputs": [],
   "source": [
    "# Merge\n",
    "df_MB = df_MB.merge(df_HPA, how='left', left_on='Entry_Hs', right_on='Uniprot')"
   ]
  },
  {
   "cell_type": "code",
   "execution_count": 54,
   "id": "0292464b-f06e-4850-b30f-76e8c30ad02b",
   "metadata": {},
   "outputs": [
    {
     "name": "stdout",
     "output_type": "stream",
     "text": [
      "Entry_original          0\n",
      "Organism                0\n",
      "Gene_name               0\n",
      "Protein_name            0\n",
      "AH_or_Not               0\n",
      "AA_sequence             0\n",
      "Prediction              0\n",
      "SubCell_Uniprot         0\n",
      "Entry_Hs                0\n",
      "Entry_Mm                0\n",
      "Gene                 2648\n",
      "Uniprot              2648\n",
      "Reliability          2648\n",
      "IF location score    2648\n",
      "dtype: int64\n"
     ]
    }
   ],
   "source": [
    "# null check\n",
    "print(df_MB.isnull().sum())"
   ]
  },
  {
   "cell_type": "code",
   "execution_count": 55,
   "id": "595a8b47-dc80-4d11-8e9b-2c505eecc5fd",
   "metadata": {},
   "outputs": [],
   "source": [
    "#fill NaN\n",
    "df_MB.fillna('Not_found', inplace=True)"
   ]
  },
  {
   "cell_type": "code",
   "execution_count": 56,
   "id": "77d78d99-f76b-431f-95e9-fc0d5d0187c8",
   "metadata": {},
   "outputs": [
    {
     "data": {
      "text/plain": [
       "Index(['Entry_original', 'Organism', 'Gene_name', 'Protein_name', 'AH_or_Not',\n",
       "       'AA_sequence', 'Prediction', 'SubCell_Uniprot', 'Entry_Hs', 'Entry_Mm',\n",
       "       'Gene', 'Uniprot', 'Reliability', 'IF location score'],\n",
       "      dtype='object')"
      ]
     },
     "execution_count": 56,
     "metadata": {},
     "output_type": "execute_result"
    }
   ],
   "source": [
    "df_MB.columns"
   ]
  },
  {
   "cell_type": "code",
   "execution_count": 57,
   "id": "5ff66f9c-2883-4518-a634-3dc8ec1d7d9b",
   "metadata": {},
   "outputs": [],
   "source": [
    "df_MB = df_MB[['Entry_original', 'Organism', 'Gene_name', 'Protein_name', 'AH_or_Not',\n",
    "       'AA_sequence', 'Prediction', 'Entry_Hs', 'Entry_Mm', 'SubCell_Uniprot', 'IF location score',\n",
    "       'Reliability']]\n",
    "\n",
    "df_MB = df_MB.rename(columns={'Reliability': 'HPA_reliability', 'IF location score': 'SubCell_HPA'})"
   ]
  },
  {
   "cell_type": "code",
   "execution_count": 58,
   "id": "736fb30e-838f-420b-8f84-24d02ad3c3b9",
   "metadata": {},
   "outputs": [
    {
     "data": {
      "text/html": [
       "<div>\n",
       "<style scoped>\n",
       "    .dataframe tbody tr th:only-of-type {\n",
       "        vertical-align: middle;\n",
       "    }\n",
       "\n",
       "    .dataframe tbody tr th {\n",
       "        vertical-align: top;\n",
       "    }\n",
       "\n",
       "    .dataframe thead th {\n",
       "        text-align: right;\n",
       "    }\n",
       "</style>\n",
       "<table border=\"1\" class=\"dataframe\">\n",
       "  <thead>\n",
       "    <tr style=\"text-align: right;\">\n",
       "      <th></th>\n",
       "      <th>Entry_original</th>\n",
       "      <th>Organism</th>\n",
       "      <th>Gene_name</th>\n",
       "      <th>Protein_name</th>\n",
       "      <th>AH_or_Not</th>\n",
       "      <th>AA_sequence</th>\n",
       "      <th>Prediction</th>\n",
       "      <th>Entry_Hs</th>\n",
       "      <th>Entry_Mm</th>\n",
       "      <th>SubCell_Uniprot</th>\n",
       "      <th>SubCell_HPA</th>\n",
       "      <th>HPA_reliability</th>\n",
       "    </tr>\n",
       "  </thead>\n",
       "  <tbody>\n",
       "    <tr>\n",
       "      <th>0</th>\n",
       "      <td>Q16928</td>\n",
       "      <td>Anopheles albimanus</td>\n",
       "      <td>W</td>\n",
       "      <td>Protein white</td>\n",
       "      <td>Non-AH</td>\n",
       "      <td>MTINTDDQYADGESKTTISSNRRYSTSSFQDQSMEDDGINATLTND...</td>\n",
       "      <td>0000000000000000000000000000000000000000000000...</td>\n",
       "      <td>Not_found</td>\n",
       "      <td>Not_found</td>\n",
       "      <td>Membrane</td>\n",
       "      <td>Not_found</td>\n",
       "      <td>Not_found</td>\n",
       "    </tr>\n",
       "    <tr>\n",
       "      <th>1</th>\n",
       "      <td>Q01151</td>\n",
       "      <td>Homo sapiens</td>\n",
       "      <td>CD83</td>\n",
       "      <td>CD83 antigen</td>\n",
       "      <td>Non-AH</td>\n",
       "      <td>MSRGLQLLLLSCAYSLAPATPEVKVACSEDVDLPCTAPWDPQVPYT...</td>\n",
       "      <td>0000000000000000000000000000000000000000000000...</td>\n",
       "      <td>Q01151</td>\n",
       "      <td>O88324</td>\n",
       "      <td>Membrane</td>\n",
       "      <td>Not_found</td>\n",
       "      <td>Not_found</td>\n",
       "    </tr>\n",
       "    <tr>\n",
       "      <th>2</th>\n",
       "      <td>Q0P6D2</td>\n",
       "      <td>Homo sapiens</td>\n",
       "      <td>DIPK1C</td>\n",
       "      <td>Divergent protein kinase domain 1C</td>\n",
       "      <td>AH</td>\n",
       "      <td>MARAAGARGPAGWCRRRGRCGRGTLLAFAAWTAGWVLAAALLLRAH...</td>\n",
       "      <td>0000000000000000000000000000000000000000000000...</td>\n",
       "      <td>Q0P6D2</td>\n",
       "      <td>Q8BQT2</td>\n",
       "      <td>Endoplasmic reticulum membrane</td>\n",
       "      <td>Not_found</td>\n",
       "      <td>Not_found</td>\n",
       "    </tr>\n",
       "    <tr>\n",
       "      <th>3</th>\n",
       "      <td>Q06136</td>\n",
       "      <td>Homo sapiens</td>\n",
       "      <td>KDSR</td>\n",
       "      <td>3-ketodihydrosphingosine reductase</td>\n",
       "      <td>AH</td>\n",
       "      <td>MLLLAAAFLVAFVLLLYMVSPLISPKPLALPGAHVVVTGGSSGIGK...</td>\n",
       "      <td>0000000000000000000000000000000000000000000000...</td>\n",
       "      <td>Q06136</td>\n",
       "      <td>Q6GV12</td>\n",
       "      <td>Endoplasmic reticulum membrane</td>\n",
       "      <td>Not_found</td>\n",
       "      <td>Not_found</td>\n",
       "    </tr>\n",
       "    <tr>\n",
       "      <th>4</th>\n",
       "      <td>Q3C1V0</td>\n",
       "      <td>Homo sapiens</td>\n",
       "      <td>MS4A18</td>\n",
       "      <td>Membrane-spanning 4-domains subfamily A member 18</td>\n",
       "      <td>AH</td>\n",
       "      <td>MTEQVIGANSVPGIIAPDNVHVIQPSNPVASGNHLQPSEVTTYPIS...</td>\n",
       "      <td>0000000000000000000000000000000000000000000000...</td>\n",
       "      <td>Q3C1V0</td>\n",
       "      <td>Not_found</td>\n",
       "      <td>Membrane</td>\n",
       "      <td>Not_found</td>\n",
       "      <td>Not_found</td>\n",
       "    </tr>\n",
       "  </tbody>\n",
       "</table>\n",
       "</div>"
      ],
      "text/plain": [
       "  Entry_original             Organism Gene_name  \\\n",
       "0         Q16928  Anopheles albimanus         W   \n",
       "1         Q01151         Homo sapiens      CD83   \n",
       "2         Q0P6D2         Homo sapiens    DIPK1C   \n",
       "3         Q06136         Homo sapiens      KDSR   \n",
       "4         Q3C1V0         Homo sapiens    MS4A18   \n",
       "\n",
       "                                        Protein_name AH_or_Not  \\\n",
       "0                                      Protein white    Non-AH   \n",
       "1                                       CD83 antigen    Non-AH   \n",
       "2                 Divergent protein kinase domain 1C        AH   \n",
       "3                 3-ketodihydrosphingosine reductase        AH   \n",
       "4  Membrane-spanning 4-domains subfamily A member 18        AH   \n",
       "\n",
       "                                         AA_sequence  \\\n",
       "0  MTINTDDQYADGESKTTISSNRRYSTSSFQDQSMEDDGINATLTND...   \n",
       "1  MSRGLQLLLLSCAYSLAPATPEVKVACSEDVDLPCTAPWDPQVPYT...   \n",
       "2  MARAAGARGPAGWCRRRGRCGRGTLLAFAAWTAGWVLAAALLLRAH...   \n",
       "3  MLLLAAAFLVAFVLLLYMVSPLISPKPLALPGAHVVVTGGSSGIGK...   \n",
       "4  MTEQVIGANSVPGIIAPDNVHVIQPSNPVASGNHLQPSEVTTYPIS...   \n",
       "\n",
       "                                          Prediction   Entry_Hs   Entry_Mm  \\\n",
       "0  0000000000000000000000000000000000000000000000...  Not_found  Not_found   \n",
       "1  0000000000000000000000000000000000000000000000...     Q01151     O88324   \n",
       "2  0000000000000000000000000000000000000000000000...     Q0P6D2     Q8BQT2   \n",
       "3  0000000000000000000000000000000000000000000000...     Q06136     Q6GV12   \n",
       "4  0000000000000000000000000000000000000000000000...     Q3C1V0  Not_found   \n",
       "\n",
       "                  SubCell_Uniprot SubCell_HPA HPA_reliability  \n",
       "0                        Membrane   Not_found       Not_found  \n",
       "1                        Membrane   Not_found       Not_found  \n",
       "2  Endoplasmic reticulum membrane   Not_found       Not_found  \n",
       "3  Endoplasmic reticulum membrane   Not_found       Not_found  \n",
       "4                        Membrane   Not_found       Not_found  "
      ]
     },
     "execution_count": 58,
     "metadata": {},
     "output_type": "execute_result"
    }
   ],
   "source": [
    "df_MB.head()"
   ]
  },
  {
   "cell_type": "code",
   "execution_count": 59,
   "id": "107a7181-18e7-4d08-aad4-c84a93207426",
   "metadata": {},
   "outputs": [],
   "source": [
    "# Export\n",
    "df_MB.to_csv('./IntermediateProducts/Results_step_4-1_HPA.csv', index=False)"
   ]
  },
  {
   "cell_type": "markdown",
   "id": "26f24acd-c837-4582-b74e-6c633ab42dff",
   "metadata": {},
   "source": [
    "## 4-2. Schirmer et al 2003"
   ]
  },
  {
   "cell_type": "code",
   "execution_count": 2,
   "id": "1e07277b-68f1-43c1-9fb4-071da3543dfe",
   "metadata": {},
   "outputs": [],
   "source": [
    "# MemBrain\n",
    "df_MB = pd.read_csv('./IntermediateProducts/Results_step_4-1_HPA.csv')\n",
    "\n",
    "# Schirmer 2003 data\n",
    "df_Schirmer = pd.read_csv('./IntermediateProducts/ProteomePapers/Schirmer_2003.csv')"
   ]
  },
  {
   "cell_type": "code",
   "execution_count": 3,
   "id": "66803091-d31c-4757-9263-f0eb9cd3fc2f",
   "metadata": {},
   "outputs": [],
   "source": [
    "# select columns\n",
    "df_Schirmer = df_Schirmer[['Entry', 'Entry name']]"
   ]
  },
  {
   "cell_type": "code",
   "execution_count": 4,
   "id": "2de9b60c-811a-4e97-8c6b-2339002d0f6f",
   "metadata": {},
   "outputs": [],
   "source": [
    "# Merge\n",
    "df_MB = df_MB.merge(df_Schirmer, how='left', left_on='Entry_Hs', right_on='Entry')"
   ]
  },
  {
   "cell_type": "code",
   "execution_count": 11,
   "id": "e4a5a9d1-aecd-4564-9f8c-41beec7e8ae9",
   "metadata": {},
   "outputs": [
    {
     "name": "stdout",
     "output_type": "stream",
     "text": [
      "Entry_original        0\n",
      "Organism              0\n",
      "Gene_name             0\n",
      "Protein_name          0\n",
      "AH_or_Not             0\n",
      "AA_sequence           0\n",
      "Prediction            0\n",
      "Entry_Hs              0\n",
      "Entry_Mm              0\n",
      "SubCell_Uniprot       0\n",
      "SubCell_HPA           0\n",
      "HPA_reliability       0\n",
      "Entry              2726\n",
      "Entry name         2726\n",
      "dtype: int64\n",
      "----- \n",
      "\n",
      "The number of genes that are found in Schirmer et al Human genes is  7\n"
     ]
    }
   ],
   "source": [
    "# null check\n",
    "print(df_MB.isnull().sum())\n",
    "print('----- \\n')\n",
    "print(\"The number of genes that are found in Schirmer et al Human genes is \", len(df_MB) - df_MB['Entry'].isnull().sum())"
   ]
  },
  {
   "cell_type": "code",
   "execution_count": 12,
   "id": "5dc9f724-7a72-4cb6-b12f-45eb33fd55c2",
   "metadata": {},
   "outputs": [],
   "source": [
    "# Drop \"Entry name\"\n",
    "df_MB = df_MB.drop(columns=['Entry name'], axis=1)"
   ]
  },
  {
   "cell_type": "code",
   "execution_count": 13,
   "id": "d12e3e45-dad3-48c1-9a35-f53bc4659eba",
   "metadata": {},
   "outputs": [],
   "source": [
    "# Repeat Merge for Mouse entry because the Schirmer data contains mouse entry as well\n",
    "df_MB = df_MB.merge(df_Schirmer, how='left', left_on='Entry_Mm', right_on='Entry')"
   ]
  },
  {
   "cell_type": "code",
   "execution_count": 14,
   "id": "e4512d95-b21d-4e3c-8acd-30b6da20bb05",
   "metadata": {},
   "outputs": [
    {
     "name": "stdout",
     "output_type": "stream",
     "text": [
      "Entry_original        0\n",
      "Organism              0\n",
      "Gene_name             0\n",
      "Protein_name          0\n",
      "AH_or_Not             0\n",
      "AA_sequence           0\n",
      "Prediction            0\n",
      "Entry_Hs              0\n",
      "Entry_Mm              0\n",
      "SubCell_Uniprot       0\n",
      "SubCell_HPA           0\n",
      "HPA_reliability       0\n",
      "Entry_x            2726\n",
      "Entry_y            2728\n",
      "Entry name         2728\n",
      "dtype: int64\n",
      "----- \n",
      "\n",
      "The number of genes that are found in Schirmer et al Mouse genes is  5\n"
     ]
    }
   ],
   "source": [
    "# null check\n",
    "print(df_MB.isnull().sum())\n",
    "print('----- \\n')\n",
    "print(\"The number of genes that are found in Schirmer et al Mouse genes is \", len(df_MB) - df_MB['Entry_y'].isnull().sum())"
   ]
  },
  {
   "cell_type": "code",
   "execution_count": 15,
   "id": "770e0eeb-3fcc-4f25-9041-073b1ac85525",
   "metadata": {},
   "outputs": [],
   "source": [
    "# replace NaN with 0 for the following lambda\n",
    "df_MB.fillna(0, inplace=True)\n",
    "\n",
    "# Put Subcell_Schirmer2003\n",
    "df_MB['Subcell_Schirmer2003'] = df_MB.apply(lambda x: 'Nuclear membrane' if (x['Entry_x'] != 0) | (x['Entry_y'] != 0) else 'Not_found', axis=1)"
   ]
  },
  {
   "cell_type": "code",
   "execution_count": 16,
   "id": "0f883c0a-e414-483c-aa90-b29f7b6cbc3c",
   "metadata": {},
   "outputs": [],
   "source": [
    "# Drop unnecessary columns\n",
    "df_MB = df_MB.drop(columns=['Entry name', 'Entry_x', 'Entry_y'], axis=1)\n",
    "\n",
    "# Check\n",
    "# df_MB[df_MB['Subcell_Schirmer2003'] != 'Not_found']"
   ]
  },
  {
   "cell_type": "code",
   "execution_count": 17,
   "id": "b24b0598-0fc2-4d67-b083-1d80b9a8ee63",
   "metadata": {},
   "outputs": [
    {
     "name": "stdout",
     "output_type": "stream",
     "text": [
      "<class 'pandas.core.frame.DataFrame'>\n",
      "Int64Index: 2733 entries, 0 to 2732\n",
      "Data columns (total 13 columns):\n",
      " #   Column                Non-Null Count  Dtype \n",
      "---  ------                --------------  ----- \n",
      " 0   Entry_original        2733 non-null   object\n",
      " 1   Organism              2733 non-null   object\n",
      " 2   Gene_name             2733 non-null   object\n",
      " 3   Protein_name          2733 non-null   object\n",
      " 4   AH_or_Not             2733 non-null   object\n",
      " 5   AA_sequence           2733 non-null   object\n",
      " 6   Prediction            2733 non-null   object\n",
      " 7   Entry_Hs              2733 non-null   object\n",
      " 8   Entry_Mm              2733 non-null   object\n",
      " 9   SubCell_Uniprot       2733 non-null   object\n",
      " 10  SubCell_HPA           2733 non-null   object\n",
      " 11  HPA_reliability       2733 non-null   object\n",
      " 12  Subcell_Schirmer2003  2733 non-null   object\n",
      "dtypes: object(13)\n",
      "memory usage: 298.9+ KB\n"
     ]
    }
   ],
   "source": [
    "df_MB.info()"
   ]
  },
  {
   "cell_type": "code",
   "execution_count": 18,
   "id": "e52f6c8f-3e96-4f72-90b5-15babe1250a7",
   "metadata": {},
   "outputs": [],
   "source": [
    "# Export\n",
    "df_MB.to_csv('./IntermediateProducts/Results_step_4-2_Schirmer2003.csv', index=False)"
   ]
  },
  {
   "cell_type": "markdown",
   "id": "efcd6362-8daa-43e4-89d3-341518e05778",
   "metadata": {},
   "source": [
    "## 4-3. Korfali et al 2012"
   ]
  },
  {
   "cell_type": "code",
   "execution_count": 36,
   "id": "43c1d7f0-e074-4d56-88f7-7849c0990af0",
   "metadata": {},
   "outputs": [],
   "source": [
    "# MemBrain\n",
    "df_MB = pd.read_csv('./IntermediateProducts/Results_step_4-2_Schirmer2003.csv')\n",
    "\n",
    "# Korfali 2012 data\n",
    "df_Korfali2012 = pd.read_csv('./IntermediateProducts/ProteomePapers/Korfali_2012.csv')\n",
    "\n",
    "# Limit the Korfali data to those that have Entry\n",
    "df_Korfali2012 = df_Korfali2012[df_Korfali2012['Entry_Korfali_2012'] != 'Not_found']"
   ]
  },
  {
   "cell_type": "code",
   "execution_count": 37,
   "id": "78a2f3cd-730c-4c73-b666-26f2e9ffe4a0",
   "metadata": {},
   "outputs": [],
   "source": [
    "# Merge\n",
    "df_MB = df_MB.merge(df_Korfali2012, how='left', left_on='Entry_Hs', right_on='Entry_Korfali_2012')"
   ]
  },
  {
   "cell_type": "code",
   "execution_count": 41,
   "id": "e602c589-f626-4557-84d4-3d753e4d5b59",
   "metadata": {
    "collapsed": true,
    "jupyter": {
     "outputs_hidden": true
    },
    "tags": []
   },
   "outputs": [
    {
     "name": "stdout",
     "output_type": "stream",
     "text": [
      "Entry_original             0\n",
      "Organism                   0\n",
      "Gene_name                  0\n",
      "Protein_name               0\n",
      "AH_or_Not                  0\n",
      "AA_sequence                0\n",
      "Prediction                 0\n",
      "Entry_Hs                   0\n",
      "Entry_Mm                   0\n",
      "SubCell_Uniprot            0\n",
      "SubCell_HPA                0\n",
      "HPA_reliability            0\n",
      "Subcell_Schirmer2003       0\n",
      "tissue                  2675\n",
      "gene name               2675\n",
      "NE:MM ratio by dNSAF    2675\n",
      "Entry_Korfali_2012      2675\n",
      "dtype: int64\n",
      "----- \n",
      "\n",
      "The number of genes that are found in Korfali et al 2012 is  58\n"
     ]
    }
   ],
   "source": [
    "# null check\n",
    "print(df_MB.isnull().sum())\n",
    "print('----- \\n')\n",
    "print(\"The number of genes that are found in Korfali et al 2012 is \", len(df_MB) - df_MB['Entry_Korfali_2012'].isnull().sum())"
   ]
  },
  {
   "cell_type": "code",
   "execution_count": 42,
   "id": "e4eadba5-70ea-414e-b8cc-5f2b181b316d",
   "metadata": {},
   "outputs": [],
   "source": [
    "#fill NaN\n",
    "df_MB.fillna('Not_found', inplace=True)"
   ]
  },
  {
   "cell_type": "code",
   "execution_count": 43,
   "id": "8a5e1da4-72c5-4422-8b77-9d5b5bda477b",
   "metadata": {},
   "outputs": [
    {
     "data": {
      "text/plain": [
       "Index(['Entry_original', 'Organism', 'Gene_name', 'Protein_name', 'AH_or_Not',\n",
       "       'AA_sequence', 'Prediction', 'Entry_Hs', 'Entry_Mm', 'SubCell_Uniprot',\n",
       "       'SubCell_HPA', 'HPA_reliability', 'Subcell_Schirmer2003', 'tissue',\n",
       "       'gene name', 'NE:MM ratio by dNSAF', 'Entry_Korfali_2012'],\n",
       "      dtype='object')"
      ]
     },
     "execution_count": 43,
     "metadata": {},
     "output_type": "execute_result"
    }
   ],
   "source": [
    "df_MB.columns"
   ]
  },
  {
   "cell_type": "code",
   "execution_count": 44,
   "id": "bb7401d9-6fab-4363-b8a6-78f49a9333c2",
   "metadata": {},
   "outputs": [],
   "source": [
    "df_MB = df_MB[['Entry_original', 'Organism', 'Gene_name', 'Protein_name', 'AH_or_Not',\n",
    "       'AA_sequence', 'Prediction', 'Entry_Hs', 'Entry_Mm', 'SubCell_Uniprot',\n",
    "       'SubCell_HPA', 'HPA_reliability', 'Subcell_Schirmer2003', 'tissue', 'NE:MM ratio by dNSAF']]\n",
    "\n",
    "df_MB = df_MB.rename(columns={'tissue': 'Tissue_Korfali_2012', 'NE:MM ratio by dNSAF': 'NE:MM_ratio_Korfali_2012'})"
   ]
  },
  {
   "cell_type": "code",
   "execution_count": 49,
   "id": "51dc2f3c-50bf-4f7a-86a3-7934c2473106",
   "metadata": {},
   "outputs": [],
   "source": [
    "df_MB['Subcell_Korfali2012'] = df_MB.apply(lambda x: 'Nuclear membrane' if x['Tissue_Korfali_2012'] != 'Not_found' else 'Not_found', axis=1)"
   ]
  },
  {
   "cell_type": "code",
   "execution_count": 52,
   "id": "a28aeafa-69e3-40de-b3b4-13c57471f49b",
   "metadata": {},
   "outputs": [],
   "source": [
    "# Export\n",
    "df_MB.to_csv('./IntermediateProducts/Results_step_4-3_Korfali2012.csv', index=False)"
   ]
  },
  {
   "cell_type": "markdown",
   "id": "fda0cade-bcad-43cd-99c2-bd3f0e522a6e",
   "metadata": {},
   "source": [
    "## 4-4. Wilkie et al 2010"
   ]
  },
  {
   "cell_type": "code",
   "execution_count": 73,
   "id": "57da901b-c67f-4e1b-a296-5a7305554687",
   "metadata": {},
   "outputs": [],
   "source": [
    "# MemBrain\n",
    "df_MB = pd.read_csv('./IntermediateProducts/Results_step_4-3_Korfali2012.csv')\n",
    "\n",
    "# Wilkie 2010 data\n",
    "df_Wilkie2010 = pd.read_csv('./IntermediateProducts/ProteomePapers/Wilkie_2010.csv')"
   ]
  },
  {
   "cell_type": "code",
   "execution_count": 74,
   "id": "ba221600-1f93-4573-b871-603ec537c284",
   "metadata": {},
   "outputs": [],
   "source": [
    "# Limit the data to those that have Entry\n",
    "df_Wilkie2010 = df_Wilkie2010[df_Wilkie2010['Entry_Wilkie'] != 'Not_found']"
   ]
  },
  {
   "cell_type": "code",
   "execution_count": 75,
   "id": "af3771d4-c4a9-43d7-b07d-887872e44b1d",
   "metadata": {},
   "outputs": [],
   "source": [
    "# Merge\n",
    "df_MB = df_MB.merge(df_Wilkie2010, how='left', left_on='Entry_Hs', right_on='Entry_Wilkie')"
   ]
  },
  {
   "cell_type": "code",
   "execution_count": 76,
   "id": "fdeae877-d51f-4588-9c7b-b39ff535d0c8",
   "metadata": {
    "tags": []
   },
   "outputs": [
    {
     "name": "stdout",
     "output_type": "stream",
     "text": [
      "Entry_original                 0\n",
      "Organism                       0\n",
      "Gene_name                      0\n",
      "Protein_name                   0\n",
      "AH_or_Not                      0\n",
      "AA_sequence                    0\n",
      "Prediction                     0\n",
      "Entry_Hs                       0\n",
      "Entry_Mm                       0\n",
      "SubCell_Uniprot                0\n",
      "SubCell_HPA                    0\n",
      "HPA_reliability                0\n",
      "Subcell_Schirmer2003           0\n",
      "Tissue_Korfali_2012            0\n",
      "NE:MM_ratio_Korfali_2012       0\n",
      "Subcell_Korfali2012            0\n",
      "Entry_Wilkie                2682\n",
      "Gene_name_obtained          2682\n",
      "dtype: int64\n",
      "----- \n",
      "\n",
      "The number of genes that are found in Wilike et al 2010 is  51\n"
     ]
    }
   ],
   "source": [
    "# null check\n",
    "print(df_MB.isnull().sum())\n",
    "print('----- \\n')\n",
    "print(\"The number of genes that are found in Wilike et al 2010 is \", len(df_MB) - df_MB['Entry_Wilkie'].isnull().sum())"
   ]
  },
  {
   "cell_type": "code",
   "execution_count": 77,
   "id": "944c4d6a-6cdb-4ab2-b7e4-e28b94794918",
   "metadata": {},
   "outputs": [
    {
     "name": "stdout",
     "output_type": "stream",
     "text": [
      "Index(['Entry_original', 'Organism', 'Gene_name', 'Protein_name', 'AH_or_Not',\n",
      "       'AA_sequence', 'Prediction', 'Entry_Hs', 'Entry_Mm', 'SubCell_Uniprot',\n",
      "       'SubCell_HPA', 'HPA_reliability', 'Subcell_Schirmer2003',\n",
      "       'Tissue_Korfali_2012', 'NE:MM_ratio_Korfali_2012',\n",
      "       'Subcell_Korfali2012', 'Entry_Wilkie', 'Gene_name_obtained',\n",
      "       'Subcell_Wilkie2010'],\n",
      "      dtype='object')\n"
     ]
    }
   ],
   "source": [
    "# fillna\n",
    "df_MB.fillna('Not_found', inplace=True)\n",
    "\n",
    "# Assign subcell\n",
    "df_MB['Subcell_Wilkie2010'] = df_MB.apply(lambda x: 'Nuclear membrane' if x['Entry_Wilkie'] != 'Not_found' else 'Not_found', axis=1)\n",
    "\n",
    "print(df_MB.columns)"
   ]
  },
  {
   "cell_type": "code",
   "execution_count": 84,
   "id": "57d82fc6-6e7e-4371-8617-a201a4ca0ed2",
   "metadata": {},
   "outputs": [],
   "source": [
    "# drop columns and reorder\n",
    "df_MB = df_MB[['Entry_original', 'Organism', 'Gene_name', 'Protein_name', 'AH_or_Not',\n",
    "       'AA_sequence', 'Prediction', 'Entry_Hs', 'Entry_Mm', 'SubCell_Uniprot',\n",
    "       'SubCell_HPA', 'HPA_reliability', 'Subcell_Schirmer2003','Subcell_Korfali2012','Subcell_Wilkie2010',\n",
    "       'Tissue_Korfali_2012', 'NE:MM_ratio_Korfali_2012',]]"
   ]
  },
  {
   "cell_type": "code",
   "execution_count": 86,
   "id": "e5a2afed-b7df-4c07-8537-f3e65c5b2005",
   "metadata": {},
   "outputs": [],
   "source": [
    "# Export\n",
    "df_MB.to_csv('./IntermediateProducts/Results_step_4-4_Wilkie2010.csv', index=False)"
   ]
  },
  {
   "cell_type": "markdown",
   "id": "7487bb84-af4f-461f-bfe7-9ab66971c418",
   "metadata": {},
   "source": [
    "## 4-5. Korfali et al 2010"
   ]
  },
  {
   "cell_type": "code",
   "execution_count": 9,
   "id": "b4699b86-f612-478e-96ac-1aa495fcc0da",
   "metadata": {},
   "outputs": [],
   "source": [
    "# MemBrain\n",
    "df_MB = pd.read_csv('./IntermediateProducts/Results_step_4-4_Wilkie2010.csv')\n",
    "\n",
    "# Wilkie 2010 data\n",
    "df_Korfali2010 = pd.read_csv('./IntermediateProducts/ProteomePapers/Korfali_2010.csv')"
   ]
  },
  {
   "cell_type": "code",
   "execution_count": 11,
   "id": "d0053df3-f53b-4ca1-939d-af54339bc7a8",
   "metadata": {},
   "outputs": [],
   "source": [
    "# Limit the Korfali data to those that have Entry\n",
    "df_Korfali2010 = df_Korfali2010[df_Korfali2010['Entry_Korfali_2010'] != 'Not_found']"
   ]
  },
  {
   "cell_type": "code",
   "execution_count": 13,
   "id": "b17d2bad-6584-4f68-afaa-379ee923885d",
   "metadata": {},
   "outputs": [],
   "source": [
    "# Merge\n",
    "df_MB = df_MB.merge(df_Korfali2010, how='left', left_on='Entry_Hs', right_on='Entry_Korfali_2010')"
   ]
  },
  {
   "cell_type": "code",
   "execution_count": 17,
   "id": "ec3bb1ee-abb2-4e33-8470-bbd1f14cf947",
   "metadata": {},
   "outputs": [
    {
     "name": "stdout",
     "output_type": "stream",
     "text": [
      "Entry_original                 0\n",
      "Organism                       0\n",
      "Gene_name                      0\n",
      "Protein_name                   0\n",
      "AH_or_Not                      0\n",
      "AA_sequence                    0\n",
      "Prediction                     0\n",
      "Entry_Hs                       0\n",
      "Entry_Mm                       0\n",
      "SubCell_Uniprot                0\n",
      "SubCell_HPA                    0\n",
      "HPA_reliability                0\n",
      "Subcell_Schirmer2003           0\n",
      "Subcell_Korfali2012            0\n",
      "Subcell_Wilkie2010             0\n",
      "Tissue_Korfali_2012            0\n",
      "NE:MM_ratio_Korfali_2012       0\n",
      "Entry_Korfali_2010          2666\n",
      "Gene_name_obtained          2666\n",
      "dtype: int64\n",
      "\n",
      "------\n",
      "The number of genes found in df_MB is  67\n"
     ]
    }
   ],
   "source": [
    "# null check\n",
    "print(df_MB.isnull().sum())\n",
    "print('\\n------')\n",
    "print('The number of genes found in df_MB is ', len(df_MB) - df_MB['Entry_Korfali_2010'].isnull().sum())"
   ]
  },
  {
   "cell_type": "code",
   "execution_count": 18,
   "id": "3268bf84-73bf-4eb9-9c07-895b36acbc34",
   "metadata": {},
   "outputs": [],
   "source": [
    "# fillna\n",
    "df_MB.fillna('Not_found', inplace=True)\n",
    "\n",
    "# make a column 'Subcell_Korfali2010'\n",
    "df_MB['Subcell_Korfali2010'] = df_MB.apply(lambda x: 'Nuclear membrane' if x['Entry_Korfali_2010'] != 'Not_found' else 'Not_found', axis=1)"
   ]
  },
  {
   "cell_type": "code",
   "execution_count": 19,
   "id": "81bae340-c455-439d-b688-dc0775f6f5aa",
   "metadata": {},
   "outputs": [
    {
     "name": "stdout",
     "output_type": "stream",
     "text": [
      "Index(['Entry_original', 'Organism', 'Gene_name', 'Protein_name', 'AH_or_Not',\n",
      "       'AA_sequence', 'Prediction', 'Entry_Hs', 'Entry_Mm', 'SubCell_Uniprot',\n",
      "       'SubCell_HPA', 'HPA_reliability', 'Subcell_Schirmer2003',\n",
      "       'Subcell_Korfali2012', 'Subcell_Wilkie2010', 'Tissue_Korfali_2012',\n",
      "       'NE:MM_ratio_Korfali_2012', 'Entry_Korfali_2010', 'Gene_name_obtained',\n",
      "       'Subcell_Korfali2010'],\n",
      "      dtype='object')\n"
     ]
    }
   ],
   "source": [
    "print(df_MB.columns)"
   ]
  },
  {
   "cell_type": "code",
   "execution_count": 20,
   "id": "899b0122-3c4b-4555-9f64-464d0d75f760",
   "metadata": {},
   "outputs": [],
   "source": [
    "df_MB = df_MB[['Entry_original', 'Organism', 'Gene_name', 'Protein_name', 'AH_or_Not',\n",
    "       'AA_sequence', 'Prediction', 'Entry_Hs', 'Entry_Mm', 'SubCell_Uniprot',\n",
    "       'SubCell_HPA', 'HPA_reliability', 'Subcell_Schirmer2003','Subcell_Korfali2010',\n",
    "       'Subcell_Korfali2012', 'Subcell_Wilkie2010', 'Tissue_Korfali_2012',\n",
    "       'NE:MM_ratio_Korfali_2012']]"
   ]
  },
  {
   "cell_type": "code",
   "execution_count": 21,
   "id": "8e110af1-88c5-49dc-8648-96f0564b28de",
   "metadata": {},
   "outputs": [],
   "source": [
    "# export\n",
    "df_MB.to_csv('./IntermediateProducts/Results_step_4-5_Korfali2010.csv', index=False)"
   ]
  },
  {
   "cell_type": "markdown",
   "id": "46fe69ee-d6d3-410e-80cc-87b43bd75f86",
   "metadata": {},
   "source": [
    "## 4-6. Cheng et al 2019: 243 proteins"
   ]
  },
  {
   "cell_type": "code",
   "execution_count": 45,
   "id": "4e12ec3c-2d97-41c7-a3cb-ee98ae3d36f3",
   "metadata": {},
   "outputs": [],
   "source": [
    "# MemBrain\n",
    "df_MB = pd.read_csv('./IntermediateProducts/Results_step_4-5_Korfali2010.csv')\n",
    "\n",
    "# Cheng 2019 data\n",
    "df_Cheng2019 = pd.read_excel('./SourceData/Cheng_2019/Supplementary Table S3_clustering & peptide seq.xlsx')"
   ]
  },
  {
   "cell_type": "code",
   "execution_count": 46,
   "id": "79042acd-8331-4f34-8204-854ea19498e8",
   "metadata": {},
   "outputs": [],
   "source": [
    "# column names\n",
    "columns = df_Cheng2019.iloc[0, :].tolist()\n",
    "\n",
    "# extract values\n",
    "df_Cheng2019 = df_Cheng2019.iloc[1:, :]\n",
    "\n",
    "# rename columns\n",
    "df_Cheng2019.columns = columns"
   ]
  },
  {
   "cell_type": "code",
   "execution_count": 47,
   "id": "3ccf85c1-8eea-46af-be85-0c27841f04ae",
   "metadata": {},
   "outputs": [],
   "source": [
    "df_Cheng2019 = df_Cheng2019[['Accession No.', 'NE Enrich Score in U', 'NE Enrich Score in A', 'NE Enrich Score in M']]\n",
    "\n",
    "df_Cheng2019 = df_Cheng2019.rename({'Accession No.': 'Entry_Cheng2019'}, axis=1)"
   ]
  },
  {
   "cell_type": "code",
   "execution_count": 48,
   "id": "b64ab9f3-4b01-4caf-91a0-f5537e656595",
   "metadata": {},
   "outputs": [],
   "source": [
    "# merge\n",
    "df_MB = df_MB.merge(df_Cheng2019, how='left', left_on='Entry_Mm', right_on='Entry_Cheng2019')"
   ]
  },
  {
   "cell_type": "code",
   "execution_count": 49,
   "id": "ecdde3db-f6a1-4d01-bcf7-a35d7548f79d",
   "metadata": {},
   "outputs": [
    {
     "name": "stdout",
     "output_type": "stream",
     "text": [
      "Entry_original                 0\n",
      "Organism                       0\n",
      "Gene_name                      0\n",
      "Protein_name                   0\n",
      "AH_or_Not                      0\n",
      "AA_sequence                    0\n",
      "Prediction                     0\n",
      "Entry_Hs                       0\n",
      "Entry_Mm                       0\n",
      "SubCell_Uniprot                0\n",
      "SubCell_HPA                    0\n",
      "HPA_reliability                0\n",
      "Subcell_Schirmer2003           0\n",
      "Subcell_Korfali2010            0\n",
      "Subcell_Korfali2012            0\n",
      "Subcell_Wilkie2010             0\n",
      "Tissue_Korfali_2012            0\n",
      "NE:MM_ratio_Korfali_2012       0\n",
      "Entry_Cheng2019             2622\n",
      "NE Enrich Score in U        2622\n",
      "NE Enrich Score in A        2622\n",
      "NE Enrich Score in M        2622\n",
      "dtype: int64\n",
      "\n",
      "------\n",
      "The number of genes found in df_MB is  111\n"
     ]
    }
   ],
   "source": [
    "# null check\n",
    "print(df_MB.isnull().sum())\n",
    "print('\\n------')\n",
    "print('The number of genes found in df_MB is ', len(df_MB) - df_MB['Entry_Cheng2019'].isnull().sum())"
   ]
  },
  {
   "cell_type": "code",
   "execution_count": 50,
   "id": "cb742646-61eb-44cf-b1f8-c06c8ae681dd",
   "metadata": {},
   "outputs": [],
   "source": [
    "# fillna\n",
    "df_MB.fillna('Not_found', inplace=True)\n",
    "\n",
    "# make a column 'Subcell_Korfali2010'\n",
    "df_MB['Subcell_Cheng2019'] = df_MB.apply(lambda x: 'Nuclear membrane' if x['Entry_Cheng2019'] != 'Not_found' else 'Not_found', axis=1)"
   ]
  },
  {
   "cell_type": "code",
   "execution_count": 51,
   "id": "04c398d9-b25f-4133-981a-4c9f41549d20",
   "metadata": {},
   "outputs": [
    {
     "name": "stdout",
     "output_type": "stream",
     "text": [
      "Index(['Entry_original', 'Organism', 'Gene_name', 'Protein_name', 'AH_or_Not',\n",
      "       'AA_sequence', 'Prediction', 'Entry_Hs', 'Entry_Mm', 'SubCell_Uniprot',\n",
      "       'SubCell_HPA', 'HPA_reliability', 'Subcell_Schirmer2003',\n",
      "       'Subcell_Korfali2010', 'Subcell_Korfali2012', 'Subcell_Wilkie2010',\n",
      "       'Tissue_Korfali_2012', 'NE:MM_ratio_Korfali_2012', 'Entry_Cheng2019',\n",
      "       'NE Enrich Score in U', 'NE Enrich Score in A', 'NE Enrich Score in M',\n",
      "       'Subcell_Cheng2019'],\n",
      "      dtype='object')\n"
     ]
    }
   ],
   "source": [
    "print(df_MB.columns)"
   ]
  },
  {
   "cell_type": "code",
   "execution_count": 55,
   "id": "2a8adacb-7d51-4629-9ce8-50b855da0fd5",
   "metadata": {},
   "outputs": [],
   "source": [
    "df_MB = df_MB[['Entry_original', 'Organism', 'Gene_name', 'Protein_name', 'AH_or_Not',\n",
    "       'AA_sequence', 'Prediction', 'Entry_Hs', 'Entry_Mm', 'SubCell_Uniprot',\n",
    "       'SubCell_HPA', 'HPA_reliability', 'Subcell_Schirmer2003',\n",
    "       'Subcell_Korfali2010', 'Subcell_Wilkie2010','Subcell_Korfali2012', 'Subcell_Cheng2019',\n",
    "        'Tissue_Korfali_2012', 'NE:MM_ratio_Korfali_2012', 'NE Enrich Score in U', 'NE Enrich Score in A', 'NE Enrich Score in M']]\n",
    "\n",
    "df_MB = df_MB.rename({'NE Enrich Score in U':'NEscore_Undiff_Cheng2019', 'NE Enrich Score in A':'NEscore_Adipo_Cheng2019', 'NE Enrich Score in M':'NEscore_Myo_Cheng2019'}, axis=1)"
   ]
  },
  {
   "cell_type": "code",
   "execution_count": 56,
   "id": "e2f21ae0-e7f8-4291-94d0-939b005692e2",
   "metadata": {},
   "outputs": [
    {
     "data": {
      "text/html": [
       "<div>\n",
       "<style scoped>\n",
       "    .dataframe tbody tr th:only-of-type {\n",
       "        vertical-align: middle;\n",
       "    }\n",
       "\n",
       "    .dataframe tbody tr th {\n",
       "        vertical-align: top;\n",
       "    }\n",
       "\n",
       "    .dataframe thead th {\n",
       "        text-align: right;\n",
       "    }\n",
       "</style>\n",
       "<table border=\"1\" class=\"dataframe\">\n",
       "  <thead>\n",
       "    <tr style=\"text-align: right;\">\n",
       "      <th></th>\n",
       "      <th>Entry_original</th>\n",
       "      <th>Organism</th>\n",
       "      <th>Gene_name</th>\n",
       "      <th>Protein_name</th>\n",
       "      <th>AH_or_Not</th>\n",
       "      <th>AA_sequence</th>\n",
       "      <th>Prediction</th>\n",
       "      <th>Entry_Hs</th>\n",
       "      <th>Entry_Mm</th>\n",
       "      <th>SubCell_Uniprot</th>\n",
       "      <th>...</th>\n",
       "      <th>Subcell_Schirmer2003</th>\n",
       "      <th>Subcell_Korfali2010</th>\n",
       "      <th>Subcell_Wilkie2010</th>\n",
       "      <th>Subcell_Korfali2012</th>\n",
       "      <th>Subcell_Cheng2019</th>\n",
       "      <th>Tissue_Korfali_2012</th>\n",
       "      <th>NE:MM_ratio_Korfali_2012</th>\n",
       "      <th>NEscore_Undiff_Cheng2019</th>\n",
       "      <th>NEscore_Adipo_Cheng2019</th>\n",
       "      <th>NEscore_Myo_Cheng2019</th>\n",
       "    </tr>\n",
       "  </thead>\n",
       "  <tbody>\n",
       "    <tr>\n",
       "      <th>0</th>\n",
       "      <td>Q16928</td>\n",
       "      <td>Anopheles albimanus</td>\n",
       "      <td>W</td>\n",
       "      <td>Protein white</td>\n",
       "      <td>Non-AH</td>\n",
       "      <td>MTINTDDQYADGESKTTISSNRRYSTSSFQDQSMEDDGINATLTND...</td>\n",
       "      <td>0000000000000000000000000000000000000000000000...</td>\n",
       "      <td>Not_found</td>\n",
       "      <td>Not_found</td>\n",
       "      <td>Membrane</td>\n",
       "      <td>...</td>\n",
       "      <td>Not_found</td>\n",
       "      <td>Not_found</td>\n",
       "      <td>Not_found</td>\n",
       "      <td>Not_found</td>\n",
       "      <td>Not_found</td>\n",
       "      <td>Not_found</td>\n",
       "      <td>Not_found</td>\n",
       "      <td>Not_found</td>\n",
       "      <td>Not_found</td>\n",
       "      <td>Not_found</td>\n",
       "    </tr>\n",
       "    <tr>\n",
       "      <th>1</th>\n",
       "      <td>Q01151</td>\n",
       "      <td>Homo sapiens</td>\n",
       "      <td>CD83</td>\n",
       "      <td>CD83 antigen</td>\n",
       "      <td>Non-AH</td>\n",
       "      <td>MSRGLQLLLLSCAYSLAPATPEVKVACSEDVDLPCTAPWDPQVPYT...</td>\n",
       "      <td>0000000000000000000000000000000000000000000000...</td>\n",
       "      <td>Q01151</td>\n",
       "      <td>O88324</td>\n",
       "      <td>Membrane</td>\n",
       "      <td>...</td>\n",
       "      <td>Not_found</td>\n",
       "      <td>Not_found</td>\n",
       "      <td>Not_found</td>\n",
       "      <td>Not_found</td>\n",
       "      <td>Not_found</td>\n",
       "      <td>Not_found</td>\n",
       "      <td>Not_found</td>\n",
       "      <td>Not_found</td>\n",
       "      <td>Not_found</td>\n",
       "      <td>Not_found</td>\n",
       "    </tr>\n",
       "    <tr>\n",
       "      <th>2</th>\n",
       "      <td>Q0P6D2</td>\n",
       "      <td>Homo sapiens</td>\n",
       "      <td>DIPK1C</td>\n",
       "      <td>Divergent protein kinase domain 1C</td>\n",
       "      <td>AH</td>\n",
       "      <td>MARAAGARGPAGWCRRRGRCGRGTLLAFAAWTAGWVLAAALLLRAH...</td>\n",
       "      <td>0000000000000000000000000000000000000000000000...</td>\n",
       "      <td>Q0P6D2</td>\n",
       "      <td>Q8BQT2</td>\n",
       "      <td>Endoplasmic reticulum membrane</td>\n",
       "      <td>...</td>\n",
       "      <td>Not_found</td>\n",
       "      <td>Not_found</td>\n",
       "      <td>Not_found</td>\n",
       "      <td>Not_found</td>\n",
       "      <td>Not_found</td>\n",
       "      <td>Not_found</td>\n",
       "      <td>Not_found</td>\n",
       "      <td>Not_found</td>\n",
       "      <td>Not_found</td>\n",
       "      <td>Not_found</td>\n",
       "    </tr>\n",
       "    <tr>\n",
       "      <th>3</th>\n",
       "      <td>Q06136</td>\n",
       "      <td>Homo sapiens</td>\n",
       "      <td>KDSR</td>\n",
       "      <td>3-ketodihydrosphingosine reductase</td>\n",
       "      <td>AH</td>\n",
       "      <td>MLLLAAAFLVAFVLLLYMVSPLISPKPLALPGAHVVVTGGSSGIGK...</td>\n",
       "      <td>0000000000000000000000000000000000000000000000...</td>\n",
       "      <td>Q06136</td>\n",
       "      <td>Q6GV12</td>\n",
       "      <td>Endoplasmic reticulum membrane</td>\n",
       "      <td>...</td>\n",
       "      <td>Not_found</td>\n",
       "      <td>Not_found</td>\n",
       "      <td>Not_found</td>\n",
       "      <td>Not_found</td>\n",
       "      <td>Nuclear membrane</td>\n",
       "      <td>Not_found</td>\n",
       "      <td>Not_found</td>\n",
       "      <td>0.253493</td>\n",
       "      <td>0.420695</td>\n",
       "      <td>0.720657</td>\n",
       "    </tr>\n",
       "    <tr>\n",
       "      <th>4</th>\n",
       "      <td>Q3C1V0</td>\n",
       "      <td>Homo sapiens</td>\n",
       "      <td>MS4A18</td>\n",
       "      <td>Membrane-spanning 4-domains subfamily A member 18</td>\n",
       "      <td>AH</td>\n",
       "      <td>MTEQVIGANSVPGIIAPDNVHVIQPSNPVASGNHLQPSEVTTYPIS...</td>\n",
       "      <td>0000000000000000000000000000000000000000000000...</td>\n",
       "      <td>Q3C1V0</td>\n",
       "      <td>Not_found</td>\n",
       "      <td>Membrane</td>\n",
       "      <td>...</td>\n",
       "      <td>Not_found</td>\n",
       "      <td>Not_found</td>\n",
       "      <td>Not_found</td>\n",
       "      <td>Not_found</td>\n",
       "      <td>Not_found</td>\n",
       "      <td>Not_found</td>\n",
       "      <td>Not_found</td>\n",
       "      <td>Not_found</td>\n",
       "      <td>Not_found</td>\n",
       "      <td>Not_found</td>\n",
       "    </tr>\n",
       "  </tbody>\n",
       "</table>\n",
       "<p>5 rows × 22 columns</p>\n",
       "</div>"
      ],
      "text/plain": [
       "  Entry_original             Organism Gene_name  \\\n",
       "0         Q16928  Anopheles albimanus         W   \n",
       "1         Q01151         Homo sapiens      CD83   \n",
       "2         Q0P6D2         Homo sapiens    DIPK1C   \n",
       "3         Q06136         Homo sapiens      KDSR   \n",
       "4         Q3C1V0         Homo sapiens    MS4A18   \n",
       "\n",
       "                                        Protein_name AH_or_Not  \\\n",
       "0                                      Protein white    Non-AH   \n",
       "1                                       CD83 antigen    Non-AH   \n",
       "2                 Divergent protein kinase domain 1C        AH   \n",
       "3                 3-ketodihydrosphingosine reductase        AH   \n",
       "4  Membrane-spanning 4-domains subfamily A member 18        AH   \n",
       "\n",
       "                                         AA_sequence  \\\n",
       "0  MTINTDDQYADGESKTTISSNRRYSTSSFQDQSMEDDGINATLTND...   \n",
       "1  MSRGLQLLLLSCAYSLAPATPEVKVACSEDVDLPCTAPWDPQVPYT...   \n",
       "2  MARAAGARGPAGWCRRRGRCGRGTLLAFAAWTAGWVLAAALLLRAH...   \n",
       "3  MLLLAAAFLVAFVLLLYMVSPLISPKPLALPGAHVVVTGGSSGIGK...   \n",
       "4  MTEQVIGANSVPGIIAPDNVHVIQPSNPVASGNHLQPSEVTTYPIS...   \n",
       "\n",
       "                                          Prediction   Entry_Hs   Entry_Mm  \\\n",
       "0  0000000000000000000000000000000000000000000000...  Not_found  Not_found   \n",
       "1  0000000000000000000000000000000000000000000000...     Q01151     O88324   \n",
       "2  0000000000000000000000000000000000000000000000...     Q0P6D2     Q8BQT2   \n",
       "3  0000000000000000000000000000000000000000000000...     Q06136     Q6GV12   \n",
       "4  0000000000000000000000000000000000000000000000...     Q3C1V0  Not_found   \n",
       "\n",
       "                  SubCell_Uniprot  ... Subcell_Schirmer2003  \\\n",
       "0                        Membrane  ...            Not_found   \n",
       "1                        Membrane  ...            Not_found   \n",
       "2  Endoplasmic reticulum membrane  ...            Not_found   \n",
       "3  Endoplasmic reticulum membrane  ...            Not_found   \n",
       "4                        Membrane  ...            Not_found   \n",
       "\n",
       "  Subcell_Korfali2010 Subcell_Wilkie2010 Subcell_Korfali2012  \\\n",
       "0           Not_found          Not_found           Not_found   \n",
       "1           Not_found          Not_found           Not_found   \n",
       "2           Not_found          Not_found           Not_found   \n",
       "3           Not_found          Not_found           Not_found   \n",
       "4           Not_found          Not_found           Not_found   \n",
       "\n",
       "  Subcell_Cheng2019 Tissue_Korfali_2012 NE:MM_ratio_Korfali_2012  \\\n",
       "0         Not_found           Not_found                Not_found   \n",
       "1         Not_found           Not_found                Not_found   \n",
       "2         Not_found           Not_found                Not_found   \n",
       "3  Nuclear membrane           Not_found                Not_found   \n",
       "4         Not_found           Not_found                Not_found   \n",
       "\n",
       "  NEscore_Undiff_Cheng2019 NEscore_Adipo_Cheng2019 NEscore_Myo_Cheng2019  \n",
       "0                Not_found               Not_found             Not_found  \n",
       "1                Not_found               Not_found             Not_found  \n",
       "2                Not_found               Not_found             Not_found  \n",
       "3                 0.253493                0.420695              0.720657  \n",
       "4                Not_found               Not_found             Not_found  \n",
       "\n",
       "[5 rows x 22 columns]"
      ]
     },
     "execution_count": 56,
     "metadata": {},
     "output_type": "execute_result"
    }
   ],
   "source": [
    "df_MB.head()"
   ]
  },
  {
   "cell_type": "code",
   "execution_count": 58,
   "id": "f3ed7634-c5d0-4c08-b56d-00b6e4626d6a",
   "metadata": {},
   "outputs": [
    {
     "name": "stdout",
     "output_type": "stream",
     "text": [
      "(2050, 22)\n"
     ]
    }
   ],
   "source": [
    "# export: all 2733 proteins\n",
    "df_MB.to_csv('./FinalOutput/Results_Whole2733.csv', index=False)"
   ]
  },
  {
   "cell_type": "markdown",
   "id": "d20a990e-9be8-444b-bc10-9f55506dfa34",
   "metadata": {},
   "source": [
    "# 5. AH locations"
   ]
  },
  {
   "cell_type": "code",
   "execution_count": 68,
   "id": "3a4ccc7f-5ca5-49a1-8fb7-4f644f45ecad",
   "metadata": {},
   "outputs": [],
   "source": [
    "df_MB = pd.read_csv('./FinalOutput/Results_Whole2733.csv')"
   ]
  },
  {
   "cell_type": "code",
   "execution_count": 157,
   "id": "0f7860b0-2bf7-42eb-bd9b-1fe187a31760",
   "metadata": {},
   "outputs": [],
   "source": [
    "def find_AH(AA_seq, prediction):\n",
    "    '''\n",
    "    Return residues that are predicted to be an AH\n",
    "    as a list of residues and their locations\n",
    "    Note that there is '\\n' in the end of both AA and prediction strings,\n",
    "    thus precition[0-1] and predition[last] return non-1 anyway,\n",
    "    preventing the bug when predciton starts or ends with 1\n",
    "    '''\n",
    "    AH_res_loc_dict = dict()\n",
    "\n",
    "    for i in range(len(prediction)): # account for the \\n\n",
    "#         print(i, AA_seq[i])\n",
    "        if (prediction[i-1] != '1') & (prediction[i] == '1'):\n",
    "            AH_start = i\n",
    "\n",
    "        elif (prediction[i-1] == '1') & (prediction[i] != '1'):\n",
    "            AH_end = i\n",
    "            \n",
    "            # pack AH residues and locations into a dictionary\n",
    "            AH_res = AA_seq[AH_start:AH_end]\n",
    "            AH_loc = str(AH_start+1) + '-' + str(AH_end) # residue number is non-pythonic and starts with 1, not 0\n",
    "            AH_res_loc_dict[AH_res] = AH_loc\n",
    "\n",
    "    return AH_res_loc_dict"
   ]
  },
  {
   "cell_type": "code",
   "execution_count": 158,
   "id": "eb45bca5-edca-462c-8e22-cb1c8f9d5e7a",
   "metadata": {},
   "outputs": [],
   "source": [
    "df_MB['AH_res_and_loc'] = df_MB.apply(lambda x: find_AH(x['AA_sequence'], x['Prediction']), axis=1)"
   ]
  },
  {
   "cell_type": "code",
   "execution_count": 161,
   "id": "25e0704b-4e04-49b5-a14a-ebd8d1fad887",
   "metadata": {},
   "outputs": [],
   "source": [
    "df_MB = df_MB[['Entry_original', 'Organism', 'Gene_name', 'Protein_name', 'AH_or_Not',\n",
    "       'AA_sequence', 'Prediction','AH_res_and_loc', 'Entry_Hs', 'Entry_Mm', 'SubCell_Uniprot',\n",
    "       'SubCell_HPA', 'HPA_reliability', 'Subcell_Schirmer2003',\n",
    "       'Subcell_Korfali2010', 'Subcell_Wilkie2010', 'Subcell_Korfali2012',\n",
    "       'Subcell_Cheng2019', 'Tissue_Korfali_2012', 'NE:MM_ratio_Korfali_2012',\n",
    "       'NEscore_Undiff_Cheng2019', 'NEscore_Adipo_Cheng2019',\n",
    "       'NEscore_Myo_Cheng2019']]"
   ]
  },
  {
   "cell_type": "code",
   "execution_count": 162,
   "id": "488fad27-582a-4830-8cdc-ebffead9db7e",
   "metadata": {},
   "outputs": [
    {
     "name": "stdout",
     "output_type": "stream",
     "text": [
      "(2050, 23)\n",
      "(235, 23)\n"
     ]
    }
   ],
   "source": [
    "# export: only proteins with Entry_Hs or Mm was found\n",
    "df_MB_w_entry = df_MB[(df_MB['Entry_Hs'] != 'Not_found')|(df_MB.Entry_Mm != 'Not_found')]\n",
    "print(df_MB_w_entry.shape)\n",
    "df_MB_w_entry.to_csv('./FinalOutput/Results_w_Entry.csv', index=False)\n",
    "\n",
    "# export: only with NE proteins\n",
    "df_MB_NE = df_MB[(df_MB.SubCell_Uniprot.str.contains('Nucleaus'))|\n",
    "                (df_MB.SubCell_HPA.str.contains('Nucle'))|\n",
    "                (df_MB.Subcell_Schirmer2003.str.contains('Nuclear'))|\n",
    "                (df_MB.Subcell_Korfali2010.str.contains('Nuclear'))|\n",
    "                (df_MB.Subcell_Wilkie2010.str.contains('Nuclear'))|\n",
    "                (df_MB.Subcell_Korfali2012.str.contains('Nuclear'))|\n",
    "                (df_MB.Subcell_Cheng2019.str.contains('Nuclear'))]\n",
    "print(df_MB_NE.shape)\n",
    "df_MB_NE.to_csv('./FinalOutput/Results_NE.csv', index=False)"
   ]
  },
  {
   "cell_type": "markdown",
   "id": "c5e3bd4b-6065-4851-b96d-24a04cdcf8b4",
   "metadata": {},
   "source": [
    "# 6. How much sources for NE localization?"
   ]
  },
  {
   "cell_type": "code",
   "execution_count": 31,
   "id": "28136f04-e828-44e5-82c0-32c75842f0e6",
   "metadata": {},
   "outputs": [],
   "source": [
    "df_MB_NE = pd.read_csv('./FinalOutput/Results_NE.csv')"
   ]
  },
  {
   "cell_type": "code",
   "execution_count": 39,
   "id": "8c8ee8ab-bc06-4d3e-b523-558705c90b8a",
   "metadata": {},
   "outputs": [
    {
     "data": {
      "text/plain": [
       "Index(['Entry_original', 'Organism', 'Gene_name', 'Protein_name', 'AH_or_Not',\n",
       "       'AA_sequence', 'Prediction', 'AH_res_and_loc', 'Entry_Hs', 'Entry_Mm',\n",
       "       'SubCell_Uniprot', 'SubCell_HPA', 'HPA_reliability',\n",
       "       'Subcell_Schirmer2003', 'Subcell_Korfali2010', 'Subcell_Wilkie2010',\n",
       "       'Subcell_Korfali2012', 'Subcell_Cheng2019', 'Tissue_Korfali_2012',\n",
       "       'NE:MM_ratio_Korfali_2012', 'NEscore_Undiff_Cheng2019',\n",
       "       'NEscore_Adipo_Cheng2019', 'NEscore_Myo_Cheng2019', 'UP_HPA_evidence',\n",
       "       'Paper_evidence', 'UP_Nuc_ER', 'HPA_Nuc', 'NE_evidence_Tier'],\n",
       "      dtype='object')"
      ]
     },
     "execution_count": 39,
     "metadata": {},
     "output_type": "execute_result"
    }
   ],
   "source": [
    "df_MB_NE.columns"
   ]
  },
  {
   "cell_type": "code",
   "execution_count": 33,
   "id": "f2fade77-a5da-4389-8242-7291555cadfa",
   "metadata": {},
   "outputs": [],
   "source": [
    "# make a new column to judge if the Uniprot loc info has ER or nuclear loc evidence\n",
    "df_MB_NE['UP_Nuc_ER'] = df_MB_NE.apply(lambda x: 1 if ('Endoplasmic' in x['SubCell_Uniprot']) | ('Nuclear' in x['SubCell_Uniprot']) else 0, axis=1)"
   ]
  },
  {
   "cell_type": "code",
   "execution_count": 34,
   "id": "8a6f8aed-7fc8-400a-af2b-28f4e7615500",
   "metadata": {},
   "outputs": [],
   "source": [
    "# make a new column to judge if the HPA loc info has nuclear loc evidence\n",
    "df_MB_NE['HPA_Nuc'] = df_MB_NE.apply(lambda x: 1 if 'Nucle' in x['SubCell_HPA'] else 0, axis=1)"
   ]
  },
  {
   "cell_type": "code",
   "execution_count": 35,
   "id": "9dd4118e-c1df-4871-8397-dd40bac5dcef",
   "metadata": {},
   "outputs": [],
   "source": [
    "# make a new column to score if the either UP or HPA has ER (UP alone) or nuclear loc evidence: 2 is both, 1 is either, 0 is neither\n",
    "df_MB_NE['UP_HPA_evidence'] = df_MB_NE['UP_Nuc_ER'] + df_MB_NE['HPA_Nuc']"
   ]
  },
  {
   "cell_type": "code",
   "execution_count": 36,
   "id": "e81d7a7a-4328-40fa-a153-04eb210f41b4",
   "metadata": {},
   "outputs": [],
   "source": [
    "# make another column to score how much evidence is there in papers\n",
    "df_MB_NE['Paper_evidence'] \\\n",
    "= df_MB_NE.apply(lambda x: (x['Subcell_Schirmer2003'] + x['Subcell_Korfali2010'] + x['Subcell_Wilkie2010'] + x['Subcell_Korfali2012'] + x['Subcell_Cheng2019']).count('Nuclear'),\\\n",
    "                 axis=1)"
   ]
  },
  {
   "cell_type": "code",
   "execution_count": 37,
   "id": "608680da-217e-4a07-9c97-d787e01901f0",
   "metadata": {},
   "outputs": [],
   "source": [
    "# Tier 1-3 classification\n",
    "df_MB_NE['NE_evidence_Tier'] = df_MB_NE.apply(lambda x: 1 if x['Paper_evidence'] >= 2 else (2 if ((x['UP_HPA_evidence'] >= 1)&(x['Paper_evidence'] == 1)) else 3), axis=1) "
   ]
  },
  {
   "cell_type": "code",
   "execution_count": 40,
   "id": "64ba24b3-5432-4e57-864a-7289be81cb50",
   "metadata": {},
   "outputs": [],
   "source": [
    "# organize columns and export\n",
    "df_MB_NE = df_MB_NE[['Entry_original', 'Organism', 'Gene_name', 'Protein_name', 'AH_or_Not',\n",
    "       'AA_sequence', 'Prediction', 'AH_res_and_loc', 'Entry_Hs', 'Entry_Mm',\n",
    "       'SubCell_Uniprot', 'SubCell_HPA', 'HPA_reliability',\n",
    "       'Subcell_Schirmer2003', 'Subcell_Korfali2010', 'Subcell_Wilkie2010',\n",
    "       'Subcell_Korfali2012', 'Subcell_Cheng2019', 'Tissue_Korfali_2012',\n",
    "       'NE:MM_ratio_Korfali_2012', 'NEscore_Undiff_Cheng2019',\n",
    "       'NEscore_Adipo_Cheng2019', 'NEscore_Myo_Cheng2019', 'UP_HPA_evidence', 'Paper_evidence', 'NE_evidence_Tier']]\n",
    "\n",
    "df_MB_NE.to_csv('./FinalOutput/Results_NE.csv', index=False)"
   ]
  },
  {
   "cell_type": "code",
   "execution_count": null,
   "id": "841cdf00-0d16-49d3-984b-330f31ed9359",
   "metadata": {},
   "outputs": [],
   "source": []
  }
 ],
 "metadata": {
  "kernelspec": {
   "display_name": "Python 3 (ipykernel)",
   "language": "python",
   "name": "python3"
  },
  "language_info": {
   "codemirror_mode": {
    "name": "ipython",
    "version": 3
   },
   "file_extension": ".py",
   "mimetype": "text/x-python",
   "name": "python",
   "nbconvert_exporter": "python",
   "pygments_lexer": "ipython3",
   "version": "3.11.3"
  }
 },
 "nbformat": 4,
 "nbformat_minor": 5
}
