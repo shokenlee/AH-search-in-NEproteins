{
 "cells": [
  {
   "cell_type": "markdown",
   "id": "f82a4b6d-6da4-4fbf-a318-5fd1214f7071",
   "metadata": {},
   "source": [
    "### **1. Setup**"
   ]
  },
  {
   "cell_type": "code",
   "execution_count": 1,
   "id": "3a8b0c2c-290e-48ce-a6bf-e76a6683e943",
   "metadata": {},
   "outputs": [],
   "source": [
    "import os, requests, sys, json\n",
    "import numpy as np\n",
    "import pandas as pd\n",
    "from time import sleep"
   ]
  },
  {
   "cell_type": "code",
   "execution_count": 2,
   "id": "f7529085-53c7-4e4e-a807-03b54fa89001",
   "metadata": {},
   "outputs": [],
   "source": [
    "# Data import\n",
    "# the product from MemBrain_2nd Part\n",
    "# The list of proteins in selected organisms\n",
    "# With subcellular localization info from Uniprot\n",
    "path = './IntermediateProducts/Result_Selected_Organisms_SubCellLoc.csv'\n",
    "df = pd.read_csv(path)"
   ]
  },
  {
   "cell_type": "code",
   "execution_count": 3,
   "id": "b83f341d-66cf-41a4-ae34-e533801d2e5e",
   "metadata": {},
   "outputs": [
    {
     "data": {
      "text/plain": [
       "(2992, 7)"
      ]
     },
     "execution_count": 3,
     "metadata": {},
     "output_type": "execute_result"
    }
   ],
   "source": [
    "df.shape\n",
    "# df.head()"
   ]
  },
  {
   "cell_type": "markdown",
   "id": "c02c2fbd-0a8e-4e7b-b0e3-a40fd206a132",
   "metadata": {},
   "source": [
    "### 2. Merge with proteome data"
   ]
  },
  {
   "cell_type": "markdown",
   "id": "c6e75c0a-60f7-4e51-9ab0-da9425fa1045",
   "metadata": {},
   "source": [
    "### 2-1. Schirmer 2003"
   ]
  },
  {
   "cell_type": "code",
   "execution_count": 4,
   "id": "ba86c88e-0b8b-47d6-972e-6fc2cae88122",
   "metadata": {},
   "outputs": [],
   "source": [
    "df_shirmer2003 = pd.read_csv('../Nuclear_proteome/Output/Schirmer2003/Output.csv')"
   ]
  },
  {
   "cell_type": "code",
   "execution_count": 5,
   "id": "61b58b0d-b499-467c-8627-ff3997fa0c8b",
   "metadata": {},
   "outputs": [
    {
     "data": {
      "text/plain": [
       "(56, 6)"
      ]
     },
     "execution_count": 5,
     "metadata": {},
     "output_type": "execute_result"
    }
   ],
   "source": [
    "df_shirmer2003.shape\n",
    "# df_shirmer2003.head()"
   ]
  },
  {
   "cell_type": "markdown",
   "id": "9ef9cab8-fc02-443f-a282-6a8c47923ccd",
   "metadata": {},
   "source": [
    "#### Inner merge to find nly three matched"
   ]
  },
  {
   "cell_type": "code",
   "execution_count": 6,
   "id": "99ae6f4f-f8ae-4e43-88bd-a5f814307eb8",
   "metadata": {},
   "outputs": [],
   "source": [
    "df_merged_inner = df.merge(df_shirmer2003, how='inner', left_on='Uniprot_ID', right_on='Entry')"
   ]
  },
  {
   "cell_type": "code",
   "execution_count": 7,
   "id": "94234b5f-6c44-4fcf-bd9c-95b0896d60f7",
   "metadata": {},
   "outputs": [
    {
     "data": {
      "text/plain": [
       "(3, 13)"
      ]
     },
     "execution_count": 7,
     "metadata": {},
     "output_type": "execute_result"
    }
   ],
   "source": [
    "df_merged_inner.shape"
   ]
  },
  {
   "cell_type": "markdown",
   "id": "2bee3152-785a-4b26-924f-c575356d53f3",
   "metadata": {},
   "source": [
    "#### Outer merge to assign sub-cell-loc info from Schirmer data"
   ]
  },
  {
   "cell_type": "code",
   "execution_count": 8,
   "id": "e8f04ea5-1c9a-4788-8c87-1067cb077d68",
   "metadata": {},
   "outputs": [],
   "source": [
    "df_merged_outer = df.merge(df_shirmer2003, how='outer', left_on='Uniprot_ID', right_on='Entry')"
   ]
  },
  {
   "cell_type": "code",
   "execution_count": 9,
   "id": "359ae5c6-9aa7-477f-ad4f-3bc36748fb6f",
   "metadata": {},
   "outputs": [
    {
     "data": {
      "text/plain": [
       "(3045, 13)"
      ]
     },
     "execution_count": 9,
     "metadata": {},
     "output_type": "execute_result"
    }
   ],
   "source": [
    "df_merged_outer.shape"
   ]
  },
  {
   "cell_type": "code",
   "execution_count": 56,
   "id": "fe7e8220-2e82-4016-96be-12e7427818eb",
   "metadata": {
    "collapsed": true,
    "jupyter": {
     "outputs_hidden": true
    },
    "tags": []
   },
   "outputs": [
    {
     "data": {
      "text/html": [
       "<div>\n",
       "<style scoped>\n",
       "    .dataframe tbody tr th:only-of-type {\n",
       "        vertical-align: middle;\n",
       "    }\n",
       "\n",
       "    .dataframe tbody tr th {\n",
       "        vertical-align: top;\n",
       "    }\n",
       "\n",
       "    .dataframe thead th {\n",
       "        text-align: right;\n",
       "    }\n",
       "</style>\n",
       "<table border=\"1\" class=\"dataframe\">\n",
       "  <thead>\n",
       "    <tr style=\"text-align: right;\">\n",
       "      <th></th>\n",
       "      <th>Uniprot_ID</th>\n",
       "      <th>Organism_x</th>\n",
       "      <th>Protein_name</th>\n",
       "      <th>AH_or_Not</th>\n",
       "      <th>AA_sequence</th>\n",
       "      <th>Prediction</th>\n",
       "      <th>Subcellular_location</th>\n",
       "      <th>NCBI ID</th>\n",
       "      <th>Entry</th>\n",
       "      <th>Entry name</th>\n",
       "      <th>Protein names</th>\n",
       "      <th>Gene names</th>\n",
       "      <th>Organism_y</th>\n",
       "    </tr>\n",
       "  </thead>\n",
       "  <tbody>\n",
       "    <tr>\n",
       "      <th>0</th>\n",
       "      <td>Q8N4K4</td>\n",
       "      <td>Homo sapiens (Human)</td>\n",
       "      <td>Reprimo-like protein</td>\n",
       "      <td>Non-AH</td>\n",
       "      <td>MNATFLNHSGLEEVDGVGGGAGAALGNRTHGLGTWLGCCPGGAPLA...</td>\n",
       "      <td>0000000000000000000000000000000000000000000000...</td>\n",
       "      <td>Membrane</td>\n",
       "      <td>NaN</td>\n",
       "      <td>NaN</td>\n",
       "      <td>NaN</td>\n",
       "      <td>NaN</td>\n",
       "      <td>NaN</td>\n",
       "      <td>NaN</td>\n",
       "    </tr>\n",
       "    <tr>\n",
       "      <th>1</th>\n",
       "      <td>Q8N4S7</td>\n",
       "      <td>Homo sapiens (Human)</td>\n",
       "      <td>Progestin and adipoQ receptor family member 4</td>\n",
       "      <td>Non-AH</td>\n",
       "      <td>MAFLAGPRLLDWASSPPHLQFNKFVLTGYRPASSGSGCLRSLFYLH...</td>\n",
       "      <td>0000000000000000000000000000000000000000000000...</td>\n",
       "      <td>Membrane</td>\n",
       "      <td>NaN</td>\n",
       "      <td>NaN</td>\n",
       "      <td>NaN</td>\n",
       "      <td>NaN</td>\n",
       "      <td>NaN</td>\n",
       "      <td>NaN</td>\n",
       "    </tr>\n",
       "    <tr>\n",
       "      <th>2</th>\n",
       "      <td>Q8N5G0</td>\n",
       "      <td>Homo sapiens (Human)</td>\n",
       "      <td>Small integral membrane protein 20</td>\n",
       "      <td>Non-AH</td>\n",
       "      <td>MSRNLRTALIFGGFISLIGAAFYPIYFRPLMRLEEYKKEQAINRAG...</td>\n",
       "      <td>0000000000000000000000000000000000000000000000...</td>\n",
       "      <td>Mitochondrion inner membrane</td>\n",
       "      <td>NaN</td>\n",
       "      <td>NaN</td>\n",
       "      <td>NaN</td>\n",
       "      <td>NaN</td>\n",
       "      <td>NaN</td>\n",
       "      <td>NaN</td>\n",
       "    </tr>\n",
       "    <tr>\n",
       "      <th>3</th>\n",
       "      <td>Q8N614</td>\n",
       "      <td>Homo sapiens (Human)</td>\n",
       "      <td>Transmembrane protein 156</td>\n",
       "      <td>AH</td>\n",
       "      <td>MTKTALLKLFVAIVITFILILPEYFKTPKERTLELSCLEVCLQSNF...</td>\n",
       "      <td>0011111100000000000000000000000000000000000000...</td>\n",
       "      <td>Membrane</td>\n",
       "      <td>NaN</td>\n",
       "      <td>NaN</td>\n",
       "      <td>NaN</td>\n",
       "      <td>NaN</td>\n",
       "      <td>NaN</td>\n",
       "      <td>NaN</td>\n",
       "    </tr>\n",
       "    <tr>\n",
       "      <th>4</th>\n",
       "      <td>Q8N7C4</td>\n",
       "      <td>Homo sapiens (Human)</td>\n",
       "      <td>Transmembrane protein 217</td>\n",
       "      <td>Non-AH</td>\n",
       "      <td>MKQQQWCGMTAKMGTVLSGVFTIMAVDMYLIFEQKHLGNGSCTEIT...</td>\n",
       "      <td>0000000000000000000000000000000000000000000000...</td>\n",
       "      <td>Membrane</td>\n",
       "      <td>NaN</td>\n",
       "      <td>NaN</td>\n",
       "      <td>NaN</td>\n",
       "      <td>NaN</td>\n",
       "      <td>NaN</td>\n",
       "      <td>NaN</td>\n",
       "    </tr>\n",
       "  </tbody>\n",
       "</table>\n",
       "</div>"
      ],
      "text/plain": [
       "  Uniprot_ID            Organism_x  \\\n",
       "0     Q8N4K4  Homo sapiens (Human)   \n",
       "1     Q8N4S7  Homo sapiens (Human)   \n",
       "2     Q8N5G0  Homo sapiens (Human)   \n",
       "3     Q8N614  Homo sapiens (Human)   \n",
       "4     Q8N7C4  Homo sapiens (Human)   \n",
       "\n",
       "                                    Protein_name AH_or_Not  \\\n",
       "0                           Reprimo-like protein    Non-AH   \n",
       "1  Progestin and adipoQ receptor family member 4    Non-AH   \n",
       "2             Small integral membrane protein 20    Non-AH   \n",
       "3                      Transmembrane protein 156        AH   \n",
       "4                      Transmembrane protein 217    Non-AH   \n",
       "\n",
       "                                         AA_sequence  \\\n",
       "0  MNATFLNHSGLEEVDGVGGGAGAALGNRTHGLGTWLGCCPGGAPLA...   \n",
       "1  MAFLAGPRLLDWASSPPHLQFNKFVLTGYRPASSGSGCLRSLFYLH...   \n",
       "2  MSRNLRTALIFGGFISLIGAAFYPIYFRPLMRLEEYKKEQAINRAG...   \n",
       "3  MTKTALLKLFVAIVITFILILPEYFKTPKERTLELSCLEVCLQSNF...   \n",
       "4  MKQQQWCGMTAKMGTVLSGVFTIMAVDMYLIFEQKHLGNGSCTEIT...   \n",
       "\n",
       "                                          Prediction  \\\n",
       "0  0000000000000000000000000000000000000000000000...   \n",
       "1  0000000000000000000000000000000000000000000000...   \n",
       "2  0000000000000000000000000000000000000000000000...   \n",
       "3  0011111100000000000000000000000000000000000000...   \n",
       "4  0000000000000000000000000000000000000000000000...   \n",
       "\n",
       "           Subcellular_location NCBI ID Entry Entry name Protein names  \\\n",
       "0                      Membrane     NaN   NaN        NaN           NaN   \n",
       "1                      Membrane     NaN   NaN        NaN           NaN   \n",
       "2  Mitochondrion inner membrane     NaN   NaN        NaN           NaN   \n",
       "3                      Membrane     NaN   NaN        NaN           NaN   \n",
       "4                      Membrane     NaN   NaN        NaN           NaN   \n",
       "\n",
       "  Gene names Organism_y  \n",
       "0        NaN        NaN  \n",
       "1        NaN        NaN  \n",
       "2        NaN        NaN  \n",
       "3        NaN        NaN  \n",
       "4        NaN        NaN  "
      ]
     },
     "execution_count": 56,
     "metadata": {},
     "output_type": "execute_result"
    }
   ],
   "source": [
    "df_merged_outer.head()"
   ]
  },
  {
   "cell_type": "code",
   "execution_count": 10,
   "id": "b23cf980-615b-4e3e-aa02-d6c11944a20e",
   "metadata": {},
   "outputs": [],
   "source": [
    "# drop where Uniprot_ID is Nan\n",
    "df_merged_outer = df_merged_outer.dropna(subset=['Uniprot_ID'])\n",
    "\n",
    "# drop unnecessary columns\n",
    "df_merged_outer = df_merged_outer.drop([ 'NCBI ID', 'Entry name',\n",
    "       'Protein names', 'Gene names', 'Organism_y'], axis=1)\n",
    "\n",
    "# Assign a value 'Nucleus membrane' to a new column 'Subcellular_location_Schirmer2003' where 'Entry' is present\n",
    "df_merged_outer.loc[pd.notna(df_merged_outer['Entry']), 'Subcellular_location_Schirmer2003'] = 'Nucleus membrane'"
   ]
  },
  {
   "cell_type": "code",
   "execution_count": 12,
   "id": "cf4391fe-13c7-4672-bcf2-93f7752d8267",
   "metadata": {},
   "outputs": [
    {
     "name": "stdout",
     "output_type": "stream",
     "text": [
      "<class 'pandas.core.frame.DataFrame'>\n",
      "Int64Index: 2992 entries, 0 to 2991\n",
      "Data columns (total 9 columns):\n",
      " #   Column                             Non-Null Count  Dtype \n",
      "---  ------                             --------------  ----- \n",
      " 0   Uniprot_ID                         2992 non-null   object\n",
      " 1   Organism_x                         2992 non-null   object\n",
      " 2   Protein_name                       2992 non-null   object\n",
      " 3   AH_or_Not                          2992 non-null   object\n",
      " 4   AA_sequence                        2992 non-null   object\n",
      " 5   Prediction                         2992 non-null   object\n",
      " 6   Subcellular_location               2992 non-null   object\n",
      " 7   Entry                              3 non-null      object\n",
      " 8   Subcellular_location_Schirmer2003  3 non-null      object\n",
      "dtypes: object(9)\n",
      "memory usage: 233.8+ KB\n"
     ]
    }
   ],
   "source": [
    "df_merged_outer.info()\n",
    "# df_merged_outer.head()"
   ]
  },
  {
   "cell_type": "code",
   "execution_count": 14,
   "id": "8c210bbb-f8aa-4902-8e03-f063d00a2fd6",
   "metadata": {},
   "outputs": [],
   "source": [
    "# drop an unnecessary column, 'Entry'\n",
    "df_merged_outer = df_merged_outer.drop(['Entry'], axis=1)"
   ]
  },
  {
   "cell_type": "code",
   "execution_count": null,
   "id": "e2ba0d1e-3839-48d1-b588-d6f2be0ede76",
   "metadata": {},
   "outputs": [],
   "source": []
  }
 ],
 "metadata": {
  "kernelspec": {
   "display_name": "Python 3",
   "language": "python",
   "name": "python3"
  },
  "language_info": {
   "codemirror_mode": {
    "name": "ipython",
    "version": 3
   },
   "file_extension": ".py",
   "mimetype": "text/x-python",
   "name": "python",
   "nbconvert_exporter": "python",
   "pygments_lexer": "ipython3",
   "version": "3.8.8"
  }
 },
 "nbformat": 4,
 "nbformat_minor": 5
}
