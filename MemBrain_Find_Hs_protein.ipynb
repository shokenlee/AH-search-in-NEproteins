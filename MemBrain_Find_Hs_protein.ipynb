{
 "cells": [
  {
   "cell_type": "code",
   "execution_count": 2,
   "id": "9a35a667-d2bb-438b-bcb8-1be1a1523f7e",
   "metadata": {
    "tags": []
   },
   "outputs": [],
   "source": [
    "import requests\n",
    "import re\n",
    "from pathlib import Path\n",
    "import pandas as pd\n",
    "from time import sleep\n",
    "from my_utils import get_url\n",
    "import my_config"
   ]
  },
  {
   "cell_type": "markdown",
   "id": "bfc780fb-b667-4095-94c0-53d749df53d7",
   "metadata": {},
   "source": [
    "# Step 1: Get protein information for MemBrain raw data"
   ]
  },
  {
   "cell_type": "code",
   "execution_count": 4,
   "id": "63b90fa3-d089-4b62-a7ae-d072c3f16aec",
   "metadata": {
    "tags": []
   },
   "outputs": [
    {
     "name": "stdout",
     "output_type": "stream",
     "text": [
      "Number of MemBrain source files:  11759\n"
     ]
    }
   ],
   "source": [
    "source_data_dir = Path('./SourceData/MemBrain/')\n",
    "files = list(source_data_dir.glob('*.result'))\n",
    "print('Number of MemBrain source files: ', len(files))\n",
    "\n",
    "data = [] # Initialize a list to store row data before creating DataFrame\n",
    "\n",
    "for i, file_path in enumerate(files):\n",
    "    entry = file_path.stem\n",
    "    with file_path.open() as f:\n",
    "        lines = f.readlines()\n",
    "\n",
    "    aa_sequence = lines[1]\n",
    "    prediction = lines[3]\n",
    "    AH_or_not = 'AH' if '1' in prediction else 'Non-AH'\n",
    "    \n",
    "    params = {\n",
    "        \"query\": f'accession:{entry}',\n",
    "        \"fields\": \"organism_name,gene_primary,protein_name\",\n",
    "        \"format\": \"json\"\n",
    "    }\n",
    "\n",
    "    try:\n",
    "        r = get_url(my_config.WEBSITE_API, params=params)\n",
    "        result = r.json()['results'][0]\n",
    "    except requests.exceptions.RequestException as e:\n",
    "        print(f\"Error fetching data for {entry}: {e}\")\n",
    "        continue  # Skip to the next file\n",
    "\n",
    "    # Initialize with default values\n",
    "    organism_name = gene_name = protein_name = subcell_loc = 'Unknown'\n",
    "    \n",
    "    # Attempt to extract data, with fallbacks in case of missing fields\n",
    "    organism_name = result.get('organism', {}).get('scientificName', organism_name)\n",
    "    if result.get('genes'):\n",
    "        gene_name = result['genes'][0].get('geneName', {}).get('value', gene_name)\n",
    "    if result.get('proteinDescription', {}).get('recommendedName'):\n",
    "        protein_name = result['proteinDescription']['recommendedName'].get('fullName', {}).get('value', protein_name)\n",
    "        \n",
    "    data.append({\n",
    "        'Entry_original': entry,\n",
    "        'Organism': organism_name,\n",
    "        'Gene_name': gene_name,\n",
    "        'Protein_name': protein_name,\n",
    "        'AH_or_Not': AH_or_not,\n",
    "        'AA_sequence': aa_sequence.strip(),\n",
    "        'Prediction': prediction.strip()\n",
    "    })\n",
    "\n",
    "    if i % 100 == 0:\n",
    "        print(i, entry, organism_name, protein_name)\n",
    "\n",
    "    sleep(1)\n",
    "\n",
    "df = pd.DataFrame(data)"
   ]
  },
  {
   "cell_type": "code",
   "execution_count": 49,
   "id": "e71b82b1-f3f3-4fd8-9d11-1f1f3965a8b1",
   "metadata": {},
   "outputs": [],
   "source": [
    "# export\n",
    "df.to_csv('./IntermediateProducts/Results_step_1.csv', index=False)"
   ]
  },
  {
   "cell_type": "markdown",
   "id": "c2cf66b9-aeef-4c64-a81c-5526ac8e9d49",
   "metadata": {},
   "source": [
    "# Step 2: Find metazoan proteins"
   ]
  },
  {
   "cell_type": "code",
   "execution_count": 3,
   "id": "4d92eb5d-ade6-4046-8f49-52e72fb2ca4c",
   "metadata": {
    "tags": []
   },
   "outputs": [],
   "source": [
    "# Import the df from step 1\n",
    "df = pd.read_csv('./IntermediateProducts/Results_step_1.csv')"
   ]
  },
  {
   "cell_type": "code",
   "execution_count": 3,
   "id": "839c6659-60c3-4876-8a0d-0bab3b938900",
   "metadata": {
    "tags": []
   },
   "outputs": [
    {
     "name": "stdout",
     "output_type": "stream",
     "text": [
      "Number of organism species in the data is  1521\n"
     ]
    }
   ],
   "source": [
    "# create organism list\n",
    "organism_list = df['Organism'].unique().tolist()\n",
    "print('Number of organism species in the data is ', len(organism_list))"
   ]
  },
  {
   "cell_type": "markdown",
   "id": "07b474cf-f79b-4b8b-8e21-f24bbf8a8616",
   "metadata": {},
   "source": [
    "#### Identify metazoan from the 1521 organisms"
   ]
  },
  {
   "cell_type": "code",
   "execution_count": 5,
   "id": "dc584f3d-a72d-40ff-9ce1-fc7d72451d66",
   "metadata": {
    "tags": []
   },
   "outputs": [
    {
     "name": "stdout",
     "output_type": "stream",
     "text": [
      "0 Arabidopsis thaliana ['cellular organisms', 'Eukaryota']\n",
      "5 Homo sapiens ['cellular organisms', 'Eukaryota']\n"
     ]
    }
   ],
   "source": [
    "# a list for storage\n",
    "lineage_list = list()\n",
    "\n",
    "# regex for extracing organism name WITHOUT items in parenthesis\n",
    "regex = re.compile(r'([^()]+)(\\(.+\\))?')\n",
    "\n",
    "# scan organism list and get lineage from Uniprot Taxonomy\n",
    "for i, organism in enumerate(organism_list):\n",
    "    # extract organism name WITHOUT items in parenthesis such as strain name\n",
    "    mo = regex.search(organism)\n",
    "    if mo:\n",
    "        organism = mo.group(1).strip()\n",
    "    else:\n",
    "        lineage_list.append('Unknown')\n",
    "        continue\n",
    "        \n",
    "    # Get response that contains lineage\n",
    "    params = {\n",
    "        \"query\": f\"scientific:{organism}\",\n",
    "        \"fields\": \"lineage\",\n",
    "        \"format\": \"json\"\n",
    "    }\n",
    "    \n",
    "    try:\n",
    "        r = get_url(my_config.Taxonomy_API, params=params)\n",
    "        result = r.json()\n",
    "    except requests.exceptions.RequestException as e:\n",
    "        print(f\"Error fetching data for {entry}: {e}\")\n",
    "        continue\n",
    "    \n",
    "    # Attempt to extract lineage information from the response\n",
    "    try:\n",
    "        lineage = [l['scientificName'] for l in result['results'][0]['lineage']]\n",
    "        lineage_full = ', '.join(lineage) if lineage else 'NotFound'\n",
    "    except (KeyError, IndexError):\n",
    "        lineage_full = 'NotFound'  # In case the result structure is unexpected or empty\n",
    "        \n",
    "    # add to the found lineage to the list\n",
    "    lineage_list.append(lineage_full)\n",
    "    \n",
    "    # log every 100 showing the two highest levels of the lineage (e.g. Bacteria < Cellular organisms)\n",
    "    if i % 100 == 0: print(i, organism, lineage[:2])\n",
    "    \n",
    "    # take a break, go next\n",
    "    sleep(1)"
   ]
  },
  {
   "cell_type": "code",
   "execution_count": 15,
   "id": "53082a3a-e6cb-46bb-8455-7f25d8a8b719",
   "metadata": {},
   "outputs": [],
   "source": [
    "# Make a new dataframe for organisms\n",
    "df_org = pd.DataFrame(organism_list[:10], columns=['Organism'])\n",
    "df_org['Lineage'] = lineage_list\n",
    "\n",
    "# export just in case\n",
    "df_org.to_csv('./IntermediateProducts/Organisms_and_Lineage.csv', index=False)"
   ]
  },
  {
   "cell_type": "code",
   "execution_count": 165,
   "id": "58e3da4a-908e-4f2a-8097-a51124e15659",
   "metadata": {},
   "outputs": [
    {
     "name": "stdout",
     "output_type": "stream",
     "text": [
      "Number of eukaryotic species is  431\n",
      "Number of bacteria species is  732\n",
      "Number of archea species is  61\n",
      "Number of virus species is  281\n",
      "Number of species not found in database is  16\n"
     ]
    }
   ],
   "source": [
    "# Just curious: How many are eukaryotes, bacteria, archea, and virus?\n",
    "n_eukaryote = len(df_org[df_org['Lineage'].str.contains('Eukaryot')])\n",
    "n_bacteria = len(df_org[df_org['Lineage'].str.contains('Bacteria')])\n",
    "n_archaea = len(df_org[df_org['Lineage'].str.contains('Archaea')])\n",
    "n_virus = len(df_org[df_org['Lineage'].str.contains('Virus')])\n",
    "n_notFound = len(df_org) - np.sum([n_eukaryote, n_bacteria, n_archaea, n_virus])\n",
    "print('Number of eukaryotic species is ', n_eukaryote)\n",
    "print('Number of bacteria species is ', n_bacteria)\n",
    "print('Number of archea species is ', n_archaea)\n",
    "print('Number of virus species is ', n_virus)\n",
    "print('Number of species not found in database is ', n_notFound)"
   ]
  },
  {
   "cell_type": "code",
   "execution_count": 152,
   "id": "36384b7d-82f9-4aa6-abd5-f9b238990792",
   "metadata": {},
   "outputs": [
    {
     "name": "stdout",
     "output_type": "stream",
     "text": [
      "Number of metazoan species is  122\n"
     ]
    }
   ],
   "source": [
    "# Select metazoans\n",
    "df_org_metazoa = df_org[df_org['Lineage'].str.contains('Metazoa')]\n",
    "print('Number of metazoan species is ', len(df_org_metazoa))"
   ]
  },
  {
   "cell_type": "code",
   "execution_count": 17,
   "id": "a966d8f6-2201-4adb-93c6-eff449830e0e",
   "metadata": {},
   "outputs": [],
   "source": [
    "# Merge df_org_metazoa with the main df\n",
    "# by doing so, genes from metazoans are sorted\n",
    "df_metazoanGenes = df.merge(df_org_metazoa, how='inner', on='Organism')\n",
    "print('Number of metazoan proteins: ', len(df_metazoanGenes))"
   ]
  },
  {
   "cell_type": "code",
   "execution_count": 166,
   "id": "0217de85-b539-4c77-9918-74fffda13cbb",
   "metadata": {},
   "outputs": [],
   "source": [
    "# remove Lineage column\n",
    "df_metazoanGenes = df_metazoanGenes.drop(['Lineage'], axis=1)\n",
    "\n",
    "# export\n",
    "df_metazoanGenes.to_csv('./IntermediateProducts/Results_step_2.csv', index=False)"
   ]
  },
  {
   "cell_type": "markdown",
   "id": "dac27aab-5c8d-47c9-968e-cbbe0d579bff",
   "metadata": {},
   "source": [
    "# Step 3: Convert non-human entries to human ones"
   ]
  },
  {
   "cell_type": "code",
   "execution_count": 5,
   "id": "f17ea124-e113-44ac-812b-3cd35e2c7565",
   "metadata": {},
   "outputs": [],
   "source": [
    "# import df from step 2\n",
    "df_metazoanGenes = pd.read_csv('./IntermediateProducts/Results_step_2.csv')"
   ]
  },
  {
   "cell_type": "code",
   "execution_count": 22,
   "id": "5ef07dee-ff74-47a6-a80f-14e5b77d4f30",
   "metadata": {
    "tags": []
   },
   "outputs": [
    {
     "name": "stdout",
     "output_type": "stream",
     "text": [
      "0 W Anopheles albimanus Not_found(similar)\n",
      "100 SEMA6B Homo sapiens Q9H3T3\n",
      "200 LRP12 Homo sapiens Q9Y561\n",
      "300 DCBLD2 Homo sapiens Q96PD2\n",
      "400 SMIM41 Homo sapiens A0A2R8YCJ5\n",
      "500 PREB Homo sapiens Q9HCU5\n",
      "600 TMEM61 Homo sapiens Q8N0U2\n",
      "700 BRICD5 Homo sapiens Q6PL45\n",
      "800 HHLA2 Homo sapiens Q9UM44\n",
      "Error for gene name Unknown of Mus musculus in row 840: list index out of range\n",
      "900 Nrros Mus musculus Q86YC3\n",
      "1000 Zdhhc19 Mus musculus Q8WVZ1\n",
      "Error for gene name Prss43 of Mus musculus in row 1020: list index out of range\n",
      "1100 Tomm70 Mus musculus O94826\n",
      "Error for gene name Zfp36l3 of Mus musculus in row 1120: list index out of range\n",
      "Error for gene name Olfr56 of Mus musculus in row 1160: list index out of range\n",
      "1200 Ms4a13 Mus musculus Q5J8X5\n",
      "Error for gene name Vmn2r116 of Mus musculus in row 1260: list index out of range\n",
      "1300 PLPPR2 Bos taurus Q96GM1\n",
      "1400 TMEM54 Bos taurus Q969K7\n",
      "Error for gene name Unknown of Caenorhabditis elegans in row 1480: list index out of range\n",
      "Error for gene name clc-5 of Caenorhabditis elegans in row 1500: list index out of range\n",
      "1500 clc-5 Caenorhabditis elegans Not_found\n",
      "Error for gene name sra-32 of Caenorhabditis elegans in row 1520: list index out of range\n",
      "Error for gene name elo-3 of Caenorhabditis elegans in row 1540: list index out of range\n",
      "Error for gene name ilcr-1 of Caenorhabditis elegans in row 1560: list index out of range\n",
      "Error for gene name acp-1 of Caenorhabditis elegans in row 1580: list index out of range\n",
      "Error for gene name nra-2 of Caenorhabditis elegans in row 1600: list index out of range\n",
      "1600 nra-2 Caenorhabditis elegans Not_found\n",
      "Error for gene name Unknown of Caenorhabditis elegans in row 1620: list index out of range\n",
      "Error for gene name cam-1 of Caenorhabditis elegans in row 1640: list index out of range\n",
      "Error for gene name mtp-18 of Caenorhabditis elegans in row 1660: list index out of range\n",
      "Error for gene name lagr-1 of Caenorhabditis elegans in row 1680: list index out of range\n",
      "Error for gene name Unknown of Caenorhabditis elegans in row 1700: list index out of range\n",
      "1700 Unknown Caenorhabditis elegans Not_found\n",
      "Error for gene name moma-1 of Caenorhabditis elegans in row 1720: list index out of range\n",
      "Error for gene name Unknown of Caenorhabditis elegans in row 1740: list index out of range\n",
      "Error for gene name zig-1 of Caenorhabditis elegans in row 1760: list index out of range\n",
      "Error for gene name Unknown of Caenorhabditis elegans in row 1780: list index out of range\n",
      "Error for gene name Unknown of Caenorhabditis elegans in row 1800: list index out of range\n",
      "1800 Unknown Caenorhabditis elegans Not_found\n",
      "Error for gene name Klri2 of Rattus norvegicus in row 1900: list index out of range\n",
      "1900 Klri2 Rattus norvegicus Not_found\n",
      "Error for gene name Timd2 of Rattus norvegicus in row 1920: list index out of range\n",
      "2000 TMEM196 Pongo abelii Q5HYL7\n",
      "2100 ATP1B4 Gallus gallus Q9UN42\n",
      "Error for gene name noc4l-a of Xenopus laevis in row 2120: list index out of range\n",
      "Error for gene name frc of Drosophila melanogaster in row 2200: list index out of range\n",
      "2200 frc Drosophila melanogaster Not_found\n",
      "Error for gene name Alp4 of Drosophila melanogaster in row 2220: list index out of range\n",
      "Error for gene name Pal1 of Drosophila melanogaster in row 2260: list index out of range\n",
      "Error for gene name gol of Drosophila melanogaster in row 2280: list index out of range\n",
      "Error for gene name DppIII of Drosophila melanogaster in row 2300: list index out of range\n",
      "2300 DppIII Drosophila melanogaster Not_found\n",
      "Error for gene name Kr-h2 of Drosophila melanogaster in row 2320: list index out of range\n",
      "Error for gene name sturkopf of Drosophila melanogaster in row 2340: list index out of range\n",
      "2400 slc39a10 Danio rerio Q9ULF5\n",
      "Error for gene name slc25a1a of Danio rerio in row 2420: list index out of range\n",
      "Error for gene name eat-20 of Caenorhabditis briggsae in row 2480: list index out of range\n",
      "Error for gene name PAPI of Bombyx mori in row 2500: list index out of range\n",
      "2500 PAPI Bombyx mori Not_found\n",
      "HTTP Error for URL https://rest.uniprot.org/uniprotkb/search: 400 Bad Request\n",
      "Error for gene name Unknown of Aedes aegypti in row 2540: list index out of range\n",
      "HTTP Error for URL https://rest.uniprot.org/uniprotkb/search: 400 Bad Request\n",
      "2600 chrnd Tetronarce californica Q07001\n",
      "Error for gene name SCRB16 of Anopheles gambiae in row 2640: list index out of range\n",
      "HTTP Error for URL https://rest.uniprot.org/uniprotkb/search: 400 Bad Request\n",
      "Error for gene name Unknown of Coturnix japonica in row 2680: list index out of range\n",
      "Error for gene name Unknown of Drosophila persimilis in row 2700: list index out of range\n",
      "2700 Unknown Drosophila persimilis Not_found\n",
      "HTTP Error for URL https://rest.uniprot.org/uniprotkb/search: 400 Bad Request\n"
     ]
    }
   ],
   "source": [
    "converted_id_list = list() # For final output\n",
    "\n",
    "# Counting how many genes were not found\n",
    "reused = 0\n",
    "similar_but_differ = 0\n",
    "not_found = 0\n",
    "\n",
    "# scan entries in the dataframe\n",
    "for i in range(len(df_metazoanGenes)):\n",
    "# for i in range(10):\n",
    "    gene_name = df_metazoanGenes.iloc[i, 2] \n",
    "    organism_name = df_metazoanGenes.iloc[i, 1]\n",
    "    \n",
    "    if organism_name == 'Homo sapiens':\n",
    "        entry_converted = df_metazoanGenes.iloc[i, 0] # reuse the original gene name\n",
    "        reused += 1\n",
    "    else:\n",
    "        # find human version of the entry and gene name\n",
    "        try:\n",
    "            params = {\n",
    "            \"query\": f'gene:{gene_name} AND organism_id:{my_config.organism_id_list[\"Homo sapiens\"]} AND reviewed:true',\n",
    "            \"fields\": \"accession, gene_names\",\n",
    "            \"format\": \"json\"\n",
    "            }\n",
    "        \n",
    "            r = get_url(my_config.WEBSITE_API, params=params)\n",
    "            # response = get_url(f'{WEBSITE_API}/search?query=gene:{gene}+AND+organism_id:{organism_id}+AND+reviewed:true&fields=accession,gene_names')\n",
    "            result = r.json().get('results', '')[0]\n",
    "\n",
    "            ## get human entry\n",
    "            entry_converted = result.get('primaryAccession', 'Not_found')\n",
    "            ## Check if the obtained entry points to the same gene\n",
    "            gene_obtained = result['genes'][0]['geneName']['value'].lower()\n",
    "            if gene_name.lower() != gene_obtained:\n",
    "                entry_converted = 'Not_found(similar)'\n",
    "                similar_but_differ += 1\n",
    "        except Exception as e:\n",
    "            if i % 20 == 0:\n",
    "                print(f\"Error for gene name {gene_name} of {organism_name} in row {i}: {e}\")\n",
    "            entry_converted = 'Not_found'\n",
    "            not_found += 1\n",
    "\n",
    "        # take a break\n",
    "        sleep(1)\n",
    "\n",
    "    # add to the final output list\n",
    "    converted_id_list.append(entry_converted)\n",
    "\n",
    "    # log every 100\n",
    "    if i % 100 == 0: print(i, gene_name, organism_name, entry_converted)\n",
    "    \n",
    "# Add the result to Entry_Hs column\n",
    "df_metazoanGenes['Entry_Hs'] = converted_id_list"
   ]
  },
  {
   "cell_type": "code",
   "execution_count": 32,
   "id": "b4ed9452-025e-4da9-a641-d5b0aab73cb7",
   "metadata": {
    "tags": []
   },
   "outputs": [
    {
     "name": "stdout",
     "output_type": "stream",
     "text": [
      "Number of genes that was originally Hs:  824\n",
      "Total number of genes that was converted to Hs:  1155\n",
      "Number of genes for which similar gene name was found in Hs:  81\n",
      "Number of genes for which Hs homolog was not found:  673\n"
     ]
    }
   ],
   "source": [
    "print('Number of genes that was originally Hs: ', len(df_metazoanGenes[df_metazoanGenes.Organism == 'Homo sapiens']))\n",
    "print('Total number of genes that was converted to Hs: ', len(df_metazoanGenes) - reused - similar_but_differ - not_found)\n",
    "print('Number of genes for which similar gene name was found in Hs: ', similar_but_differ)\n",
    "print('Number of genes for which Hs homolog was not found: ', not_found)"
   ]
  },
  {
   "cell_type": "code",
   "execution_count": 33,
   "id": "d8650760-274d-45f0-8dac-cb431a510d91",
   "metadata": {},
   "outputs": [],
   "source": [
    "# Export\n",
    "df_metazoanGenes.to_csv('./IntermediateProducts/Results_step_3.csv', index=False)"
   ]
  },
  {
   "cell_type": "code",
   "execution_count": null,
   "id": "085e8910-a8c1-4735-a1e0-cf2c2d3fdb1d",
   "metadata": {},
   "outputs": [],
   "source": []
  }
 ],
 "metadata": {
  "kernelspec": {
   "display_name": "Python 3 (ipykernel)",
   "language": "python",
   "name": "python3"
  },
  "language_info": {
   "codemirror_mode": {
    "name": "ipython",
    "version": 3
   },
   "file_extension": ".py",
   "mimetype": "text/x-python",
   "name": "python",
   "nbconvert_exporter": "python",
   "pygments_lexer": "ipython3",
   "version": "3.11.3"
  }
 },
 "nbformat": 4,
 "nbformat_minor": 5
}
