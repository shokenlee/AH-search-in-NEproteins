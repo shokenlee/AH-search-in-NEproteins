{
 "cells": [
  {
   "cell_type": "code",
   "execution_count": 1,
   "id": "ba82341f-720d-477c-af55-4180e3bee9d7",
   "metadata": {},
   "outputs": [],
   "source": [
    "import os, re, requests, json, warnings\n",
    "import numpy as np\n",
    "import pandas as pd\n",
    "from urllib.request import urlopen\n",
    "from time import sleep\n",
    "\n",
    "warnings.filterwarnings('ignore')"
   ]
  },
  {
   "cell_type": "code",
   "execution_count": 2,
   "id": "47a7e9cc-255f-4078-91a8-dd96d6989c8e",
   "metadata": {},
   "outputs": [],
   "source": [
    "def get_url(url, **kwargs):\n",
    "    '''\n",
    "    Obatin a response from a given url\n",
    "    '''\n",
    "    response = requests.get(url, **kwargs);\n",
    "\n",
    "    if not response.ok:\n",
    "        print(response.text)\n",
    "        response.raise_for_status()\n",
    "        sys.exit()\n",
    "\n",
    "    return response"
   ]
  },
  {
   "cell_type": "markdown",
   "id": "bfc780fb-b667-4095-94c0-53d749df53d7",
   "metadata": {},
   "source": [
    "# Step 1: Scan raw data, judge AH or not, obtain organism and gene names, etc"
   ]
  },
  {
   "cell_type": "code",
   "execution_count": null,
   "id": "bb956bbe-be31-43a3-ab16-c8dbc605bb93",
   "metadata": {},
   "outputs": [],
   "source": [
    "# uniprot API URL\n",
    "WEBSITE_API = \"https://rest.uniprot.org/uniprotkb/\""
   ]
  },
  {
   "cell_type": "code",
   "execution_count": 2,
   "id": "7a07a194-98c5-4dd6-854d-02482abb65cf",
   "metadata": {},
   "outputs": [
    {
     "name": "stdout",
     "output_type": "stream",
     "text": [
      "11761\n"
     ]
    }
   ],
   "source": [
    "# raw data import\n",
    "files = os.listdir('./SourceData/Results from the paper/')\n",
    "print(len(files))"
   ]
  },
  {
   "cell_type": "code",
   "execution_count": 47,
   "id": "e43c9279-6a94-4ccc-94ab-65d5fe1bf864",
   "metadata": {
    "collapsed": true,
    "jupyter": {
     "outputs_hidden": true
    },
    "tags": []
   },
   "outputs": [
    {
     "name": "stdout",
     "output_type": "stream",
     "text": [
      "0 Q9CAN8 Arabidopsis thaliana Lysophospholipid acyltransferase 2\n",
      "100 P53389 Saccharomyces cerevisiae (strain ATCC 204508 / S288c) Protein HOL1\n",
      "200 Q12155 Saccharomyces cerevisiae (strain ATCC 204508 / S288c) Uncharacterized membrane protein YLR050C\n",
      "300 O26830 Methanothermobacter thermautotrophicus (strain ATCC 29096 / DSM 1053 / JCM 10044 / NBRC 100330 / Delta H) Putative phospho-N-acetylmuramoyl-pentapeptide-transferase\n",
      "400 Q51MB1 Magnaporthe oryzae (strain 70-15 / ATCC MYA-4617 / FGSC 8958) pH-response regulator protein palI/RIM9\n",
      "500 Q3E8Z8 Arabidopsis thaliana Putative pectinesterase/pectinesterase inhibitor 28\n",
      "600 Q5NCP0 Mus musculus E3 ubiquitin-protein ligase RNF43\n",
      "700 Q22549 Caenorhabditis elegans Innexin-10\n",
      "800 O07888 Treponema pallidum (strain Nichols) Flagellar protein FliL\n",
      "900 Q7Z695 Homo sapiens Uncharacterized aarF domain-containing protein kinase 2\n",
      "1000 Q674R7 Homo sapiens Autophagy-related protein 9B\n",
      "1100 O43085 Schizosaccharomyces pombe (strain 972 / ATCC 24843) DSC E3 ubiquitin ligase complex subunit 1\n",
      "1200 Q9LTZ9 Arabidopsis thaliana Galactan beta-1,4-galactosyltransferase GALS2\n",
      "1300 A4ZUB3 Acidianus bottle-shaped virus (isolate Italy/Pozzuoli) Putative transmembrane protein ORF92\n",
      "1400 Q95SS8 Drosophila melanogaster Transmembrane protein 70 homolog, mitochondrial\n",
      "1500 O28047 Archaeoglobus fulgidus (strain ATCC 49558 / DSM 4304 / JCM 9628 / NBRC 100126 / VC-16) Uncharacterized protein AF_2236\n",
      "1600 Q5AJX2 Candida albicans (strain SC5314 / ATCC MYA-2876) Sphingolipid delta(4)-desaturase\n",
      "1700 Q9ZV24 Arabidopsis thaliana Outer envelope pore protein 16-1, chloroplastic\n",
      "1800 P9WIF2 Mycobacterium tuberculosis (strain CDC 1551 / Oshkosh) Uncharacterized PE-PGRS family protein PE_PGRS34\n",
      "1900 Q7ANN5 Rhizobium meliloti (strain 1021) Type I secretion system membrane fusion protein PrsE\n",
      "2000 P27380 Enterobacteria phage PRD1 Transglycosylase\n",
      "2100 Q603U8 Methylococcus capsulatus (strain ATCC 33009 / NCIMB 11132 / Bath) ATP synthase subunit a 2\n",
      "2200 Q9Y810 Schizosaccharomyces pombe (strain 972 / ATCC 24843) Cytochrome oxidase assembly protein shy1\n",
      "2300 A0A0F6B506 Salmonella typhimurium (strain 14028s / SGSC 2262) Salmonella anti-inflammatory response activator\n",
      "2400 O58968 Pyrococcus horikoshii (strain ATCC 700860 / DSM 12428 / JCM 9974 / NBRC 100139 / OT-3) Probable ABC transporter permease protein PH1215\n",
      "2500 P51559 Caenorhabditis elegans Endoprotease bli-4\n",
      "2600 Q7SYC7 Danio rerio Transmembrane protein 185-like\n",
      "2700 Q5A846 Candida albicans (strain SC5314 / ATCC MYA-2876) Beta-mannosyltransferase 3\n",
      "2800 P47014 Saccharomyces cerevisiae (strain ATCC 204508 / S288c) Uncharacterized protein YJL132W\n",
      "2900 O54901 Mus musculus OX-2 membrane glycoprotein\n",
      "3000 A8AJB3 Citrobacter koseri (strain ATCC BAA-895 / CDC 4225-83 / SGSC4696) Dipeptide permease D\n",
      "3100 Q77376 Human immunodeficiency virus type 1 group O (isolate ANT70) Protein Vpu\n",
      "3200 Q91YL7 Mus musculus PGAP2-interacting protein\n",
      "3300 A5DU71 Lodderomyces elongisporus (strain ATCC 11503 / CBS 2605 / JCM 1781 / NBRC 1676 / NRRL YB-4239) Plasma membrane fusion protein PRM1\n",
      "3400 P45035 Haemophilus influenzae (strain ATCC 51907 / DSM 11121 / KW20 / Rd) Heme exporter protein D\n",
      "3500 O07520 Bacillus subtilis (strain 168) Sporulation protein YhaL\n",
      "3600 P22407 Streptomyces lividans Protein SpdA\n",
      "3700 P32011 Streptomyces peucetius Daunorubicin/doxorubicin resistance ABC transporter permease protein DrrB\n",
      "3800 Q8QL47 Sulfolobus islandicus rod-shaped virus 1 Uncharacterized protein 399\n",
      "3900 C8VJR0 Emericella nidulans (strain FGSC A4 / ATCC 38163 / CBS 112.46 / NRRL 194 / M139) Cytochrome P450 monooxygenase alnH\n",
      "4000 Q58890 Methanocaldococcus jannaschii (strain ATCC 43067 / DSM 2661 / JAL-1 / JCM 10045 / NBRC 100440) Uncharacterized protein MJ1495\n",
      "4100 Q89AW6 Buchnera aphidicola subsp. Baizongia pistaciae (strain Bp) Ion-translocating oxidoreductase complex subunit G\n",
      "4200 A7MRY4 Vibrio campbellii (strain ATCC BAA-1116 / BB120) Autoinducer 1 sensor kinase/phosphatase LuxN\n",
      "4300 O83478 Treponema pallidum (strain Nichols) Uncharacterized protein TP_0465\n",
      "4400 P35654 Erwinia amylovora Harpin secretion protein HrpI\n",
      "4500 Q12116 Saccharomyces cerevisiae (strain ATCC 204508 / S288c) Membrane protein TMS1\n",
      "4600 Q9ZCA6 Rickettsia prowazekii (strain Madrid E) Uncharacterized protein RP854\n",
      "4700 Q8J2Q2 Gibberella moniliformis (strain M3125 / FGSC 7600) Sphingosine N-acyltransferase-like protein FUM18\n",
      "4800 V6F244 Magnetospirillum gryphiswaldense (strain DSM 6361 / JCM 21280 / NBRC 15271 / MSR-1) Magnetosome protein Mms5\n",
      "4900 Q96VG2 Schizosaccharomyces pombe (strain 972 / ATCC 24843) Probable dolichyl-diphosphooligosaccharide--protein glycosyltransferase 4 kDa subunit\n",
      "5000 Q50231 Methylophilus methylotrophus Methylamine utilization protein MauE\n",
      "5100 Q86B61 Drosophila melanogaster Tyramine beta-hydroxylase\n",
      "5200 Q13145 Homo sapiens BMP and activin membrane-bound inhibitor homolog\n",
      "5300 A7I137 Campylobacter hominis (strain ATCC BAA-381 / LMG 19568 / NCTC 13146 / CH001A) ATP synthase subunit c\n",
      "5400 F8W4H9 Danio rerio Melanocortin-2 receptor accessory protein 2A\n",
      "5500 P15715 Rhizobium meliloti (strain 1021) RpoH suppressor\n",
      "5600 Q9H6L5 Homo sapiens Reticulophagy regulator 1\n",
      "5700 A0A1B0GQX3 Mus musculus Cortexin domain containing 2\n",
      "5800 P34847 Apis mellifera ligustica NADH-ubiquinone oxidoreductase chain 1\n",
      "5900 Q9SLC3 Arabidopsis thaliana E3 ubiquitin-protein ligase ATL41\n",
      "6000 Q9SJ54 Arabidopsis thaliana NDR1/HIN1-like protein 12\n",
      "6100 P77716 Escherichia coli (strain K12) Inner membrane ABC transporter permease protein YcjP\n",
      "6200 Q51463 Pseudomonas aeruginosa (strain ATCC 15692 / DSM 22644 / CIP 104116 / JCM 14847 / LMG 12228 / 1C / PRS 101 / PAO1) Flagellar M-ring protein\n",
      "6300 C7J0R5 Oryza sativa subsp. japonica Dolichyl-diphosphooligosaccharide--protein glycosyltransferase subunit 4B\n",
      "6400 Q07820 Homo sapiens Induced myeloid leukemia cell differentiation protein Mcl-1\n",
      "6500 Q9VQ37 Drosophila melanogaster Mitochondrial carrier protein Rim2\n",
      "6600 Q9CMS3 Pasteurella multocida (strain Pm70) Uncharacterized protein PM0739\n",
      "6700 P96607 Bacillus subtilis (strain 168) Uncharacterized protein YdbL\n",
      "6800 O29762 Archaeoglobus fulgidus (strain ATCC 49558 / DSM 4304 / JCM 9628 / NBRC 100126 / VC-16) Uncharacterized protein AF_0488\n",
      "6900 H8EZ77 Mycobacterium tuberculosis (strain ATCC 35801 / TMC 107 / Erdman) Anti-sigma-D factor RsdA\n",
      "7000 B1H0B9 Endomicrobium trichonymphae ATP synthase subunit b\n",
      "7100 O05318 Mycobacterium tuberculosis (strain ATCC 25618 / H37Rv) Multidrug efflux system permease protein Rv1217c\n",
      "7200 Q8L7W1 Arabidopsis thaliana Mechanosensitive ion channel protein 3, chloroplastic\n",
      "7300 Q9MA60 Arabidopsis thaliana Formin-like protein 11\n",
      "7400 Q54QV8 Dictyostelium discoideum Uncharacterized transmembrane protein DDB_G0283573\n",
      "7500 C8VJR5 Emericella nidulans (strain FGSC A4 / ATCC 38163 / CBS 112.46 / NRRL 194 / M139) NADH-cytochrome b5 reductase-like protein alnC\n",
      "7600 Q06011 Saccharomyces cerevisiae (strain ATCC 204508 / S288c) Protein ECM19\n",
      "7700 P09506 Turnip yellows virus (isolate FL-1) Protein P1\n",
      "7800 Q57571 Methanocaldococcus jannaschii (strain ATCC 43067 / DSM 2661 / JAL-1 / JCM 10045 / NBRC 100440) Uncharacterized protein MJ0107\n",
      "7900 Q04991 Saccharomyces cerevisiae (strain ATCC 204508 / S288c) Protein FMP42\n",
      "8000 Q1H2C8 Methylobacillus flagellatus (strain KT / ATCC 51484 / DSM 6875) UPF0391 membrane protein Mfla_0947/Mfla_1091\n",
      "8100 Q2FLB8 Methanospirillum hungatei JF-1 (strain ATCC 27890 / DSM 864 / NBRC 100397 / JF-1) Putative fluoride ion transporter CrcB 1\n",
      "8200 Q3E739 Saccharomyces cerevisiae (strain ATCC 204508 / S288c) Uncharacterized protein YIR021W-A\n",
      "8300 P63714 Mycobacterium bovis (strain ATCC BAA-935 / AF2122/97) Putative cytochrome P450 128\n",
      "8400 P0ABP3 Escherichia coli (strain K12) Anaerobic C4-dicarboxylate transporter DcuC\n",
      "8500 Q9V3W6 Drosophila melanogaster Innexin inx7\n",
      "8600 O34663 Bacillus subtilis (strain 168) Uncharacterized MFS-type transporter YbcL\n",
      "8700 Q09684 Schizosaccharomyces pombe (strain 972 / ATCC 24843) Nuclear fusion protein tht1\n",
      "8800 Q02335 Caenorhabditis elegans Mitochondrial import receptor subunit tomm-70\n",
      "8900 Q22505 Caenorhabditis elegans MICOS complex subunit MIC60-1\n",
      "9000 O83324 Treponema pallidum (strain Nichols) Probable riboflavin import permease protein RfuD\n",
      "9100 Q6Q879 Leptosphaeria maculans Cytochrome P450 monooxygenase sirE\n",
      "9200 Q58983 Methanocaldococcus jannaschii (strain ATCC 43067 / DSM 2661 / JAL-1 / JCM 10045 / NBRC 100440) Uncharacterized protein MJ1588\n",
      "9300 Q57882 Methanocaldococcus jannaschii (strain ATCC 43067 / DSM 2661 / JAL-1 / JCM 10045 / NBRC 100440) Uncharacterized protein MJ0440\n",
      "9400 Q8NA29 Homo sapiens Sodium-dependent lysophosphatidylcholine symporter 1\n",
      "9500 Q03478 Vibrio parahaemolyticus serotype O3:K6 (strain RIMD 2210633) Chemotaxis protein LafU\n",
      "9600 P40528 Saccharomyces cerevisiae (strain ATCC 204508 / S288c) Protein SYG1\n",
      "9700 P37131 Yersinia enterocolitica Protein YopB\n",
      "9800 O04195 Arabidopsis thaliana Uncharacterized protein At2g39920\n",
      "9900 A9TZ63 Physcomitrium patens CASP-like protein 1U1\n",
      "10000 Q08708 Homo sapiens CMRF35-like molecule 6\n",
      "10100 Q6UDM3 Psittacid herpesvirus 1 (isolate Amazon parrot/-/97-0001/1997) Envelope glycoprotein K\n",
      "10200 P19809 Escherichia coli O127:H6 (strain E2348/69 / EPEC) Intimin\n",
      "10300 Q969P0 Homo sapiens Immunoglobulin superfamily member 8\n",
      "10400 D5AGC8 Streptococcus suis (strain GZ1) Cell division protein DivIB\n",
      "10500 Q02242 Mus musculus Programmed cell death protein 1\n",
      "10600 P40365 Saccharomyces cerevisiae (strain ATCC 204508 / S288c) Putative uncharacterized protein YJL067W\n",
      "10700 Q4R581 Macaca fascicularis 1-acyl-sn-glycerol-3-phosphate acyltransferase delta\n",
      "10800 Q9XPI2 Chelonia mydas ATP synthase protein 8\n",
      "10900 Q2YFS1 Mus musculus Paired immunoglobulin-like type 2 receptor beta-2\n",
      "11000 O29422 Archaeoglobus fulgidus (strain ATCC 49558 / DSM 4304 / JCM 9628 / NBRC 100126 / VC-16) Uncharacterized protein AF_0836\n",
      "11100 P15688 Beta vulgaris NADH-ubiquinone oxidoreductase chain 2\n",
      "11200 O31603 Bacillus subtilis (strain 168) Uncharacterized membrane protein YjbE\n",
      "11300 Q9P7I1 Schizosaccharomyces pombe (strain 972 / ATCC 24843) K(+)/H(+) antiporter 1\n",
      "11400 Q5ZMJ7 Gallus gallus Protein CIP2A homolog\n",
      "11500 Q9P3B2 Schizosaccharomyces pombe (strain 972 / ATCC 24843) Respiratory supercomplex factor 2 homolog C1565.01\n",
      "11600 G2TRU0 Schizosaccharomyces pombe (strain 972 / ATCC 24843) Dolichyl-diphosphooligosaccharide--protein glycosyltransferase subunit ost5\n",
      "11700 P53845 Saccharomyces cerevisiae (strain ATCC 204508 / S288c) Protein transport protein YIF1\n"
     ]
    }
   ],
   "source": [
    "# prepare a dataframe and array for the ID not found in uniprot\n",
    "df = pd.DataFrame()\n",
    "\n",
    "# scan raw data files, judge AH_or_not, and get the gene info from uniprot based on the ID called \"entry\"\n",
    "for i, file in enumerate(files):\n",
    "    \n",
    "    # check the file format\n",
    "    if file.endswith('result'):\n",
    "        \n",
    "        # obtain uniprot ID called entry\n",
    "        entry = file.replace('.result', '')\n",
    "        \n",
    "        # open the file\n",
    "        with open('./SourceData/Results from the paper/' + file) as f:\n",
    "            lines = f.readlines()\n",
    "    \n",
    "        # get the amino-acid sequence and prediction\n",
    "        aa_sequence = lines[1]\n",
    "        prediction = lines[3]\n",
    "\n",
    "        # judge if the protein predicted to contain AH or not\n",
    "        if '1' in prediction:\n",
    "            AH_or_not = 'AH'\n",
    "        else:\n",
    "            AH_or_not = 'Non-AH'\n",
    "\n",
    "        # get the result of query\n",
    "        try:\n",
    "            r = get_url(f\"{WEBSITE_API}/search?query=(accession:{entry})&fields=organism_name,gene_primary,protein_name,cc_subcellular_location\")\n",
    "            result = r.json()['results'][0]\n",
    "        except requests.exceptions.ConnectionError:\n",
    "            r.status_code = \"Connection refused\"\n",
    "            break\n",
    "        \n",
    "        # extract wanted texts from the result\n",
    "        ## organism name\n",
    "        ### put try-except in case the gene info is obsolete\n",
    "        try:\n",
    "            organism_name = result['organism']['scientificName']\n",
    "        except:\n",
    "            organism_name = 'Unknown'\n",
    "        \n",
    "        ## gene name\n",
    "        ### put try-except in case it lacks geneName\n",
    "        try: \n",
    "            gene_name = result['genes'][0]['geneName']['value']\n",
    "        except: gene_name = 'Unknown'\n",
    "\n",
    "        ## protein name\n",
    "        try: \n",
    "            protein_name = result['proteinDescription']['recommendedName']['fullName']['value'] \n",
    "        except: protein_name = 'Unknown'\n",
    "\n",
    "        ## subcellular locations\n",
    "        subcell_loc = list()\n",
    "        try:\n",
    "            for v in result['comments'][0]['subcellularLocations']:\n",
    "                subcell_loc.append(v['location']['value'])\n",
    "                subcell_loc = ', '.join(subcell_loc)\n",
    "        except:\n",
    "            subcell_loc = 'Unknown'\n",
    "        \n",
    "        \n",
    "        # put the values to the dataframe\n",
    "        df.loc[i, 'Entry_original'] = entry\n",
    "        df.loc[i, 'Organism'] = organism_name\n",
    "        df.loc[i, 'Gene_name'] = gene_name\n",
    "        df.loc[i, 'Protein_name'] = protein_name\n",
    "        df.loc[i, 'AH_or_Not'] = AH_or_not\n",
    "        df.loc[i, 'AA_sequence'] = aa_sequence\n",
    "        df.loc[i, 'Prediction'] = prediction\n",
    "        df.loc[i, 'SubCell_Uniprot'] = subcell_loc\n",
    "        \n",
    "        # log every 100 genes\n",
    "        if i % 100 == 0: print(i, entry, organism_name, protein_name)\n",
    "    \n",
    "    # take a break, go next\n",
    "    sleep(1)\n",
    "            "
   ]
  },
  {
   "cell_type": "code",
   "execution_count": 48,
   "id": "33955ea3-6e79-46f1-859c-54ab4e17ed94",
   "metadata": {},
   "outputs": [
    {
     "name": "stdout",
     "output_type": "stream",
     "text": [
      "<class 'pandas.core.frame.DataFrame'>\n",
      "Int64Index: 11759 entries, 0 to 11760\n",
      "Data columns (total 8 columns):\n",
      " #   Column           Non-Null Count  Dtype \n",
      "---  ------           --------------  ----- \n",
      " 0   Entry_original   11759 non-null  object\n",
      " 1   Organism         11759 non-null  object\n",
      " 2   Gene_name        11759 non-null  object\n",
      " 3   Protein_name     11759 non-null  object\n",
      " 4   AH_or_Not        11759 non-null  object\n",
      " 5   AA_sequence      11759 non-null  object\n",
      " 6   Prediction       11759 non-null  object\n",
      " 7   SubCell_Uniprot  11759 non-null  object\n",
      "dtypes: object(8)\n",
      "memory usage: 1.1+ MB\n"
     ]
    }
   ],
   "source": [
    "df.info()"
   ]
  },
  {
   "cell_type": "code",
   "execution_count": 49,
   "id": "e71b82b1-f3f3-4fd8-9d11-1f1f3965a8b1",
   "metadata": {},
   "outputs": [],
   "source": [
    "# export\n",
    "df.to_csv('./IntermediateProducts/Results_step_1.csv', index=False)"
   ]
  },
  {
   "cell_type": "markdown",
   "id": "c2cf66b9-aeef-4c64-a81c-5526ac8e9d49",
   "metadata": {},
   "source": [
    "# Step 2: Sort genes of metazoans"
   ]
  },
  {
   "cell_type": "code",
   "execution_count": 8,
   "id": "8ca25549-f5ee-4ad1-9e21-3b384312294d",
   "metadata": {},
   "outputs": [],
   "source": [
    "WEBSITE_API = 'https://rest.uniprot.org/taxonomy/'"
   ]
  },
  {
   "cell_type": "code",
   "execution_count": 3,
   "id": "4d92eb5d-ade6-4046-8f49-52e72fb2ca4c",
   "metadata": {},
   "outputs": [],
   "source": [
    "# Import the df from step 1\n",
    "df = pd.read_csv('./IntermediateProducts/Results_step_1.csv')"
   ]
  },
  {
   "cell_type": "code",
   "execution_count": 150,
   "id": "839c6659-60c3-4876-8a0d-0bab3b938900",
   "metadata": {},
   "outputs": [
    {
     "name": "stdout",
     "output_type": "stream",
     "text": [
      "Number of organism species in the data is  1521\n"
     ]
    }
   ],
   "source": [
    "# create organism list\n",
    "organism_list = df['Organism'].unique().tolist()\n",
    "print('Number of organism species in the data is ', len(organism_list))"
   ]
  },
  {
   "cell_type": "code",
   "execution_count": 134,
   "id": "dc584f3d-a72d-40ff-9ce1-fc7d72451d66",
   "metadata": {
    "tags": []
   },
   "outputs": [
    {
     "name": "stdout",
     "output_type": "stream",
     "text": [
      "0 Arabidopsis thaliana ['Eukaryota', 'cellular organisms']\n",
      "100 Salmonella phage P22 ['Duplodnaviria', 'Viruses']\n",
      "200 Acropora millepora ['Eukaryota', 'cellular organisms']\n",
      "300 Streptococcus pneumoniae  ['Bacteria', 'cellular organisms']\n",
      "400 Acidianus bottle-shaped virus  []\n",
      "500 Petunia integrifolia ['Eukaryota', 'cellular organisms']\n",
      "600 Haloquadratum walsbyi  ['Archaea', 'cellular organisms']\n",
      "700 Xanthomonas campestris pv. campestris  ['Bacteria', 'cellular organisms']\n",
      "800 Friend murine leukemia virus  ['Riboviria', 'Viruses']\n",
      "900 Oceanobacillus iheyensis  ['Bacteria', 'cellular organisms']\n",
      "1000 Artemia salina ['Eukaryota', 'cellular organisms']\n",
      "1100 Citrifermentans bemidjiense  ['Bacteria', 'cellular organisms']\n",
      "1200 Quaranfil virus  ['Riboviria', 'Viruses']\n",
      "1300 Planococcus maritimus ['Bacteria', 'cellular organisms']\n",
      "1400 Macaca radiata ['Eukaryota', 'cellular organisms']\n",
      "1500 Dechloromonas aromatica  ['Bacteria', 'cellular organisms']\n"
     ]
    }
   ],
   "source": [
    "# a list for storage\n",
    "lineage_list = list()\n",
    "\n",
    "# regex for extracing organism name WITHOUT items in parenthesis\n",
    "regex = re.compile(r'([^()]+)(\\(.+\\))?')\n",
    "\n",
    "# scan organism list and get lineage from Uniprot Taxonomy\n",
    "for i, organism in enumerate(organism_list):\n",
    "    # extract organism name WITHOUT items in parenthesis such as strain name\n",
    "    mo = regex.search(organism)\n",
    "    if mo is None:\n",
    "        lineage_list.append('Unknown')\n",
    "        continue\n",
    "    else: \n",
    "        organism = mo.group(1)\n",
    "    \n",
    "    # get response that contains lineage\n",
    "    try:\n",
    "        r = get_url(f'{WEBSITE_API}/search?query=(scientific:\"{organism}\")&fields=lineage')\n",
    "        result = r.json()\n",
    "    except requests.exceptions.ConnectionError:\n",
    "        r.status_code = \"Connection refused\"\n",
    "        break\n",
    "    \n",
    "    # extract lineage from the result\n",
    "    lineage = list()\n",
    "    lineage_full = ''\n",
    "    try:\n",
    "        for l in result['results'][0]['lineage']:\n",
    "            name = l['scientificName']\n",
    "            lineage.append(name)\n",
    "        lineage_full = ', '.join(lineage)\n",
    "    except:\n",
    "        lineage_full = 'NotFound' # in case the result is empty\n",
    "        \n",
    "    # add to the found lineage to the list\n",
    "    lineage_list.append(lineage_full)\n",
    "    \n",
    "    # log every 100\n",
    "    if i % 100 == 0: print(i, organism, lineage[-2:])\n",
    "    \n",
    "    # take a break, go next\n",
    "    sleep(1)"
   ]
  },
  {
   "cell_type": "code",
   "execution_count": 141,
   "id": "53082a3a-e6cb-46bb-8455-7f25d8a8b719",
   "metadata": {},
   "outputs": [
    {
     "name": "stdout",
     "output_type": "stream",
     "text": [
      "<class 'pandas.core.frame.DataFrame'>\n",
      "Int64Index: 122 entries, 4 to 1518\n",
      "Data columns (total 2 columns):\n",
      " #   Column    Non-Null Count  Dtype \n",
      "---  ------    --------------  ----- \n",
      " 0   Organism  122 non-null    object\n",
      " 1   Lineage   122 non-null    object\n",
      "dtypes: object(2)\n",
      "memory usage: 2.9+ KB\n",
      "None\n"
     ]
    }
   ],
   "source": [
    "# Add to the df_org\n",
    "df_org = pd.DataFrame(organism_list, columns=['Organism'])\n",
    "df_org['Lineage'] = lineage_list\n",
    "\n",
    "# export\n",
    "df_org.to_csv('./IntermediateProducts/Organisms_and_Lineage.csv', index=False)"
   ]
  },
  {
   "cell_type": "code",
   "execution_count": 152,
   "id": "36384b7d-82f9-4aa6-abd5-f9b238990792",
   "metadata": {},
   "outputs": [
    {
     "name": "stdout",
     "output_type": "stream",
     "text": [
      "Number of metazoan species is  122\n"
     ]
    }
   ],
   "source": [
    "# Select metazoans\n",
    "df_org_metazoa = df_org[df_org['Lineage'].str.contains('Metazoa')]\n",
    "print('Number of metazoan species is ', len(df_org_metazoa))"
   ]
  },
  {
   "cell_type": "code",
   "execution_count": 165,
   "id": "58e3da4a-908e-4f2a-8097-a51124e15659",
   "metadata": {},
   "outputs": [
    {
     "name": "stdout",
     "output_type": "stream",
     "text": [
      "Number of eukaryotic species is  431\n",
      "Number of bacteria species is  732\n",
      "Number of archea species is  61\n",
      "Number of virus species is  281\n",
      "Number of species not found in database is  16\n"
     ]
    }
   ],
   "source": [
    "# How many are eukaryotes, bacteria, archea, and virus\n",
    "n_eukaryote = len(df_org[df_org['Lineage'].str.contains('Eukaryot')])\n",
    "n_bacteria = len(df_org[df_org['Lineage'].str.contains('Bacteria')])\n",
    "n_archaea = len(df_org[df_org['Lineage'].str.contains('Archaea')])\n",
    "n_virus = len(df_org[df_org['Lineage'].str.contains('Virus')])\n",
    "n_notFound = len(df_org) - np.sum([n_eukaryote, n_bacteria, n_archaea, n_virus])\n",
    "print('Number of eukaryotic species is ', n_eukaryote)\n",
    "print('Number of bacteria species is ', n_bacteria)\n",
    "print('Number of archea species is ', n_archaea)\n",
    "print('Number of virus species is ', n_virus)\n",
    "print('Number of species not found in database is ', n_notFound)"
   ]
  },
  {
   "cell_type": "code",
   "execution_count": 153,
   "id": "a966d8f6-2201-4adb-93c6-eff449830e0e",
   "metadata": {},
   "outputs": [
    {
     "name": "stdout",
     "output_type": "stream",
     "text": [
      "<class 'pandas.core.frame.DataFrame'>\n",
      "Int64Index: 2733 entries, 0 to 2732\n",
      "Data columns (total 9 columns):\n",
      " #   Column           Non-Null Count  Dtype \n",
      "---  ------           --------------  ----- \n",
      " 0   Entry_original   2733 non-null   object\n",
      " 1   Organism         2733 non-null   object\n",
      " 2   Gene_name        2733 non-null   object\n",
      " 3   Protein_name     2733 non-null   object\n",
      " 4   AH_or_Not        2733 non-null   object\n",
      " 5   AA_sequence      2733 non-null   object\n",
      " 6   Prediction       2733 non-null   object\n",
      " 7   SubCell_Uniprot  2733 non-null   object\n",
      " 8   Lineage          2733 non-null   object\n",
      "dtypes: object(9)\n",
      "memory usage: 213.5+ KB\n",
      "None\n"
     ]
    }
   ],
   "source": [
    "# Merge df_org_metazoa with the main df\n",
    "# by doing so, genes from metazoans are sorted\n",
    "df_metazoanGenes = df.merge(df_org_metazoa, how='inner', on='Organism')\n",
    "print(df_metazoanGenes.info())"
   ]
  },
  {
   "cell_type": "code",
   "execution_count": 166,
   "id": "0217de85-b539-4c77-9918-74fffda13cbb",
   "metadata": {},
   "outputs": [],
   "source": [
    "# remove Lineage column\n",
    "df_metazoanGenes = df_metazoanGenes.drop(['Lineage'], axis=1)\n",
    "\n",
    "# export\n",
    "df_metazoanGenes.to_csv('./IntermediateProducts/Results_step_2.csv', index=False)"
   ]
  },
  {
   "cell_type": "markdown",
   "id": "dac27aab-5c8d-47c9-968e-cbbe0d579bff",
   "metadata": {},
   "source": [
    "# Step 3: Get human and mouse entry"
   ]
  },
  {
   "cell_type": "code",
   "execution_count": 3,
   "id": "f17ea124-e113-44ac-812b-3cd35e2c7565",
   "metadata": {},
   "outputs": [],
   "source": [
    "# import df from step 3\n",
    "df_metazoanGenes = pd.read_csv('./IntermediateProducts/Results_step_2.csv')"
   ]
  },
  {
   "cell_type": "code",
   "execution_count": 4,
   "id": "4cbd1a20-78af-4bee-a101-cd12ace7b9f4",
   "metadata": {},
   "outputs": [
    {
     "data": {
      "text/html": [
       "<div>\n",
       "<style scoped>\n",
       "    .dataframe tbody tr th:only-of-type {\n",
       "        vertical-align: middle;\n",
       "    }\n",
       "\n",
       "    .dataframe tbody tr th {\n",
       "        vertical-align: top;\n",
       "    }\n",
       "\n",
       "    .dataframe thead th {\n",
       "        text-align: right;\n",
       "    }\n",
       "</style>\n",
       "<table border=\"1\" class=\"dataframe\">\n",
       "  <thead>\n",
       "    <tr style=\"text-align: right;\">\n",
       "      <th></th>\n",
       "      <th>Entry_original</th>\n",
       "      <th>Organism</th>\n",
       "      <th>Gene_name</th>\n",
       "      <th>Protein_name</th>\n",
       "      <th>AH_or_Not</th>\n",
       "      <th>AA_sequence</th>\n",
       "      <th>Prediction</th>\n",
       "      <th>SubCell_Uniprot</th>\n",
       "    </tr>\n",
       "  </thead>\n",
       "  <tbody>\n",
       "    <tr>\n",
       "      <th>0</th>\n",
       "      <td>Q16928</td>\n",
       "      <td>Anopheles albimanus</td>\n",
       "      <td>W</td>\n",
       "      <td>Protein white</td>\n",
       "      <td>Non-AH</td>\n",
       "      <td>MTINTDDQYADGESKTTISSNRRYSTSSFQDQSMEDDGINATLTND...</td>\n",
       "      <td>0000000000000000000000000000000000000000000000...</td>\n",
       "      <td>Membrane</td>\n",
       "    </tr>\n",
       "    <tr>\n",
       "      <th>1</th>\n",
       "      <td>Q01151</td>\n",
       "      <td>Homo sapiens</td>\n",
       "      <td>CD83</td>\n",
       "      <td>CD83 antigen</td>\n",
       "      <td>Non-AH</td>\n",
       "      <td>MSRGLQLLLLSCAYSLAPATPEVKVACSEDVDLPCTAPWDPQVPYT...</td>\n",
       "      <td>0000000000000000000000000000000000000000000000...</td>\n",
       "      <td>Membrane</td>\n",
       "    </tr>\n",
       "    <tr>\n",
       "      <th>2</th>\n",
       "      <td>Q0P6D2</td>\n",
       "      <td>Homo sapiens</td>\n",
       "      <td>DIPK1C</td>\n",
       "      <td>Divergent protein kinase domain 1C</td>\n",
       "      <td>AH</td>\n",
       "      <td>MARAAGARGPAGWCRRRGRCGRGTLLAFAAWTAGWVLAAALLLRAH...</td>\n",
       "      <td>0000000000000000000000000000000000000000000000...</td>\n",
       "      <td>Endoplasmic reticulum membrane</td>\n",
       "    </tr>\n",
       "    <tr>\n",
       "      <th>3</th>\n",
       "      <td>Q06136</td>\n",
       "      <td>Homo sapiens</td>\n",
       "      <td>KDSR</td>\n",
       "      <td>3-ketodihydrosphingosine reductase</td>\n",
       "      <td>AH</td>\n",
       "      <td>MLLLAAAFLVAFVLLLYMVSPLISPKPLALPGAHVVVTGGSSGIGK...</td>\n",
       "      <td>0000000000000000000000000000000000000000000000...</td>\n",
       "      <td>Endoplasmic reticulum membrane</td>\n",
       "    </tr>\n",
       "    <tr>\n",
       "      <th>4</th>\n",
       "      <td>Q3C1V0</td>\n",
       "      <td>Homo sapiens</td>\n",
       "      <td>MS4A18</td>\n",
       "      <td>Membrane-spanning 4-domains subfamily A member 18</td>\n",
       "      <td>AH</td>\n",
       "      <td>MTEQVIGANSVPGIIAPDNVHVIQPSNPVASGNHLQPSEVTTYPIS...</td>\n",
       "      <td>0000000000000000000000000000000000000000000000...</td>\n",
       "      <td>Membrane</td>\n",
       "    </tr>\n",
       "  </tbody>\n",
       "</table>\n",
       "</div>"
      ],
      "text/plain": [
       "  Entry_original             Organism Gene_name  \\\n",
       "0         Q16928  Anopheles albimanus         W   \n",
       "1         Q01151         Homo sapiens      CD83   \n",
       "2         Q0P6D2         Homo sapiens    DIPK1C   \n",
       "3         Q06136         Homo sapiens      KDSR   \n",
       "4         Q3C1V0         Homo sapiens    MS4A18   \n",
       "\n",
       "                                        Protein_name AH_or_Not  \\\n",
       "0                                      Protein white    Non-AH   \n",
       "1                                       CD83 antigen    Non-AH   \n",
       "2                 Divergent protein kinase domain 1C        AH   \n",
       "3                 3-ketodihydrosphingosine reductase        AH   \n",
       "4  Membrane-spanning 4-domains subfamily A member 18        AH   \n",
       "\n",
       "                                         AA_sequence  \\\n",
       "0  MTINTDDQYADGESKTTISSNRRYSTSSFQDQSMEDDGINATLTND...   \n",
       "1  MSRGLQLLLLSCAYSLAPATPEVKVACSEDVDLPCTAPWDPQVPYT...   \n",
       "2  MARAAGARGPAGWCRRRGRCGRGTLLAFAAWTAGWVLAAALLLRAH...   \n",
       "3  MLLLAAAFLVAFVLLLYMVSPLISPKPLALPGAHVVVTGGSSGIGK...   \n",
       "4  MTEQVIGANSVPGIIAPDNVHVIQPSNPVASGNHLQPSEVTTYPIS...   \n",
       "\n",
       "                                          Prediction  \\\n",
       "0  0000000000000000000000000000000000000000000000...   \n",
       "1  0000000000000000000000000000000000000000000000...   \n",
       "2  0000000000000000000000000000000000000000000000...   \n",
       "3  0000000000000000000000000000000000000000000000...   \n",
       "4  0000000000000000000000000000000000000000000000...   \n",
       "\n",
       "                  SubCell_Uniprot  \n",
       "0                        Membrane  \n",
       "1                        Membrane  \n",
       "2  Endoplasmic reticulum membrane  \n",
       "3  Endoplasmic reticulum membrane  \n",
       "4                        Membrane  "
      ]
     },
     "execution_count": 4,
     "metadata": {},
     "output_type": "execute_result"
    }
   ],
   "source": [
    "df_metazoanGenes.head()"
   ]
  },
  {
   "cell_type": "code",
   "execution_count": 5,
   "id": "4f514e6a-eb61-46be-ab22-0db3b0029f11",
   "metadata": {},
   "outputs": [],
   "source": [
    "WEBSITE_API = \"https://rest.uniprot.org/uniprotkb/\"\n",
    "\n",
    "organism_id_list = {'Homo sapiens': '9606', 'Mus musculus': '10090'}"
   ]
  },
  {
   "cell_type": "code",
   "execution_count": 9,
   "id": "4b3fc2d1-22ed-41fc-9158-53c356c21e2b",
   "metadata": {},
   "outputs": [],
   "source": [
    "def entry_convert(df, organism):\n",
    "    \"\"\"\n",
    "    For each entry in a given df, \n",
    "    if the entry is from the specified organism (human or mouse),\n",
    "    just reuse the entry\n",
    "    if not,\n",
    "    convert the entry into that of the specified organism (human or mouse)\n",
    "    \"\"\"\n",
    "    # For final output\n",
    "    converted_id_list = list()\n",
    "    \n",
    "    # Organism of interest either human or mouse\n",
    "    organism_id = organism_id_list[organism]\n",
    "    \n",
    "    # for counting how many genes were not found\n",
    "    reused = 0\n",
    "    non_match = 0\n",
    "    not_found = 0\n",
    "    \n",
    "    # scan entrys in the df\n",
    "    for i in range(len(df)):\n",
    "        gene = df.iloc[i, 2]\n",
    "        \n",
    "#         # in case the gene name is unknown, it matches a gene Q9Y6S7, whose gene name is 'Unknown'\n",
    "#         # thus below precludes this gene\n",
    "#         if gene == 'Unknown': #\n",
    "#             entry_converted = 'Not_found'\n",
    "#             not_found += 1\n",
    "#             # add to the final output list\n",
    "#             converted_id_list.append(entry_converted)\n",
    "#             continue\n",
    "        \n",
    "        # judge if the entry comes from human or mouse\n",
    "        if df.iloc[i, 1] == organism:\n",
    "            entry_converted = df.iloc[i, 0] # reuse the original gene name\n",
    "            reused += 1\n",
    "        else:\n",
    "            \n",
    "            # obtain the human or mouse entry from uniprot\n",
    "            try:\n",
    "                r = get_url(f'{WEBSITE_API}/search?query=gene:{gene}+AND+organism_id:{organism_id}+AND+reviewed:true&fields=accession,gene_names')\n",
    "                result = r.json()['results'][0]\n",
    "                \n",
    "                ## get human or mouse entry\n",
    "                entry_converted = result['primaryAccession']\n",
    "                ## get gene name and check the names matche between human's or mouse's and the given organism's\n",
    "                gene_obtained = result['genes'][0]['geneName']['value']\n",
    "                if gene.lower() != gene_obtained.lower():\n",
    "                    entry_converted = 'Not_found'\n",
    "                    non_match += 1\n",
    "            except:\n",
    "                entry_converted = 'Not_found'\n",
    "                not_found += 1\n",
    "            \n",
    "            # take a break\n",
    "            sleep(1)\n",
    "        \n",
    "        # add to the final output list\n",
    "        converted_id_list.append(entry_converted)\n",
    "        \n",
    "        # log every 100\n",
    "        if i % 100 == 0: print(i, gene, entry_converted)\n",
    "\n",
    "    \n",
    "    return converted_id_list, reused, non_match, not_found"
   ]
  },
  {
   "cell_type": "code",
   "execution_count": 10,
   "id": "fafcc54b-caee-4639-be6d-5791aefe8a20",
   "metadata": {
    "tags": []
   },
   "outputs": [
    {
     "name": "stdout",
     "output_type": "stream",
     "text": [
      "0 W Not_found\n",
      "100 SEMA6B Q9H3T3\n",
      "200 LRP12 Q9Y561\n",
      "300 DCBLD2 Q96PD2\n",
      "400 SMIM41 A0A2R8YCJ5\n",
      "500 PREB Q9HCU5\n",
      "600 TMEM61 Q8N0U2\n",
      "700 BRICD5 Q6PL45\n",
      "800 HHLA2 Q9UM44\n",
      "900 Nrros Q86YC3\n",
      "1000 Zdhhc19 Q8WVZ1\n",
      "1100 Tomm70 O94826\n",
      "1200 Ms4a13 Q5J8X5\n",
      "1300 PLPPR2 Q96GM1\n",
      "1400 TMEM54 Q969K7\n",
      "1500 clc-5 Not_found\n",
      "1600 nra-2 Not_found\n",
      "1700 Unknown Not_found\n",
      "1800 Unknown Not_found\n",
      "1900 Klri2 Not_found\n",
      "2000 TMEM196 Q5HYL7\n",
      "2100 ATP1B4 Q9UN42\n",
      "2200 frc Not_found\n",
      "2300 DppIII Not_found\n",
      "2400 slc39a10 Q9ULF5\n",
      "2500 PAPI Not_found\n",
      "{\"url\":\"http://rest.uniprot.org/uniprotkb/search\",\"messages\":[\"query parameter has an invalid syntax\"]}\n",
      "{\"url\":\"http://rest.uniprot.org/uniprotkb/search\",\"messages\":[\"query parameter has an invalid syntax\"]}\n",
      "2600 chrnd Q07001\n",
      "{\"url\":\"http://rest.uniprot.org/uniprotkb/search\",\"messages\":[\"query parameter has an invalid syntax\"]}\n",
      "2700 Unknown Not_found\n",
      "{\"url\":\"http://rest.uniprot.org/uniprotkb/search\",\"messages\":[\"query parameter has an invalid syntax\"]}\n",
      "Total number of genes that got converted to Hs:  1162\n",
      "Number of genes for which similar gene name was found in Hs:  74\n",
      "Number of genes for which Hs homolog was not found:  673\n"
     ]
    }
   ],
   "source": [
    "# get human entry\n",
    "converted_entry_Hs, reused, non_match, not_found = entry_convert(df_metazoanGenes, 'Homo sapiens')\n",
    "\n",
    "print('Total number of genes that got converted to Hs: ', len(df_metazoanGenes) - reused - non_match - not_found)\n",
    "print('Number of genes for which similar gene name was found in Hs: ', non_match)\n",
    "print('Number of genes for which Hs homolog was not found: ', not_found)"
   ]
  },
  {
   "cell_type": "code",
   "execution_count": 11,
   "id": "d0cba823-a4d5-4748-b59d-d37617623598",
   "metadata": {},
   "outputs": [],
   "source": [
    "# Add the result to Entry_Hs column\n",
    "df_metazoanGenes['Entry_Hs'] = converted_entry_Hs"
   ]
  },
  {
   "cell_type": "code",
   "execution_count": 12,
   "id": "d2596e2d-6978-4b14-bf80-b00a8a0d6f35",
   "metadata": {
    "tags": []
   },
   "outputs": [
    {
     "name": "stdout",
     "output_type": "stream",
     "text": [
      "0 W Not_found\n",
      "100 SEMA6B O54951\n",
      "200 LRP12 Q8BUJ9\n",
      "300 DCBLD2 Q91ZV3\n",
      "400 SMIM41 Not_found\n",
      "500 PREB Q9WUQ2\n",
      "600 TMEM61 Not_found\n",
      "700 BRICD5 Not_found\n",
      "800 HHLA2 Not_found\n",
      "900 Nrros Q8BMT4\n",
      "1000 Zdhhc19 Q810M5\n",
      "1100 Tomm70 Q9CZW5\n",
      "1200 Ms4a13 Q5FWC3\n",
      "1300 PLPPR2 Q8VCY8\n",
      "1400 TMEM54 Q9D7S1\n",
      "1500 clc-5 Not_found\n",
      "1600 nra-2 Not_found\n",
      "1700 Unknown Not_found\n",
      "1800 Unknown Not_found\n",
      "1900 Klri2 Q5DT36\n",
      "2000 TMEM196 Not_found\n",
      "2100 ATP1B4 Q99ME6\n",
      "2200 frc Not_found\n",
      "2300 DppIII Not_found\n",
      "2400 slc39a10 Q6P5F6\n",
      "2500 PAPI Not_found\n",
      "{\"url\":\"http://rest.uniprot.org/uniprotkb/search\",\"messages\":[\"query parameter has an invalid syntax\"]}\n",
      "{\"url\":\"http://rest.uniprot.org/uniprotkb/search\",\"messages\":[\"query parameter has an invalid syntax\"]}\n",
      "2600 chrnd P02716\n",
      "{\"url\":\"http://rest.uniprot.org/uniprotkb/search\",\"messages\":[\"query parameter has an invalid syntax\"]}\n",
      "2700 Unknown Not_found\n",
      "{\"url\":\"http://rest.uniprot.org/uniprotkb/search\",\"messages\":[\"query parameter has an invalid syntax\"]}\n",
      "Total number of genes that got converted to Mm:  1316\n",
      "Number of genes for which similar gene name was found in Mm:  111\n",
      "Number of genes for which Mm homolog was not found:  854\n"
     ]
    }
   ],
   "source": [
    "# get mouse entry\n",
    "converted_entry_Mm, reused, non_match, not_found = entry_convert(df_metazoanGenes, 'Mus musculus')\n",
    "\n",
    "print('Total number of genes that got converted to Mm: ', len(df_metazoanGenes) - reused - non_match - not_found)\n",
    "print('Number of genes for which similar gene name was found in Mm: ', non_match)\n",
    "print('Number of genes for which Mm homolog was not found: ', not_found)"
   ]
  },
  {
   "cell_type": "code",
   "execution_count": 13,
   "id": "5b7cf302-a2cd-4bd6-867f-cb88f39ec926",
   "metadata": {},
   "outputs": [],
   "source": [
    "# Add the result to Entry_Mm column\n",
    "df_metazoanGenes['Entry_Mm'] = converted_entry_Mm"
   ]
  },
  {
   "cell_type": "code",
   "execution_count": 17,
   "id": "b38b2f2d-97f0-4cab-a66e-7cdad369571a",
   "metadata": {},
   "outputs": [
    {
     "data": {
      "text/html": [
       "<div>\n",
       "<style scoped>\n",
       "    .dataframe tbody tr th:only-of-type {\n",
       "        vertical-align: middle;\n",
       "    }\n",
       "\n",
       "    .dataframe tbody tr th {\n",
       "        vertical-align: top;\n",
       "    }\n",
       "\n",
       "    .dataframe thead th {\n",
       "        text-align: right;\n",
       "    }\n",
       "</style>\n",
       "<table border=\"1\" class=\"dataframe\">\n",
       "  <thead>\n",
       "    <tr style=\"text-align: right;\">\n",
       "      <th></th>\n",
       "      <th>Entry_original</th>\n",
       "      <th>Organism</th>\n",
       "      <th>Gene_name</th>\n",
       "      <th>Protein_name</th>\n",
       "      <th>AH_or_Not</th>\n",
       "      <th>AA_sequence</th>\n",
       "      <th>Prediction</th>\n",
       "      <th>SubCell_Uniprot</th>\n",
       "      <th>Entry_Hs</th>\n",
       "      <th>Entry_Mm</th>\n",
       "    </tr>\n",
       "  </thead>\n",
       "  <tbody>\n",
       "    <tr>\n",
       "      <th>0</th>\n",
       "      <td>Q16928</td>\n",
       "      <td>Anopheles albimanus</td>\n",
       "      <td>W</td>\n",
       "      <td>Protein white</td>\n",
       "      <td>Non-AH</td>\n",
       "      <td>MTINTDDQYADGESKTTISSNRRYSTSSFQDQSMEDDGINATLTND...</td>\n",
       "      <td>0000000000000000000000000000000000000000000000...</td>\n",
       "      <td>Membrane</td>\n",
       "      <td>Not_found</td>\n",
       "      <td>Not_found</td>\n",
       "    </tr>\n",
       "    <tr>\n",
       "      <th>1</th>\n",
       "      <td>Q01151</td>\n",
       "      <td>Homo sapiens</td>\n",
       "      <td>CD83</td>\n",
       "      <td>CD83 antigen</td>\n",
       "      <td>Non-AH</td>\n",
       "      <td>MSRGLQLLLLSCAYSLAPATPEVKVACSEDVDLPCTAPWDPQVPYT...</td>\n",
       "      <td>0000000000000000000000000000000000000000000000...</td>\n",
       "      <td>Membrane</td>\n",
       "      <td>Q01151</td>\n",
       "      <td>O88324</td>\n",
       "    </tr>\n",
       "    <tr>\n",
       "      <th>2</th>\n",
       "      <td>Q0P6D2</td>\n",
       "      <td>Homo sapiens</td>\n",
       "      <td>DIPK1C</td>\n",
       "      <td>Divergent protein kinase domain 1C</td>\n",
       "      <td>AH</td>\n",
       "      <td>MARAAGARGPAGWCRRRGRCGRGTLLAFAAWTAGWVLAAALLLRAH...</td>\n",
       "      <td>0000000000000000000000000000000000000000000000...</td>\n",
       "      <td>Endoplasmic reticulum membrane</td>\n",
       "      <td>Q0P6D2</td>\n",
       "      <td>Q8BQT2</td>\n",
       "    </tr>\n",
       "    <tr>\n",
       "      <th>3</th>\n",
       "      <td>Q06136</td>\n",
       "      <td>Homo sapiens</td>\n",
       "      <td>KDSR</td>\n",
       "      <td>3-ketodihydrosphingosine reductase</td>\n",
       "      <td>AH</td>\n",
       "      <td>MLLLAAAFLVAFVLLLYMVSPLISPKPLALPGAHVVVTGGSSGIGK...</td>\n",
       "      <td>0000000000000000000000000000000000000000000000...</td>\n",
       "      <td>Endoplasmic reticulum membrane</td>\n",
       "      <td>Q06136</td>\n",
       "      <td>Q6GV12</td>\n",
       "    </tr>\n",
       "    <tr>\n",
       "      <th>4</th>\n",
       "      <td>Q3C1V0</td>\n",
       "      <td>Homo sapiens</td>\n",
       "      <td>MS4A18</td>\n",
       "      <td>Membrane-spanning 4-domains subfamily A member 18</td>\n",
       "      <td>AH</td>\n",
       "      <td>MTEQVIGANSVPGIIAPDNVHVIQPSNPVASGNHLQPSEVTTYPIS...</td>\n",
       "      <td>0000000000000000000000000000000000000000000000...</td>\n",
       "      <td>Membrane</td>\n",
       "      <td>Q3C1V0</td>\n",
       "      <td>Not_found</td>\n",
       "    </tr>\n",
       "  </tbody>\n",
       "</table>\n",
       "</div>"
      ],
      "text/plain": [
       "  Entry_original             Organism Gene_name  \\\n",
       "0         Q16928  Anopheles albimanus         W   \n",
       "1         Q01151         Homo sapiens      CD83   \n",
       "2         Q0P6D2         Homo sapiens    DIPK1C   \n",
       "3         Q06136         Homo sapiens      KDSR   \n",
       "4         Q3C1V0         Homo sapiens    MS4A18   \n",
       "\n",
       "                                        Protein_name AH_or_Not  \\\n",
       "0                                      Protein white    Non-AH   \n",
       "1                                       CD83 antigen    Non-AH   \n",
       "2                 Divergent protein kinase domain 1C        AH   \n",
       "3                 3-ketodihydrosphingosine reductase        AH   \n",
       "4  Membrane-spanning 4-domains subfamily A member 18        AH   \n",
       "\n",
       "                                         AA_sequence  \\\n",
       "0  MTINTDDQYADGESKTTISSNRRYSTSSFQDQSMEDDGINATLTND...   \n",
       "1  MSRGLQLLLLSCAYSLAPATPEVKVACSEDVDLPCTAPWDPQVPYT...   \n",
       "2  MARAAGARGPAGWCRRRGRCGRGTLLAFAAWTAGWVLAAALLLRAH...   \n",
       "3  MLLLAAAFLVAFVLLLYMVSPLISPKPLALPGAHVVVTGGSSGIGK...   \n",
       "4  MTEQVIGANSVPGIIAPDNVHVIQPSNPVASGNHLQPSEVTTYPIS...   \n",
       "\n",
       "                                          Prediction  \\\n",
       "0  0000000000000000000000000000000000000000000000...   \n",
       "1  0000000000000000000000000000000000000000000000...   \n",
       "2  0000000000000000000000000000000000000000000000...   \n",
       "3  0000000000000000000000000000000000000000000000...   \n",
       "4  0000000000000000000000000000000000000000000000...   \n",
       "\n",
       "                  SubCell_Uniprot   Entry_Hs   Entry_Mm  \n",
       "0                        Membrane  Not_found  Not_found  \n",
       "1                        Membrane     Q01151     O88324  \n",
       "2  Endoplasmic reticulum membrane     Q0P6D2     Q8BQT2  \n",
       "3  Endoplasmic reticulum membrane     Q06136     Q6GV12  \n",
       "4                        Membrane     Q3C1V0  Not_found  "
      ]
     },
     "execution_count": 17,
     "metadata": {},
     "output_type": "execute_result"
    }
   ],
   "source": [
    "df_metazoanGenes.head(n=5)"
   ]
  },
  {
   "cell_type": "code",
   "execution_count": 16,
   "id": "d8650760-274d-45f0-8dac-cb431a510d91",
   "metadata": {},
   "outputs": [],
   "source": [
    "# Export\n",
    "df_metazoanGenes.to_csv('./IntermediateProducts/Results_step_3.csv', index=False)"
   ]
  },
  {
   "cell_type": "markdown",
   "id": "e650777c-edd2-495b-98e1-9c714741657b",
   "metadata": {},
   "source": [
    "# Step 4. Merge with proteome data"
   ]
  },
  {
   "cell_type": "markdown",
   "id": "52afa69e-ce51-4d47-8ec1-c28e6b86eea0",
   "metadata": {},
   "source": [
    "## 4-1. Human Protein Atlas (HPA)"
   ]
  },
  {
   "cell_type": "code",
   "execution_count": 30,
   "id": "c595c6ce-8191-4dac-9088-b76cdd4220a4",
   "metadata": {},
   "outputs": [],
   "source": [
    "# MemBrain\n",
    "df_MB = pd.read_csv('./IntermediateProducts/Results_step_3.csv')\n",
    "\n",
    "# Human protein atlas\n",
    "df_HPA = pd.read_csv('./IntermediateProducts/HumanProteinAtlas/HPA_val_supp_nucleus.csv')"
   ]
  },
  {
   "cell_type": "code",
   "execution_count": 53,
   "id": "229b30a9-31fb-44a8-9141-685002ff8aff",
   "metadata": {},
   "outputs": [],
   "source": [
    "# Merge\n",
    "df_MB = df_MB.merge(df_HPA, how='left', left_on='Entry_Hs', right_on='Uniprot')"
   ]
  },
  {
   "cell_type": "code",
   "execution_count": 54,
   "id": "0292464b-f06e-4850-b30f-76e8c30ad02b",
   "metadata": {},
   "outputs": [
    {
     "name": "stdout",
     "output_type": "stream",
     "text": [
      "Entry_original          0\n",
      "Organism                0\n",
      "Gene_name               0\n",
      "Protein_name            0\n",
      "AH_or_Not               0\n",
      "AA_sequence             0\n",
      "Prediction              0\n",
      "SubCell_Uniprot         0\n",
      "Entry_Hs                0\n",
      "Entry_Mm                0\n",
      "Gene                 2648\n",
      "Uniprot              2648\n",
      "Reliability          2648\n",
      "IF location score    2648\n",
      "dtype: int64\n"
     ]
    }
   ],
   "source": [
    "# null check\n",
    "print(df_MB.isnull().sum())"
   ]
  },
  {
   "cell_type": "code",
   "execution_count": 55,
   "id": "595a8b47-dc80-4d11-8e9b-2c505eecc5fd",
   "metadata": {},
   "outputs": [],
   "source": [
    "#fill NaN\n",
    "df_MB.fillna('Not_found', inplace=True)"
   ]
  },
  {
   "cell_type": "code",
   "execution_count": 56,
   "id": "77d78d99-f76b-431f-95e9-fc0d5d0187c8",
   "metadata": {},
   "outputs": [
    {
     "data": {
      "text/plain": [
       "Index(['Entry_original', 'Organism', 'Gene_name', 'Protein_name', 'AH_or_Not',\n",
       "       'AA_sequence', 'Prediction', 'SubCell_Uniprot', 'Entry_Hs', 'Entry_Mm',\n",
       "       'Gene', 'Uniprot', 'Reliability', 'IF location score'],\n",
       "      dtype='object')"
      ]
     },
     "execution_count": 56,
     "metadata": {},
     "output_type": "execute_result"
    }
   ],
   "source": [
    "df_MB.columns"
   ]
  },
  {
   "cell_type": "code",
   "execution_count": 57,
   "id": "5ff66f9c-2883-4518-a634-3dc8ec1d7d9b",
   "metadata": {},
   "outputs": [],
   "source": [
    "df_MB = df_MB[['Entry_original', 'Organism', 'Gene_name', 'Protein_name', 'AH_or_Not',\n",
    "       'AA_sequence', 'Prediction', 'Entry_Hs', 'Entry_Mm', 'SubCell_Uniprot', 'IF location score',\n",
    "       'Reliability']]\n",
    "\n",
    "df_MB = df_MB.rename(columns={'Reliability': 'HPA_reliability', 'IF location score': 'SubCell_HPA'})"
   ]
  },
  {
   "cell_type": "code",
   "execution_count": 58,
   "id": "736fb30e-838f-420b-8f84-24d02ad3c3b9",
   "metadata": {},
   "outputs": [
    {
     "data": {
      "text/html": [
       "<div>\n",
       "<style scoped>\n",
       "    .dataframe tbody tr th:only-of-type {\n",
       "        vertical-align: middle;\n",
       "    }\n",
       "\n",
       "    .dataframe tbody tr th {\n",
       "        vertical-align: top;\n",
       "    }\n",
       "\n",
       "    .dataframe thead th {\n",
       "        text-align: right;\n",
       "    }\n",
       "</style>\n",
       "<table border=\"1\" class=\"dataframe\">\n",
       "  <thead>\n",
       "    <tr style=\"text-align: right;\">\n",
       "      <th></th>\n",
       "      <th>Entry_original</th>\n",
       "      <th>Organism</th>\n",
       "      <th>Gene_name</th>\n",
       "      <th>Protein_name</th>\n",
       "      <th>AH_or_Not</th>\n",
       "      <th>AA_sequence</th>\n",
       "      <th>Prediction</th>\n",
       "      <th>Entry_Hs</th>\n",
       "      <th>Entry_Mm</th>\n",
       "      <th>SubCell_Uniprot</th>\n",
       "      <th>SubCell_HPA</th>\n",
       "      <th>HPA_reliability</th>\n",
       "    </tr>\n",
       "  </thead>\n",
       "  <tbody>\n",
       "    <tr>\n",
       "      <th>0</th>\n",
       "      <td>Q16928</td>\n",
       "      <td>Anopheles albimanus</td>\n",
       "      <td>W</td>\n",
       "      <td>Protein white</td>\n",
       "      <td>Non-AH</td>\n",
       "      <td>MTINTDDQYADGESKTTISSNRRYSTSSFQDQSMEDDGINATLTND...</td>\n",
       "      <td>0000000000000000000000000000000000000000000000...</td>\n",
       "      <td>Not_found</td>\n",
       "      <td>Not_found</td>\n",
       "      <td>Membrane</td>\n",
       "      <td>Not_found</td>\n",
       "      <td>Not_found</td>\n",
       "    </tr>\n",
       "    <tr>\n",
       "      <th>1</th>\n",
       "      <td>Q01151</td>\n",
       "      <td>Homo sapiens</td>\n",
       "      <td>CD83</td>\n",
       "      <td>CD83 antigen</td>\n",
       "      <td>Non-AH</td>\n",
       "      <td>MSRGLQLLLLSCAYSLAPATPEVKVACSEDVDLPCTAPWDPQVPYT...</td>\n",
       "      <td>0000000000000000000000000000000000000000000000...</td>\n",
       "      <td>Q01151</td>\n",
       "      <td>O88324</td>\n",
       "      <td>Membrane</td>\n",
       "      <td>Not_found</td>\n",
       "      <td>Not_found</td>\n",
       "    </tr>\n",
       "    <tr>\n",
       "      <th>2</th>\n",
       "      <td>Q0P6D2</td>\n",
       "      <td>Homo sapiens</td>\n",
       "      <td>DIPK1C</td>\n",
       "      <td>Divergent protein kinase domain 1C</td>\n",
       "      <td>AH</td>\n",
       "      <td>MARAAGARGPAGWCRRRGRCGRGTLLAFAAWTAGWVLAAALLLRAH...</td>\n",
       "      <td>0000000000000000000000000000000000000000000000...</td>\n",
       "      <td>Q0P6D2</td>\n",
       "      <td>Q8BQT2</td>\n",
       "      <td>Endoplasmic reticulum membrane</td>\n",
       "      <td>Not_found</td>\n",
       "      <td>Not_found</td>\n",
       "    </tr>\n",
       "    <tr>\n",
       "      <th>3</th>\n",
       "      <td>Q06136</td>\n",
       "      <td>Homo sapiens</td>\n",
       "      <td>KDSR</td>\n",
       "      <td>3-ketodihydrosphingosine reductase</td>\n",
       "      <td>AH</td>\n",
       "      <td>MLLLAAAFLVAFVLLLYMVSPLISPKPLALPGAHVVVTGGSSGIGK...</td>\n",
       "      <td>0000000000000000000000000000000000000000000000...</td>\n",
       "      <td>Q06136</td>\n",
       "      <td>Q6GV12</td>\n",
       "      <td>Endoplasmic reticulum membrane</td>\n",
       "      <td>Not_found</td>\n",
       "      <td>Not_found</td>\n",
       "    </tr>\n",
       "    <tr>\n",
       "      <th>4</th>\n",
       "      <td>Q3C1V0</td>\n",
       "      <td>Homo sapiens</td>\n",
       "      <td>MS4A18</td>\n",
       "      <td>Membrane-spanning 4-domains subfamily A member 18</td>\n",
       "      <td>AH</td>\n",
       "      <td>MTEQVIGANSVPGIIAPDNVHVIQPSNPVASGNHLQPSEVTTYPIS...</td>\n",
       "      <td>0000000000000000000000000000000000000000000000...</td>\n",
       "      <td>Q3C1V0</td>\n",
       "      <td>Not_found</td>\n",
       "      <td>Membrane</td>\n",
       "      <td>Not_found</td>\n",
       "      <td>Not_found</td>\n",
       "    </tr>\n",
       "  </tbody>\n",
       "</table>\n",
       "</div>"
      ],
      "text/plain": [
       "  Entry_original             Organism Gene_name  \\\n",
       "0         Q16928  Anopheles albimanus         W   \n",
       "1         Q01151         Homo sapiens      CD83   \n",
       "2         Q0P6D2         Homo sapiens    DIPK1C   \n",
       "3         Q06136         Homo sapiens      KDSR   \n",
       "4         Q3C1V0         Homo sapiens    MS4A18   \n",
       "\n",
       "                                        Protein_name AH_or_Not  \\\n",
       "0                                      Protein white    Non-AH   \n",
       "1                                       CD83 antigen    Non-AH   \n",
       "2                 Divergent protein kinase domain 1C        AH   \n",
       "3                 3-ketodihydrosphingosine reductase        AH   \n",
       "4  Membrane-spanning 4-domains subfamily A member 18        AH   \n",
       "\n",
       "                                         AA_sequence  \\\n",
       "0  MTINTDDQYADGESKTTISSNRRYSTSSFQDQSMEDDGINATLTND...   \n",
       "1  MSRGLQLLLLSCAYSLAPATPEVKVACSEDVDLPCTAPWDPQVPYT...   \n",
       "2  MARAAGARGPAGWCRRRGRCGRGTLLAFAAWTAGWVLAAALLLRAH...   \n",
       "3  MLLLAAAFLVAFVLLLYMVSPLISPKPLALPGAHVVVTGGSSGIGK...   \n",
       "4  MTEQVIGANSVPGIIAPDNVHVIQPSNPVASGNHLQPSEVTTYPIS...   \n",
       "\n",
       "                                          Prediction   Entry_Hs   Entry_Mm  \\\n",
       "0  0000000000000000000000000000000000000000000000...  Not_found  Not_found   \n",
       "1  0000000000000000000000000000000000000000000000...     Q01151     O88324   \n",
       "2  0000000000000000000000000000000000000000000000...     Q0P6D2     Q8BQT2   \n",
       "3  0000000000000000000000000000000000000000000000...     Q06136     Q6GV12   \n",
       "4  0000000000000000000000000000000000000000000000...     Q3C1V0  Not_found   \n",
       "\n",
       "                  SubCell_Uniprot SubCell_HPA HPA_reliability  \n",
       "0                        Membrane   Not_found       Not_found  \n",
       "1                        Membrane   Not_found       Not_found  \n",
       "2  Endoplasmic reticulum membrane   Not_found       Not_found  \n",
       "3  Endoplasmic reticulum membrane   Not_found       Not_found  \n",
       "4                        Membrane   Not_found       Not_found  "
      ]
     },
     "execution_count": 58,
     "metadata": {},
     "output_type": "execute_result"
    }
   ],
   "source": [
    "df_MB.head()"
   ]
  },
  {
   "cell_type": "code",
   "execution_count": 59,
   "id": "107a7181-18e7-4d08-aad4-c84a93207426",
   "metadata": {},
   "outputs": [],
   "source": [
    "# Export\n",
    "df_MB.to_csv('./IntermediateProducts/Results_step_4-1_HPA.csv', index=False)"
   ]
  },
  {
   "cell_type": "markdown",
   "id": "26f24acd-c837-4582-b74e-6c633ab42dff",
   "metadata": {},
   "source": [
    "## 4-2. Schirmer et al 2003"
   ]
  },
  {
   "cell_type": "code",
   "execution_count": 2,
   "id": "1e07277b-68f1-43c1-9fb4-071da3543dfe",
   "metadata": {},
   "outputs": [],
   "source": [
    "# MemBrain\n",
    "df_MB = pd.read_csv('./IntermediateProducts/Results_step_4-1_HPA.csv')\n",
    "\n",
    "# Schirmer 2003 data\n",
    "df_Schirmer = pd.read_csv('./IntermediateProducts/ProteomePapers/Schirmer_2003.csv')"
   ]
  },
  {
   "cell_type": "code",
   "execution_count": 3,
   "id": "66803091-d31c-4757-9263-f0eb9cd3fc2f",
   "metadata": {},
   "outputs": [],
   "source": [
    "# select columns\n",
    "df_Schirmer = df_Schirmer[['Entry', 'Entry name']]"
   ]
  },
  {
   "cell_type": "code",
   "execution_count": 4,
   "id": "2de9b60c-811a-4e97-8c6b-2339002d0f6f",
   "metadata": {},
   "outputs": [],
   "source": [
    "# Merge\n",
    "df_MB = df_MB.merge(df_Schirmer, how='left', left_on='Entry_Hs', right_on='Entry')"
   ]
  },
  {
   "cell_type": "code",
   "execution_count": 11,
   "id": "e4a5a9d1-aecd-4564-9f8c-41beec7e8ae9",
   "metadata": {},
   "outputs": [
    {
     "name": "stdout",
     "output_type": "stream",
     "text": [
      "Entry_original        0\n",
      "Organism              0\n",
      "Gene_name             0\n",
      "Protein_name          0\n",
      "AH_or_Not             0\n",
      "AA_sequence           0\n",
      "Prediction            0\n",
      "Entry_Hs              0\n",
      "Entry_Mm              0\n",
      "SubCell_Uniprot       0\n",
      "SubCell_HPA           0\n",
      "HPA_reliability       0\n",
      "Entry              2726\n",
      "Entry name         2726\n",
      "dtype: int64\n",
      "----- \n",
      "\n",
      "The number of genes that are found in Schirmer et al Human genes is  7\n"
     ]
    }
   ],
   "source": [
    "# null check\n",
    "print(df_MB.isnull().sum())\n",
    "print('----- \\n')\n",
    "print(\"The number of genes that are found in Schirmer et al Human genes is \", len(df_MB) - df_MB['Entry'].isnull().sum())"
   ]
  },
  {
   "cell_type": "code",
   "execution_count": 12,
   "id": "5dc9f724-7a72-4cb6-b12f-45eb33fd55c2",
   "metadata": {},
   "outputs": [],
   "source": [
    "# Drop \"Entry name\"\n",
    "df_MB = df_MB.drop(columns=['Entry name'], axis=1)"
   ]
  },
  {
   "cell_type": "code",
   "execution_count": 13,
   "id": "d12e3e45-dad3-48c1-9a35-f53bc4659eba",
   "metadata": {},
   "outputs": [],
   "source": [
    "# Repeat Merge for Mouse entry because the Schirmer data contains mouse entry as well\n",
    "df_MB = df_MB.merge(df_Schirmer, how='left', left_on='Entry_Mm', right_on='Entry')"
   ]
  },
  {
   "cell_type": "code",
   "execution_count": 14,
   "id": "e4512d95-b21d-4e3c-8acd-30b6da20bb05",
   "metadata": {},
   "outputs": [
    {
     "name": "stdout",
     "output_type": "stream",
     "text": [
      "Entry_original        0\n",
      "Organism              0\n",
      "Gene_name             0\n",
      "Protein_name          0\n",
      "AH_or_Not             0\n",
      "AA_sequence           0\n",
      "Prediction            0\n",
      "Entry_Hs              0\n",
      "Entry_Mm              0\n",
      "SubCell_Uniprot       0\n",
      "SubCell_HPA           0\n",
      "HPA_reliability       0\n",
      "Entry_x            2726\n",
      "Entry_y            2728\n",
      "Entry name         2728\n",
      "dtype: int64\n",
      "----- \n",
      "\n",
      "The number of genes that are found in Schirmer et al Mouse genes is  5\n"
     ]
    }
   ],
   "source": [
    "# null check\n",
    "print(df_MB.isnull().sum())\n",
    "print('----- \\n')\n",
    "print(\"The number of genes that are found in Schirmer et al Mouse genes is \", len(df_MB) - df_MB['Entry_y'].isnull().sum())"
   ]
  },
  {
   "cell_type": "code",
   "execution_count": 15,
   "id": "770e0eeb-3fcc-4f25-9041-073b1ac85525",
   "metadata": {},
   "outputs": [],
   "source": [
    "# replace NaN with 0 for the following lambda\n",
    "df_MB.fillna(0, inplace=True)\n",
    "\n",
    "# Put Subcell_Schirmer2003\n",
    "df_MB['Subcell_Schirmer2003'] = df_MB.apply(lambda x: 'Nuclear membrane' if (x['Entry_x'] != 0) | (x['Entry_y'] != 0) else 'Not_found', axis=1)"
   ]
  },
  {
   "cell_type": "code",
   "execution_count": 16,
   "id": "0f883c0a-e414-483c-aa90-b29f7b6cbc3c",
   "metadata": {},
   "outputs": [],
   "source": [
    "# Drop unnecessary columns\n",
    "df_MB = df_MB.drop(columns=['Entry name', 'Entry_x', 'Entry_y'], axis=1)\n",
    "\n",
    "# Check\n",
    "# df_MB[df_MB['Subcell_Schirmer2003'] != 'Not_found']"
   ]
  },
  {
   "cell_type": "code",
   "execution_count": 17,
   "id": "b24b0598-0fc2-4d67-b083-1d80b9a8ee63",
   "metadata": {},
   "outputs": [
    {
     "name": "stdout",
     "output_type": "stream",
     "text": [
      "<class 'pandas.core.frame.DataFrame'>\n",
      "Int64Index: 2733 entries, 0 to 2732\n",
      "Data columns (total 13 columns):\n",
      " #   Column                Non-Null Count  Dtype \n",
      "---  ------                --------------  ----- \n",
      " 0   Entry_original        2733 non-null   object\n",
      " 1   Organism              2733 non-null   object\n",
      " 2   Gene_name             2733 non-null   object\n",
      " 3   Protein_name          2733 non-null   object\n",
      " 4   AH_or_Not             2733 non-null   object\n",
      " 5   AA_sequence           2733 non-null   object\n",
      " 6   Prediction            2733 non-null   object\n",
      " 7   Entry_Hs              2733 non-null   object\n",
      " 8   Entry_Mm              2733 non-null   object\n",
      " 9   SubCell_Uniprot       2733 non-null   object\n",
      " 10  SubCell_HPA           2733 non-null   object\n",
      " 11  HPA_reliability       2733 non-null   object\n",
      " 12  Subcell_Schirmer2003  2733 non-null   object\n",
      "dtypes: object(13)\n",
      "memory usage: 298.9+ KB\n"
     ]
    }
   ],
   "source": [
    "df_MB.info()"
   ]
  },
  {
   "cell_type": "code",
   "execution_count": 18,
   "id": "e52f6c8f-3e96-4f72-90b5-15babe1250a7",
   "metadata": {},
   "outputs": [],
   "source": [
    "# Export\n",
    "df_MB.to_csv('./IntermediateProducts/Results_step_4-2_Schirmer2003.csv', index=False)"
   ]
  },
  {
   "cell_type": "markdown",
   "id": "efcd6362-8daa-43e4-89d3-341518e05778",
   "metadata": {},
   "source": [
    "## 4-3. Korfali et al 2012"
   ]
  },
  {
   "cell_type": "code",
   "execution_count": 36,
   "id": "43c1d7f0-e074-4d56-88f7-7849c0990af0",
   "metadata": {},
   "outputs": [],
   "source": [
    "# MemBrain\n",
    "df_MB = pd.read_csv('./IntermediateProducts/Results_step_4-2_Schirmer2003.csv')\n",
    "\n",
    "# Korfali 2012 data\n",
    "df_Korfali2012 = pd.read_csv('./IntermediateProducts/ProteomePapers/Korfali_2012.csv')\n",
    "\n",
    "# Limit the Korfali data to those that have Entry\n",
    "df_Korfali2012 = df_Korfali2012[df_Korfali2012['Entry_Korfali_2012'] != 'Not_found']"
   ]
  },
  {
   "cell_type": "code",
   "execution_count": 37,
   "id": "78a2f3cd-730c-4c73-b666-26f2e9ffe4a0",
   "metadata": {},
   "outputs": [],
   "source": [
    "# Merge\n",
    "df_MB = df_MB.merge(df_Korfali2012, how='left', left_on='Entry_Hs', right_on='Entry_Korfali_2012')"
   ]
  },
  {
   "cell_type": "code",
   "execution_count": 41,
   "id": "e602c589-f626-4557-84d4-3d753e4d5b59",
   "metadata": {
    "collapsed": true,
    "jupyter": {
     "outputs_hidden": true
    },
    "tags": []
   },
   "outputs": [
    {
     "name": "stdout",
     "output_type": "stream",
     "text": [
      "Entry_original             0\n",
      "Organism                   0\n",
      "Gene_name                  0\n",
      "Protein_name               0\n",
      "AH_or_Not                  0\n",
      "AA_sequence                0\n",
      "Prediction                 0\n",
      "Entry_Hs                   0\n",
      "Entry_Mm                   0\n",
      "SubCell_Uniprot            0\n",
      "SubCell_HPA                0\n",
      "HPA_reliability            0\n",
      "Subcell_Schirmer2003       0\n",
      "tissue                  2675\n",
      "gene name               2675\n",
      "NE:MM ratio by dNSAF    2675\n",
      "Entry_Korfali_2012      2675\n",
      "dtype: int64\n",
      "----- \n",
      "\n",
      "The number of genes that are found in Korfali et al 2012 is  58\n"
     ]
    }
   ],
   "source": [
    "# null check\n",
    "print(df_MB.isnull().sum())\n",
    "print('----- \\n')\n",
    "print(\"The number of genes that are found in Korfali et al 2012 is \", len(df_MB) - df_MB['Entry_Korfali_2012'].isnull().sum())"
   ]
  },
  {
   "cell_type": "code",
   "execution_count": 42,
   "id": "e4eadba5-70ea-414e-b8cc-5f2b181b316d",
   "metadata": {},
   "outputs": [],
   "source": [
    "#fill NaN\n",
    "df_MB.fillna('Not_found', inplace=True)"
   ]
  },
  {
   "cell_type": "code",
   "execution_count": 43,
   "id": "8a5e1da4-72c5-4422-8b77-9d5b5bda477b",
   "metadata": {},
   "outputs": [
    {
     "data": {
      "text/plain": [
       "Index(['Entry_original', 'Organism', 'Gene_name', 'Protein_name', 'AH_or_Not',\n",
       "       'AA_sequence', 'Prediction', 'Entry_Hs', 'Entry_Mm', 'SubCell_Uniprot',\n",
       "       'SubCell_HPA', 'HPA_reliability', 'Subcell_Schirmer2003', 'tissue',\n",
       "       'gene name', 'NE:MM ratio by dNSAF', 'Entry_Korfali_2012'],\n",
       "      dtype='object')"
      ]
     },
     "execution_count": 43,
     "metadata": {},
     "output_type": "execute_result"
    }
   ],
   "source": [
    "df_MB.columns"
   ]
  },
  {
   "cell_type": "code",
   "execution_count": 44,
   "id": "bb7401d9-6fab-4363-b8a6-78f49a9333c2",
   "metadata": {},
   "outputs": [],
   "source": [
    "df_MB = df_MB[['Entry_original', 'Organism', 'Gene_name', 'Protein_name', 'AH_or_Not',\n",
    "       'AA_sequence', 'Prediction', 'Entry_Hs', 'Entry_Mm', 'SubCell_Uniprot',\n",
    "       'SubCell_HPA', 'HPA_reliability', 'Subcell_Schirmer2003', 'tissue', 'NE:MM ratio by dNSAF']]\n",
    "\n",
    "df_MB = df_MB.rename(columns={'tissue': 'Tissue_Korfali_2012', 'NE:MM ratio by dNSAF': 'NE:MM_ratio_Korfali_2012'})"
   ]
  },
  {
   "cell_type": "code",
   "execution_count": 49,
   "id": "51dc2f3c-50bf-4f7a-86a3-7934c2473106",
   "metadata": {},
   "outputs": [],
   "source": [
    "df_MB['Subcell_Korfali2012'] = df_MB.apply(lambda x: 'Nuclear membrane' if x['Tissue_Korfali_2012'] != 'Not_found' else 'Not_found', axis=1)"
   ]
  },
  {
   "cell_type": "code",
   "execution_count": 52,
   "id": "a28aeafa-69e3-40de-b3b4-13c57471f49b",
   "metadata": {},
   "outputs": [],
   "source": [
    "# Export\n",
    "df_MB.to_csv('./IntermediateProducts/Results_step_4-3_Korfali2012.csv', index=False)"
   ]
  },
  {
   "cell_type": "markdown",
   "id": "fda0cade-bcad-43cd-99c2-bd3f0e522a6e",
   "metadata": {},
   "source": [
    "## 4-4. Wilkie et al 2010"
   ]
  },
  {
   "cell_type": "code",
   "execution_count": 73,
   "id": "57da901b-c67f-4e1b-a296-5a7305554687",
   "metadata": {},
   "outputs": [],
   "source": [
    "# MemBrain\n",
    "df_MB = pd.read_csv('./IntermediateProducts/Results_step_4-3_Korfali2012.csv')\n",
    "\n",
    "# Wilkie 2010 data\n",
    "df_Wilkie2010 = pd.read_csv('./IntermediateProducts/ProteomePapers/Wilkie_2010.csv')"
   ]
  },
  {
   "cell_type": "code",
   "execution_count": 74,
   "id": "ba221600-1f93-4573-b871-603ec537c284",
   "metadata": {},
   "outputs": [],
   "source": [
    "# Limit the data to those that have Entry\n",
    "df_Wilkie2010 = df_Wilkie2010[df_Wilkie2010['Entry_Wilkie'] != 'Not_found']"
   ]
  },
  {
   "cell_type": "code",
   "execution_count": 75,
   "id": "af3771d4-c4a9-43d7-b07d-887872e44b1d",
   "metadata": {},
   "outputs": [],
   "source": [
    "# Merge\n",
    "df_MB = df_MB.merge(df_Wilkie2010, how='left', left_on='Entry_Hs', right_on='Entry_Wilkie')"
   ]
  },
  {
   "cell_type": "code",
   "execution_count": 76,
   "id": "fdeae877-d51f-4588-9c7b-b39ff535d0c8",
   "metadata": {
    "tags": []
   },
   "outputs": [
    {
     "name": "stdout",
     "output_type": "stream",
     "text": [
      "Entry_original                 0\n",
      "Organism                       0\n",
      "Gene_name                      0\n",
      "Protein_name                   0\n",
      "AH_or_Not                      0\n",
      "AA_sequence                    0\n",
      "Prediction                     0\n",
      "Entry_Hs                       0\n",
      "Entry_Mm                       0\n",
      "SubCell_Uniprot                0\n",
      "SubCell_HPA                    0\n",
      "HPA_reliability                0\n",
      "Subcell_Schirmer2003           0\n",
      "Tissue_Korfali_2012            0\n",
      "NE:MM_ratio_Korfali_2012       0\n",
      "Subcell_Korfali2012            0\n",
      "Entry_Wilkie                2682\n",
      "Gene_name_obtained          2682\n",
      "dtype: int64\n",
      "----- \n",
      "\n",
      "The number of genes that are found in Wilike et al 2010 is  51\n"
     ]
    }
   ],
   "source": [
    "# null check\n",
    "print(df_MB.isnull().sum())\n",
    "print('----- \\n')\n",
    "print(\"The number of genes that are found in Wilike et al 2010 is \", len(df_MB) - df_MB['Entry_Wilkie'].isnull().sum())"
   ]
  },
  {
   "cell_type": "code",
   "execution_count": 77,
   "id": "944c4d6a-6cdb-4ab2-b7e4-e28b94794918",
   "metadata": {},
   "outputs": [
    {
     "name": "stdout",
     "output_type": "stream",
     "text": [
      "Index(['Entry_original', 'Organism', 'Gene_name', 'Protein_name', 'AH_or_Not',\n",
      "       'AA_sequence', 'Prediction', 'Entry_Hs', 'Entry_Mm', 'SubCell_Uniprot',\n",
      "       'SubCell_HPA', 'HPA_reliability', 'Subcell_Schirmer2003',\n",
      "       'Tissue_Korfali_2012', 'NE:MM_ratio_Korfali_2012',\n",
      "       'Subcell_Korfali2012', 'Entry_Wilkie', 'Gene_name_obtained',\n",
      "       'Subcell_Wilkie2010'],\n",
      "      dtype='object')\n"
     ]
    }
   ],
   "source": [
    "# fillna\n",
    "df_MB.fillna('Not_found', inplace=True)\n",
    "\n",
    "# Assign subcell\n",
    "df_MB['Subcell_Wilkie2010'] = df_MB.apply(lambda x: 'Nuclear membrane' if x['Entry_Wilkie'] != 'Not_found' else 'Not_found', axis=1)\n",
    "\n",
    "print(df_MB.columns)"
   ]
  },
  {
   "cell_type": "code",
   "execution_count": 84,
   "id": "57d82fc6-6e7e-4371-8617-a201a4ca0ed2",
   "metadata": {},
   "outputs": [],
   "source": [
    "# drop columns and reorder\n",
    "df_MB = df_MB[['Entry_original', 'Organism', 'Gene_name', 'Protein_name', 'AH_or_Not',\n",
    "       'AA_sequence', 'Prediction', 'Entry_Hs', 'Entry_Mm', 'SubCell_Uniprot',\n",
    "       'SubCell_HPA', 'HPA_reliability', 'Subcell_Schirmer2003','Subcell_Korfali2012','Subcell_Wilkie2010',\n",
    "       'Tissue_Korfali_2012', 'NE:MM_ratio_Korfali_2012',]]"
   ]
  },
  {
   "cell_type": "code",
   "execution_count": 86,
   "id": "e5a2afed-b7df-4c07-8537-f3e65c5b2005",
   "metadata": {},
   "outputs": [],
   "source": [
    "# Export\n",
    "df_MB.to_csv('./IntermediateProducts/Results_step_4-4_Wilkie2010.csv', index=False)"
   ]
  },
  {
   "cell_type": "markdown",
   "id": "7487bb84-af4f-461f-bfe7-9ab66971c418",
   "metadata": {},
   "source": [
    "## 4-5. Korfali et al 2010"
   ]
  },
  {
   "cell_type": "code",
   "execution_count": 9,
   "id": "b4699b86-f612-478e-96ac-1aa495fcc0da",
   "metadata": {},
   "outputs": [],
   "source": [
    "# MemBrain\n",
    "df_MB = pd.read_csv('./IntermediateProducts/Results_step_4-4_Wilkie2010.csv')\n",
    "\n",
    "# Wilkie 2010 data\n",
    "df_Korfali2010 = pd.read_csv('./IntermediateProducts/ProteomePapers/Korfali_2010.csv')"
   ]
  },
  {
   "cell_type": "code",
   "execution_count": 11,
   "id": "d0053df3-f53b-4ca1-939d-af54339bc7a8",
   "metadata": {},
   "outputs": [],
   "source": [
    "# Limit the Korfali data to those that have Entry\n",
    "df_Korfali2010 = df_Korfali2010[df_Korfali2010['Entry_Korfali_2010'] != 'Not_found']"
   ]
  },
  {
   "cell_type": "code",
   "execution_count": 13,
   "id": "b17d2bad-6584-4f68-afaa-379ee923885d",
   "metadata": {},
   "outputs": [],
   "source": [
    "# Merge\n",
    "df_MB = df_MB.merge(df_Korfali2010, how='left', left_on='Entry_Hs', right_on='Entry_Korfali_2010')"
   ]
  },
  {
   "cell_type": "code",
   "execution_count": 17,
   "id": "ec3bb1ee-abb2-4e33-8470-bbd1f14cf947",
   "metadata": {},
   "outputs": [
    {
     "name": "stdout",
     "output_type": "stream",
     "text": [
      "Entry_original                 0\n",
      "Organism                       0\n",
      "Gene_name                      0\n",
      "Protein_name                   0\n",
      "AH_or_Not                      0\n",
      "AA_sequence                    0\n",
      "Prediction                     0\n",
      "Entry_Hs                       0\n",
      "Entry_Mm                       0\n",
      "SubCell_Uniprot                0\n",
      "SubCell_HPA                    0\n",
      "HPA_reliability                0\n",
      "Subcell_Schirmer2003           0\n",
      "Subcell_Korfali2012            0\n",
      "Subcell_Wilkie2010             0\n",
      "Tissue_Korfali_2012            0\n",
      "NE:MM_ratio_Korfali_2012       0\n",
      "Entry_Korfali_2010          2666\n",
      "Gene_name_obtained          2666\n",
      "dtype: int64\n",
      "\n",
      "------\n",
      "The number of genes found in df_MB is  67\n"
     ]
    }
   ],
   "source": [
    "# null check\n",
    "print(df_MB.isnull().sum())\n",
    "print('\\n------')\n",
    "print('The number of genes found in df_MB is ', len(df_MB) - df_MB['Entry_Korfali_2010'].isnull().sum())"
   ]
  },
  {
   "cell_type": "code",
   "execution_count": 18,
   "id": "3268bf84-73bf-4eb9-9c07-895b36acbc34",
   "metadata": {},
   "outputs": [],
   "source": [
    "# fillna\n",
    "df_MB.fillna('Not_found', inplace=True)\n",
    "\n",
    "# make a column 'Subcell_Korfali2010'\n",
    "df_MB['Subcell_Korfali2010'] = df_MB.apply(lambda x: 'Nuclear membrane' if x['Entry_Korfali_2010'] != 'Not_found' else 'Not_found', axis=1)"
   ]
  },
  {
   "cell_type": "code",
   "execution_count": 19,
   "id": "81bae340-c455-439d-b688-dc0775f6f5aa",
   "metadata": {},
   "outputs": [
    {
     "name": "stdout",
     "output_type": "stream",
     "text": [
      "Index(['Entry_original', 'Organism', 'Gene_name', 'Protein_name', 'AH_or_Not',\n",
      "       'AA_sequence', 'Prediction', 'Entry_Hs', 'Entry_Mm', 'SubCell_Uniprot',\n",
      "       'SubCell_HPA', 'HPA_reliability', 'Subcell_Schirmer2003',\n",
      "       'Subcell_Korfali2012', 'Subcell_Wilkie2010', 'Tissue_Korfali_2012',\n",
      "       'NE:MM_ratio_Korfali_2012', 'Entry_Korfali_2010', 'Gene_name_obtained',\n",
      "       'Subcell_Korfali2010'],\n",
      "      dtype='object')\n"
     ]
    }
   ],
   "source": [
    "print(df_MB.columns)"
   ]
  },
  {
   "cell_type": "code",
   "execution_count": 20,
   "id": "899b0122-3c4b-4555-9f64-464d0d75f760",
   "metadata": {},
   "outputs": [],
   "source": [
    "df_MB = df_MB[['Entry_original', 'Organism', 'Gene_name', 'Protein_name', 'AH_or_Not',\n",
    "       'AA_sequence', 'Prediction', 'Entry_Hs', 'Entry_Mm', 'SubCell_Uniprot',\n",
    "       'SubCell_HPA', 'HPA_reliability', 'Subcell_Schirmer2003','Subcell_Korfali2010',\n",
    "       'Subcell_Korfali2012', 'Subcell_Wilkie2010', 'Tissue_Korfali_2012',\n",
    "       'NE:MM_ratio_Korfali_2012']]"
   ]
  },
  {
   "cell_type": "code",
   "execution_count": 21,
   "id": "8e110af1-88c5-49dc-8648-96f0564b28de",
   "metadata": {},
   "outputs": [],
   "source": [
    "# export\n",
    "df_MB.to_csv('./IntermediateProducts/Results_step_4-5_Korfali2010.csv', index=False)"
   ]
  },
  {
   "cell_type": "markdown",
   "id": "46fe69ee-d6d3-410e-80cc-87b43bd75f86",
   "metadata": {},
   "source": [
    "## 4-6. Cheng et al 2019: 243 proteins"
   ]
  },
  {
   "cell_type": "code",
   "execution_count": 45,
   "id": "4e12ec3c-2d97-41c7-a3cb-ee98ae3d36f3",
   "metadata": {},
   "outputs": [],
   "source": [
    "# MemBrain\n",
    "df_MB = pd.read_csv('./IntermediateProducts/Results_step_4-5_Korfali2010.csv')\n",
    "\n",
    "# Cheng 2019 data\n",
    "df_Cheng2019 = pd.read_excel('./SourceData/Cheng_2019/Supplementary Table S3_clustering & peptide seq.xlsx')"
   ]
  },
  {
   "cell_type": "code",
   "execution_count": 46,
   "id": "79042acd-8331-4f34-8204-854ea19498e8",
   "metadata": {},
   "outputs": [],
   "source": [
    "# column names\n",
    "columns = df_Cheng2019.iloc[0, :].tolist()\n",
    "\n",
    "# extract values\n",
    "df_Cheng2019 = df_Cheng2019.iloc[1:, :]\n",
    "\n",
    "# rename columns\n",
    "df_Cheng2019.columns = columns"
   ]
  },
  {
   "cell_type": "code",
   "execution_count": 47,
   "id": "3ccf85c1-8eea-46af-be85-0c27841f04ae",
   "metadata": {},
   "outputs": [],
   "source": [
    "df_Cheng2019 = df_Cheng2019[['Accession No.', 'NE Enrich Score in U', 'NE Enrich Score in A', 'NE Enrich Score in M']]\n",
    "\n",
    "df_Cheng2019 = df_Cheng2019.rename({'Accession No.': 'Entry_Cheng2019'}, axis=1)"
   ]
  },
  {
   "cell_type": "code",
   "execution_count": 48,
   "id": "b64ab9f3-4b01-4caf-91a0-f5537e656595",
   "metadata": {},
   "outputs": [],
   "source": [
    "# merge\n",
    "df_MB = df_MB.merge(df_Cheng2019, how='left', left_on='Entry_Mm', right_on='Entry_Cheng2019')"
   ]
  },
  {
   "cell_type": "code",
   "execution_count": 49,
   "id": "ecdde3db-f6a1-4d01-bcf7-a35d7548f79d",
   "metadata": {},
   "outputs": [
    {
     "name": "stdout",
     "output_type": "stream",
     "text": [
      "Entry_original                 0\n",
      "Organism                       0\n",
      "Gene_name                      0\n",
      "Protein_name                   0\n",
      "AH_or_Not                      0\n",
      "AA_sequence                    0\n",
      "Prediction                     0\n",
      "Entry_Hs                       0\n",
      "Entry_Mm                       0\n",
      "SubCell_Uniprot                0\n",
      "SubCell_HPA                    0\n",
      "HPA_reliability                0\n",
      "Subcell_Schirmer2003           0\n",
      "Subcell_Korfali2010            0\n",
      "Subcell_Korfali2012            0\n",
      "Subcell_Wilkie2010             0\n",
      "Tissue_Korfali_2012            0\n",
      "NE:MM_ratio_Korfali_2012       0\n",
      "Entry_Cheng2019             2622\n",
      "NE Enrich Score in U        2622\n",
      "NE Enrich Score in A        2622\n",
      "NE Enrich Score in M        2622\n",
      "dtype: int64\n",
      "\n",
      "------\n",
      "The number of genes found in df_MB is  111\n"
     ]
    }
   ],
   "source": [
    "# null check\n",
    "print(df_MB.isnull().sum())\n",
    "print('\\n------')\n",
    "print('The number of genes found in df_MB is ', len(df_MB) - df_MB['Entry_Cheng2019'].isnull().sum())"
   ]
  },
  {
   "cell_type": "code",
   "execution_count": 50,
   "id": "cb742646-61eb-44cf-b1f8-c06c8ae681dd",
   "metadata": {},
   "outputs": [],
   "source": [
    "# fillna\n",
    "df_MB.fillna('Not_found', inplace=True)\n",
    "\n",
    "# make a column 'Subcell_Korfali2010'\n",
    "df_MB['Subcell_Cheng2019'] = df_MB.apply(lambda x: 'Nuclear membrane' if x['Entry_Cheng2019'] != 'Not_found' else 'Not_found', axis=1)"
   ]
  },
  {
   "cell_type": "code",
   "execution_count": 51,
   "id": "04c398d9-b25f-4133-981a-4c9f41549d20",
   "metadata": {},
   "outputs": [
    {
     "name": "stdout",
     "output_type": "stream",
     "text": [
      "Index(['Entry_original', 'Organism', 'Gene_name', 'Protein_name', 'AH_or_Not',\n",
      "       'AA_sequence', 'Prediction', 'Entry_Hs', 'Entry_Mm', 'SubCell_Uniprot',\n",
      "       'SubCell_HPA', 'HPA_reliability', 'Subcell_Schirmer2003',\n",
      "       'Subcell_Korfali2010', 'Subcell_Korfali2012', 'Subcell_Wilkie2010',\n",
      "       'Tissue_Korfali_2012', 'NE:MM_ratio_Korfali_2012', 'Entry_Cheng2019',\n",
      "       'NE Enrich Score in U', 'NE Enrich Score in A', 'NE Enrich Score in M',\n",
      "       'Subcell_Cheng2019'],\n",
      "      dtype='object')\n"
     ]
    }
   ],
   "source": [
    "print(df_MB.columns)"
   ]
  },
  {
   "cell_type": "code",
   "execution_count": 55,
   "id": "2a8adacb-7d51-4629-9ce8-50b855da0fd5",
   "metadata": {},
   "outputs": [],
   "source": [
    "df_MB = df_MB[['Entry_original', 'Organism', 'Gene_name', 'Protein_name', 'AH_or_Not',\n",
    "       'AA_sequence', 'Prediction', 'Entry_Hs', 'Entry_Mm', 'SubCell_Uniprot',\n",
    "       'SubCell_HPA', 'HPA_reliability', 'Subcell_Schirmer2003',\n",
    "       'Subcell_Korfali2010', 'Subcell_Wilkie2010','Subcell_Korfali2012', 'Subcell_Cheng2019',\n",
    "        'Tissue_Korfali_2012', 'NE:MM_ratio_Korfali_2012', 'NE Enrich Score in U', 'NE Enrich Score in A', 'NE Enrich Score in M']]\n",
    "\n",
    "df_MB = df_MB.rename({'NE Enrich Score in U':'NEscore_Undiff_Cheng2019', 'NE Enrich Score in A':'NEscore_Adipo_Cheng2019', 'NE Enrich Score in M':'NEscore_Myo_Cheng2019'}, axis=1)"
   ]
  },
  {
   "cell_type": "code",
   "execution_count": 56,
   "id": "e2f21ae0-e7f8-4291-94d0-939b005692e2",
   "metadata": {},
   "outputs": [
    {
     "data": {
      "text/html": [
       "<div>\n",
       "<style scoped>\n",
       "    .dataframe tbody tr th:only-of-type {\n",
       "        vertical-align: middle;\n",
       "    }\n",
       "\n",
       "    .dataframe tbody tr th {\n",
       "        vertical-align: top;\n",
       "    }\n",
       "\n",
       "    .dataframe thead th {\n",
       "        text-align: right;\n",
       "    }\n",
       "</style>\n",
       "<table border=\"1\" class=\"dataframe\">\n",
       "  <thead>\n",
       "    <tr style=\"text-align: right;\">\n",
       "      <th></th>\n",
       "      <th>Entry_original</th>\n",
       "      <th>Organism</th>\n",
       "      <th>Gene_name</th>\n",
       "      <th>Protein_name</th>\n",
       "      <th>AH_or_Not</th>\n",
       "      <th>AA_sequence</th>\n",
       "      <th>Prediction</th>\n",
       "      <th>Entry_Hs</th>\n",
       "      <th>Entry_Mm</th>\n",
       "      <th>SubCell_Uniprot</th>\n",
       "      <th>...</th>\n",
       "      <th>Subcell_Schirmer2003</th>\n",
       "      <th>Subcell_Korfali2010</th>\n",
       "      <th>Subcell_Wilkie2010</th>\n",
       "      <th>Subcell_Korfali2012</th>\n",
       "      <th>Subcell_Cheng2019</th>\n",
       "      <th>Tissue_Korfali_2012</th>\n",
       "      <th>NE:MM_ratio_Korfali_2012</th>\n",
       "      <th>NEscore_Undiff_Cheng2019</th>\n",
       "      <th>NEscore_Adipo_Cheng2019</th>\n",
       "      <th>NEscore_Myo_Cheng2019</th>\n",
       "    </tr>\n",
       "  </thead>\n",
       "  <tbody>\n",
       "    <tr>\n",
       "      <th>0</th>\n",
       "      <td>Q16928</td>\n",
       "      <td>Anopheles albimanus</td>\n",
       "      <td>W</td>\n",
       "      <td>Protein white</td>\n",
       "      <td>Non-AH</td>\n",
       "      <td>MTINTDDQYADGESKTTISSNRRYSTSSFQDQSMEDDGINATLTND...</td>\n",
       "      <td>0000000000000000000000000000000000000000000000...</td>\n",
       "      <td>Not_found</td>\n",
       "      <td>Not_found</td>\n",
       "      <td>Membrane</td>\n",
       "      <td>...</td>\n",
       "      <td>Not_found</td>\n",
       "      <td>Not_found</td>\n",
       "      <td>Not_found</td>\n",
       "      <td>Not_found</td>\n",
       "      <td>Not_found</td>\n",
       "      <td>Not_found</td>\n",
       "      <td>Not_found</td>\n",
       "      <td>Not_found</td>\n",
       "      <td>Not_found</td>\n",
       "      <td>Not_found</td>\n",
       "    </tr>\n",
       "    <tr>\n",
       "      <th>1</th>\n",
       "      <td>Q01151</td>\n",
       "      <td>Homo sapiens</td>\n",
       "      <td>CD83</td>\n",
       "      <td>CD83 antigen</td>\n",
       "      <td>Non-AH</td>\n",
       "      <td>MSRGLQLLLLSCAYSLAPATPEVKVACSEDVDLPCTAPWDPQVPYT...</td>\n",
       "      <td>0000000000000000000000000000000000000000000000...</td>\n",
       "      <td>Q01151</td>\n",
       "      <td>O88324</td>\n",
       "      <td>Membrane</td>\n",
       "      <td>...</td>\n",
       "      <td>Not_found</td>\n",
       "      <td>Not_found</td>\n",
       "      <td>Not_found</td>\n",
       "      <td>Not_found</td>\n",
       "      <td>Not_found</td>\n",
       "      <td>Not_found</td>\n",
       "      <td>Not_found</td>\n",
       "      <td>Not_found</td>\n",
       "      <td>Not_found</td>\n",
       "      <td>Not_found</td>\n",
       "    </tr>\n",
       "    <tr>\n",
       "      <th>2</th>\n",
       "      <td>Q0P6D2</td>\n",
       "      <td>Homo sapiens</td>\n",
       "      <td>DIPK1C</td>\n",
       "      <td>Divergent protein kinase domain 1C</td>\n",
       "      <td>AH</td>\n",
       "      <td>MARAAGARGPAGWCRRRGRCGRGTLLAFAAWTAGWVLAAALLLRAH...</td>\n",
       "      <td>0000000000000000000000000000000000000000000000...</td>\n",
       "      <td>Q0P6D2</td>\n",
       "      <td>Q8BQT2</td>\n",
       "      <td>Endoplasmic reticulum membrane</td>\n",
       "      <td>...</td>\n",
       "      <td>Not_found</td>\n",
       "      <td>Not_found</td>\n",
       "      <td>Not_found</td>\n",
       "      <td>Not_found</td>\n",
       "      <td>Not_found</td>\n",
       "      <td>Not_found</td>\n",
       "      <td>Not_found</td>\n",
       "      <td>Not_found</td>\n",
       "      <td>Not_found</td>\n",
       "      <td>Not_found</td>\n",
       "    </tr>\n",
       "    <tr>\n",
       "      <th>3</th>\n",
       "      <td>Q06136</td>\n",
       "      <td>Homo sapiens</td>\n",
       "      <td>KDSR</td>\n",
       "      <td>3-ketodihydrosphingosine reductase</td>\n",
       "      <td>AH</td>\n",
       "      <td>MLLLAAAFLVAFVLLLYMVSPLISPKPLALPGAHVVVTGGSSGIGK...</td>\n",
       "      <td>0000000000000000000000000000000000000000000000...</td>\n",
       "      <td>Q06136</td>\n",
       "      <td>Q6GV12</td>\n",
       "      <td>Endoplasmic reticulum membrane</td>\n",
       "      <td>...</td>\n",
       "      <td>Not_found</td>\n",
       "      <td>Not_found</td>\n",
       "      <td>Not_found</td>\n",
       "      <td>Not_found</td>\n",
       "      <td>Nuclear membrane</td>\n",
       "      <td>Not_found</td>\n",
       "      <td>Not_found</td>\n",
       "      <td>0.253493</td>\n",
       "      <td>0.420695</td>\n",
       "      <td>0.720657</td>\n",
       "    </tr>\n",
       "    <tr>\n",
       "      <th>4</th>\n",
       "      <td>Q3C1V0</td>\n",
       "      <td>Homo sapiens</td>\n",
       "      <td>MS4A18</td>\n",
       "      <td>Membrane-spanning 4-domains subfamily A member 18</td>\n",
       "      <td>AH</td>\n",
       "      <td>MTEQVIGANSVPGIIAPDNVHVIQPSNPVASGNHLQPSEVTTYPIS...</td>\n",
       "      <td>0000000000000000000000000000000000000000000000...</td>\n",
       "      <td>Q3C1V0</td>\n",
       "      <td>Not_found</td>\n",
       "      <td>Membrane</td>\n",
       "      <td>...</td>\n",
       "      <td>Not_found</td>\n",
       "      <td>Not_found</td>\n",
       "      <td>Not_found</td>\n",
       "      <td>Not_found</td>\n",
       "      <td>Not_found</td>\n",
       "      <td>Not_found</td>\n",
       "      <td>Not_found</td>\n",
       "      <td>Not_found</td>\n",
       "      <td>Not_found</td>\n",
       "      <td>Not_found</td>\n",
       "    </tr>\n",
       "  </tbody>\n",
       "</table>\n",
       "<p>5 rows × 22 columns</p>\n",
       "</div>"
      ],
      "text/plain": [
       "  Entry_original             Organism Gene_name  \\\n",
       "0         Q16928  Anopheles albimanus         W   \n",
       "1         Q01151         Homo sapiens      CD83   \n",
       "2         Q0P6D2         Homo sapiens    DIPK1C   \n",
       "3         Q06136         Homo sapiens      KDSR   \n",
       "4         Q3C1V0         Homo sapiens    MS4A18   \n",
       "\n",
       "                                        Protein_name AH_or_Not  \\\n",
       "0                                      Protein white    Non-AH   \n",
       "1                                       CD83 antigen    Non-AH   \n",
       "2                 Divergent protein kinase domain 1C        AH   \n",
       "3                 3-ketodihydrosphingosine reductase        AH   \n",
       "4  Membrane-spanning 4-domains subfamily A member 18        AH   \n",
       "\n",
       "                                         AA_sequence  \\\n",
       "0  MTINTDDQYADGESKTTISSNRRYSTSSFQDQSMEDDGINATLTND...   \n",
       "1  MSRGLQLLLLSCAYSLAPATPEVKVACSEDVDLPCTAPWDPQVPYT...   \n",
       "2  MARAAGARGPAGWCRRRGRCGRGTLLAFAAWTAGWVLAAALLLRAH...   \n",
       "3  MLLLAAAFLVAFVLLLYMVSPLISPKPLALPGAHVVVTGGSSGIGK...   \n",
       "4  MTEQVIGANSVPGIIAPDNVHVIQPSNPVASGNHLQPSEVTTYPIS...   \n",
       "\n",
       "                                          Prediction   Entry_Hs   Entry_Mm  \\\n",
       "0  0000000000000000000000000000000000000000000000...  Not_found  Not_found   \n",
       "1  0000000000000000000000000000000000000000000000...     Q01151     O88324   \n",
       "2  0000000000000000000000000000000000000000000000...     Q0P6D2     Q8BQT2   \n",
       "3  0000000000000000000000000000000000000000000000...     Q06136     Q6GV12   \n",
       "4  0000000000000000000000000000000000000000000000...     Q3C1V0  Not_found   \n",
       "\n",
       "                  SubCell_Uniprot  ... Subcell_Schirmer2003  \\\n",
       "0                        Membrane  ...            Not_found   \n",
       "1                        Membrane  ...            Not_found   \n",
       "2  Endoplasmic reticulum membrane  ...            Not_found   \n",
       "3  Endoplasmic reticulum membrane  ...            Not_found   \n",
       "4                        Membrane  ...            Not_found   \n",
       "\n",
       "  Subcell_Korfali2010 Subcell_Wilkie2010 Subcell_Korfali2012  \\\n",
       "0           Not_found          Not_found           Not_found   \n",
       "1           Not_found          Not_found           Not_found   \n",
       "2           Not_found          Not_found           Not_found   \n",
       "3           Not_found          Not_found           Not_found   \n",
       "4           Not_found          Not_found           Not_found   \n",
       "\n",
       "  Subcell_Cheng2019 Tissue_Korfali_2012 NE:MM_ratio_Korfali_2012  \\\n",
       "0         Not_found           Not_found                Not_found   \n",
       "1         Not_found           Not_found                Not_found   \n",
       "2         Not_found           Not_found                Not_found   \n",
       "3  Nuclear membrane           Not_found                Not_found   \n",
       "4         Not_found           Not_found                Not_found   \n",
       "\n",
       "  NEscore_Undiff_Cheng2019 NEscore_Adipo_Cheng2019 NEscore_Myo_Cheng2019  \n",
       "0                Not_found               Not_found             Not_found  \n",
       "1                Not_found               Not_found             Not_found  \n",
       "2                Not_found               Not_found             Not_found  \n",
       "3                 0.253493                0.420695              0.720657  \n",
       "4                Not_found               Not_found             Not_found  \n",
       "\n",
       "[5 rows x 22 columns]"
      ]
     },
     "execution_count": 56,
     "metadata": {},
     "output_type": "execute_result"
    }
   ],
   "source": [
    "df_MB.head()"
   ]
  },
  {
   "cell_type": "code",
   "execution_count": 58,
   "id": "f3ed7634-c5d0-4c08-b56d-00b6e4626d6a",
   "metadata": {},
   "outputs": [
    {
     "name": "stdout",
     "output_type": "stream",
     "text": [
      "(2050, 22)\n"
     ]
    }
   ],
   "source": [
    "# export: all 2733 proteins\n",
    "df_MB.to_csv('./FinalOutput/Results_Whole2733.csv', index=False)\n",
    "\n",
    "# export: only proteins with Entry_Hs or Mm was found\n",
    "df_MB_w_entry = df_MB[(df_MB['Entry_Hs'] != 'Not_found')|(df_MB.Entry_Mm != 'Not_found')]\n",
    "print(df_MB_w_entry.shape)\n",
    "df_MB_w_entry.to_csv('./FinalOutput/Results_w_Entry.csv', index=False)"
   ]
  },
  {
   "cell_type": "code",
   "execution_count": 65,
   "id": "488fad27-582a-4830-8cdc-ebffead9db7e",
   "metadata": {},
   "outputs": [
    {
     "name": "stdout",
     "output_type": "stream",
     "text": [
      "(235, 22)\n"
     ]
    }
   ],
   "source": [
    "# export: only with NE proteins\n",
    "df_MB_NE = df_MB[(df_MB.SubCell_Uniprot.str.contains('Nucleaus'))|\n",
    "                (df_MB.SubCell_HPA.str.contains('Nucle'))|\n",
    "                (df_MB.Subcell_Schirmer2003.str.contains('Nuclear'))|\n",
    "                (df_MB.Subcell_Korfali2010.str.contains('Nuclear'))|\n",
    "                (df_MB.Subcell_Wilkie2010.str.contains('Nuclear'))|\n",
    "                (df_MB.Subcell_Korfali2012.str.contains('Nuclear'))|\n",
    "                (df_MB.Subcell_Cheng2019.str.contains('Nuclear'))]\n",
    "print(df_MB_NE.shape)\n",
    "df_MB_NE.to_csv('./FinalOutput/Results_NE.csv', index=False)"
   ]
  },
  {
   "cell_type": "code",
   "execution_count": null,
   "id": "fb76ac04-6f60-4838-b8e2-61d219bc95ca",
   "metadata": {},
   "outputs": [],
   "source": []
  }
 ],
 "metadata": {
  "kernelspec": {
   "display_name": "Python 3",
   "language": "python",
   "name": "python3"
  },
  "language_info": {
   "codemirror_mode": {
    "name": "ipython",
    "version": 3
   },
   "file_extension": ".py",
   "mimetype": "text/x-python",
   "name": "python",
   "nbconvert_exporter": "python",
   "pygments_lexer": "ipython3",
   "version": "3.8.8"
  }
 },
 "nbformat": 4,
 "nbformat_minor": 5
}
