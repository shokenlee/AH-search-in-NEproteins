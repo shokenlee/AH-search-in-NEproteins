{
 "cells": [
  {
   "cell_type": "code",
   "execution_count": 55,
   "id": "ba82341f-720d-477c-af55-4180e3bee9d7",
   "metadata": {},
   "outputs": [],
   "source": [
    "import os, re, requests, json\n",
    "import numpy as np\n",
    "import pandas as pd\n",
    "from urllib.request import urlopen\n",
    "from time import sleep"
   ]
  },
  {
   "cell_type": "code",
   "execution_count": 2,
   "id": "47a7e9cc-255f-4078-91a8-dd96d6989c8e",
   "metadata": {},
   "outputs": [],
   "source": [
    "def get_url(url, **kwargs):\n",
    "    '''\n",
    "    Obatin a response from a given url\n",
    "    '''\n",
    "    response = requests.get(url, **kwargs);\n",
    "\n",
    "    if not response.ok:\n",
    "        print(response.text)\n",
    "        response.raise_for_status()\n",
    "        sys.exit()\n",
    "\n",
    "    return response"
   ]
  },
  {
   "cell_type": "markdown",
   "id": "bfc780fb-b667-4095-94c0-53d749df53d7",
   "metadata": {},
   "source": [
    "# Step 1"
   ]
  },
  {
   "cell_type": "code",
   "execution_count": null,
   "id": "bb956bbe-be31-43a3-ab16-c8dbc605bb93",
   "metadata": {},
   "outputs": [],
   "source": [
    "# uniprot API URL\n",
    "WEBSITE_API = \"https://rest.uniprot.org/uniprotkb/\""
   ]
  },
  {
   "cell_type": "code",
   "execution_count": 2,
   "id": "7a07a194-98c5-4dd6-854d-02482abb65cf",
   "metadata": {},
   "outputs": [
    {
     "name": "stdout",
     "output_type": "stream",
     "text": [
      "11761\n"
     ]
    }
   ],
   "source": [
    "# raw data import\n",
    "files = os.listdir('./SourceData/Results from the paper/')\n",
    "print(len(files))"
   ]
  },
  {
   "cell_type": "code",
   "execution_count": 47,
   "id": "e43c9279-6a94-4ccc-94ab-65d5fe1bf864",
   "metadata": {
    "collapsed": true,
    "jupyter": {
     "outputs_hidden": true
    },
    "tags": []
   },
   "outputs": [
    {
     "name": "stdout",
     "output_type": "stream",
     "text": [
      "0 Q9CAN8 Arabidopsis thaliana Lysophospholipid acyltransferase 2\n",
      "100 P53389 Saccharomyces cerevisiae (strain ATCC 204508 / S288c) Protein HOL1\n",
      "200 Q12155 Saccharomyces cerevisiae (strain ATCC 204508 / S288c) Uncharacterized membrane protein YLR050C\n",
      "300 O26830 Methanothermobacter thermautotrophicus (strain ATCC 29096 / DSM 1053 / JCM 10044 / NBRC 100330 / Delta H) Putative phospho-N-acetylmuramoyl-pentapeptide-transferase\n",
      "400 Q51MB1 Magnaporthe oryzae (strain 70-15 / ATCC MYA-4617 / FGSC 8958) pH-response regulator protein palI/RIM9\n",
      "500 Q3E8Z8 Arabidopsis thaliana Putative pectinesterase/pectinesterase inhibitor 28\n",
      "600 Q5NCP0 Mus musculus E3 ubiquitin-protein ligase RNF43\n",
      "700 Q22549 Caenorhabditis elegans Innexin-10\n",
      "800 O07888 Treponema pallidum (strain Nichols) Flagellar protein FliL\n",
      "900 Q7Z695 Homo sapiens Uncharacterized aarF domain-containing protein kinase 2\n",
      "1000 Q674R7 Homo sapiens Autophagy-related protein 9B\n",
      "1100 O43085 Schizosaccharomyces pombe (strain 972 / ATCC 24843) DSC E3 ubiquitin ligase complex subunit 1\n",
      "1200 Q9LTZ9 Arabidopsis thaliana Galactan beta-1,4-galactosyltransferase GALS2\n",
      "1300 A4ZUB3 Acidianus bottle-shaped virus (isolate Italy/Pozzuoli) Putative transmembrane protein ORF92\n",
      "1400 Q95SS8 Drosophila melanogaster Transmembrane protein 70 homolog, mitochondrial\n",
      "1500 O28047 Archaeoglobus fulgidus (strain ATCC 49558 / DSM 4304 / JCM 9628 / NBRC 100126 / VC-16) Uncharacterized protein AF_2236\n",
      "1600 Q5AJX2 Candida albicans (strain SC5314 / ATCC MYA-2876) Sphingolipid delta(4)-desaturase\n",
      "1700 Q9ZV24 Arabidopsis thaliana Outer envelope pore protein 16-1, chloroplastic\n",
      "1800 P9WIF2 Mycobacterium tuberculosis (strain CDC 1551 / Oshkosh) Uncharacterized PE-PGRS family protein PE_PGRS34\n",
      "1900 Q7ANN5 Rhizobium meliloti (strain 1021) Type I secretion system membrane fusion protein PrsE\n",
      "2000 P27380 Enterobacteria phage PRD1 Transglycosylase\n",
      "2100 Q603U8 Methylococcus capsulatus (strain ATCC 33009 / NCIMB 11132 / Bath) ATP synthase subunit a 2\n",
      "2200 Q9Y810 Schizosaccharomyces pombe (strain 972 / ATCC 24843) Cytochrome oxidase assembly protein shy1\n",
      "2300 A0A0F6B506 Salmonella typhimurium (strain 14028s / SGSC 2262) Salmonella anti-inflammatory response activator\n",
      "2400 O58968 Pyrococcus horikoshii (strain ATCC 700860 / DSM 12428 / JCM 9974 / NBRC 100139 / OT-3) Probable ABC transporter permease protein PH1215\n",
      "2500 P51559 Caenorhabditis elegans Endoprotease bli-4\n",
      "2600 Q7SYC7 Danio rerio Transmembrane protein 185-like\n",
      "2700 Q5A846 Candida albicans (strain SC5314 / ATCC MYA-2876) Beta-mannosyltransferase 3\n",
      "2800 P47014 Saccharomyces cerevisiae (strain ATCC 204508 / S288c) Uncharacterized protein YJL132W\n",
      "2900 O54901 Mus musculus OX-2 membrane glycoprotein\n",
      "3000 A8AJB3 Citrobacter koseri (strain ATCC BAA-895 / CDC 4225-83 / SGSC4696) Dipeptide permease D\n",
      "3100 Q77376 Human immunodeficiency virus type 1 group O (isolate ANT70) Protein Vpu\n",
      "3200 Q91YL7 Mus musculus PGAP2-interacting protein\n",
      "3300 A5DU71 Lodderomyces elongisporus (strain ATCC 11503 / CBS 2605 / JCM 1781 / NBRC 1676 / NRRL YB-4239) Plasma membrane fusion protein PRM1\n",
      "3400 P45035 Haemophilus influenzae (strain ATCC 51907 / DSM 11121 / KW20 / Rd) Heme exporter protein D\n",
      "3500 O07520 Bacillus subtilis (strain 168) Sporulation protein YhaL\n",
      "3600 P22407 Streptomyces lividans Protein SpdA\n",
      "3700 P32011 Streptomyces peucetius Daunorubicin/doxorubicin resistance ABC transporter permease protein DrrB\n",
      "3800 Q8QL47 Sulfolobus islandicus rod-shaped virus 1 Uncharacterized protein 399\n",
      "3900 C8VJR0 Emericella nidulans (strain FGSC A4 / ATCC 38163 / CBS 112.46 / NRRL 194 / M139) Cytochrome P450 monooxygenase alnH\n",
      "4000 Q58890 Methanocaldococcus jannaschii (strain ATCC 43067 / DSM 2661 / JAL-1 / JCM 10045 / NBRC 100440) Uncharacterized protein MJ1495\n",
      "4100 Q89AW6 Buchnera aphidicola subsp. Baizongia pistaciae (strain Bp) Ion-translocating oxidoreductase complex subunit G\n",
      "4200 A7MRY4 Vibrio campbellii (strain ATCC BAA-1116 / BB120) Autoinducer 1 sensor kinase/phosphatase LuxN\n",
      "4300 O83478 Treponema pallidum (strain Nichols) Uncharacterized protein TP_0465\n",
      "4400 P35654 Erwinia amylovora Harpin secretion protein HrpI\n",
      "4500 Q12116 Saccharomyces cerevisiae (strain ATCC 204508 / S288c) Membrane protein TMS1\n",
      "4600 Q9ZCA6 Rickettsia prowazekii (strain Madrid E) Uncharacterized protein RP854\n",
      "4700 Q8J2Q2 Gibberella moniliformis (strain M3125 / FGSC 7600) Sphingosine N-acyltransferase-like protein FUM18\n",
      "4800 V6F244 Magnetospirillum gryphiswaldense (strain DSM 6361 / JCM 21280 / NBRC 15271 / MSR-1) Magnetosome protein Mms5\n",
      "4900 Q96VG2 Schizosaccharomyces pombe (strain 972 / ATCC 24843) Probable dolichyl-diphosphooligosaccharide--protein glycosyltransferase 4 kDa subunit\n",
      "5000 Q50231 Methylophilus methylotrophus Methylamine utilization protein MauE\n",
      "5100 Q86B61 Drosophila melanogaster Tyramine beta-hydroxylase\n",
      "5200 Q13145 Homo sapiens BMP and activin membrane-bound inhibitor homolog\n",
      "5300 A7I137 Campylobacter hominis (strain ATCC BAA-381 / LMG 19568 / NCTC 13146 / CH001A) ATP synthase subunit c\n",
      "5400 F8W4H9 Danio rerio Melanocortin-2 receptor accessory protein 2A\n",
      "5500 P15715 Rhizobium meliloti (strain 1021) RpoH suppressor\n",
      "5600 Q9H6L5 Homo sapiens Reticulophagy regulator 1\n",
      "5700 A0A1B0GQX3 Mus musculus Cortexin domain containing 2\n",
      "5800 P34847 Apis mellifera ligustica NADH-ubiquinone oxidoreductase chain 1\n",
      "5900 Q9SLC3 Arabidopsis thaliana E3 ubiquitin-protein ligase ATL41\n",
      "6000 Q9SJ54 Arabidopsis thaliana NDR1/HIN1-like protein 12\n",
      "6100 P77716 Escherichia coli (strain K12) Inner membrane ABC transporter permease protein YcjP\n",
      "6200 Q51463 Pseudomonas aeruginosa (strain ATCC 15692 / DSM 22644 / CIP 104116 / JCM 14847 / LMG 12228 / 1C / PRS 101 / PAO1) Flagellar M-ring protein\n",
      "6300 C7J0R5 Oryza sativa subsp. japonica Dolichyl-diphosphooligosaccharide--protein glycosyltransferase subunit 4B\n",
      "6400 Q07820 Homo sapiens Induced myeloid leukemia cell differentiation protein Mcl-1\n",
      "6500 Q9VQ37 Drosophila melanogaster Mitochondrial carrier protein Rim2\n",
      "6600 Q9CMS3 Pasteurella multocida (strain Pm70) Uncharacterized protein PM0739\n",
      "6700 P96607 Bacillus subtilis (strain 168) Uncharacterized protein YdbL\n",
      "6800 O29762 Archaeoglobus fulgidus (strain ATCC 49558 / DSM 4304 / JCM 9628 / NBRC 100126 / VC-16) Uncharacterized protein AF_0488\n",
      "6900 H8EZ77 Mycobacterium tuberculosis (strain ATCC 35801 / TMC 107 / Erdman) Anti-sigma-D factor RsdA\n",
      "7000 B1H0B9 Endomicrobium trichonymphae ATP synthase subunit b\n",
      "7100 O05318 Mycobacterium tuberculosis (strain ATCC 25618 / H37Rv) Multidrug efflux system permease protein Rv1217c\n",
      "7200 Q8L7W1 Arabidopsis thaliana Mechanosensitive ion channel protein 3, chloroplastic\n",
      "7300 Q9MA60 Arabidopsis thaliana Formin-like protein 11\n",
      "7400 Q54QV8 Dictyostelium discoideum Uncharacterized transmembrane protein DDB_G0283573\n",
      "7500 C8VJR5 Emericella nidulans (strain FGSC A4 / ATCC 38163 / CBS 112.46 / NRRL 194 / M139) NADH-cytochrome b5 reductase-like protein alnC\n",
      "7600 Q06011 Saccharomyces cerevisiae (strain ATCC 204508 / S288c) Protein ECM19\n",
      "7700 P09506 Turnip yellows virus (isolate FL-1) Protein P1\n",
      "7800 Q57571 Methanocaldococcus jannaschii (strain ATCC 43067 / DSM 2661 / JAL-1 / JCM 10045 / NBRC 100440) Uncharacterized protein MJ0107\n",
      "7900 Q04991 Saccharomyces cerevisiae (strain ATCC 204508 / S288c) Protein FMP42\n",
      "8000 Q1H2C8 Methylobacillus flagellatus (strain KT / ATCC 51484 / DSM 6875) UPF0391 membrane protein Mfla_0947/Mfla_1091\n",
      "8100 Q2FLB8 Methanospirillum hungatei JF-1 (strain ATCC 27890 / DSM 864 / NBRC 100397 / JF-1) Putative fluoride ion transporter CrcB 1\n",
      "8200 Q3E739 Saccharomyces cerevisiae (strain ATCC 204508 / S288c) Uncharacterized protein YIR021W-A\n",
      "8300 P63714 Mycobacterium bovis (strain ATCC BAA-935 / AF2122/97) Putative cytochrome P450 128\n",
      "8400 P0ABP3 Escherichia coli (strain K12) Anaerobic C4-dicarboxylate transporter DcuC\n",
      "8500 Q9V3W6 Drosophila melanogaster Innexin inx7\n",
      "8600 O34663 Bacillus subtilis (strain 168) Uncharacterized MFS-type transporter YbcL\n",
      "8700 Q09684 Schizosaccharomyces pombe (strain 972 / ATCC 24843) Nuclear fusion protein tht1\n",
      "8800 Q02335 Caenorhabditis elegans Mitochondrial import receptor subunit tomm-70\n",
      "8900 Q22505 Caenorhabditis elegans MICOS complex subunit MIC60-1\n",
      "9000 O83324 Treponema pallidum (strain Nichols) Probable riboflavin import permease protein RfuD\n",
      "9100 Q6Q879 Leptosphaeria maculans Cytochrome P450 monooxygenase sirE\n",
      "9200 Q58983 Methanocaldococcus jannaschii (strain ATCC 43067 / DSM 2661 / JAL-1 / JCM 10045 / NBRC 100440) Uncharacterized protein MJ1588\n",
      "9300 Q57882 Methanocaldococcus jannaschii (strain ATCC 43067 / DSM 2661 / JAL-1 / JCM 10045 / NBRC 100440) Uncharacterized protein MJ0440\n",
      "9400 Q8NA29 Homo sapiens Sodium-dependent lysophosphatidylcholine symporter 1\n",
      "9500 Q03478 Vibrio parahaemolyticus serotype O3:K6 (strain RIMD 2210633) Chemotaxis protein LafU\n",
      "9600 P40528 Saccharomyces cerevisiae (strain ATCC 204508 / S288c) Protein SYG1\n",
      "9700 P37131 Yersinia enterocolitica Protein YopB\n",
      "9800 O04195 Arabidopsis thaliana Uncharacterized protein At2g39920\n",
      "9900 A9TZ63 Physcomitrium patens CASP-like protein 1U1\n",
      "10000 Q08708 Homo sapiens CMRF35-like molecule 6\n",
      "10100 Q6UDM3 Psittacid herpesvirus 1 (isolate Amazon parrot/-/97-0001/1997) Envelope glycoprotein K\n",
      "10200 P19809 Escherichia coli O127:H6 (strain E2348/69 / EPEC) Intimin\n",
      "10300 Q969P0 Homo sapiens Immunoglobulin superfamily member 8\n",
      "10400 D5AGC8 Streptococcus suis (strain GZ1) Cell division protein DivIB\n",
      "10500 Q02242 Mus musculus Programmed cell death protein 1\n",
      "10600 P40365 Saccharomyces cerevisiae (strain ATCC 204508 / S288c) Putative uncharacterized protein YJL067W\n",
      "10700 Q4R581 Macaca fascicularis 1-acyl-sn-glycerol-3-phosphate acyltransferase delta\n",
      "10800 Q9XPI2 Chelonia mydas ATP synthase protein 8\n",
      "10900 Q2YFS1 Mus musculus Paired immunoglobulin-like type 2 receptor beta-2\n",
      "11000 O29422 Archaeoglobus fulgidus (strain ATCC 49558 / DSM 4304 / JCM 9628 / NBRC 100126 / VC-16) Uncharacterized protein AF_0836\n",
      "11100 P15688 Beta vulgaris NADH-ubiquinone oxidoreductase chain 2\n",
      "11200 O31603 Bacillus subtilis (strain 168) Uncharacterized membrane protein YjbE\n",
      "11300 Q9P7I1 Schizosaccharomyces pombe (strain 972 / ATCC 24843) K(+)/H(+) antiporter 1\n",
      "11400 Q5ZMJ7 Gallus gallus Protein CIP2A homolog\n",
      "11500 Q9P3B2 Schizosaccharomyces pombe (strain 972 / ATCC 24843) Respiratory supercomplex factor 2 homolog C1565.01\n",
      "11600 G2TRU0 Schizosaccharomyces pombe (strain 972 / ATCC 24843) Dolichyl-diphosphooligosaccharide--protein glycosyltransferase subunit ost5\n",
      "11700 P53845 Saccharomyces cerevisiae (strain ATCC 204508 / S288c) Protein transport protein YIF1\n"
     ]
    }
   ],
   "source": [
    "# prepare a dataframe and array for the ID not found in uniprot\n",
    "df = pd.DataFrame()\n",
    "\n",
    "# scan raw data files, judge AH_or_not, and get the gene info from uniprot based on the ID called \"entry\"\n",
    "for i, file in enumerate(files):\n",
    "    \n",
    "    # check the file format\n",
    "    if file.endswith('result'):\n",
    "        \n",
    "        # obtain uniprot ID called entry\n",
    "        entry = file.replace('.result', '')\n",
    "        \n",
    "        # open the file\n",
    "        with open('./SourceData/Results from the paper/' + file) as f:\n",
    "            lines = f.readlines()\n",
    "    \n",
    "        # get the amino-acid sequence and prediction\n",
    "        aa_sequence = lines[1]\n",
    "        prediction = lines[3]\n",
    "\n",
    "        # judge if the protein predicted to contain AH or not\n",
    "        if '1' in prediction:\n",
    "            AH_or_not = 'AH'\n",
    "        else:\n",
    "            AH_or_not = 'Non-AH'\n",
    "\n",
    "        # get the result of query\n",
    "        try:\n",
    "            r = get_url(f\"{WEBSITE_API}/search?query=(accession:{entry})&fields=organism_name,gene_primary,protein_name,cc_subcellular_location\")\n",
    "            result = r.json()['results'][0]\n",
    "        except requests.exceptions.ConnectionError:\n",
    "            r.status_code = \"Connection refused\"\n",
    "            break\n",
    "        \n",
    "        # extract wanted texts from the result\n",
    "        ## organism name\n",
    "        ### put try-except in case the gene info is obsolete\n",
    "        try:\n",
    "            organism_name = result['organism']['scientificName']\n",
    "        except:\n",
    "            organism_name = 'Unknown'\n",
    "        \n",
    "        ## gene name\n",
    "        ### put try-except in case it lacks geneName\n",
    "        try: \n",
    "            gene_name = result['genes'][0]['geneName']['value']\n",
    "        except: gene_name = 'Unknown'\n",
    "\n",
    "        ## protein name\n",
    "        try: \n",
    "            protein_name = result['proteinDescription']['recommendedName']['fullName']['value'] \n",
    "        except: protein_name = 'Unknown'\n",
    "\n",
    "        ## subcellular locations\n",
    "        subcell_loc = list()\n",
    "        try:\n",
    "            for v in result['comments'][0]['subcellularLocations']:\n",
    "                subcell_loc.append(v['location']['value'])\n",
    "                subcell_loc = ', '.join(subcell_loc)\n",
    "        except:\n",
    "            subcell_loc = 'Unknown'\n",
    "        \n",
    "        \n",
    "        # put the values to the dataframe\n",
    "        df.loc[i, 'Entry_original'] = entry\n",
    "        df.loc[i, 'Organism'] = organism_name\n",
    "        df.loc[i, 'Gene_name'] = gene_name\n",
    "        df.loc[i, 'Protein_name'] = protein_name\n",
    "        df.loc[i, 'AH_or_Not'] = AH_or_not\n",
    "        df.loc[i, 'AA_sequence'] = aa_sequence\n",
    "        df.loc[i, 'Prediction'] = prediction\n",
    "        df.loc[i, 'SubCell_Uniprot'] = subcell_loc\n",
    "        \n",
    "        # log every 100 genes\n",
    "        if i % 100 == 0: print(i, entry, organism_name, protein_name)\n",
    "    \n",
    "    # take a break, go next\n",
    "    sleep(1)\n",
    "            "
   ]
  },
  {
   "cell_type": "code",
   "execution_count": 48,
   "id": "33955ea3-6e79-46f1-859c-54ab4e17ed94",
   "metadata": {},
   "outputs": [
    {
     "name": "stdout",
     "output_type": "stream",
     "text": [
      "<class 'pandas.core.frame.DataFrame'>\n",
      "Int64Index: 11759 entries, 0 to 11760\n",
      "Data columns (total 8 columns):\n",
      " #   Column           Non-Null Count  Dtype \n",
      "---  ------           --------------  ----- \n",
      " 0   Entry_original   11759 non-null  object\n",
      " 1   Organism         11759 non-null  object\n",
      " 2   Gene_name        11759 non-null  object\n",
      " 3   Protein_name     11759 non-null  object\n",
      " 4   AH_or_Not        11759 non-null  object\n",
      " 5   AA_sequence      11759 non-null  object\n",
      " 6   Prediction       11759 non-null  object\n",
      " 7   SubCell_Uniprot  11759 non-null  object\n",
      "dtypes: object(8)\n",
      "memory usage: 1.1+ MB\n"
     ]
    }
   ],
   "source": [
    "df.info()"
   ]
  },
  {
   "cell_type": "code",
   "execution_count": 49,
   "id": "e71b82b1-f3f3-4fd8-9d11-1f1f3965a8b1",
   "metadata": {},
   "outputs": [],
   "source": [
    "# export\n",
    "df.to_csv('./IntermediateProducts/Results_step_1.csv', index=False)"
   ]
  },
  {
   "cell_type": "markdown",
   "id": "c2cf66b9-aeef-4c64-a81c-5526ac8e9d49",
   "metadata": {},
   "source": [
    "# Step 2"
   ]
  },
  {
   "cell_type": "code",
   "execution_count": 8,
   "id": "8ca25549-f5ee-4ad1-9e21-3b384312294d",
   "metadata": {},
   "outputs": [],
   "source": [
    "WEBSITE_API = 'https://rest.uniprot.org/taxonomy/'"
   ]
  },
  {
   "cell_type": "code",
   "execution_count": 3,
   "id": "4d92eb5d-ade6-4046-8f49-52e72fb2ca4c",
   "metadata": {},
   "outputs": [],
   "source": [
    "# Import the df from step1\n",
    "df = pd.read_csv('./IntermediateProducts/Results_step_1.csv')"
   ]
  },
  {
   "cell_type": "code",
   "execution_count": 133,
   "id": "839c6659-60c3-4876-8a0d-0bab3b938900",
   "metadata": {},
   "outputs": [
    {
     "name": "stdout",
     "output_type": "stream",
     "text": [
      "1521\n"
     ]
    }
   ],
   "source": [
    "# create organism list\n",
    "organism_list = df['Organism'].unique().tolist()\n",
    "print(len(organism_list))"
   ]
  },
  {
   "cell_type": "code",
   "execution_count": 134,
   "id": "dc584f3d-a72d-40ff-9ce1-fc7d72451d66",
   "metadata": {
    "tags": []
   },
   "outputs": [
    {
     "name": "stdout",
     "output_type": "stream",
     "text": [
      "0 Arabidopsis thaliana ['Eukaryota', 'cellular organisms']\n",
      "100 Salmonella phage P22 ['Duplodnaviria', 'Viruses']\n",
      "200 Acropora millepora ['Eukaryota', 'cellular organisms']\n",
      "300 Streptococcus pneumoniae  ['Bacteria', 'cellular organisms']\n",
      "400 Acidianus bottle-shaped virus  []\n",
      "500 Petunia integrifolia ['Eukaryota', 'cellular organisms']\n",
      "600 Haloquadratum walsbyi  ['Archaea', 'cellular organisms']\n",
      "700 Xanthomonas campestris pv. campestris  ['Bacteria', 'cellular organisms']\n",
      "800 Friend murine leukemia virus  ['Riboviria', 'Viruses']\n",
      "900 Oceanobacillus iheyensis  ['Bacteria', 'cellular organisms']\n",
      "1000 Artemia salina ['Eukaryota', 'cellular organisms']\n",
      "1100 Citrifermentans bemidjiense  ['Bacteria', 'cellular organisms']\n",
      "1200 Quaranfil virus  ['Riboviria', 'Viruses']\n",
      "1300 Planococcus maritimus ['Bacteria', 'cellular organisms']\n",
      "1400 Macaca radiata ['Eukaryota', 'cellular organisms']\n",
      "1500 Dechloromonas aromatica  ['Bacteria', 'cellular organisms']\n"
     ]
    }
   ],
   "source": [
    "# a list for storage\n",
    "lineage_list = list()\n",
    "\n",
    "# regex for extracing organism name WITHOUT items in parenthesis\n",
    "regex = re.compile(r'([^()]+)(\\(.+\\))?')\n",
    "\n",
    "# scan organism list and get lineage from Uniprot Taxonomy\n",
    "for i, organism in enumerate(organism_list):\n",
    "    # extract organism name WITHOUT items in parenthesis such as strain name\n",
    "    mo = regex.search(organism)\n",
    "    if mo is None:\n",
    "        lineage_list.append('Unknown')\n",
    "        continue\n",
    "    else: \n",
    "        organism = mo.group(1)\n",
    "    \n",
    "    # get response that contains lineage\n",
    "    try:\n",
    "        r = get_url(f'{WEBSITE_API}/search?query=(scientific:\"{organism}\")&fields=lineage')\n",
    "        result = r.json()\n",
    "    except requests.exceptions.ConnectionError:\n",
    "        r.status_code = \"Connection refused\"\n",
    "        break\n",
    "    \n",
    "    # extract lineage from the result\n",
    "    lineage = list()\n",
    "    lineage_full = ''\n",
    "    try:\n",
    "        for l in result['results'][0]['lineage']:\n",
    "            name = l['scientificName']\n",
    "            lineage.append(name)\n",
    "        lineage_full = ', '.join(lineage)\n",
    "    except:\n",
    "        lineage_full = 'NotFound' # in case the result is empty\n",
    "        \n",
    "    # add to the found lineage to the list\n",
    "    lineage_list.append(lineage_full)\n",
    "    \n",
    "    # log every 100\n",
    "    if i % 100 == 0: print(i, organism, lineage[-2:])\n",
    "    \n",
    "    # take a break, go next\n",
    "    sleep(1)"
   ]
  },
  {
   "cell_type": "code",
   "execution_count": 141,
   "id": "53082a3a-e6cb-46bb-8455-7f25d8a8b719",
   "metadata": {},
   "outputs": [
    {
     "name": "stdout",
     "output_type": "stream",
     "text": [
      "<class 'pandas.core.frame.DataFrame'>\n",
      "Int64Index: 122 entries, 4 to 1518\n",
      "Data columns (total 2 columns):\n",
      " #   Column    Non-Null Count  Dtype \n",
      "---  ------    --------------  ----- \n",
      " 0   Organism  122 non-null    object\n",
      " 1   Lineage   122 non-null    object\n",
      "dtypes: object(2)\n",
      "memory usage: 2.9+ KB\n",
      "None\n"
     ]
    }
   ],
   "source": [
    "# Add to the df_org\n",
    "df_org = pd.DataFrame(organism_list, columns=['Organism'])\n",
    "df_org['Lineage'] = lineage_list\n",
    "\n",
    "# Select metazoans\n",
    "df_org_metazoa = df_org[df_org['Lineage'].str.contains('Metazoa')]\n",
    "print(df_org_metazoa.info())"
   ]
  },
  {
   "cell_type": "code",
   "execution_count": 142,
   "id": "fdef9830-f9f5-4edb-a00a-ac4b2f9df512",
   "metadata": {},
   "outputs": [],
   "source": [
    "# export\n",
    "df_org.to_csv('./IntermediateProducts/Organisms_and_Lineage.csv', index=False)"
   ]
  },
  {
   "cell_type": "code",
   "execution_count": null,
   "id": "a966d8f6-2201-4adb-93c6-eff449830e0e",
   "metadata": {},
   "outputs": [],
   "source": []
  }
 ],
 "metadata": {
  "kernelspec": {
   "display_name": "Python 3",
   "language": "python",
   "name": "python3"
  },
  "language_info": {
   "codemirror_mode": {
    "name": "ipython",
    "version": 3
   },
   "file_extension": ".py",
   "mimetype": "text/x-python",
   "name": "python",
   "nbconvert_exporter": "python",
   "pygments_lexer": "ipython3",
   "version": "3.8.8"
  }
 },
 "nbformat": 4,
 "nbformat_minor": 5
}
